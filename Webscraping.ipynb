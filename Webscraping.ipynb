{
 "cells": [
  {
   "cell_type": "code",
   "execution_count": 2,
   "id": "b21dc79a-7707-4c95-99c1-d35abc57ed57",
   "metadata": {},
   "outputs": [],
   "source": [
    "import pandas as pd\n",
    "import requests\n",
    "import datetime as dt\n",
    "import time"
   ]
  },
  {
   "cell_type": "code",
   "execution_count": 3,
   "id": "0efde804-8bad-438f-8ba6-b174fecf52e4",
   "metadata": {},
   "outputs": [],
   "source": [
    "import warnings\n",
    "warnings.filterwarnings('ignore')"
   ]
  },
  {
   "cell_type": "code",
   "execution_count": 8,
   "id": "eb302ba8-379a-4ea7-8ffb-bd0002690abd",
   "metadata": {},
   "outputs": [],
   "source": [
    "def get_sc_data():\n",
    "    url='https://api.pushshift.io/reddit/search/submission'\n",
    "    before_time=int(dt.datetime(2022, 9, 28).timestamp())\n",
    "    sub_df=pd.DataFrame()\n",
    "    \n",
    "    for i in range(2,175):\n",
    "        try:\n",
    "            params={\n",
    "                    'subreddit':'askscience',\n",
    "                    'size':100,\n",
    "                    'before':before_time,\n",
    "                    'metadata':True,\n",
    "                    'selftext:not':'[removed]|[deleted]',\n",
    "                    }\n",
    "            res=requests.get(url,params)\n",
    "            time.sleep(2)\n",
    "            if res.status_code==200:\n",
    "                data=res.json()\n",
    "                sub=pd.DataFrame(data['data'])\n",
    "                metadata=data['metadata']\n",
    "                \n",
    "                #saving data that has selftext\n",
    "                sub_self=pd.DataFrame()\n",
    "                sub_self=sub[sub['selftext'].str.contains(r'(.|\\s)*\\S(.|\\s)') & sub['selftext'].notna()]\n",
    "                sub_df=pd.concat([sub_df,sub_self])\n",
    "                \n",
    "                print(len(sub))\n",
    "                #updating before_time for next fetch\n",
    "                before_time=sub['created_utc'].min()\n",
    "                print(before_time)\n",
    "                \n",
    "            else:\n",
    "                print('status error')\n",
    "                print (i)\n",
    "                print(before_time)\n",
    "                break\n",
    "        except:\n",
    "            print (i)\n",
    "            print(before_time)\n",
    "            print('something wrong')\n",
    "            \n",
    "    sub_df.to_csv(f'./datasets/askscience/submissions.csv',index=False)\n",
    "    \n",
    "    return sub_df"
   ]
  },
  {
   "cell_type": "code",
   "execution_count": 10,
   "id": "ea4dd06c-9070-4d57-b8b4-30c42ca8d1fc",
   "metadata": {},
   "outputs": [],
   "source": [
    "#Fetching AskScience data: \n",
    "#intentionally commented out as it take long time to fetch data: the data is already saved in datasets folder\n",
    "\n",
    "# sc_sub_parent=get_sc_data()\n"
   ]
  },
  {
   "cell_type": "code",
   "execution_count": 12,
   "id": "07e1171a-1b2a-4edd-82e5-0dedc6c950a4",
   "metadata": {},
   "outputs": [],
   "source": [
    "def get_engg_data():\n",
    "    url='https://api.pushshift.io/reddit/search/submission'\n",
    "    before_time=int(dt.datetime(2022, 9, 28).timestamp())\n",
    "    sub_df=pd.DataFrame()\n",
    "    \n",
    "    for i in range(2,175):\n",
    "        try:\n",
    "            params={\n",
    "                    'subreddit':'AskEngineers',\n",
    "                    'size':100,\n",
    "                    'before':before_time,\n",
    "                    'metadata':True,\n",
    "                    'selftext:not':'[removed]|[deleted]'\n",
    "                    }\n",
    "            res=requests.get(url,params)\n",
    "            time.sleep(2)\n",
    "            if res.status_code==200:\n",
    "                data=res.json()\n",
    "                sub=pd.DataFrame(data['data'])\n",
    "                metadata=data['metadata']\n",
    "                \n",
    "                #saving data that has selftext\n",
    "                sub_self=pd.DataFrame()\n",
    "                sub_self=sub[sub['selftext'].str.contains(r'(.|\\s)*\\S(.|\\s)') & sub['selftext'].notna()]\n",
    "                sub_df=pd.concat([sub_df,sub_self])\n",
    "                print(len(sub))\n",
    "                \n",
    "                #updating before_time for next fetch\n",
    "                before_time=sub['created_utc'].min()\n",
    "                print(before_time)   \n",
    "                \n",
    "            else:\n",
    "                print('status error')\n",
    "                print (i)\n",
    "                print(before_time)\n",
    "                break\n",
    "        except:\n",
    "            print (i)\n",
    "            print(before_time)\n",
    "            print('something wrong')\n",
    "            \n",
    "    sub_df.to_csv(f'./datasets/askengineers/submissions.csv',index=False)\n",
    "    \n",
    "    return sub_df"
   ]
  },
  {
   "cell_type": "code",
   "execution_count": 14,
   "id": "72819db1-41d0-4b66-92da-d5865164cd62",
   "metadata": {},
   "outputs": [],
   "source": [
    "#Fetching AskEngineers data: \n",
    "#intentionally commented out as it take long time to fetch data: the data is already saved in datasets folder\n",
    "\n",
    "# engg_sub_parent=get_engg_data()\n"
   ]
  },
  {
   "cell_type": "code",
   "execution_count": null,
   "id": "eaf9b89c-b56c-4b92-9c2b-a1636c0628a7",
   "metadata": {},
   "outputs": [],
   "source": []
  }
 ],
 "metadata": {
  "kernelspec": {
   "display_name": "Python 3 (ipykernel)",
   "language": "python",
   "name": "python3"
  },
  "language_info": {
   "codemirror_mode": {
    "name": "ipython",
    "version": 3
   },
   "file_extension": ".py",
   "mimetype": "text/x-python",
   "name": "python",
   "nbconvert_exporter": "python",
   "pygments_lexer": "ipython3",
   "version": "3.9.12"
  }
 },
 "nbformat": 4,
 "nbformat_minor": 5
}
