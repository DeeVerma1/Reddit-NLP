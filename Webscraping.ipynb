{
 "cells": [
  {
   "cell_type": "code",
   "execution_count": 3,
   "id": "b21dc79a-7707-4c95-99c1-d35abc57ed57",
   "metadata": {},
   "outputs": [],
   "source": [
    "import pandas as pd\n",
    "import requests\n",
    "import datetime as dt\n",
    "import time"
   ]
  },
  {
   "cell_type": "code",
   "execution_count": 107,
   "id": "0efde804-8bad-438f-8ba6-b174fecf52e4",
   "metadata": {},
   "outputs": [],
   "source": [
    "import warnings\n",
    "warnings.filterwarnings('ignore')"
   ]
  },
  {
   "cell_type": "code",
   "execution_count": 109,
   "id": "eb302ba8-379a-4ea7-8ffb-bd0002690abd",
   "metadata": {},
   "outputs": [],
   "source": [
    "def get_sc_data():\n",
    "    url='https://api.pushshift.io/reddit/search/submission'\n",
    "    before_time=int(dt.datetime(2022, 9, 28).timestamp())\n",
    "    sub_df=pd.DataFrame()\n",
    "    \n",
    "    for i in range(2,175):\n",
    "        try:\n",
    "            params={\n",
    "                    'subreddit':'askscience',\n",
    "                    'size':100,\n",
    "                    'before':before_time,\n",
    "                    'metadata':True,\n",
    "                    'selftext:not':'[removed]|[deleted]',\n",
    "                    }\n",
    "            res=requests.get(url,params)\n",
    "            time.sleep(2)\n",
    "            if res.status_code==200:\n",
    "                data=res.json()\n",
    "                sub=pd.DataFrame(data['data'])\n",
    "                metadata=data['metadata']\n",
    "                \n",
    "                #saving data that has selftext\n",
    "                sub_self=pd.DataFrame()\n",
    "                sub_self=sub[sub['selftext'].str.contains(r'(.|\\s)*\\S(.|\\s)') & sub['selftext'].notna()]\n",
    "                sub_df=pd.concat([sub_df,sub_self])\n",
    "                \n",
    "                print(len(sub))\n",
    "                #updating before_time for next fetch\n",
    "                before_time=sub['created_utc'].min()\n",
    "                print(before_time)\n",
    "                \n",
    "            else:\n",
    "                print('status error')\n",
    "                print (i)\n",
    "                print(before_time)\n",
    "                break\n",
    "        except:\n",
    "            print (i)\n",
    "            print(before_time)\n",
    "            print('something wrong')\n",
    "            \n",
    "    #sub_df.to_csv(f'./datasets/askscience/submissions.csv',index=False)\n",
    "    \n",
    "    return sub_df"
   ]
  },
  {
   "cell_type": "code",
   "execution_count": 95,
   "id": "ea4dd06c-9070-4d57-b8b4-30c42ca8d1fc",
   "metadata": {},
   "outputs": [
    {
     "name": "stderr",
     "output_type": "stream",
     "text": [
      "C:\\Users\\deepi\\AppData\\Local\\Temp\\ipykernel_2232\\157410880.py:24: UserWarning: This pattern is interpreted as a regular expression, and has match groups. To actually get the groups, use str.extract.\n",
      "  sub_self=sub[sub['selftext'].str.contains(r'(.|\\s)*\\S(.|\\s)') & sub['selftext'].notna()]\n"
     ]
    },
    {
     "name": "stdout",
     "output_type": "stream",
     "text": [
      "100\n",
      "1649333942\n"
     ]
    },
    {
     "name": "stderr",
     "output_type": "stream",
     "text": [
      "C:\\Users\\deepi\\AppData\\Local\\Temp\\ipykernel_2232\\157410880.py:24: UserWarning: This pattern is interpreted as a regular expression, and has match groups. To actually get the groups, use str.extract.\n",
      "  sub_self=sub[sub['selftext'].str.contains(r'(.|\\s)*\\S(.|\\s)') & sub['selftext'].notna()]\n"
     ]
    },
    {
     "name": "stdout",
     "output_type": "stream",
     "text": [
      "100\n",
      "1638997286\n"
     ]
    },
    {
     "name": "stderr",
     "output_type": "stream",
     "text": [
      "C:\\Users\\deepi\\AppData\\Local\\Temp\\ipykernel_2232\\157410880.py:24: UserWarning: This pattern is interpreted as a regular expression, and has match groups. To actually get the groups, use str.extract.\n",
      "  sub_self=sub[sub['selftext'].str.contains(r'(.|\\s)*\\S(.|\\s)') & sub['selftext'].notna()]\n"
     ]
    },
    {
     "name": "stdout",
     "output_type": "stream",
     "text": [
      "100\n",
      "1636694316\n"
     ]
    },
    {
     "name": "stderr",
     "output_type": "stream",
     "text": [
      "C:\\Users\\deepi\\AppData\\Local\\Temp\\ipykernel_2232\\157410880.py:24: UserWarning: This pattern is interpreted as a regular expression, and has match groups. To actually get the groups, use str.extract.\n",
      "  sub_self=sub[sub['selftext'].str.contains(r'(.|\\s)*\\S(.|\\s)') & sub['selftext'].notna()]\n"
     ]
    },
    {
     "name": "stdout",
     "output_type": "stream",
     "text": [
      "100\n",
      "1632109460\n"
     ]
    },
    {
     "name": "stderr",
     "output_type": "stream",
     "text": [
      "C:\\Users\\deepi\\AppData\\Local\\Temp\\ipykernel_2232\\157410880.py:24: UserWarning: This pattern is interpreted as a regular expression, and has match groups. To actually get the groups, use str.extract.\n",
      "  sub_self=sub[sub['selftext'].str.contains(r'(.|\\s)*\\S(.|\\s)') & sub['selftext'].notna()]\n"
     ]
    },
    {
     "name": "stdout",
     "output_type": "stream",
     "text": [
      "100\n",
      "1629198035\n"
     ]
    },
    {
     "name": "stderr",
     "output_type": "stream",
     "text": [
      "C:\\Users\\deepi\\AppData\\Local\\Temp\\ipykernel_2232\\157410880.py:24: UserWarning: This pattern is interpreted as a regular expression, and has match groups. To actually get the groups, use str.extract.\n",
      "  sub_self=sub[sub['selftext'].str.contains(r'(.|\\s)*\\S(.|\\s)') & sub['selftext'].notna()]\n"
     ]
    },
    {
     "name": "stdout",
     "output_type": "stream",
     "text": [
      "100\n",
      "1623984613\n"
     ]
    },
    {
     "name": "stderr",
     "output_type": "stream",
     "text": [
      "C:\\Users\\deepi\\AppData\\Local\\Temp\\ipykernel_2232\\157410880.py:24: UserWarning: This pattern is interpreted as a regular expression, and has match groups. To actually get the groups, use str.extract.\n",
      "  sub_self=sub[sub['selftext'].str.contains(r'(.|\\s)*\\S(.|\\s)') & sub['selftext'].notna()]\n"
     ]
    },
    {
     "name": "stdout",
     "output_type": "stream",
     "text": [
      "100\n",
      "1623735055\n"
     ]
    },
    {
     "name": "stderr",
     "output_type": "stream",
     "text": [
      "C:\\Users\\deepi\\AppData\\Local\\Temp\\ipykernel_2232\\157410880.py:24: UserWarning: This pattern is interpreted as a regular expression, and has match groups. To actually get the groups, use str.extract.\n",
      "  sub_self=sub[sub['selftext'].str.contains(r'(.|\\s)*\\S(.|\\s)') & sub['selftext'].notna()]\n"
     ]
    },
    {
     "name": "stdout",
     "output_type": "stream",
     "text": [
      "100\n",
      "1622345647\n"
     ]
    },
    {
     "name": "stderr",
     "output_type": "stream",
     "text": [
      "C:\\Users\\deepi\\AppData\\Local\\Temp\\ipykernel_2232\\157410880.py:24: UserWarning: This pattern is interpreted as a regular expression, and has match groups. To actually get the groups, use str.extract.\n",
      "  sub_self=sub[sub['selftext'].str.contains(r'(.|\\s)*\\S(.|\\s)') & sub['selftext'].notna()]\n"
     ]
    },
    {
     "name": "stdout",
     "output_type": "stream",
     "text": [
      "100\n",
      "1615471252\n"
     ]
    },
    {
     "name": "stderr",
     "output_type": "stream",
     "text": [
      "C:\\Users\\deepi\\AppData\\Local\\Temp\\ipykernel_2232\\157410880.py:24: UserWarning: This pattern is interpreted as a regular expression, and has match groups. To actually get the groups, use str.extract.\n",
      "  sub_self=sub[sub['selftext'].str.contains(r'(.|\\s)*\\S(.|\\s)') & sub['selftext'].notna()]\n"
     ]
    },
    {
     "name": "stdout",
     "output_type": "stream",
     "text": [
      "100\n",
      "1614782010\n"
     ]
    },
    {
     "name": "stderr",
     "output_type": "stream",
     "text": [
      "C:\\Users\\deepi\\AppData\\Local\\Temp\\ipykernel_2232\\157410880.py:24: UserWarning: This pattern is interpreted as a regular expression, and has match groups. To actually get the groups, use str.extract.\n",
      "  sub_self=sub[sub['selftext'].str.contains(r'(.|\\s)*\\S(.|\\s)') & sub['selftext'].notna()]\n"
     ]
    },
    {
     "name": "stdout",
     "output_type": "stream",
     "text": [
      "100\n",
      "1614362116\n"
     ]
    },
    {
     "name": "stderr",
     "output_type": "stream",
     "text": [
      "C:\\Users\\deepi\\AppData\\Local\\Temp\\ipykernel_2232\\157410880.py:24: UserWarning: This pattern is interpreted as a regular expression, and has match groups. To actually get the groups, use str.extract.\n",
      "  sub_self=sub[sub['selftext'].str.contains(r'(.|\\s)*\\S(.|\\s)') & sub['selftext'].notna()]\n"
     ]
    },
    {
     "name": "stdout",
     "output_type": "stream",
     "text": [
      "100\n",
      "1614211743\n"
     ]
    },
    {
     "name": "stderr",
     "output_type": "stream",
     "text": [
      "C:\\Users\\deepi\\AppData\\Local\\Temp\\ipykernel_2232\\157410880.py:24: UserWarning: This pattern is interpreted as a regular expression, and has match groups. To actually get the groups, use str.extract.\n",
      "  sub_self=sub[sub['selftext'].str.contains(r'(.|\\s)*\\S(.|\\s)') & sub['selftext'].notna()]\n"
     ]
    },
    {
     "name": "stdout",
     "output_type": "stream",
     "text": [
      "100\n",
      "1613437488\n"
     ]
    },
    {
     "name": "stderr",
     "output_type": "stream",
     "text": [
      "C:\\Users\\deepi\\AppData\\Local\\Temp\\ipykernel_2232\\157410880.py:24: UserWarning: This pattern is interpreted as a regular expression, and has match groups. To actually get the groups, use str.extract.\n",
      "  sub_self=sub[sub['selftext'].str.contains(r'(.|\\s)*\\S(.|\\s)') & sub['selftext'].notna()]\n"
     ]
    },
    {
     "name": "stdout",
     "output_type": "stream",
     "text": [
      "100\n",
      "1612386669\n"
     ]
    },
    {
     "name": "stderr",
     "output_type": "stream",
     "text": [
      "C:\\Users\\deepi\\AppData\\Local\\Temp\\ipykernel_2232\\157410880.py:24: UserWarning: This pattern is interpreted as a regular expression, and has match groups. To actually get the groups, use str.extract.\n",
      "  sub_self=sub[sub['selftext'].str.contains(r'(.|\\s)*\\S(.|\\s)') & sub['selftext'].notna()]\n"
     ]
    },
    {
     "name": "stdout",
     "output_type": "stream",
     "text": [
      "100\n",
      "1612279043\n"
     ]
    },
    {
     "name": "stderr",
     "output_type": "stream",
     "text": [
      "C:\\Users\\deepi\\AppData\\Local\\Temp\\ipykernel_2232\\157410880.py:24: UserWarning: This pattern is interpreted as a regular expression, and has match groups. To actually get the groups, use str.extract.\n",
      "  sub_self=sub[sub['selftext'].str.contains(r'(.|\\s)*\\S(.|\\s)') & sub['selftext'].notna()]\n"
     ]
    },
    {
     "name": "stdout",
     "output_type": "stream",
     "text": [
      "100\n",
      "1612129098\n"
     ]
    },
    {
     "name": "stderr",
     "output_type": "stream",
     "text": [
      "C:\\Users\\deepi\\AppData\\Local\\Temp\\ipykernel_2232\\157410880.py:24: UserWarning: This pattern is interpreted as a regular expression, and has match groups. To actually get the groups, use str.extract.\n",
      "  sub_self=sub[sub['selftext'].str.contains(r'(.|\\s)*\\S(.|\\s)') & sub['selftext'].notna()]\n"
     ]
    },
    {
     "name": "stdout",
     "output_type": "stream",
     "text": [
      "100\n",
      "1610726595\n"
     ]
    },
    {
     "name": "stderr",
     "output_type": "stream",
     "text": [
      "C:\\Users\\deepi\\AppData\\Local\\Temp\\ipykernel_2232\\157410880.py:24: UserWarning: This pattern is interpreted as a regular expression, and has match groups. To actually get the groups, use str.extract.\n",
      "  sub_self=sub[sub['selftext'].str.contains(r'(.|\\s)*\\S(.|\\s)') & sub['selftext'].notna()]\n"
     ]
    },
    {
     "name": "stdout",
     "output_type": "stream",
     "text": [
      "100\n",
      "1608398132\n"
     ]
    },
    {
     "name": "stderr",
     "output_type": "stream",
     "text": [
      "C:\\Users\\deepi\\AppData\\Local\\Temp\\ipykernel_2232\\157410880.py:24: UserWarning: This pattern is interpreted as a regular expression, and has match groups. To actually get the groups, use str.extract.\n",
      "  sub_self=sub[sub['selftext'].str.contains(r'(.|\\s)*\\S(.|\\s)') & sub['selftext'].notna()]\n"
     ]
    },
    {
     "name": "stdout",
     "output_type": "stream",
     "text": [
      "100\n",
      "1607123776\n"
     ]
    },
    {
     "name": "stderr",
     "output_type": "stream",
     "text": [
      "C:\\Users\\deepi\\AppData\\Local\\Temp\\ipykernel_2232\\157410880.py:24: UserWarning: This pattern is interpreted as a regular expression, and has match groups. To actually get the groups, use str.extract.\n",
      "  sub_self=sub[sub['selftext'].str.contains(r'(.|\\s)*\\S(.|\\s)') & sub['selftext'].notna()]\n"
     ]
    },
    {
     "name": "stdout",
     "output_type": "stream",
     "text": [
      "100\n",
      "1605662883\n"
     ]
    },
    {
     "name": "stderr",
     "output_type": "stream",
     "text": [
      "C:\\Users\\deepi\\AppData\\Local\\Temp\\ipykernel_2232\\157410880.py:24: UserWarning: This pattern is interpreted as a regular expression, and has match groups. To actually get the groups, use str.extract.\n",
      "  sub_self=sub[sub['selftext'].str.contains(r'(.|\\s)*\\S(.|\\s)') & sub['selftext'].notna()]\n"
     ]
    },
    {
     "name": "stdout",
     "output_type": "stream",
     "text": [
      "100\n",
      "1605532166\n"
     ]
    },
    {
     "name": "stderr",
     "output_type": "stream",
     "text": [
      "C:\\Users\\deepi\\AppData\\Local\\Temp\\ipykernel_2232\\157410880.py:24: UserWarning: This pattern is interpreted as a regular expression, and has match groups. To actually get the groups, use str.extract.\n",
      "  sub_self=sub[sub['selftext'].str.contains(r'(.|\\s)*\\S(.|\\s)') & sub['selftext'].notna()]\n"
     ]
    },
    {
     "name": "stdout",
     "output_type": "stream",
     "text": [
      "100\n",
      "1601587646\n"
     ]
    },
    {
     "name": "stderr",
     "output_type": "stream",
     "text": [
      "C:\\Users\\deepi\\AppData\\Local\\Temp\\ipykernel_2232\\157410880.py:24: UserWarning: This pattern is interpreted as a regular expression, and has match groups. To actually get the groups, use str.extract.\n",
      "  sub_self=sub[sub['selftext'].str.contains(r'(.|\\s)*\\S(.|\\s)') & sub['selftext'].notna()]\n"
     ]
    },
    {
     "name": "stdout",
     "output_type": "stream",
     "text": [
      "100\n",
      "1599933305\n"
     ]
    },
    {
     "name": "stderr",
     "output_type": "stream",
     "text": [
      "C:\\Users\\deepi\\AppData\\Local\\Temp\\ipykernel_2232\\157410880.py:24: UserWarning: This pattern is interpreted as a regular expression, and has match groups. To actually get the groups, use str.extract.\n",
      "  sub_self=sub[sub['selftext'].str.contains(r'(.|\\s)*\\S(.|\\s)') & sub['selftext'].notna()]\n"
     ]
    },
    {
     "name": "stdout",
     "output_type": "stream",
     "text": [
      "100\n",
      "1595512207\n"
     ]
    },
    {
     "name": "stderr",
     "output_type": "stream",
     "text": [
      "C:\\Users\\deepi\\AppData\\Local\\Temp\\ipykernel_2232\\157410880.py:24: UserWarning: This pattern is interpreted as a regular expression, and has match groups. To actually get the groups, use str.extract.\n",
      "  sub_self=sub[sub['selftext'].str.contains(r'(.|\\s)*\\S(.|\\s)') & sub['selftext'].notna()]\n"
     ]
    },
    {
     "name": "stdout",
     "output_type": "stream",
     "text": [
      "100\n",
      "1595301301\n"
     ]
    },
    {
     "name": "stderr",
     "output_type": "stream",
     "text": [
      "C:\\Users\\deepi\\AppData\\Local\\Temp\\ipykernel_2232\\157410880.py:24: UserWarning: This pattern is interpreted as a regular expression, and has match groups. To actually get the groups, use str.extract.\n",
      "  sub_self=sub[sub['selftext'].str.contains(r'(.|\\s)*\\S(.|\\s)') & sub['selftext'].notna()]\n"
     ]
    },
    {
     "name": "stdout",
     "output_type": "stream",
     "text": [
      "100\n",
      "1595098023\n"
     ]
    },
    {
     "name": "stderr",
     "output_type": "stream",
     "text": [
      "C:\\Users\\deepi\\AppData\\Local\\Temp\\ipykernel_2232\\157410880.py:24: UserWarning: This pattern is interpreted as a regular expression, and has match groups. To actually get the groups, use str.extract.\n",
      "  sub_self=sub[sub['selftext'].str.contains(r'(.|\\s)*\\S(.|\\s)') & sub['selftext'].notna()]\n"
     ]
    },
    {
     "name": "stdout",
     "output_type": "stream",
     "text": [
      "100\n",
      "1594050222\n"
     ]
    },
    {
     "name": "stderr",
     "output_type": "stream",
     "text": [
      "C:\\Users\\deepi\\AppData\\Local\\Temp\\ipykernel_2232\\157410880.py:24: UserWarning: This pattern is interpreted as a regular expression, and has match groups. To actually get the groups, use str.extract.\n",
      "  sub_self=sub[sub['selftext'].str.contains(r'(.|\\s)*\\S(.|\\s)') & sub['selftext'].notna()]\n"
     ]
    },
    {
     "name": "stdout",
     "output_type": "stream",
     "text": [
      "100\n",
      "1593190289\n"
     ]
    },
    {
     "name": "stderr",
     "output_type": "stream",
     "text": [
      "C:\\Users\\deepi\\AppData\\Local\\Temp\\ipykernel_2232\\157410880.py:24: UserWarning: This pattern is interpreted as a regular expression, and has match groups. To actually get the groups, use str.extract.\n",
      "  sub_self=sub[sub['selftext'].str.contains(r'(.|\\s)*\\S(.|\\s)') & sub['selftext'].notna()]\n"
     ]
    },
    {
     "name": "stdout",
     "output_type": "stream",
     "text": [
      "100\n",
      "1592436048\n"
     ]
    },
    {
     "name": "stderr",
     "output_type": "stream",
     "text": [
      "C:\\Users\\deepi\\AppData\\Local\\Temp\\ipykernel_2232\\157410880.py:24: UserWarning: This pattern is interpreted as a regular expression, and has match groups. To actually get the groups, use str.extract.\n",
      "  sub_self=sub[sub['selftext'].str.contains(r'(.|\\s)*\\S(.|\\s)') & sub['selftext'].notna()]\n"
     ]
    },
    {
     "name": "stdout",
     "output_type": "stream",
     "text": [
      "100\n",
      "1591987129\n"
     ]
    },
    {
     "name": "stderr",
     "output_type": "stream",
     "text": [
      "C:\\Users\\deepi\\AppData\\Local\\Temp\\ipykernel_2232\\157410880.py:24: UserWarning: This pattern is interpreted as a regular expression, and has match groups. To actually get the groups, use str.extract.\n",
      "  sub_self=sub[sub['selftext'].str.contains(r'(.|\\s)*\\S(.|\\s)') & sub['selftext'].notna()]\n"
     ]
    },
    {
     "name": "stdout",
     "output_type": "stream",
     "text": [
      "100\n",
      "1591856909\n"
     ]
    },
    {
     "name": "stderr",
     "output_type": "stream",
     "text": [
      "C:\\Users\\deepi\\AppData\\Local\\Temp\\ipykernel_2232\\157410880.py:24: UserWarning: This pattern is interpreted as a regular expression, and has match groups. To actually get the groups, use str.extract.\n",
      "  sub_self=sub[sub['selftext'].str.contains(r'(.|\\s)*\\S(.|\\s)') & sub['selftext'].notna()]\n"
     ]
    },
    {
     "name": "stdout",
     "output_type": "stream",
     "text": [
      "100\n",
      "1591693557\n"
     ]
    },
    {
     "name": "stderr",
     "output_type": "stream",
     "text": [
      "C:\\Users\\deepi\\AppData\\Local\\Temp\\ipykernel_2232\\157410880.py:24: UserWarning: This pattern is interpreted as a regular expression, and has match groups. To actually get the groups, use str.extract.\n",
      "  sub_self=sub[sub['selftext'].str.contains(r'(.|\\s)*\\S(.|\\s)') & sub['selftext'].notna()]\n"
     ]
    },
    {
     "name": "stdout",
     "output_type": "stream",
     "text": [
      "100\n",
      "1590978510\n"
     ]
    },
    {
     "name": "stderr",
     "output_type": "stream",
     "text": [
      "C:\\Users\\deepi\\AppData\\Local\\Temp\\ipykernel_2232\\157410880.py:24: UserWarning: This pattern is interpreted as a regular expression, and has match groups. To actually get the groups, use str.extract.\n",
      "  sub_self=sub[sub['selftext'].str.contains(r'(.|\\s)*\\S(.|\\s)') & sub['selftext'].notna()]\n"
     ]
    },
    {
     "name": "stdout",
     "output_type": "stream",
     "text": [
      "100\n",
      "1589367634\n"
     ]
    },
    {
     "name": "stderr",
     "output_type": "stream",
     "text": [
      "C:\\Users\\deepi\\AppData\\Local\\Temp\\ipykernel_2232\\157410880.py:24: UserWarning: This pattern is interpreted as a regular expression, and has match groups. To actually get the groups, use str.extract.\n",
      "  sub_self=sub[sub['selftext'].str.contains(r'(.|\\s)*\\S(.|\\s)') & sub['selftext'].notna()]\n"
     ]
    },
    {
     "name": "stdout",
     "output_type": "stream",
     "text": [
      "100\n",
      "1587445696\n"
     ]
    },
    {
     "name": "stderr",
     "output_type": "stream",
     "text": [
      "C:\\Users\\deepi\\AppData\\Local\\Temp\\ipykernel_2232\\157410880.py:24: UserWarning: This pattern is interpreted as a regular expression, and has match groups. To actually get the groups, use str.extract.\n",
      "  sub_self=sub[sub['selftext'].str.contains(r'(.|\\s)*\\S(.|\\s)') & sub['selftext'].notna()]\n"
     ]
    },
    {
     "name": "stdout",
     "output_type": "stream",
     "text": [
      "100\n",
      "1586984295\n"
     ]
    },
    {
     "name": "stderr",
     "output_type": "stream",
     "text": [
      "C:\\Users\\deepi\\AppData\\Local\\Temp\\ipykernel_2232\\157410880.py:24: UserWarning: This pattern is interpreted as a regular expression, and has match groups. To actually get the groups, use str.extract.\n",
      "  sub_self=sub[sub['selftext'].str.contains(r'(.|\\s)*\\S(.|\\s)') & sub['selftext'].notna()]\n"
     ]
    },
    {
     "name": "stdout",
     "output_type": "stream",
     "text": [
      "100\n",
      "1586837269\n"
     ]
    },
    {
     "name": "stderr",
     "output_type": "stream",
     "text": [
      "C:\\Users\\deepi\\AppData\\Local\\Temp\\ipykernel_2232\\157410880.py:24: UserWarning: This pattern is interpreted as a regular expression, and has match groups. To actually get the groups, use str.extract.\n",
      "  sub_self=sub[sub['selftext'].str.contains(r'(.|\\s)*\\S(.|\\s)') & sub['selftext'].notna()]\n"
     ]
    },
    {
     "name": "stdout",
     "output_type": "stream",
     "text": [
      "100\n",
      "1586687008\n"
     ]
    },
    {
     "name": "stderr",
     "output_type": "stream",
     "text": [
      "C:\\Users\\deepi\\AppData\\Local\\Temp\\ipykernel_2232\\157410880.py:24: UserWarning: This pattern is interpreted as a regular expression, and has match groups. To actually get the groups, use str.extract.\n",
      "  sub_self=sub[sub['selftext'].str.contains(r'(.|\\s)*\\S(.|\\s)') & sub['selftext'].notna()]\n"
     ]
    },
    {
     "name": "stdout",
     "output_type": "stream",
     "text": [
      "100\n",
      "1585945380\n"
     ]
    },
    {
     "name": "stderr",
     "output_type": "stream",
     "text": [
      "C:\\Users\\deepi\\AppData\\Local\\Temp\\ipykernel_2232\\157410880.py:24: UserWarning: This pattern is interpreted as a regular expression, and has match groups. To actually get the groups, use str.extract.\n",
      "  sub_self=sub[sub['selftext'].str.contains(r'(.|\\s)*\\S(.|\\s)') & sub['selftext'].notna()]\n"
     ]
    },
    {
     "name": "stdout",
     "output_type": "stream",
     "text": [
      "100\n",
      "1583349305\n"
     ]
    },
    {
     "name": "stderr",
     "output_type": "stream",
     "text": [
      "C:\\Users\\deepi\\AppData\\Local\\Temp\\ipykernel_2232\\157410880.py:24: UserWarning: This pattern is interpreted as a regular expression, and has match groups. To actually get the groups, use str.extract.\n",
      "  sub_self=sub[sub['selftext'].str.contains(r'(.|\\s)*\\S(.|\\s)') & sub['selftext'].notna()]\n"
     ]
    },
    {
     "name": "stdout",
     "output_type": "stream",
     "text": [
      "99\n",
      "1578063234\n"
     ]
    },
    {
     "name": "stderr",
     "output_type": "stream",
     "text": [
      "C:\\Users\\deepi\\AppData\\Local\\Temp\\ipykernel_2232\\157410880.py:24: UserWarning: This pattern is interpreted as a regular expression, and has match groups. To actually get the groups, use str.extract.\n",
      "  sub_self=sub[sub['selftext'].str.contains(r'(.|\\s)*\\S(.|\\s)') & sub['selftext'].notna()]\n"
     ]
    },
    {
     "name": "stdout",
     "output_type": "stream",
     "text": [
      "100\n",
      "1569532550\n"
     ]
    },
    {
     "name": "stderr",
     "output_type": "stream",
     "text": [
      "C:\\Users\\deepi\\AppData\\Local\\Temp\\ipykernel_2232\\157410880.py:24: UserWarning: This pattern is interpreted as a regular expression, and has match groups. To actually get the groups, use str.extract.\n",
      "  sub_self=sub[sub['selftext'].str.contains(r'(.|\\s)*\\S(.|\\s)') & sub['selftext'].notna()]\n"
     ]
    },
    {
     "name": "stdout",
     "output_type": "stream",
     "text": [
      "100\n",
      "1561482300\n"
     ]
    },
    {
     "name": "stderr",
     "output_type": "stream",
     "text": [
      "C:\\Users\\deepi\\AppData\\Local\\Temp\\ipykernel_2232\\157410880.py:24: UserWarning: This pattern is interpreted as a regular expression, and has match groups. To actually get the groups, use str.extract.\n",
      "  sub_self=sub[sub['selftext'].str.contains(r'(.|\\s)*\\S(.|\\s)') & sub['selftext'].notna()]\n"
     ]
    },
    {
     "name": "stdout",
     "output_type": "stream",
     "text": [
      "100\n",
      "1548849615\n"
     ]
    },
    {
     "name": "stderr",
     "output_type": "stream",
     "text": [
      "C:\\Users\\deepi\\AppData\\Local\\Temp\\ipykernel_2232\\157410880.py:24: UserWarning: This pattern is interpreted as a regular expression, and has match groups. To actually get the groups, use str.extract.\n",
      "  sub_self=sub[sub['selftext'].str.contains(r'(.|\\s)*\\S(.|\\s)') & sub['selftext'].notna()]\n"
     ]
    },
    {
     "name": "stdout",
     "output_type": "stream",
     "text": [
      "100\n",
      "1534037700\n"
     ]
    },
    {
     "name": "stderr",
     "output_type": "stream",
     "text": [
      "C:\\Users\\deepi\\AppData\\Local\\Temp\\ipykernel_2232\\157410880.py:24: UserWarning: This pattern is interpreted as a regular expression, and has match groups. To actually get the groups, use str.extract.\n",
      "  sub_self=sub[sub['selftext'].str.contains(r'(.|\\s)*\\S(.|\\s)') & sub['selftext'].notna()]\n"
     ]
    },
    {
     "name": "stdout",
     "output_type": "stream",
     "text": [
      "100\n",
      "1533958888\n"
     ]
    },
    {
     "name": "stderr",
     "output_type": "stream",
     "text": [
      "C:\\Users\\deepi\\AppData\\Local\\Temp\\ipykernel_2232\\157410880.py:24: UserWarning: This pattern is interpreted as a regular expression, and has match groups. To actually get the groups, use str.extract.\n",
      "  sub_self=sub[sub['selftext'].str.contains(r'(.|\\s)*\\S(.|\\s)') & sub['selftext'].notna()]\n"
     ]
    },
    {
     "name": "stdout",
     "output_type": "stream",
     "text": [
      "100\n",
      "1533886144\n"
     ]
    },
    {
     "name": "stderr",
     "output_type": "stream",
     "text": [
      "C:\\Users\\deepi\\AppData\\Local\\Temp\\ipykernel_2232\\157410880.py:24: UserWarning: This pattern is interpreted as a regular expression, and has match groups. To actually get the groups, use str.extract.\n",
      "  sub_self=sub[sub['selftext'].str.contains(r'(.|\\s)*\\S(.|\\s)') & sub['selftext'].notna()]\n"
     ]
    },
    {
     "name": "stdout",
     "output_type": "stream",
     "text": [
      "100\n",
      "1527563581\n"
     ]
    },
    {
     "name": "stderr",
     "output_type": "stream",
     "text": [
      "C:\\Users\\deepi\\AppData\\Local\\Temp\\ipykernel_2232\\157410880.py:24: UserWarning: This pattern is interpreted as a regular expression, and has match groups. To actually get the groups, use str.extract.\n",
      "  sub_self=sub[sub['selftext'].str.contains(r'(.|\\s)*\\S(.|\\s)') & sub['selftext'].notna()]\n"
     ]
    },
    {
     "name": "stdout",
     "output_type": "stream",
     "text": [
      "100\n",
      "1524740354\n"
     ]
    },
    {
     "name": "stderr",
     "output_type": "stream",
     "text": [
      "C:\\Users\\deepi\\AppData\\Local\\Temp\\ipykernel_2232\\157410880.py:24: UserWarning: This pattern is interpreted as a regular expression, and has match groups. To actually get the groups, use str.extract.\n",
      "  sub_self=sub[sub['selftext'].str.contains(r'(.|\\s)*\\S(.|\\s)') & sub['selftext'].notna()]\n"
     ]
    },
    {
     "name": "stdout",
     "output_type": "stream",
     "text": [
      "100\n",
      "1524418148\n"
     ]
    },
    {
     "name": "stderr",
     "output_type": "stream",
     "text": [
      "C:\\Users\\deepi\\AppData\\Local\\Temp\\ipykernel_2232\\157410880.py:24: UserWarning: This pattern is interpreted as a regular expression, and has match groups. To actually get the groups, use str.extract.\n",
      "  sub_self=sub[sub['selftext'].str.contains(r'(.|\\s)*\\S(.|\\s)') & sub['selftext'].notna()]\n"
     ]
    },
    {
     "name": "stdout",
     "output_type": "stream",
     "text": [
      "99\n",
      "1524098002\n"
     ]
    },
    {
     "name": "stderr",
     "output_type": "stream",
     "text": [
      "C:\\Users\\deepi\\AppData\\Local\\Temp\\ipykernel_2232\\157410880.py:24: UserWarning: This pattern is interpreted as a regular expression, and has match groups. To actually get the groups, use str.extract.\n",
      "  sub_self=sub[sub['selftext'].str.contains(r'(.|\\s)*\\S(.|\\s)') & sub['selftext'].notna()]\n"
     ]
    },
    {
     "name": "stdout",
     "output_type": "stream",
     "text": [
      "100\n",
      "1523809335\n"
     ]
    },
    {
     "name": "stderr",
     "output_type": "stream",
     "text": [
      "C:\\Users\\deepi\\AppData\\Local\\Temp\\ipykernel_2232\\157410880.py:24: UserWarning: This pattern is interpreted as a regular expression, and has match groups. To actually get the groups, use str.extract.\n",
      "  sub_self=sub[sub['selftext'].str.contains(r'(.|\\s)*\\S(.|\\s)') & sub['selftext'].notna()]\n"
     ]
    },
    {
     "name": "stdout",
     "output_type": "stream",
     "text": [
      "100\n",
      "1523467894\n"
     ]
    },
    {
     "name": "stderr",
     "output_type": "stream",
     "text": [
      "C:\\Users\\deepi\\AppData\\Local\\Temp\\ipykernel_2232\\157410880.py:24: UserWarning: This pattern is interpreted as a regular expression, and has match groups. To actually get the groups, use str.extract.\n",
      "  sub_self=sub[sub['selftext'].str.contains(r'(.|\\s)*\\S(.|\\s)') & sub['selftext'].notna()]\n"
     ]
    },
    {
     "name": "stdout",
     "output_type": "stream",
     "text": [
      "100\n",
      "1523196226\n"
     ]
    },
    {
     "name": "stderr",
     "output_type": "stream",
     "text": [
      "C:\\Users\\deepi\\AppData\\Local\\Temp\\ipykernel_2232\\157410880.py:24: UserWarning: This pattern is interpreted as a regular expression, and has match groups. To actually get the groups, use str.extract.\n",
      "  sub_self=sub[sub['selftext'].str.contains(r'(.|\\s)*\\S(.|\\s)') & sub['selftext'].notna()]\n"
     ]
    },
    {
     "name": "stdout",
     "output_type": "stream",
     "text": [
      "100\n",
      "1522889736\n"
     ]
    },
    {
     "name": "stderr",
     "output_type": "stream",
     "text": [
      "C:\\Users\\deepi\\AppData\\Local\\Temp\\ipykernel_2232\\157410880.py:24: UserWarning: This pattern is interpreted as a regular expression, and has match groups. To actually get the groups, use str.extract.\n",
      "  sub_self=sub[sub['selftext'].str.contains(r'(.|\\s)*\\S(.|\\s)') & sub['selftext'].notna()]\n"
     ]
    },
    {
     "name": "stdout",
     "output_type": "stream",
     "text": [
      "100\n",
      "1522725205\n"
     ]
    },
    {
     "name": "stderr",
     "output_type": "stream",
     "text": [
      "C:\\Users\\deepi\\AppData\\Local\\Temp\\ipykernel_2232\\157410880.py:24: UserWarning: This pattern is interpreted as a regular expression, and has match groups. To actually get the groups, use str.extract.\n",
      "  sub_self=sub[sub['selftext'].str.contains(r'(.|\\s)*\\S(.|\\s)') & sub['selftext'].notna()]\n"
     ]
    },
    {
     "name": "stdout",
     "output_type": "stream",
     "text": [
      "100\n",
      "1522566203\n"
     ]
    },
    {
     "name": "stderr",
     "output_type": "stream",
     "text": [
      "C:\\Users\\deepi\\AppData\\Local\\Temp\\ipykernel_2232\\157410880.py:24: UserWarning: This pattern is interpreted as a regular expression, and has match groups. To actually get the groups, use str.extract.\n",
      "  sub_self=sub[sub['selftext'].str.contains(r'(.|\\s)*\\S(.|\\s)') & sub['selftext'].notna()]\n"
     ]
    },
    {
     "name": "stdout",
     "output_type": "stream",
     "text": [
      "99\n",
      "1522426778\n"
     ]
    },
    {
     "name": "stderr",
     "output_type": "stream",
     "text": [
      "C:\\Users\\deepi\\AppData\\Local\\Temp\\ipykernel_2232\\157410880.py:24: UserWarning: This pattern is interpreted as a regular expression, and has match groups. To actually get the groups, use str.extract.\n",
      "  sub_self=sub[sub['selftext'].str.contains(r'(.|\\s)*\\S(.|\\s)') & sub['selftext'].notna()]\n"
     ]
    },
    {
     "name": "stdout",
     "output_type": "stream",
     "text": [
      "100\n",
      "1522259908\n"
     ]
    },
    {
     "name": "stderr",
     "output_type": "stream",
     "text": [
      "C:\\Users\\deepi\\AppData\\Local\\Temp\\ipykernel_2232\\157410880.py:24: UserWarning: This pattern is interpreted as a regular expression, and has match groups. To actually get the groups, use str.extract.\n",
      "  sub_self=sub[sub['selftext'].str.contains(r'(.|\\s)*\\S(.|\\s)') & sub['selftext'].notna()]\n"
     ]
    },
    {
     "name": "stdout",
     "output_type": "stream",
     "text": [
      "100\n",
      "1522070433\n"
     ]
    },
    {
     "name": "stderr",
     "output_type": "stream",
     "text": [
      "C:\\Users\\deepi\\AppData\\Local\\Temp\\ipykernel_2232\\157410880.py:24: UserWarning: This pattern is interpreted as a regular expression, and has match groups. To actually get the groups, use str.extract.\n",
      "  sub_self=sub[sub['selftext'].str.contains(r'(.|\\s)*\\S(.|\\s)') & sub['selftext'].notna()]\n"
     ]
    },
    {
     "name": "stdout",
     "output_type": "stream",
     "text": [
      "100\n",
      "1521911713\n"
     ]
    },
    {
     "name": "stderr",
     "output_type": "stream",
     "text": [
      "C:\\Users\\deepi\\AppData\\Local\\Temp\\ipykernel_2232\\157410880.py:24: UserWarning: This pattern is interpreted as a regular expression, and has match groups. To actually get the groups, use str.extract.\n",
      "  sub_self=sub[sub['selftext'].str.contains(r'(.|\\s)*\\S(.|\\s)') & sub['selftext'].notna()]\n"
     ]
    },
    {
     "name": "stdout",
     "output_type": "stream",
     "text": [
      "100\n",
      "1521727386\n"
     ]
    },
    {
     "name": "stderr",
     "output_type": "stream",
     "text": [
      "C:\\Users\\deepi\\AppData\\Local\\Temp\\ipykernel_2232\\157410880.py:24: UserWarning: This pattern is interpreted as a regular expression, and has match groups. To actually get the groups, use str.extract.\n",
      "  sub_self=sub[sub['selftext'].str.contains(r'(.|\\s)*\\S(.|\\s)') & sub['selftext'].notna()]\n"
     ]
    },
    {
     "name": "stdout",
     "output_type": "stream",
     "text": [
      "100\n",
      "1521559799\n"
     ]
    },
    {
     "name": "stderr",
     "output_type": "stream",
     "text": [
      "C:\\Users\\deepi\\AppData\\Local\\Temp\\ipykernel_2232\\157410880.py:24: UserWarning: This pattern is interpreted as a regular expression, and has match groups. To actually get the groups, use str.extract.\n",
      "  sub_self=sub[sub['selftext'].str.contains(r'(.|\\s)*\\S(.|\\s)') & sub['selftext'].notna()]\n"
     ]
    },
    {
     "name": "stdout",
     "output_type": "stream",
     "text": [
      "100\n",
      "1521421967\n"
     ]
    },
    {
     "name": "stderr",
     "output_type": "stream",
     "text": [
      "C:\\Users\\deepi\\AppData\\Local\\Temp\\ipykernel_2232\\157410880.py:24: UserWarning: This pattern is interpreted as a regular expression, and has match groups. To actually get the groups, use str.extract.\n",
      "  sub_self=sub[sub['selftext'].str.contains(r'(.|\\s)*\\S(.|\\s)') & sub['selftext'].notna()]\n"
     ]
    },
    {
     "name": "stdout",
     "output_type": "stream",
     "text": [
      "100\n",
      "1521291394\n"
     ]
    },
    {
     "name": "stderr",
     "output_type": "stream",
     "text": [
      "C:\\Users\\deepi\\AppData\\Local\\Temp\\ipykernel_2232\\157410880.py:24: UserWarning: This pattern is interpreted as a regular expression, and has match groups. To actually get the groups, use str.extract.\n",
      "  sub_self=sub[sub['selftext'].str.contains(r'(.|\\s)*\\S(.|\\s)') & sub['selftext'].notna()]\n"
     ]
    },
    {
     "name": "stdout",
     "output_type": "stream",
     "text": [
      "100\n",
      "1521136792\n"
     ]
    },
    {
     "name": "stderr",
     "output_type": "stream",
     "text": [
      "C:\\Users\\deepi\\AppData\\Local\\Temp\\ipykernel_2232\\157410880.py:24: UserWarning: This pattern is interpreted as a regular expression, and has match groups. To actually get the groups, use str.extract.\n",
      "  sub_self=sub[sub['selftext'].str.contains(r'(.|\\s)*\\S(.|\\s)') & sub['selftext'].notna()]\n"
     ]
    },
    {
     "name": "stdout",
     "output_type": "stream",
     "text": [
      "100\n",
      "1520919097\n"
     ]
    },
    {
     "name": "stderr",
     "output_type": "stream",
     "text": [
      "C:\\Users\\deepi\\AppData\\Local\\Temp\\ipykernel_2232\\157410880.py:24: UserWarning: This pattern is interpreted as a regular expression, and has match groups. To actually get the groups, use str.extract.\n",
      "  sub_self=sub[sub['selftext'].str.contains(r'(.|\\s)*\\S(.|\\s)') & sub['selftext'].notna()]\n"
     ]
    },
    {
     "name": "stdout",
     "output_type": "stream",
     "text": [
      "100\n",
      "1520767566\n"
     ]
    },
    {
     "name": "stderr",
     "output_type": "stream",
     "text": [
      "C:\\Users\\deepi\\AppData\\Local\\Temp\\ipykernel_2232\\157410880.py:24: UserWarning: This pattern is interpreted as a regular expression, and has match groups. To actually get the groups, use str.extract.\n",
      "  sub_self=sub[sub['selftext'].str.contains(r'(.|\\s)*\\S(.|\\s)') & sub['selftext'].notna()]\n"
     ]
    },
    {
     "name": "stdout",
     "output_type": "stream",
     "text": [
      "100\n",
      "1520622527\n"
     ]
    },
    {
     "name": "stderr",
     "output_type": "stream",
     "text": [
      "C:\\Users\\deepi\\AppData\\Local\\Temp\\ipykernel_2232\\157410880.py:24: UserWarning: This pattern is interpreted as a regular expression, and has match groups. To actually get the groups, use str.extract.\n",
      "  sub_self=sub[sub['selftext'].str.contains(r'(.|\\s)*\\S(.|\\s)') & sub['selftext'].notna()]\n"
     ]
    },
    {
     "name": "stdout",
     "output_type": "stream",
     "text": [
      "100\n",
      "1520471139\n"
     ]
    },
    {
     "name": "stderr",
     "output_type": "stream",
     "text": [
      "C:\\Users\\deepi\\AppData\\Local\\Temp\\ipykernel_2232\\157410880.py:24: UserWarning: This pattern is interpreted as a regular expression, and has match groups. To actually get the groups, use str.extract.\n",
      "  sub_self=sub[sub['selftext'].str.contains(r'(.|\\s)*\\S(.|\\s)') & sub['selftext'].notna()]\n"
     ]
    },
    {
     "name": "stdout",
     "output_type": "stream",
     "text": [
      "100\n",
      "1520308909\n"
     ]
    },
    {
     "name": "stderr",
     "output_type": "stream",
     "text": [
      "C:\\Users\\deepi\\AppData\\Local\\Temp\\ipykernel_2232\\157410880.py:24: UserWarning: This pattern is interpreted as a regular expression, and has match groups. To actually get the groups, use str.extract.\n",
      "  sub_self=sub[sub['selftext'].str.contains(r'(.|\\s)*\\S(.|\\s)') & sub['selftext'].notna()]\n"
     ]
    },
    {
     "name": "stdout",
     "output_type": "stream",
     "text": [
      "100\n",
      "1520190409\n"
     ]
    },
    {
     "name": "stderr",
     "output_type": "stream",
     "text": [
      "C:\\Users\\deepi\\AppData\\Local\\Temp\\ipykernel_2232\\157410880.py:24: UserWarning: This pattern is interpreted as a regular expression, and has match groups. To actually get the groups, use str.extract.\n",
      "  sub_self=sub[sub['selftext'].str.contains(r'(.|\\s)*\\S(.|\\s)') & sub['selftext'].notna()]\n"
     ]
    },
    {
     "name": "stdout",
     "output_type": "stream",
     "text": [
      "100\n",
      "1520019911\n"
     ]
    },
    {
     "name": "stderr",
     "output_type": "stream",
     "text": [
      "C:\\Users\\deepi\\AppData\\Local\\Temp\\ipykernel_2232\\157410880.py:24: UserWarning: This pattern is interpreted as a regular expression, and has match groups. To actually get the groups, use str.extract.\n",
      "  sub_self=sub[sub['selftext'].str.contains(r'(.|\\s)*\\S(.|\\s)') & sub['selftext'].notna()]\n"
     ]
    },
    {
     "name": "stdout",
     "output_type": "stream",
     "text": [
      "100\n",
      "1519900017\n"
     ]
    },
    {
     "name": "stderr",
     "output_type": "stream",
     "text": [
      "C:\\Users\\deepi\\AppData\\Local\\Temp\\ipykernel_2232\\157410880.py:24: UserWarning: This pattern is interpreted as a regular expression, and has match groups. To actually get the groups, use str.extract.\n",
      "  sub_self=sub[sub['selftext'].str.contains(r'(.|\\s)*\\S(.|\\s)') & sub['selftext'].notna()]\n"
     ]
    },
    {
     "name": "stdout",
     "output_type": "stream",
     "text": [
      "100\n",
      "1519771599\n"
     ]
    },
    {
     "name": "stderr",
     "output_type": "stream",
     "text": [
      "C:\\Users\\deepi\\AppData\\Local\\Temp\\ipykernel_2232\\157410880.py:24: UserWarning: This pattern is interpreted as a regular expression, and has match groups. To actually get the groups, use str.extract.\n",
      "  sub_self=sub[sub['selftext'].str.contains(r'(.|\\s)*\\S(.|\\s)') & sub['selftext'].notna()]\n"
     ]
    },
    {
     "name": "stdout",
     "output_type": "stream",
     "text": [
      "100\n",
      "1519653224\n"
     ]
    },
    {
     "name": "stderr",
     "output_type": "stream",
     "text": [
      "C:\\Users\\deepi\\AppData\\Local\\Temp\\ipykernel_2232\\157410880.py:24: UserWarning: This pattern is interpreted as a regular expression, and has match groups. To actually get the groups, use str.extract.\n",
      "  sub_self=sub[sub['selftext'].str.contains(r'(.|\\s)*\\S(.|\\s)') & sub['selftext'].notna()]\n"
     ]
    },
    {
     "name": "stdout",
     "output_type": "stream",
     "text": [
      "100\n",
      "1519487782\n"
     ]
    },
    {
     "name": "stderr",
     "output_type": "stream",
     "text": [
      "C:\\Users\\deepi\\AppData\\Local\\Temp\\ipykernel_2232\\157410880.py:24: UserWarning: This pattern is interpreted as a regular expression, and has match groups. To actually get the groups, use str.extract.\n",
      "  sub_self=sub[sub['selftext'].str.contains(r'(.|\\s)*\\S(.|\\s)') & sub['selftext'].notna()]\n"
     ]
    },
    {
     "name": "stdout",
     "output_type": "stream",
     "text": [
      "100\n",
      "1519335752\n"
     ]
    },
    {
     "name": "stderr",
     "output_type": "stream",
     "text": [
      "C:\\Users\\deepi\\AppData\\Local\\Temp\\ipykernel_2232\\157410880.py:24: UserWarning: This pattern is interpreted as a regular expression, and has match groups. To actually get the groups, use str.extract.\n",
      "  sub_self=sub[sub['selftext'].str.contains(r'(.|\\s)*\\S(.|\\s)') & sub['selftext'].notna()]\n"
     ]
    },
    {
     "name": "stdout",
     "output_type": "stream",
     "text": [
      "100\n",
      "1519201579\n"
     ]
    },
    {
     "name": "stderr",
     "output_type": "stream",
     "text": [
      "C:\\Users\\deepi\\AppData\\Local\\Temp\\ipykernel_2232\\157410880.py:24: UserWarning: This pattern is interpreted as a regular expression, and has match groups. To actually get the groups, use str.extract.\n",
      "  sub_self=sub[sub['selftext'].str.contains(r'(.|\\s)*\\S(.|\\s)') & sub['selftext'].notna()]\n"
     ]
    },
    {
     "name": "stdout",
     "output_type": "stream",
     "text": [
      "100\n",
      "1519085072\n"
     ]
    },
    {
     "name": "stderr",
     "output_type": "stream",
     "text": [
      "C:\\Users\\deepi\\AppData\\Local\\Temp\\ipykernel_2232\\157410880.py:24: UserWarning: This pattern is interpreted as a regular expression, and has match groups. To actually get the groups, use str.extract.\n",
      "  sub_self=sub[sub['selftext'].str.contains(r'(.|\\s)*\\S(.|\\s)') & sub['selftext'].notna()]\n"
     ]
    },
    {
     "name": "stdout",
     "output_type": "stream",
     "text": [
      "100\n",
      "1518935575\n"
     ]
    },
    {
     "name": "stderr",
     "output_type": "stream",
     "text": [
      "C:\\Users\\deepi\\AppData\\Local\\Temp\\ipykernel_2232\\157410880.py:24: UserWarning: This pattern is interpreted as a regular expression, and has match groups. To actually get the groups, use str.extract.\n",
      "  sub_self=sub[sub['selftext'].str.contains(r'(.|\\s)*\\S(.|\\s)') & sub['selftext'].notna()]\n"
     ]
    },
    {
     "name": "stdout",
     "output_type": "stream",
     "text": [
      "100\n",
      "1518771704\n"
     ]
    },
    {
     "name": "stderr",
     "output_type": "stream",
     "text": [
      "C:\\Users\\deepi\\AppData\\Local\\Temp\\ipykernel_2232\\157410880.py:24: UserWarning: This pattern is interpreted as a regular expression, and has match groups. To actually get the groups, use str.extract.\n",
      "  sub_self=sub[sub['selftext'].str.contains(r'(.|\\s)*\\S(.|\\s)') & sub['selftext'].notna()]\n"
     ]
    },
    {
     "name": "stdout",
     "output_type": "stream",
     "text": [
      "100\n",
      "1518644622\n"
     ]
    },
    {
     "name": "stderr",
     "output_type": "stream",
     "text": [
      "C:\\Users\\deepi\\AppData\\Local\\Temp\\ipykernel_2232\\157410880.py:24: UserWarning: This pattern is interpreted as a regular expression, and has match groups. To actually get the groups, use str.extract.\n",
      "  sub_self=sub[sub['selftext'].str.contains(r'(.|\\s)*\\S(.|\\s)') & sub['selftext'].notna()]\n"
     ]
    },
    {
     "name": "stdout",
     "output_type": "stream",
     "text": [
      "100\n",
      "1518495277\n"
     ]
    },
    {
     "name": "stderr",
     "output_type": "stream",
     "text": [
      "C:\\Users\\deepi\\AppData\\Local\\Temp\\ipykernel_2232\\157410880.py:24: UserWarning: This pattern is interpreted as a regular expression, and has match groups. To actually get the groups, use str.extract.\n",
      "  sub_self=sub[sub['selftext'].str.contains(r'(.|\\s)*\\S(.|\\s)') & sub['selftext'].notna()]\n"
     ]
    },
    {
     "name": "stdout",
     "output_type": "stream",
     "text": [
      "99\n",
      "1518379044\n"
     ]
    },
    {
     "name": "stderr",
     "output_type": "stream",
     "text": [
      "C:\\Users\\deepi\\AppData\\Local\\Temp\\ipykernel_2232\\157410880.py:24: UserWarning: This pattern is interpreted as a regular expression, and has match groups. To actually get the groups, use str.extract.\n",
      "  sub_self=sub[sub['selftext'].str.contains(r'(.|\\s)*\\S(.|\\s)') & sub['selftext'].notna()]\n"
     ]
    },
    {
     "name": "stdout",
     "output_type": "stream",
     "text": [
      "100\n",
      "1518220379\n"
     ]
    },
    {
     "name": "stderr",
     "output_type": "stream",
     "text": [
      "C:\\Users\\deepi\\AppData\\Local\\Temp\\ipykernel_2232\\157410880.py:24: UserWarning: This pattern is interpreted as a regular expression, and has match groups. To actually get the groups, use str.extract.\n",
      "  sub_self=sub[sub['selftext'].str.contains(r'(.|\\s)*\\S(.|\\s)') & sub['selftext'].notna()]\n"
     ]
    },
    {
     "name": "stdout",
     "output_type": "stream",
     "text": [
      "100\n",
      "1518118698\n"
     ]
    },
    {
     "name": "stderr",
     "output_type": "stream",
     "text": [
      "C:\\Users\\deepi\\AppData\\Local\\Temp\\ipykernel_2232\\157410880.py:24: UserWarning: This pattern is interpreted as a regular expression, and has match groups. To actually get the groups, use str.extract.\n",
      "  sub_self=sub[sub['selftext'].str.contains(r'(.|\\s)*\\S(.|\\s)') & sub['selftext'].notna()]\n"
     ]
    },
    {
     "name": "stdout",
     "output_type": "stream",
     "text": [
      "99\n",
      "1518009796\n"
     ]
    },
    {
     "name": "stderr",
     "output_type": "stream",
     "text": [
      "C:\\Users\\deepi\\AppData\\Local\\Temp\\ipykernel_2232\\157410880.py:24: UserWarning: This pattern is interpreted as a regular expression, and has match groups. To actually get the groups, use str.extract.\n",
      "  sub_self=sub[sub['selftext'].str.contains(r'(.|\\s)*\\S(.|\\s)') & sub['selftext'].notna()]\n"
     ]
    },
    {
     "name": "stdout",
     "output_type": "stream",
     "text": [
      "100\n",
      "1517897981\n"
     ]
    },
    {
     "name": "stderr",
     "output_type": "stream",
     "text": [
      "C:\\Users\\deepi\\AppData\\Local\\Temp\\ipykernel_2232\\157410880.py:24: UserWarning: This pattern is interpreted as a regular expression, and has match groups. To actually get the groups, use str.extract.\n",
      "  sub_self=sub[sub['selftext'].str.contains(r'(.|\\s)*\\S(.|\\s)') & sub['selftext'].notna()]\n"
     ]
    },
    {
     "name": "stdout",
     "output_type": "stream",
     "text": [
      "100\n",
      "1517762185\n"
     ]
    },
    {
     "name": "stderr",
     "output_type": "stream",
     "text": [
      "C:\\Users\\deepi\\AppData\\Local\\Temp\\ipykernel_2232\\157410880.py:24: UserWarning: This pattern is interpreted as a regular expression, and has match groups. To actually get the groups, use str.extract.\n",
      "  sub_self=sub[sub['selftext'].str.contains(r'(.|\\s)*\\S(.|\\s)') & sub['selftext'].notna()]\n"
     ]
    },
    {
     "name": "stdout",
     "output_type": "stream",
     "text": [
      "100\n",
      "1517619463\n"
     ]
    },
    {
     "name": "stderr",
     "output_type": "stream",
     "text": [
      "C:\\Users\\deepi\\AppData\\Local\\Temp\\ipykernel_2232\\157410880.py:24: UserWarning: This pattern is interpreted as a regular expression, and has match groups. To actually get the groups, use str.extract.\n",
      "  sub_self=sub[sub['selftext'].str.contains(r'(.|\\s)*\\S(.|\\s)') & sub['selftext'].notna()]\n"
     ]
    },
    {
     "name": "stdout",
     "output_type": "stream",
     "text": [
      "99\n",
      "1517513669\n"
     ]
    },
    {
     "name": "stderr",
     "output_type": "stream",
     "text": [
      "C:\\Users\\deepi\\AppData\\Local\\Temp\\ipykernel_2232\\157410880.py:24: UserWarning: This pattern is interpreted as a regular expression, and has match groups. To actually get the groups, use str.extract.\n",
      "  sub_self=sub[sub['selftext'].str.contains(r'(.|\\s)*\\S(.|\\s)') & sub['selftext'].notna()]\n"
     ]
    },
    {
     "name": "stdout",
     "output_type": "stream",
     "text": [
      "100\n",
      "1517397500\n"
     ]
    },
    {
     "name": "stderr",
     "output_type": "stream",
     "text": [
      "C:\\Users\\deepi\\AppData\\Local\\Temp\\ipykernel_2232\\157410880.py:24: UserWarning: This pattern is interpreted as a regular expression, and has match groups. To actually get the groups, use str.extract.\n",
      "  sub_self=sub[sub['selftext'].str.contains(r'(.|\\s)*\\S(.|\\s)') & sub['selftext'].notna()]\n"
     ]
    },
    {
     "name": "stdout",
     "output_type": "stream",
     "text": [
      "100\n",
      "1517254611\n"
     ]
    },
    {
     "name": "stderr",
     "output_type": "stream",
     "text": [
      "C:\\Users\\deepi\\AppData\\Local\\Temp\\ipykernel_2232\\157410880.py:24: UserWarning: This pattern is interpreted as a regular expression, and has match groups. To actually get the groups, use str.extract.\n",
      "  sub_self=sub[sub['selftext'].str.contains(r'(.|\\s)*\\S(.|\\s)') & sub['selftext'].notna()]\n"
     ]
    },
    {
     "name": "stdout",
     "output_type": "stream",
     "text": [
      "99\n",
      "1517165599\n"
     ]
    },
    {
     "name": "stderr",
     "output_type": "stream",
     "text": [
      "C:\\Users\\deepi\\AppData\\Local\\Temp\\ipykernel_2232\\157410880.py:24: UserWarning: This pattern is interpreted as a regular expression, and has match groups. To actually get the groups, use str.extract.\n",
      "  sub_self=sub[sub['selftext'].str.contains(r'(.|\\s)*\\S(.|\\s)') & sub['selftext'].notna()]\n"
     ]
    },
    {
     "name": "stdout",
     "output_type": "stream",
     "text": [
      "99\n",
      "1517003056\n"
     ]
    },
    {
     "name": "stderr",
     "output_type": "stream",
     "text": [
      "C:\\Users\\deepi\\AppData\\Local\\Temp\\ipykernel_2232\\157410880.py:24: UserWarning: This pattern is interpreted as a regular expression, and has match groups. To actually get the groups, use str.extract.\n",
      "  sub_self=sub[sub['selftext'].str.contains(r'(.|\\s)*\\S(.|\\s)') & sub['selftext'].notna()]\n"
     ]
    },
    {
     "name": "stdout",
     "output_type": "stream",
     "text": [
      "100\n",
      "1516879176\n"
     ]
    },
    {
     "name": "stderr",
     "output_type": "stream",
     "text": [
      "C:\\Users\\deepi\\AppData\\Local\\Temp\\ipykernel_2232\\157410880.py:24: UserWarning: This pattern is interpreted as a regular expression, and has match groups. To actually get the groups, use str.extract.\n",
      "  sub_self=sub[sub['selftext'].str.contains(r'(.|\\s)*\\S(.|\\s)') & sub['selftext'].notna()]\n"
     ]
    },
    {
     "name": "stdout",
     "output_type": "stream",
     "text": [
      "100\n",
      "1516746376\n"
     ]
    },
    {
     "name": "stderr",
     "output_type": "stream",
     "text": [
      "C:\\Users\\deepi\\AppData\\Local\\Temp\\ipykernel_2232\\157410880.py:24: UserWarning: This pattern is interpreted as a regular expression, and has match groups. To actually get the groups, use str.extract.\n",
      "  sub_self=sub[sub['selftext'].str.contains(r'(.|\\s)*\\S(.|\\s)') & sub['selftext'].notna()]\n"
     ]
    },
    {
     "name": "stdout",
     "output_type": "stream",
     "text": [
      "100\n",
      "1516626620\n"
     ]
    },
    {
     "name": "stderr",
     "output_type": "stream",
     "text": [
      "C:\\Users\\deepi\\AppData\\Local\\Temp\\ipykernel_2232\\157410880.py:24: UserWarning: This pattern is interpreted as a regular expression, and has match groups. To actually get the groups, use str.extract.\n",
      "  sub_self=sub[sub['selftext'].str.contains(r'(.|\\s)*\\S(.|\\s)') & sub['selftext'].notna()]\n"
     ]
    },
    {
     "name": "stdout",
     "output_type": "stream",
     "text": [
      "100\n",
      "1516471332\n"
     ]
    },
    {
     "name": "stderr",
     "output_type": "stream",
     "text": [
      "C:\\Users\\deepi\\AppData\\Local\\Temp\\ipykernel_2232\\157410880.py:24: UserWarning: This pattern is interpreted as a regular expression, and has match groups. To actually get the groups, use str.extract.\n",
      "  sub_self=sub[sub['selftext'].str.contains(r'(.|\\s)*\\S(.|\\s)') & sub['selftext'].notna()]\n"
     ]
    },
    {
     "name": "stdout",
     "output_type": "stream",
     "text": [
      "100\n",
      "1516312843\n"
     ]
    },
    {
     "name": "stderr",
     "output_type": "stream",
     "text": [
      "C:\\Users\\deepi\\AppData\\Local\\Temp\\ipykernel_2232\\157410880.py:24: UserWarning: This pattern is interpreted as a regular expression, and has match groups. To actually get the groups, use str.extract.\n",
      "  sub_self=sub[sub['selftext'].str.contains(r'(.|\\s)*\\S(.|\\s)') & sub['selftext'].notna()]\n"
     ]
    },
    {
     "name": "stdout",
     "output_type": "stream",
     "text": [
      "100\n",
      "1516180386\n"
     ]
    },
    {
     "name": "stderr",
     "output_type": "stream",
     "text": [
      "C:\\Users\\deepi\\AppData\\Local\\Temp\\ipykernel_2232\\157410880.py:24: UserWarning: This pattern is interpreted as a regular expression, and has match groups. To actually get the groups, use str.extract.\n",
      "  sub_self=sub[sub['selftext'].str.contains(r'(.|\\s)*\\S(.|\\s)') & sub['selftext'].notna()]\n"
     ]
    },
    {
     "name": "stdout",
     "output_type": "stream",
     "text": [
      "100\n",
      "1516047519\n"
     ]
    },
    {
     "name": "stderr",
     "output_type": "stream",
     "text": [
      "C:\\Users\\deepi\\AppData\\Local\\Temp\\ipykernel_2232\\157410880.py:24: UserWarning: This pattern is interpreted as a regular expression, and has match groups. To actually get the groups, use str.extract.\n",
      "  sub_self=sub[sub['selftext'].str.contains(r'(.|\\s)*\\S(.|\\s)') & sub['selftext'].notna()]\n"
     ]
    },
    {
     "name": "stdout",
     "output_type": "stream",
     "text": [
      "100\n",
      "1515943554\n"
     ]
    },
    {
     "name": "stderr",
     "output_type": "stream",
     "text": [
      "C:\\Users\\deepi\\AppData\\Local\\Temp\\ipykernel_2232\\157410880.py:24: UserWarning: This pattern is interpreted as a regular expression, and has match groups. To actually get the groups, use str.extract.\n",
      "  sub_self=sub[sub['selftext'].str.contains(r'(.|\\s)*\\S(.|\\s)') & sub['selftext'].notna()]\n"
     ]
    },
    {
     "name": "stdout",
     "output_type": "stream",
     "text": [
      "100\n",
      "1515783529\n"
     ]
    },
    {
     "name": "stderr",
     "output_type": "stream",
     "text": [
      "C:\\Users\\deepi\\AppData\\Local\\Temp\\ipykernel_2232\\157410880.py:24: UserWarning: This pattern is interpreted as a regular expression, and has match groups. To actually get the groups, use str.extract.\n",
      "  sub_self=sub[sub['selftext'].str.contains(r'(.|\\s)*\\S(.|\\s)') & sub['selftext'].notna()]\n"
     ]
    },
    {
     "name": "stdout",
     "output_type": "stream",
     "text": [
      "100\n",
      "1515673544\n"
     ]
    },
    {
     "name": "stderr",
     "output_type": "stream",
     "text": [
      "C:\\Users\\deepi\\AppData\\Local\\Temp\\ipykernel_2232\\157410880.py:24: UserWarning: This pattern is interpreted as a regular expression, and has match groups. To actually get the groups, use str.extract.\n",
      "  sub_self=sub[sub['selftext'].str.contains(r'(.|\\s)*\\S(.|\\s)') & sub['selftext'].notna()]\n"
     ]
    },
    {
     "name": "stdout",
     "output_type": "stream",
     "text": [
      "99\n",
      "1515544609\n"
     ]
    },
    {
     "name": "stderr",
     "output_type": "stream",
     "text": [
      "C:\\Users\\deepi\\AppData\\Local\\Temp\\ipykernel_2232\\157410880.py:24: UserWarning: This pattern is interpreted as a regular expression, and has match groups. To actually get the groups, use str.extract.\n",
      "  sub_self=sub[sub['selftext'].str.contains(r'(.|\\s)*\\S(.|\\s)') & sub['selftext'].notna()]\n"
     ]
    },
    {
     "name": "stdout",
     "output_type": "stream",
     "text": [
      "100\n",
      "1515395974\n"
     ]
    },
    {
     "name": "stderr",
     "output_type": "stream",
     "text": [
      "C:\\Users\\deepi\\AppData\\Local\\Temp\\ipykernel_2232\\157410880.py:24: UserWarning: This pattern is interpreted as a regular expression, and has match groups. To actually get the groups, use str.extract.\n",
      "  sub_self=sub[sub['selftext'].str.contains(r'(.|\\s)*\\S(.|\\s)') & sub['selftext'].notna()]\n"
     ]
    },
    {
     "name": "stdout",
     "output_type": "stream",
     "text": [
      "99\n",
      "1515287069\n"
     ]
    },
    {
     "name": "stderr",
     "output_type": "stream",
     "text": [
      "C:\\Users\\deepi\\AppData\\Local\\Temp\\ipykernel_2232\\157410880.py:24: UserWarning: This pattern is interpreted as a regular expression, and has match groups. To actually get the groups, use str.extract.\n",
      "  sub_self=sub[sub['selftext'].str.contains(r'(.|\\s)*\\S(.|\\s)') & sub['selftext'].notna()]\n"
     ]
    },
    {
     "name": "stdout",
     "output_type": "stream",
     "text": [
      "100\n",
      "1515199940\n"
     ]
    },
    {
     "name": "stderr",
     "output_type": "stream",
     "text": [
      "C:\\Users\\deepi\\AppData\\Local\\Temp\\ipykernel_2232\\157410880.py:24: UserWarning: This pattern is interpreted as a regular expression, and has match groups. To actually get the groups, use str.extract.\n",
      "  sub_self=sub[sub['selftext'].str.contains(r'(.|\\s)*\\S(.|\\s)') & sub['selftext'].notna()]\n"
     ]
    },
    {
     "name": "stdout",
     "output_type": "stream",
     "text": [
      "99\n",
      "1515113832\n"
     ]
    },
    {
     "name": "stderr",
     "output_type": "stream",
     "text": [
      "C:\\Users\\deepi\\AppData\\Local\\Temp\\ipykernel_2232\\157410880.py:24: UserWarning: This pattern is interpreted as a regular expression, and has match groups. To actually get the groups, use str.extract.\n",
      "  sub_self=sub[sub['selftext'].str.contains(r'(.|\\s)*\\S(.|\\s)') & sub['selftext'].notna()]\n"
     ]
    },
    {
     "name": "stdout",
     "output_type": "stream",
     "text": [
      "100\n",
      "1515027011\n"
     ]
    },
    {
     "name": "stderr",
     "output_type": "stream",
     "text": [
      "C:\\Users\\deepi\\AppData\\Local\\Temp\\ipykernel_2232\\157410880.py:24: UserWarning: This pattern is interpreted as a regular expression, and has match groups. To actually get the groups, use str.extract.\n",
      "  sub_self=sub[sub['selftext'].str.contains(r'(.|\\s)*\\S(.|\\s)') & sub['selftext'].notna()]\n"
     ]
    },
    {
     "name": "stdout",
     "output_type": "stream",
     "text": [
      "100\n",
      "1514925372\n"
     ]
    },
    {
     "name": "stderr",
     "output_type": "stream",
     "text": [
      "C:\\Users\\deepi\\AppData\\Local\\Temp\\ipykernel_2232\\157410880.py:24: UserWarning: This pattern is interpreted as a regular expression, and has match groups. To actually get the groups, use str.extract.\n",
      "  sub_self=sub[sub['selftext'].str.contains(r'(.|\\s)*\\S(.|\\s)') & sub['selftext'].notna()]\n"
     ]
    },
    {
     "name": "stdout",
     "output_type": "stream",
     "text": [
      "100\n",
      "1514787414\n"
     ]
    },
    {
     "name": "stderr",
     "output_type": "stream",
     "text": [
      "C:\\Users\\deepi\\AppData\\Local\\Temp\\ipykernel_2232\\157410880.py:24: UserWarning: This pattern is interpreted as a regular expression, and has match groups. To actually get the groups, use str.extract.\n",
      "  sub_self=sub[sub['selftext'].str.contains(r'(.|\\s)*\\S(.|\\s)') & sub['selftext'].notna()]\n"
     ]
    },
    {
     "name": "stdout",
     "output_type": "stream",
     "text": [
      "99\n",
      "1514584439\n"
     ]
    },
    {
     "name": "stderr",
     "output_type": "stream",
     "text": [
      "C:\\Users\\deepi\\AppData\\Local\\Temp\\ipykernel_2232\\157410880.py:24: UserWarning: This pattern is interpreted as a regular expression, and has match groups. To actually get the groups, use str.extract.\n",
      "  sub_self=sub[sub['selftext'].str.contains(r'(.|\\s)*\\S(.|\\s)') & sub['selftext'].notna()]\n"
     ]
    },
    {
     "name": "stdout",
     "output_type": "stream",
     "text": [
      "100\n",
      "1514472415\n"
     ]
    },
    {
     "name": "stderr",
     "output_type": "stream",
     "text": [
      "C:\\Users\\deepi\\AppData\\Local\\Temp\\ipykernel_2232\\157410880.py:24: UserWarning: This pattern is interpreted as a regular expression, and has match groups. To actually get the groups, use str.extract.\n",
      "  sub_self=sub[sub['selftext'].str.contains(r'(.|\\s)*\\S(.|\\s)') & sub['selftext'].notna()]\n"
     ]
    },
    {
     "name": "stdout",
     "output_type": "stream",
     "text": [
      "99\n",
      "1514338228\n"
     ]
    },
    {
     "name": "stderr",
     "output_type": "stream",
     "text": [
      "C:\\Users\\deepi\\AppData\\Local\\Temp\\ipykernel_2232\\157410880.py:24: UserWarning: This pattern is interpreted as a regular expression, and has match groups. To actually get the groups, use str.extract.\n",
      "  sub_self=sub[sub['selftext'].str.contains(r'(.|\\s)*\\S(.|\\s)') & sub['selftext'].notna()]\n"
     ]
    },
    {
     "name": "stdout",
     "output_type": "stream",
     "text": [
      "100\n",
      "1514142838\n"
     ]
    },
    {
     "name": "stderr",
     "output_type": "stream",
     "text": [
      "C:\\Users\\deepi\\AppData\\Local\\Temp\\ipykernel_2232\\157410880.py:24: UserWarning: This pattern is interpreted as a regular expression, and has match groups. To actually get the groups, use str.extract.\n",
      "  sub_self=sub[sub['selftext'].str.contains(r'(.|\\s)*\\S(.|\\s)') & sub['selftext'].notna()]\n"
     ]
    },
    {
     "name": "stdout",
     "output_type": "stream",
     "text": [
      "99\n",
      "1514009681\n"
     ]
    },
    {
     "name": "stderr",
     "output_type": "stream",
     "text": [
      "C:\\Users\\deepi\\AppData\\Local\\Temp\\ipykernel_2232\\157410880.py:24: UserWarning: This pattern is interpreted as a regular expression, and has match groups. To actually get the groups, use str.extract.\n",
      "  sub_self=sub[sub['selftext'].str.contains(r'(.|\\s)*\\S(.|\\s)') & sub['selftext'].notna()]\n"
     ]
    },
    {
     "name": "stdout",
     "output_type": "stream",
     "text": [
      "100\n",
      "1513908998\n"
     ]
    },
    {
     "name": "stderr",
     "output_type": "stream",
     "text": [
      "C:\\Users\\deepi\\AppData\\Local\\Temp\\ipykernel_2232\\157410880.py:24: UserWarning: This pattern is interpreted as a regular expression, and has match groups. To actually get the groups, use str.extract.\n",
      "  sub_self=sub[sub['selftext'].str.contains(r'(.|\\s)*\\S(.|\\s)') & sub['selftext'].notna()]\n"
     ]
    },
    {
     "name": "stdout",
     "output_type": "stream",
     "text": [
      "100\n",
      "1513768439\n"
     ]
    },
    {
     "name": "stderr",
     "output_type": "stream",
     "text": [
      "C:\\Users\\deepi\\AppData\\Local\\Temp\\ipykernel_2232\\157410880.py:24: UserWarning: This pattern is interpreted as a regular expression, and has match groups. To actually get the groups, use str.extract.\n",
      "  sub_self=sub[sub['selftext'].str.contains(r'(.|\\s)*\\S(.|\\s)') & sub['selftext'].notna()]\n"
     ]
    },
    {
     "name": "stdout",
     "output_type": "stream",
     "text": [
      "100\n",
      "1513634734\n"
     ]
    },
    {
     "name": "stderr",
     "output_type": "stream",
     "text": [
      "C:\\Users\\deepi\\AppData\\Local\\Temp\\ipykernel_2232\\157410880.py:24: UserWarning: This pattern is interpreted as a regular expression, and has match groups. To actually get the groups, use str.extract.\n",
      "  sub_self=sub[sub['selftext'].str.contains(r'(.|\\s)*\\S(.|\\s)') & sub['selftext'].notna()]\n"
     ]
    },
    {
     "name": "stdout",
     "output_type": "stream",
     "text": [
      "100\n",
      "1513498688\n"
     ]
    },
    {
     "name": "stderr",
     "output_type": "stream",
     "text": [
      "C:\\Users\\deepi\\AppData\\Local\\Temp\\ipykernel_2232\\157410880.py:24: UserWarning: This pattern is interpreted as a regular expression, and has match groups. To actually get the groups, use str.extract.\n",
      "  sub_self=sub[sub['selftext'].str.contains(r'(.|\\s)*\\S(.|\\s)') & sub['selftext'].notna()]\n"
     ]
    },
    {
     "name": "stdout",
     "output_type": "stream",
     "text": [
      "100\n",
      "1513376524\n"
     ]
    },
    {
     "name": "stderr",
     "output_type": "stream",
     "text": [
      "C:\\Users\\deepi\\AppData\\Local\\Temp\\ipykernel_2232\\157410880.py:24: UserWarning: This pattern is interpreted as a regular expression, and has match groups. To actually get the groups, use str.extract.\n",
      "  sub_self=sub[sub['selftext'].str.contains(r'(.|\\s)*\\S(.|\\s)') & sub['selftext'].notna()]\n"
     ]
    },
    {
     "name": "stdout",
     "output_type": "stream",
     "text": [
      "100\n",
      "1513253387\n"
     ]
    },
    {
     "name": "stderr",
     "output_type": "stream",
     "text": [
      "C:\\Users\\deepi\\AppData\\Local\\Temp\\ipykernel_2232\\157410880.py:24: UserWarning: This pattern is interpreted as a regular expression, and has match groups. To actually get the groups, use str.extract.\n",
      "  sub_self=sub[sub['selftext'].str.contains(r'(.|\\s)*\\S(.|\\s)') & sub['selftext'].notna()]\n"
     ]
    },
    {
     "name": "stdout",
     "output_type": "stream",
     "text": [
      "100\n",
      "1513119648\n"
     ]
    },
    {
     "name": "stderr",
     "output_type": "stream",
     "text": [
      "C:\\Users\\deepi\\AppData\\Local\\Temp\\ipykernel_2232\\157410880.py:24: UserWarning: This pattern is interpreted as a regular expression, and has match groups. To actually get the groups, use str.extract.\n",
      "  sub_self=sub[sub['selftext'].str.contains(r'(.|\\s)*\\S(.|\\s)') & sub['selftext'].notna()]\n"
     ]
    },
    {
     "name": "stdout",
     "output_type": "stream",
     "text": [
      "100\n",
      "1512993853\n"
     ]
    },
    {
     "name": "stderr",
     "output_type": "stream",
     "text": [
      "C:\\Users\\deepi\\AppData\\Local\\Temp\\ipykernel_2232\\157410880.py:24: UserWarning: This pattern is interpreted as a regular expression, and has match groups. To actually get the groups, use str.extract.\n",
      "  sub_self=sub[sub['selftext'].str.contains(r'(.|\\s)*\\S(.|\\s)') & sub['selftext'].notna()]\n"
     ]
    },
    {
     "name": "stdout",
     "output_type": "stream",
     "text": [
      "100\n",
      "1512865585\n"
     ]
    },
    {
     "name": "stderr",
     "output_type": "stream",
     "text": [
      "C:\\Users\\deepi\\AppData\\Local\\Temp\\ipykernel_2232\\157410880.py:24: UserWarning: This pattern is interpreted as a regular expression, and has match groups. To actually get the groups, use str.extract.\n",
      "  sub_self=sub[sub['selftext'].str.contains(r'(.|\\s)*\\S(.|\\s)') & sub['selftext'].notna()]\n"
     ]
    },
    {
     "name": "stdout",
     "output_type": "stream",
     "text": [
      "100\n",
      "1512749532\n"
     ]
    },
    {
     "name": "stderr",
     "output_type": "stream",
     "text": [
      "C:\\Users\\deepi\\AppData\\Local\\Temp\\ipykernel_2232\\157410880.py:24: UserWarning: This pattern is interpreted as a regular expression, and has match groups. To actually get the groups, use str.extract.\n",
      "  sub_self=sub[sub['selftext'].str.contains(r'(.|\\s)*\\S(.|\\s)') & sub['selftext'].notna()]\n"
     ]
    },
    {
     "name": "stdout",
     "output_type": "stream",
     "text": [
      "100\n",
      "1512619554\n"
     ]
    },
    {
     "name": "stderr",
     "output_type": "stream",
     "text": [
      "C:\\Users\\deepi\\AppData\\Local\\Temp\\ipykernel_2232\\157410880.py:24: UserWarning: This pattern is interpreted as a regular expression, and has match groups. To actually get the groups, use str.extract.\n",
      "  sub_self=sub[sub['selftext'].str.contains(r'(.|\\s)*\\S(.|\\s)') & sub['selftext'].notna()]\n"
     ]
    },
    {
     "name": "stdout",
     "output_type": "stream",
     "text": [
      "100\n",
      "1512495109\n"
     ]
    },
    {
     "name": "stderr",
     "output_type": "stream",
     "text": [
      "C:\\Users\\deepi\\AppData\\Local\\Temp\\ipykernel_2232\\157410880.py:24: UserWarning: This pattern is interpreted as a regular expression, and has match groups. To actually get the groups, use str.extract.\n",
      "  sub_self=sub[sub['selftext'].str.contains(r'(.|\\s)*\\S(.|\\s)') & sub['selftext'].notna()]\n"
     ]
    },
    {
     "name": "stdout",
     "output_type": "stream",
     "text": [
      "100\n",
      "1512406943\n"
     ]
    },
    {
     "name": "stderr",
     "output_type": "stream",
     "text": [
      "C:\\Users\\deepi\\AppData\\Local\\Temp\\ipykernel_2232\\157410880.py:24: UserWarning: This pattern is interpreted as a regular expression, and has match groups. To actually get the groups, use str.extract.\n",
      "  sub_self=sub[sub['selftext'].str.contains(r'(.|\\s)*\\S(.|\\s)') & sub['selftext'].notna()]\n"
     ]
    },
    {
     "name": "stdout",
     "output_type": "stream",
     "text": [
      "100\n",
      "1512294670\n"
     ]
    },
    {
     "name": "stderr",
     "output_type": "stream",
     "text": [
      "C:\\Users\\deepi\\AppData\\Local\\Temp\\ipykernel_2232\\157410880.py:24: UserWarning: This pattern is interpreted as a regular expression, and has match groups. To actually get the groups, use str.extract.\n",
      "  sub_self=sub[sub['selftext'].str.contains(r'(.|\\s)*\\S(.|\\s)') & sub['selftext'].notna()]\n"
     ]
    },
    {
     "name": "stdout",
     "output_type": "stream",
     "text": [
      "100\n",
      "1512204186\n"
     ]
    },
    {
     "name": "stderr",
     "output_type": "stream",
     "text": [
      "C:\\Users\\deepi\\AppData\\Local\\Temp\\ipykernel_2232\\157410880.py:24: UserWarning: This pattern is interpreted as a regular expression, and has match groups. To actually get the groups, use str.extract.\n",
      "  sub_self=sub[sub['selftext'].str.contains(r'(.|\\s)*\\S(.|\\s)') & sub['selftext'].notna()]\n"
     ]
    },
    {
     "name": "stdout",
     "output_type": "stream",
     "text": [
      "100\n",
      "1512099667\n"
     ]
    },
    {
     "name": "stderr",
     "output_type": "stream",
     "text": [
      "C:\\Users\\deepi\\AppData\\Local\\Temp\\ipykernel_2232\\157410880.py:24: UserWarning: This pattern is interpreted as a regular expression, and has match groups. To actually get the groups, use str.extract.\n",
      "  sub_self=sub[sub['selftext'].str.contains(r'(.|\\s)*\\S(.|\\s)') & sub['selftext'].notna()]\n"
     ]
    },
    {
     "name": "stdout",
     "output_type": "stream",
     "text": [
      "100\n",
      "1512009602\n"
     ]
    },
    {
     "name": "stderr",
     "output_type": "stream",
     "text": [
      "C:\\Users\\deepi\\AppData\\Local\\Temp\\ipykernel_2232\\157410880.py:24: UserWarning: This pattern is interpreted as a regular expression, and has match groups. To actually get the groups, use str.extract.\n",
      "  sub_self=sub[sub['selftext'].str.contains(r'(.|\\s)*\\S(.|\\s)') & sub['selftext'].notna()]\n"
     ]
    },
    {
     "name": "stdout",
     "output_type": "stream",
     "text": [
      "100\n",
      "1511903336\n"
     ]
    },
    {
     "name": "stderr",
     "output_type": "stream",
     "text": [
      "C:\\Users\\deepi\\AppData\\Local\\Temp\\ipykernel_2232\\157410880.py:24: UserWarning: This pattern is interpreted as a regular expression, and has match groups. To actually get the groups, use str.extract.\n",
      "  sub_self=sub[sub['selftext'].str.contains(r'(.|\\s)*\\S(.|\\s)') & sub['selftext'].notna()]\n"
     ]
    },
    {
     "name": "stdout",
     "output_type": "stream",
     "text": [
      "100\n",
      "1511820156\n"
     ]
    },
    {
     "name": "stderr",
     "output_type": "stream",
     "text": [
      "C:\\Users\\deepi\\AppData\\Local\\Temp\\ipykernel_2232\\157410880.py:24: UserWarning: This pattern is interpreted as a regular expression, and has match groups. To actually get the groups, use str.extract.\n",
      "  sub_self=sub[sub['selftext'].str.contains(r'(.|\\s)*\\S(.|\\s)') & sub['selftext'].notna()]\n"
     ]
    },
    {
     "name": "stdout",
     "output_type": "stream",
     "text": [
      "100\n",
      "1511727823\n"
     ]
    },
    {
     "name": "stderr",
     "output_type": "stream",
     "text": [
      "C:\\Users\\deepi\\AppData\\Local\\Temp\\ipykernel_2232\\157410880.py:24: UserWarning: This pattern is interpreted as a regular expression, and has match groups. To actually get the groups, use str.extract.\n",
      "  sub_self=sub[sub['selftext'].str.contains(r'(.|\\s)*\\S(.|\\s)') & sub['selftext'].notna()]\n"
     ]
    },
    {
     "name": "stdout",
     "output_type": "stream",
     "text": [
      "100\n",
      "1511634987\n"
     ]
    },
    {
     "name": "stderr",
     "output_type": "stream",
     "text": [
      "C:\\Users\\deepi\\AppData\\Local\\Temp\\ipykernel_2232\\157410880.py:24: UserWarning: This pattern is interpreted as a regular expression, and has match groups. To actually get the groups, use str.extract.\n",
      "  sub_self=sub[sub['selftext'].str.contains(r'(.|\\s)*\\S(.|\\s)') & sub['selftext'].notna()]\n"
     ]
    },
    {
     "name": "stdout",
     "output_type": "stream",
     "text": [
      "100\n",
      "1511493312\n"
     ]
    },
    {
     "name": "stderr",
     "output_type": "stream",
     "text": [
      "C:\\Users\\deepi\\AppData\\Local\\Temp\\ipykernel_2232\\157410880.py:24: UserWarning: This pattern is interpreted as a regular expression, and has match groups. To actually get the groups, use str.extract.\n",
      "  sub_self=sub[sub['selftext'].str.contains(r'(.|\\s)*\\S(.|\\s)') & sub['selftext'].notna()]\n"
     ]
    },
    {
     "name": "stdout",
     "output_type": "stream",
     "text": [
      "100\n",
      "1511374151\n"
     ]
    },
    {
     "name": "stderr",
     "output_type": "stream",
     "text": [
      "C:\\Users\\deepi\\AppData\\Local\\Temp\\ipykernel_2232\\157410880.py:24: UserWarning: This pattern is interpreted as a regular expression, and has match groups. To actually get the groups, use str.extract.\n",
      "  sub_self=sub[sub['selftext'].str.contains(r'(.|\\s)*\\S(.|\\s)') & sub['selftext'].notna()]\n"
     ]
    },
    {
     "name": "stdout",
     "output_type": "stream",
     "text": [
      "100\n",
      "1511267995\n"
     ]
    },
    {
     "name": "stderr",
     "output_type": "stream",
     "text": [
      "C:\\Users\\deepi\\AppData\\Local\\Temp\\ipykernel_2232\\157410880.py:24: UserWarning: This pattern is interpreted as a regular expression, and has match groups. To actually get the groups, use str.extract.\n",
      "  sub_self=sub[sub['selftext'].str.contains(r'(.|\\s)*\\S(.|\\s)') & sub['selftext'].notna()]\n"
     ]
    },
    {
     "name": "stdout",
     "output_type": "stream",
     "text": [
      "100\n",
      "1511145846\n"
     ]
    },
    {
     "name": "stderr",
     "output_type": "stream",
     "text": [
      "C:\\Users\\deepi\\AppData\\Local\\Temp\\ipykernel_2232\\157410880.py:24: UserWarning: This pattern is interpreted as a regular expression, and has match groups. To actually get the groups, use str.extract.\n",
      "  sub_self=sub[sub['selftext'].str.contains(r'(.|\\s)*\\S(.|\\s)') & sub['selftext'].notna()]\n"
     ]
    },
    {
     "name": "stdout",
     "output_type": "stream",
     "text": [
      "100\n",
      "1511057043\n"
     ]
    },
    {
     "name": "stderr",
     "output_type": "stream",
     "text": [
      "C:\\Users\\deepi\\AppData\\Local\\Temp\\ipykernel_2232\\157410880.py:24: UserWarning: This pattern is interpreted as a regular expression, and has match groups. To actually get the groups, use str.extract.\n",
      "  sub_self=sub[sub['selftext'].str.contains(r'(.|\\s)*\\S(.|\\s)') & sub['selftext'].notna()]\n"
     ]
    },
    {
     "name": "stdout",
     "output_type": "stream",
     "text": [
      "100\n",
      "1510937746\n"
     ]
    },
    {
     "name": "stderr",
     "output_type": "stream",
     "text": [
      "C:\\Users\\deepi\\AppData\\Local\\Temp\\ipykernel_2232\\157410880.py:24: UserWarning: This pattern is interpreted as a regular expression, and has match groups. To actually get the groups, use str.extract.\n",
      "  sub_self=sub[sub['selftext'].str.contains(r'(.|\\s)*\\S(.|\\s)') & sub['selftext'].notna()]\n"
     ]
    },
    {
     "name": "stdout",
     "output_type": "stream",
     "text": [
      "100\n",
      "1510839896\n"
     ]
    },
    {
     "name": "stderr",
     "output_type": "stream",
     "text": [
      "C:\\Users\\deepi\\AppData\\Local\\Temp\\ipykernel_2232\\157410880.py:24: UserWarning: This pattern is interpreted as a regular expression, and has match groups. To actually get the groups, use str.extract.\n",
      "  sub_self=sub[sub['selftext'].str.contains(r'(.|\\s)*\\S(.|\\s)') & sub['selftext'].notna()]\n"
     ]
    },
    {
     "name": "stdout",
     "output_type": "stream",
     "text": [
      "100\n",
      "1510741529\n"
     ]
    },
    {
     "name": "stderr",
     "output_type": "stream",
     "text": [
      "C:\\Users\\deepi\\AppData\\Local\\Temp\\ipykernel_2232\\157410880.py:24: UserWarning: This pattern is interpreted as a regular expression, and has match groups. To actually get the groups, use str.extract.\n",
      "  sub_self=sub[sub['selftext'].str.contains(r'(.|\\s)*\\S(.|\\s)') & sub['selftext'].notna()]\n"
     ]
    },
    {
     "name": "stdout",
     "output_type": "stream",
     "text": [
      "100\n",
      "1510632379\n"
     ]
    },
    {
     "name": "stderr",
     "output_type": "stream",
     "text": [
      "C:\\Users\\deepi\\AppData\\Local\\Temp\\ipykernel_2232\\157410880.py:24: UserWarning: This pattern is interpreted as a regular expression, and has match groups. To actually get the groups, use str.extract.\n",
      "  sub_self=sub[sub['selftext'].str.contains(r'(.|\\s)*\\S(.|\\s)') & sub['selftext'].notna()]\n"
     ]
    },
    {
     "name": "stdout",
     "output_type": "stream",
     "text": [
      "100\n",
      "1510527387\n"
     ]
    },
    {
     "name": "stderr",
     "output_type": "stream",
     "text": [
      "C:\\Users\\deepi\\AppData\\Local\\Temp\\ipykernel_2232\\157410880.py:24: UserWarning: This pattern is interpreted as a regular expression, and has match groups. To actually get the groups, use str.extract.\n",
      "  sub_self=sub[sub['selftext'].str.contains(r'(.|\\s)*\\S(.|\\s)') & sub['selftext'].notna()]\n"
     ]
    },
    {
     "name": "stdout",
     "output_type": "stream",
     "text": [
      "100\n",
      "1510444473\n"
     ]
    },
    {
     "name": "stderr",
     "output_type": "stream",
     "text": [
      "C:\\Users\\deepi\\AppData\\Local\\Temp\\ipykernel_2232\\157410880.py:24: UserWarning: This pattern is interpreted as a regular expression, and has match groups. To actually get the groups, use str.extract.\n",
      "  sub_self=sub[sub['selftext'].str.contains(r'(.|\\s)*\\S(.|\\s)') & sub['selftext'].notna()]\n"
     ]
    },
    {
     "name": "stdout",
     "output_type": "stream",
     "text": [
      "100\n",
      "1510355174\n"
     ]
    },
    {
     "name": "stderr",
     "output_type": "stream",
     "text": [
      "C:\\Users\\deepi\\AppData\\Local\\Temp\\ipykernel_2232\\157410880.py:24: UserWarning: This pattern is interpreted as a regular expression, and has match groups. To actually get the groups, use str.extract.\n",
      "  sub_self=sub[sub['selftext'].str.contains(r'(.|\\s)*\\S(.|\\s)') & sub['selftext'].notna()]\n"
     ]
    },
    {
     "name": "stdout",
     "output_type": "stream",
     "text": [
      "100\n",
      "1510251923\n"
     ]
    },
    {
     "name": "stderr",
     "output_type": "stream",
     "text": [
      "C:\\Users\\deepi\\AppData\\Local\\Temp\\ipykernel_2232\\157410880.py:24: UserWarning: This pattern is interpreted as a regular expression, and has match groups. To actually get the groups, use str.extract.\n",
      "  sub_self=sub[sub['selftext'].str.contains(r'(.|\\s)*\\S(.|\\s)') & sub['selftext'].notna()]\n"
     ]
    },
    {
     "name": "stdout",
     "output_type": "stream",
     "text": [
      "100\n",
      "1510153151\n"
     ]
    },
    {
     "name": "stderr",
     "output_type": "stream",
     "text": [
      "C:\\Users\\deepi\\AppData\\Local\\Temp\\ipykernel_2232\\157410880.py:24: UserWarning: This pattern is interpreted as a regular expression, and has match groups. To actually get the groups, use str.extract.\n",
      "  sub_self=sub[sub['selftext'].str.contains(r'(.|\\s)*\\S(.|\\s)') & sub['selftext'].notna()]\n"
     ]
    },
    {
     "name": "stdout",
     "output_type": "stream",
     "text": [
      "100\n",
      "1510005233\n"
     ]
    },
    {
     "name": "stderr",
     "output_type": "stream",
     "text": [
      "C:\\Users\\deepi\\AppData\\Local\\Temp\\ipykernel_2232\\157410880.py:24: UserWarning: This pattern is interpreted as a regular expression, and has match groups. To actually get the groups, use str.extract.\n",
      "  sub_self=sub[sub['selftext'].str.contains(r'(.|\\s)*\\S(.|\\s)') & sub['selftext'].notna()]\n"
     ]
    },
    {
     "name": "stdout",
     "output_type": "stream",
     "text": [
      "100\n",
      "1509697189\n"
     ]
    },
    {
     "name": "stderr",
     "output_type": "stream",
     "text": [
      "C:\\Users\\deepi\\AppData\\Local\\Temp\\ipykernel_2232\\157410880.py:24: UserWarning: This pattern is interpreted as a regular expression, and has match groups. To actually get the groups, use str.extract.\n",
      "  sub_self=sub[sub['selftext'].str.contains(r'(.|\\s)*\\S(.|\\s)') & sub['selftext'].notna()]\n"
     ]
    },
    {
     "name": "stdout",
     "output_type": "stream",
     "text": [
      "100\n",
      "1509464349\n"
     ]
    },
    {
     "name": "stderr",
     "output_type": "stream",
     "text": [
      "C:\\Users\\deepi\\AppData\\Local\\Temp\\ipykernel_2232\\157410880.py:24: UserWarning: This pattern is interpreted as a regular expression, and has match groups. To actually get the groups, use str.extract.\n",
      "  sub_self=sub[sub['selftext'].str.contains(r'(.|\\s)*\\S(.|\\s)') & sub['selftext'].notna()]\n"
     ]
    },
    {
     "name": "stdout",
     "output_type": "stream",
     "text": [
      "100\n",
      "1509149683\n"
     ]
    },
    {
     "name": "stderr",
     "output_type": "stream",
     "text": [
      "C:\\Users\\deepi\\AppData\\Local\\Temp\\ipykernel_2232\\157410880.py:24: UserWarning: This pattern is interpreted as a regular expression, and has match groups. To actually get the groups, use str.extract.\n",
      "  sub_self=sub[sub['selftext'].str.contains(r'(.|\\s)*\\S(.|\\s)') & sub['selftext'].notna()]\n"
     ]
    },
    {
     "name": "stdout",
     "output_type": "stream",
     "text": [
      "100\n",
      "1508901893\n"
     ]
    },
    {
     "name": "stderr",
     "output_type": "stream",
     "text": [
      "C:\\Users\\deepi\\AppData\\Local\\Temp\\ipykernel_2232\\157410880.py:24: UserWarning: This pattern is interpreted as a regular expression, and has match groups. To actually get the groups, use str.extract.\n",
      "  sub_self=sub[sub['selftext'].str.contains(r'(.|\\s)*\\S(.|\\s)') & sub['selftext'].notna()]\n"
     ]
    },
    {
     "name": "stdout",
     "output_type": "stream",
     "text": [
      "100\n",
      "1508642708\n"
     ]
    },
    {
     "name": "stderr",
     "output_type": "stream",
     "text": [
      "C:\\Users\\deepi\\AppData\\Local\\Temp\\ipykernel_2232\\157410880.py:24: UserWarning: This pattern is interpreted as a regular expression, and has match groups. To actually get the groups, use str.extract.\n",
      "  sub_self=sub[sub['selftext'].str.contains(r'(.|\\s)*\\S(.|\\s)') & sub['selftext'].notna()]\n"
     ]
    },
    {
     "name": "stdout",
     "output_type": "stream",
     "text": [
      "100\n",
      "1508316069\n"
     ]
    },
    {
     "name": "stderr",
     "output_type": "stream",
     "text": [
      "C:\\Users\\deepi\\AppData\\Local\\Temp\\ipykernel_2232\\157410880.py:24: UserWarning: This pattern is interpreted as a regular expression, and has match groups. To actually get the groups, use str.extract.\n",
      "  sub_self=sub[sub['selftext'].str.contains(r'(.|\\s)*\\S(.|\\s)') & sub['selftext'].notna()]\n"
     ]
    },
    {
     "name": "stdout",
     "output_type": "stream",
     "text": [
      "100\n",
      "1508032491\n"
     ]
    },
    {
     "name": "stderr",
     "output_type": "stream",
     "text": [
      "C:\\Users\\deepi\\AppData\\Local\\Temp\\ipykernel_2232\\157410880.py:24: UserWarning: This pattern is interpreted as a regular expression, and has match groups. To actually get the groups, use str.extract.\n",
      "  sub_self=sub[sub['selftext'].str.contains(r'(.|\\s)*\\S(.|\\s)') & sub['selftext'].notna()]\n"
     ]
    },
    {
     "name": "stdout",
     "output_type": "stream",
     "text": [
      "100\n",
      "1507756903\n"
     ]
    },
    {
     "name": "stderr",
     "output_type": "stream",
     "text": [
      "C:\\Users\\deepi\\AppData\\Local\\Temp\\ipykernel_2232\\157410880.py:24: UserWarning: This pattern is interpreted as a regular expression, and has match groups. To actually get the groups, use str.extract.\n",
      "  sub_self=sub[sub['selftext'].str.contains(r'(.|\\s)*\\S(.|\\s)') & sub['selftext'].notna()]\n"
     ]
    },
    {
     "name": "stdout",
     "output_type": "stream",
     "text": [
      "98\n",
      "1507445394\n"
     ]
    },
    {
     "name": "stderr",
     "output_type": "stream",
     "text": [
      "C:\\Users\\deepi\\AppData\\Local\\Temp\\ipykernel_2232\\157410880.py:24: UserWarning: This pattern is interpreted as a regular expression, and has match groups. To actually get the groups, use str.extract.\n",
      "  sub_self=sub[sub['selftext'].str.contains(r'(.|\\s)*\\S(.|\\s)') & sub['selftext'].notna()]\n"
     ]
    },
    {
     "name": "stdout",
     "output_type": "stream",
     "text": [
      "100\n",
      "1507115530\n"
     ]
    },
    {
     "name": "stderr",
     "output_type": "stream",
     "text": [
      "C:\\Users\\deepi\\AppData\\Local\\Temp\\ipykernel_2232\\157410880.py:24: UserWarning: This pattern is interpreted as a regular expression, and has match groups. To actually get the groups, use str.extract.\n",
      "  sub_self=sub[sub['selftext'].str.contains(r'(.|\\s)*\\S(.|\\s)') & sub['selftext'].notna()]\n"
     ]
    },
    {
     "name": "stdout",
     "output_type": "stream",
     "text": [
      "100\n",
      "1506707172\n"
     ]
    },
    {
     "name": "stderr",
     "output_type": "stream",
     "text": [
      "C:\\Users\\deepi\\AppData\\Local\\Temp\\ipykernel_2232\\157410880.py:24: UserWarning: This pattern is interpreted as a regular expression, and has match groups. To actually get the groups, use str.extract.\n",
      "  sub_self=sub[sub['selftext'].str.contains(r'(.|\\s)*\\S(.|\\s)') & sub['selftext'].notna()]\n"
     ]
    },
    {
     "name": "stdout",
     "output_type": "stream",
     "text": [
      "100\n",
      "1506342894\n"
     ]
    },
    {
     "name": "stderr",
     "output_type": "stream",
     "text": [
      "C:\\Users\\deepi\\AppData\\Local\\Temp\\ipykernel_2232\\157410880.py:24: UserWarning: This pattern is interpreted as a regular expression, and has match groups. To actually get the groups, use str.extract.\n",
      "  sub_self=sub[sub['selftext'].str.contains(r'(.|\\s)*\\S(.|\\s)') & sub['selftext'].notna()]\n"
     ]
    },
    {
     "name": "stdout",
     "output_type": "stream",
     "text": [
      "100\n",
      "1505890789\n"
     ]
    },
    {
     "name": "stderr",
     "output_type": "stream",
     "text": [
      "C:\\Users\\deepi\\AppData\\Local\\Temp\\ipykernel_2232\\157410880.py:24: UserWarning: This pattern is interpreted as a regular expression, and has match groups. To actually get the groups, use str.extract.\n",
      "  sub_self=sub[sub['selftext'].str.contains(r'(.|\\s)*\\S(.|\\s)') & sub['selftext'].notna()]\n"
     ]
    },
    {
     "name": "stdout",
     "output_type": "stream",
     "text": [
      "99\n",
      "1505523538\n"
     ]
    },
    {
     "name": "stderr",
     "output_type": "stream",
     "text": [
      "C:\\Users\\deepi\\AppData\\Local\\Temp\\ipykernel_2232\\157410880.py:24: UserWarning: This pattern is interpreted as a regular expression, and has match groups. To actually get the groups, use str.extract.\n",
      "  sub_self=sub[sub['selftext'].str.contains(r'(.|\\s)*\\S(.|\\s)') & sub['selftext'].notna()]\n"
     ]
    },
    {
     "name": "stdout",
     "output_type": "stream",
     "text": [
      "100\n",
      "1505044646\n"
     ]
    },
    {
     "name": "stderr",
     "output_type": "stream",
     "text": [
      "C:\\Users\\deepi\\AppData\\Local\\Temp\\ipykernel_2232\\157410880.py:24: UserWarning: This pattern is interpreted as a regular expression, and has match groups. To actually get the groups, use str.extract.\n",
      "  sub_self=sub[sub['selftext'].str.contains(r'(.|\\s)*\\S(.|\\s)') & sub['selftext'].notna()]\n"
     ]
    },
    {
     "name": "stdout",
     "output_type": "stream",
     "text": [
      "100\n",
      "1504688542\n"
     ]
    },
    {
     "name": "stderr",
     "output_type": "stream",
     "text": [
      "C:\\Users\\deepi\\AppData\\Local\\Temp\\ipykernel_2232\\157410880.py:24: UserWarning: This pattern is interpreted as a regular expression, and has match groups. To actually get the groups, use str.extract.\n",
      "  sub_self=sub[sub['selftext'].str.contains(r'(.|\\s)*\\S(.|\\s)') & sub['selftext'].notna()]\n"
     ]
    },
    {
     "name": "stdout",
     "output_type": "stream",
     "text": [
      "99\n",
      "1504373547\n"
     ]
    },
    {
     "name": "stderr",
     "output_type": "stream",
     "text": [
      "C:\\Users\\deepi\\AppData\\Local\\Temp\\ipykernel_2232\\157410880.py:24: UserWarning: This pattern is interpreted as a regular expression, and has match groups. To actually get the groups, use str.extract.\n",
      "  sub_self=sub[sub['selftext'].str.contains(r'(.|\\s)*\\S(.|\\s)') & sub['selftext'].notna()]\n"
     ]
    },
    {
     "name": "stdout",
     "output_type": "stream",
     "text": [
      "100\n",
      "1503986316\n"
     ]
    }
   ],
   "source": [
    "sc_sub_parent=get_sc_data()"
   ]
  },
  {
   "cell_type": "code",
   "execution_count": 83,
   "id": "c8f2dcf6-30e2-40f2-b726-2cdbaba8684d",
   "metadata": {
    "scrolled": true,
    "tags": []
   },
   "outputs": [
    {
     "data": {
      "text/plain": [
       "(100, 72)"
      ]
     },
     "execution_count": 83,
     "metadata": {},
     "output_type": "execute_result"
    }
   ],
   "source": [
    "sc_sub.shape"
   ]
  },
  {
   "cell_type": "code",
   "execution_count": 87,
   "id": "3056a49a-73f4-465f-8194-7225a9e1c87b",
   "metadata": {},
   "outputs": [
    {
     "name": "stdout",
     "output_type": "stream",
     "text": [
      "99\n",
      "100\n",
      "100\n",
      "99\n",
      "100\n",
      "100\n",
      "99\n",
      "100\n",
      "100\n",
      "100\n",
      "100\n",
      "100\n",
      "100\n",
      "100\n",
      "100\n",
      "99\n",
      "100\n",
      "100\n",
      "100\n"
     ]
    }
   ],
   "source": [
    "sc_sub_parent=get_sc_data(sc_sub)"
   ]
  },
  {
   "cell_type": "code",
   "execution_count": 108,
   "id": "07e1171a-1b2a-4edd-82e5-0dedc6c950a4",
   "metadata": {},
   "outputs": [],
   "source": [
    "def get_engg_data():\n",
    "    url='https://api.pushshift.io/reddit/search/submission'\n",
    "    before_time=int(dt.datetime(2022, 9, 28).timestamp())\n",
    "    sub_df=pd.DataFrame()\n",
    "    \n",
    "    for i in range(1,175):\n",
    "        try:\n",
    "            params={\n",
    "                    'subreddit':'AskEngineers',\n",
    "                    'size':100,\n",
    "                    'before':before_time,\n",
    "                    'metadata':True,\n",
    "                    'selftext:not':'[removed]|[deleted]'\n",
    "                    }\n",
    "            res=requests.get(url,params)\n",
    "            time.sleep(2)\n",
    "            if res.status_code==200:\n",
    "                data=res.json()\n",
    "                sub=pd.DataFrame(data['data'])\n",
    "                metadata=data['metadata']\n",
    "                \n",
    "                #saving data that has selftext\n",
    "                sub_self=pd.DataFrame()\n",
    "                sub_self=sub[sub['selftext'].str.contains(r'(.|\\s)*\\S(.|\\s)') & sub['selftext'].notna()]\n",
    "                sub_df=pd.concat([sub_df,sub_self])\n",
    "                print(len(sub))\n",
    "                \n",
    "                #updating before_time for next fetch\n",
    "                before_time=sub['created_utc'].min()\n",
    "                print(before_time)   \n",
    "                \n",
    "            else:\n",
    "                print('status error')\n",
    "                print (i)\n",
    "                print(before_time)\n",
    "                break\n",
    "        except:\n",
    "            print (i)\n",
    "            print(before_time)\n",
    "            print('something wrong')\n",
    "            \n",
    "    #sub_df.to_csv(f'./datasets/askengineers/submissions.csv',index=False)\n",
    "    \n",
    "    return sub_df"
   ]
  },
  {
   "cell_type": "code",
   "execution_count": 106,
   "id": "72819db1-41d0-4b66-92da-d5865164cd62",
   "metadata": {},
   "outputs": [
    {
     "name": "stderr",
     "output_type": "stream",
     "text": [
      "C:\\Users\\deepi\\AppData\\Local\\Temp\\ipykernel_2232\\1567698967.py:24: UserWarning: This pattern is interpreted as a regular expression, and has match groups. To actually get the groups, use str.extract.\n",
      "  sub_self=sub[sub['selftext'].str.contains(r'(.|\\s)*\\S(.|\\s)') & sub['selftext'].notna()]\n"
     ]
    },
    {
     "name": "stdout",
     "output_type": "stream",
     "text": [
      "100\n",
      "1663940201\n"
     ]
    },
    {
     "name": "stderr",
     "output_type": "stream",
     "text": [
      "C:\\Users\\deepi\\AppData\\Local\\Temp\\ipykernel_2232\\1567698967.py:24: UserWarning: This pattern is interpreted as a regular expression, and has match groups. To actually get the groups, use str.extract.\n",
      "  sub_self=sub[sub['selftext'].str.contains(r'(.|\\s)*\\S(.|\\s)') & sub['selftext'].notna()]\n"
     ]
    },
    {
     "name": "stdout",
     "output_type": "stream",
     "text": [
      "100\n",
      "1663567344\n"
     ]
    },
    {
     "name": "stderr",
     "output_type": "stream",
     "text": [
      "C:\\Users\\deepi\\AppData\\Local\\Temp\\ipykernel_2232\\1567698967.py:24: UserWarning: This pattern is interpreted as a regular expression, and has match groups. To actually get the groups, use str.extract.\n",
      "  sub_self=sub[sub['selftext'].str.contains(r'(.|\\s)*\\S(.|\\s)') & sub['selftext'].notna()]\n"
     ]
    },
    {
     "name": "stdout",
     "output_type": "stream",
     "text": [
      "100\n",
      "1663165716\n"
     ]
    },
    {
     "name": "stderr",
     "output_type": "stream",
     "text": [
      "C:\\Users\\deepi\\AppData\\Local\\Temp\\ipykernel_2232\\1567698967.py:24: UserWarning: This pattern is interpreted as a regular expression, and has match groups. To actually get the groups, use str.extract.\n",
      "  sub_self=sub[sub['selftext'].str.contains(r'(.|\\s)*\\S(.|\\s)') & sub['selftext'].notna()]\n"
     ]
    },
    {
     "name": "stdout",
     "output_type": "stream",
     "text": [
      "100\n",
      "1662806051\n"
     ]
    },
    {
     "name": "stderr",
     "output_type": "stream",
     "text": [
      "C:\\Users\\deepi\\AppData\\Local\\Temp\\ipykernel_2232\\1567698967.py:24: UserWarning: This pattern is interpreted as a regular expression, and has match groups. To actually get the groups, use str.extract.\n",
      "  sub_self=sub[sub['selftext'].str.contains(r'(.|\\s)*\\S(.|\\s)') & sub['selftext'].notna()]\n"
     ]
    },
    {
     "name": "stdout",
     "output_type": "stream",
     "text": [
      "100\n",
      "1662441342\n"
     ]
    },
    {
     "name": "stderr",
     "output_type": "stream",
     "text": [
      "C:\\Users\\deepi\\AppData\\Local\\Temp\\ipykernel_2232\\1567698967.py:24: UserWarning: This pattern is interpreted as a regular expression, and has match groups. To actually get the groups, use str.extract.\n",
      "  sub_self=sub[sub['selftext'].str.contains(r'(.|\\s)*\\S(.|\\s)') & sub['selftext'].notna()]\n"
     ]
    },
    {
     "name": "stdout",
     "output_type": "stream",
     "text": [
      "100\n",
      "1662078604\n"
     ]
    },
    {
     "name": "stderr",
     "output_type": "stream",
     "text": [
      "C:\\Users\\deepi\\AppData\\Local\\Temp\\ipykernel_2232\\1567698967.py:24: UserWarning: This pattern is interpreted as a regular expression, and has match groups. To actually get the groups, use str.extract.\n",
      "  sub_self=sub[sub['selftext'].str.contains(r'(.|\\s)*\\S(.|\\s)') & sub['selftext'].notna()]\n"
     ]
    },
    {
     "name": "stdout",
     "output_type": "stream",
     "text": [
      "99\n",
      "1661803416\n"
     ]
    },
    {
     "name": "stderr",
     "output_type": "stream",
     "text": [
      "C:\\Users\\deepi\\AppData\\Local\\Temp\\ipykernel_2232\\1567698967.py:24: UserWarning: This pattern is interpreted as a regular expression, and has match groups. To actually get the groups, use str.extract.\n",
      "  sub_self=sub[sub['selftext'].str.contains(r'(.|\\s)*\\S(.|\\s)') & sub['selftext'].notna()]\n"
     ]
    },
    {
     "name": "stdout",
     "output_type": "stream",
     "text": [
      "100\n",
      "1661412337\n"
     ]
    },
    {
     "name": "stderr",
     "output_type": "stream",
     "text": [
      "C:\\Users\\deepi\\AppData\\Local\\Temp\\ipykernel_2232\\1567698967.py:24: UserWarning: This pattern is interpreted as a regular expression, and has match groups. To actually get the groups, use str.extract.\n",
      "  sub_self=sub[sub['selftext'].str.contains(r'(.|\\s)*\\S(.|\\s)') & sub['selftext'].notna()]\n"
     ]
    },
    {
     "name": "stdout",
     "output_type": "stream",
     "text": [
      "100\n",
      "1661025978\n"
     ]
    },
    {
     "name": "stderr",
     "output_type": "stream",
     "text": [
      "C:\\Users\\deepi\\AppData\\Local\\Temp\\ipykernel_2232\\1567698967.py:24: UserWarning: This pattern is interpreted as a regular expression, and has match groups. To actually get the groups, use str.extract.\n",
      "  sub_self=sub[sub['selftext'].str.contains(r'(.|\\s)*\\S(.|\\s)') & sub['selftext'].notna()]\n"
     ]
    },
    {
     "name": "stdout",
     "output_type": "stream",
     "text": [
      "100\n",
      "1660769374\n"
     ]
    },
    {
     "name": "stderr",
     "output_type": "stream",
     "text": [
      "C:\\Users\\deepi\\AppData\\Local\\Temp\\ipykernel_2232\\1567698967.py:24: UserWarning: This pattern is interpreted as a regular expression, and has match groups. To actually get the groups, use str.extract.\n",
      "  sub_self=sub[sub['selftext'].str.contains(r'(.|\\s)*\\S(.|\\s)') & sub['selftext'].notna()]\n"
     ]
    },
    {
     "name": "stdout",
     "output_type": "stream",
     "text": [
      "100\n",
      "1660526572\n"
     ]
    },
    {
     "name": "stderr",
     "output_type": "stream",
     "text": [
      "C:\\Users\\deepi\\AppData\\Local\\Temp\\ipykernel_2232\\1567698967.py:24: UserWarning: This pattern is interpreted as a regular expression, and has match groups. To actually get the groups, use str.extract.\n",
      "  sub_self=sub[sub['selftext'].str.contains(r'(.|\\s)*\\S(.|\\s)') & sub['selftext'].notna()]\n"
     ]
    },
    {
     "name": "stdout",
     "output_type": "stream",
     "text": [
      "100\n",
      "1660216588\n"
     ]
    },
    {
     "name": "stderr",
     "output_type": "stream",
     "text": [
      "C:\\Users\\deepi\\AppData\\Local\\Temp\\ipykernel_2232\\1567698967.py:24: UserWarning: This pattern is interpreted as a regular expression, and has match groups. To actually get the groups, use str.extract.\n",
      "  sub_self=sub[sub['selftext'].str.contains(r'(.|\\s)*\\S(.|\\s)') & sub['selftext'].notna()]\n"
     ]
    },
    {
     "name": "stdout",
     "output_type": "stream",
     "text": [
      "100\n",
      "1659964634\n"
     ]
    },
    {
     "name": "stderr",
     "output_type": "stream",
     "text": [
      "C:\\Users\\deepi\\AppData\\Local\\Temp\\ipykernel_2232\\1567698967.py:24: UserWarning: This pattern is interpreted as a regular expression, and has match groups. To actually get the groups, use str.extract.\n",
      "  sub_self=sub[sub['selftext'].str.contains(r'(.|\\s)*\\S(.|\\s)') & sub['selftext'].notna()]\n"
     ]
    },
    {
     "name": "stdout",
     "output_type": "stream",
     "text": [
      "100\n",
      "1659638073\n"
     ]
    },
    {
     "name": "stderr",
     "output_type": "stream",
     "text": [
      "C:\\Users\\deepi\\AppData\\Local\\Temp\\ipykernel_2232\\1567698967.py:24: UserWarning: This pattern is interpreted as a regular expression, and has match groups. To actually get the groups, use str.extract.\n",
      "  sub_self=sub[sub['selftext'].str.contains(r'(.|\\s)*\\S(.|\\s)') & sub['selftext'].notna()]\n"
     ]
    },
    {
     "name": "stdout",
     "output_type": "stream",
     "text": [
      "100\n",
      "1659398620\n"
     ]
    },
    {
     "name": "stderr",
     "output_type": "stream",
     "text": [
      "C:\\Users\\deepi\\AppData\\Local\\Temp\\ipykernel_2232\\1567698967.py:24: UserWarning: This pattern is interpreted as a regular expression, and has match groups. To actually get the groups, use str.extract.\n",
      "  sub_self=sub[sub['selftext'].str.contains(r'(.|\\s)*\\S(.|\\s)') & sub['selftext'].notna()]\n"
     ]
    },
    {
     "name": "stdout",
     "output_type": "stream",
     "text": [
      "100\n",
      "1659122441\n"
     ]
    },
    {
     "name": "stderr",
     "output_type": "stream",
     "text": [
      "C:\\Users\\deepi\\AppData\\Local\\Temp\\ipykernel_2232\\1567698967.py:24: UserWarning: This pattern is interpreted as a regular expression, and has match groups. To actually get the groups, use str.extract.\n",
      "  sub_self=sub[sub['selftext'].str.contains(r'(.|\\s)*\\S(.|\\s)') & sub['selftext'].notna()]\n"
     ]
    },
    {
     "name": "stdout",
     "output_type": "stream",
     "text": [
      "100\n",
      "1658871495\n"
     ]
    },
    {
     "name": "stderr",
     "output_type": "stream",
     "text": [
      "C:\\Users\\deepi\\AppData\\Local\\Temp\\ipykernel_2232\\1567698967.py:24: UserWarning: This pattern is interpreted as a regular expression, and has match groups. To actually get the groups, use str.extract.\n",
      "  sub_self=sub[sub['selftext'].str.contains(r'(.|\\s)*\\S(.|\\s)') & sub['selftext'].notna()]\n"
     ]
    },
    {
     "name": "stdout",
     "output_type": "stream",
     "text": [
      "100\n",
      "1658566575\n"
     ]
    },
    {
     "name": "stderr",
     "output_type": "stream",
     "text": [
      "C:\\Users\\deepi\\AppData\\Local\\Temp\\ipykernel_2232\\1567698967.py:24: UserWarning: This pattern is interpreted as a regular expression, and has match groups. To actually get the groups, use str.extract.\n",
      "  sub_self=sub[sub['selftext'].str.contains(r'(.|\\s)*\\S(.|\\s)') & sub['selftext'].notna()]\n"
     ]
    },
    {
     "name": "stdout",
     "output_type": "stream",
     "text": [
      "99\n",
      "1658294471\n"
     ]
    },
    {
     "name": "stderr",
     "output_type": "stream",
     "text": [
      "C:\\Users\\deepi\\AppData\\Local\\Temp\\ipykernel_2232\\1567698967.py:24: UserWarning: This pattern is interpreted as a regular expression, and has match groups. To actually get the groups, use str.extract.\n",
      "  sub_self=sub[sub['selftext'].str.contains(r'(.|\\s)*\\S(.|\\s)') & sub['selftext'].notna()]\n"
     ]
    },
    {
     "name": "stdout",
     "output_type": "stream",
     "text": [
      "100\n",
      "1658011168\n"
     ]
    },
    {
     "name": "stderr",
     "output_type": "stream",
     "text": [
      "C:\\Users\\deepi\\AppData\\Local\\Temp\\ipykernel_2232\\1567698967.py:24: UserWarning: This pattern is interpreted as a regular expression, and has match groups. To actually get the groups, use str.extract.\n",
      "  sub_self=sub[sub['selftext'].str.contains(r'(.|\\s)*\\S(.|\\s)') & sub['selftext'].notna()]\n"
     ]
    },
    {
     "name": "stdout",
     "output_type": "stream",
     "text": [
      "100\n",
      "1657748019\n"
     ]
    },
    {
     "name": "stderr",
     "output_type": "stream",
     "text": [
      "C:\\Users\\deepi\\AppData\\Local\\Temp\\ipykernel_2232\\1567698967.py:24: UserWarning: This pattern is interpreted as a regular expression, and has match groups. To actually get the groups, use str.extract.\n",
      "  sub_self=sub[sub['selftext'].str.contains(r'(.|\\s)*\\S(.|\\s)') & sub['selftext'].notna()]\n"
     ]
    },
    {
     "name": "stdout",
     "output_type": "stream",
     "text": [
      "100\n",
      "1657494924\n"
     ]
    },
    {
     "name": "stderr",
     "output_type": "stream",
     "text": [
      "C:\\Users\\deepi\\AppData\\Local\\Temp\\ipykernel_2232\\1567698967.py:24: UserWarning: This pattern is interpreted as a regular expression, and has match groups. To actually get the groups, use str.extract.\n",
      "  sub_self=sub[sub['selftext'].str.contains(r'(.|\\s)*\\S(.|\\s)') & sub['selftext'].notna()]\n"
     ]
    },
    {
     "name": "stdout",
     "output_type": "stream",
     "text": [
      "98\n",
      "1657169335\n"
     ]
    },
    {
     "name": "stderr",
     "output_type": "stream",
     "text": [
      "C:\\Users\\deepi\\AppData\\Local\\Temp\\ipykernel_2232\\1567698967.py:24: UserWarning: This pattern is interpreted as a regular expression, and has match groups. To actually get the groups, use str.extract.\n",
      "  sub_self=sub[sub['selftext'].str.contains(r'(.|\\s)*\\S(.|\\s)') & sub['selftext'].notna()]\n"
     ]
    },
    {
     "name": "stdout",
     "output_type": "stream",
     "text": [
      "99\n",
      "1656872193\n"
     ]
    },
    {
     "name": "stderr",
     "output_type": "stream",
     "text": [
      "C:\\Users\\deepi\\AppData\\Local\\Temp\\ipykernel_2232\\1567698967.py:24: UserWarning: This pattern is interpreted as a regular expression, and has match groups. To actually get the groups, use str.extract.\n",
      "  sub_self=sub[sub['selftext'].str.contains(r'(.|\\s)*\\S(.|\\s)') & sub['selftext'].notna()]\n"
     ]
    },
    {
     "name": "stdout",
     "output_type": "stream",
     "text": [
      "100\n",
      "1656555485\n"
     ]
    },
    {
     "name": "stderr",
     "output_type": "stream",
     "text": [
      "C:\\Users\\deepi\\AppData\\Local\\Temp\\ipykernel_2232\\1567698967.py:24: UserWarning: This pattern is interpreted as a regular expression, and has match groups. To actually get the groups, use str.extract.\n",
      "  sub_self=sub[sub['selftext'].str.contains(r'(.|\\s)*\\S(.|\\s)') & sub['selftext'].notna()]\n"
     ]
    },
    {
     "name": "stdout",
     "output_type": "stream",
     "text": [
      "99\n",
      "1656280368\n"
     ]
    },
    {
     "name": "stderr",
     "output_type": "stream",
     "text": [
      "C:\\Users\\deepi\\AppData\\Local\\Temp\\ipykernel_2232\\1567698967.py:24: UserWarning: This pattern is interpreted as a regular expression, and has match groups. To actually get the groups, use str.extract.\n",
      "  sub_self=sub[sub['selftext'].str.contains(r'(.|\\s)*\\S(.|\\s)') & sub['selftext'].notna()]\n"
     ]
    },
    {
     "name": "stdout",
     "output_type": "stream",
     "text": [
      "100\n",
      "1656055688\n"
     ]
    },
    {
     "name": "stderr",
     "output_type": "stream",
     "text": [
      "C:\\Users\\deepi\\AppData\\Local\\Temp\\ipykernel_2232\\1567698967.py:24: UserWarning: This pattern is interpreted as a regular expression, and has match groups. To actually get the groups, use str.extract.\n",
      "  sub_self=sub[sub['selftext'].str.contains(r'(.|\\s)*\\S(.|\\s)') & sub['selftext'].notna()]\n"
     ]
    },
    {
     "name": "stdout",
     "output_type": "stream",
     "text": [
      "100\n",
      "1655928483\n"
     ]
    },
    {
     "name": "stderr",
     "output_type": "stream",
     "text": [
      "C:\\Users\\deepi\\AppData\\Local\\Temp\\ipykernel_2232\\1567698967.py:24: UserWarning: This pattern is interpreted as a regular expression, and has match groups. To actually get the groups, use str.extract.\n",
      "  sub_self=sub[sub['selftext'].str.contains(r'(.|\\s)*\\S(.|\\s)') & sub['selftext'].notna()]\n"
     ]
    },
    {
     "name": "stdout",
     "output_type": "stream",
     "text": [
      "100\n",
      "1655761357\n"
     ]
    },
    {
     "name": "stderr",
     "output_type": "stream",
     "text": [
      "C:\\Users\\deepi\\AppData\\Local\\Temp\\ipykernel_2232\\1567698967.py:24: UserWarning: This pattern is interpreted as a regular expression, and has match groups. To actually get the groups, use str.extract.\n",
      "  sub_self=sub[sub['selftext'].str.contains(r'(.|\\s)*\\S(.|\\s)') & sub['selftext'].notna()]\n"
     ]
    },
    {
     "name": "stdout",
     "output_type": "stream",
     "text": [
      "98\n",
      "1655544311\n"
     ]
    },
    {
     "name": "stderr",
     "output_type": "stream",
     "text": [
      "C:\\Users\\deepi\\AppData\\Local\\Temp\\ipykernel_2232\\1567698967.py:24: UserWarning: This pattern is interpreted as a regular expression, and has match groups. To actually get the groups, use str.extract.\n",
      "  sub_self=sub[sub['selftext'].str.contains(r'(.|\\s)*\\S(.|\\s)') & sub['selftext'].notna()]\n"
     ]
    },
    {
     "name": "stdout",
     "output_type": "stream",
     "text": [
      "100\n",
      "1655417553\n"
     ]
    },
    {
     "name": "stderr",
     "output_type": "stream",
     "text": [
      "C:\\Users\\deepi\\AppData\\Local\\Temp\\ipykernel_2232\\1567698967.py:24: UserWarning: This pattern is interpreted as a regular expression, and has match groups. To actually get the groups, use str.extract.\n",
      "  sub_self=sub[sub['selftext'].str.contains(r'(.|\\s)*\\S(.|\\s)') & sub['selftext'].notna()]\n"
     ]
    },
    {
     "name": "stdout",
     "output_type": "stream",
     "text": [
      "99\n",
      "1655208123\n"
     ]
    },
    {
     "name": "stderr",
     "output_type": "stream",
     "text": [
      "C:\\Users\\deepi\\AppData\\Local\\Temp\\ipykernel_2232\\1567698967.py:24: UserWarning: This pattern is interpreted as a regular expression, and has match groups. To actually get the groups, use str.extract.\n",
      "  sub_self=sub[sub['selftext'].str.contains(r'(.|\\s)*\\S(.|\\s)') & sub['selftext'].notna()]\n"
     ]
    },
    {
     "name": "stdout",
     "output_type": "stream",
     "text": [
      "100\n",
      "1654997947\n"
     ]
    },
    {
     "name": "stderr",
     "output_type": "stream",
     "text": [
      "C:\\Users\\deepi\\AppData\\Local\\Temp\\ipykernel_2232\\1567698967.py:24: UserWarning: This pattern is interpreted as a regular expression, and has match groups. To actually get the groups, use str.extract.\n",
      "  sub_self=sub[sub['selftext'].str.contains(r'(.|\\s)*\\S(.|\\s)') & sub['selftext'].notna()]\n"
     ]
    },
    {
     "name": "stdout",
     "output_type": "stream",
     "text": [
      "99\n",
      "1654788919\n"
     ]
    },
    {
     "name": "stderr",
     "output_type": "stream",
     "text": [
      "C:\\Users\\deepi\\AppData\\Local\\Temp\\ipykernel_2232\\1567698967.py:24: UserWarning: This pattern is interpreted as a regular expression, and has match groups. To actually get the groups, use str.extract.\n",
      "  sub_self=sub[sub['selftext'].str.contains(r'(.|\\s)*\\S(.|\\s)') & sub['selftext'].notna()]\n"
     ]
    },
    {
     "name": "stdout",
     "output_type": "stream",
     "text": [
      "100\n",
      "1654622675\n"
     ]
    },
    {
     "name": "stderr",
     "output_type": "stream",
     "text": [
      "C:\\Users\\deepi\\AppData\\Local\\Temp\\ipykernel_2232\\1567698967.py:24: UserWarning: This pattern is interpreted as a regular expression, and has match groups. To actually get the groups, use str.extract.\n",
      "  sub_self=sub[sub['selftext'].str.contains(r'(.|\\s)*\\S(.|\\s)') & sub['selftext'].notna()]\n"
     ]
    },
    {
     "name": "stdout",
     "output_type": "stream",
     "text": [
      "100\n",
      "1654479556\n"
     ]
    },
    {
     "name": "stderr",
     "output_type": "stream",
     "text": [
      "C:\\Users\\deepi\\AppData\\Local\\Temp\\ipykernel_2232\\1567698967.py:24: UserWarning: This pattern is interpreted as a regular expression, and has match groups. To actually get the groups, use str.extract.\n",
      "  sub_self=sub[sub['selftext'].str.contains(r'(.|\\s)*\\S(.|\\s)') & sub['selftext'].notna()]\n"
     ]
    },
    {
     "name": "stdout",
     "output_type": "stream",
     "text": [
      "100\n",
      "1654231478\n"
     ]
    },
    {
     "name": "stderr",
     "output_type": "stream",
     "text": [
      "C:\\Users\\deepi\\AppData\\Local\\Temp\\ipykernel_2232\\1567698967.py:24: UserWarning: This pattern is interpreted as a regular expression, and has match groups. To actually get the groups, use str.extract.\n",
      "  sub_self=sub[sub['selftext'].str.contains(r'(.|\\s)*\\S(.|\\s)') & sub['selftext'].notna()]\n"
     ]
    },
    {
     "name": "stdout",
     "output_type": "stream",
     "text": [
      "99\n",
      "1654051111\n"
     ]
    },
    {
     "name": "stderr",
     "output_type": "stream",
     "text": [
      "C:\\Users\\deepi\\AppData\\Local\\Temp\\ipykernel_2232\\1567698967.py:24: UserWarning: This pattern is interpreted as a regular expression, and has match groups. To actually get the groups, use str.extract.\n",
      "  sub_self=sub[sub['selftext'].str.contains(r'(.|\\s)*\\S(.|\\s)') & sub['selftext'].notna()]\n"
     ]
    },
    {
     "name": "stdout",
     "output_type": "stream",
     "text": [
      "100\n",
      "1653828420\n"
     ]
    },
    {
     "name": "stderr",
     "output_type": "stream",
     "text": [
      "C:\\Users\\deepi\\AppData\\Local\\Temp\\ipykernel_2232\\1567698967.py:24: UserWarning: This pattern is interpreted as a regular expression, and has match groups. To actually get the groups, use str.extract.\n",
      "  sub_self=sub[sub['selftext'].str.contains(r'(.|\\s)*\\S(.|\\s)') & sub['selftext'].notna()]\n"
     ]
    },
    {
     "name": "stdout",
     "output_type": "stream",
     "text": [
      "100\n",
      "1653577783\n"
     ]
    },
    {
     "name": "stderr",
     "output_type": "stream",
     "text": [
      "C:\\Users\\deepi\\AppData\\Local\\Temp\\ipykernel_2232\\1567698967.py:24: UserWarning: This pattern is interpreted as a regular expression, and has match groups. To actually get the groups, use str.extract.\n",
      "  sub_self=sub[sub['selftext'].str.contains(r'(.|\\s)*\\S(.|\\s)') & sub['selftext'].notna()]\n"
     ]
    },
    {
     "name": "stdout",
     "output_type": "stream",
     "text": [
      "100\n",
      "1653404825\n"
     ]
    },
    {
     "name": "stderr",
     "output_type": "stream",
     "text": [
      "C:\\Users\\deepi\\AppData\\Local\\Temp\\ipykernel_2232\\1567698967.py:24: UserWarning: This pattern is interpreted as a regular expression, and has match groups. To actually get the groups, use str.extract.\n",
      "  sub_self=sub[sub['selftext'].str.contains(r'(.|\\s)*\\S(.|\\s)') & sub['selftext'].notna()]\n"
     ]
    },
    {
     "name": "stdout",
     "output_type": "stream",
     "text": [
      "100\n",
      "1653228744\n"
     ]
    },
    {
     "name": "stderr",
     "output_type": "stream",
     "text": [
      "C:\\Users\\deepi\\AppData\\Local\\Temp\\ipykernel_2232\\1567698967.py:24: UserWarning: This pattern is interpreted as a regular expression, and has match groups. To actually get the groups, use str.extract.\n",
      "  sub_self=sub[sub['selftext'].str.contains(r'(.|\\s)*\\S(.|\\s)') & sub['selftext'].notna()]\n"
     ]
    },
    {
     "name": "stdout",
     "output_type": "stream",
     "text": [
      "99\n",
      "1653001043\n"
     ]
    },
    {
     "name": "stderr",
     "output_type": "stream",
     "text": [
      "C:\\Users\\deepi\\AppData\\Local\\Temp\\ipykernel_2232\\1567698967.py:24: UserWarning: This pattern is interpreted as a regular expression, and has match groups. To actually get the groups, use str.extract.\n",
      "  sub_self=sub[sub['selftext'].str.contains(r'(.|\\s)*\\S(.|\\s)') & sub['selftext'].notna()]\n"
     ]
    },
    {
     "name": "stdout",
     "output_type": "stream",
     "text": [
      "100\n",
      "1652835828\n"
     ]
    },
    {
     "name": "stderr",
     "output_type": "stream",
     "text": [
      "C:\\Users\\deepi\\AppData\\Local\\Temp\\ipykernel_2232\\1567698967.py:24: UserWarning: This pattern is interpreted as a regular expression, and has match groups. To actually get the groups, use str.extract.\n",
      "  sub_self=sub[sub['selftext'].str.contains(r'(.|\\s)*\\S(.|\\s)') & sub['selftext'].notna()]\n"
     ]
    },
    {
     "name": "stdout",
     "output_type": "stream",
     "text": [
      "100\n",
      "1652666466\n"
     ]
    },
    {
     "name": "stderr",
     "output_type": "stream",
     "text": [
      "C:\\Users\\deepi\\AppData\\Local\\Temp\\ipykernel_2232\\1567698967.py:24: UserWarning: This pattern is interpreted as a regular expression, and has match groups. To actually get the groups, use str.extract.\n",
      "  sub_self=sub[sub['selftext'].str.contains(r'(.|\\s)*\\S(.|\\s)') & sub['selftext'].notna()]\n"
     ]
    },
    {
     "name": "stdout",
     "output_type": "stream",
     "text": [
      "100\n",
      "1652466980\n"
     ]
    },
    {
     "name": "stderr",
     "output_type": "stream",
     "text": [
      "C:\\Users\\deepi\\AppData\\Local\\Temp\\ipykernel_2232\\1567698967.py:24: UserWarning: This pattern is interpreted as a regular expression, and has match groups. To actually get the groups, use str.extract.\n",
      "  sub_self=sub[sub['selftext'].str.contains(r'(.|\\s)*\\S(.|\\s)') & sub['selftext'].notna()]\n"
     ]
    },
    {
     "name": "stdout",
     "output_type": "stream",
     "text": [
      "100\n",
      "1652287117\n"
     ]
    },
    {
     "name": "stderr",
     "output_type": "stream",
     "text": [
      "C:\\Users\\deepi\\AppData\\Local\\Temp\\ipykernel_2232\\1567698967.py:24: UserWarning: This pattern is interpreted as a regular expression, and has match groups. To actually get the groups, use str.extract.\n",
      "  sub_self=sub[sub['selftext'].str.contains(r'(.|\\s)*\\S(.|\\s)') & sub['selftext'].notna()]\n"
     ]
    },
    {
     "name": "stdout",
     "output_type": "stream",
     "text": [
      "100\n",
      "1652108786\n"
     ]
    },
    {
     "name": "stderr",
     "output_type": "stream",
     "text": [
      "C:\\Users\\deepi\\AppData\\Local\\Temp\\ipykernel_2232\\1567698967.py:24: UserWarning: This pattern is interpreted as a regular expression, and has match groups. To actually get the groups, use str.extract.\n",
      "  sub_self=sub[sub['selftext'].str.contains(r'(.|\\s)*\\S(.|\\s)') & sub['selftext'].notna()]\n"
     ]
    },
    {
     "name": "stdout",
     "output_type": "stream",
     "text": [
      "100\n",
      "1651865783\n"
     ]
    },
    {
     "name": "stderr",
     "output_type": "stream",
     "text": [
      "C:\\Users\\deepi\\AppData\\Local\\Temp\\ipykernel_2232\\1567698967.py:24: UserWarning: This pattern is interpreted as a regular expression, and has match groups. To actually get the groups, use str.extract.\n",
      "  sub_self=sub[sub['selftext'].str.contains(r'(.|\\s)*\\S(.|\\s)') & sub['selftext'].notna()]\n"
     ]
    },
    {
     "name": "stdout",
     "output_type": "stream",
     "text": [
      "100\n",
      "1651692918\n"
     ]
    },
    {
     "name": "stderr",
     "output_type": "stream",
     "text": [
      "C:\\Users\\deepi\\AppData\\Local\\Temp\\ipykernel_2232\\1567698967.py:24: UserWarning: This pattern is interpreted as a regular expression, and has match groups. To actually get the groups, use str.extract.\n",
      "  sub_self=sub[sub['selftext'].str.contains(r'(.|\\s)*\\S(.|\\s)') & sub['selftext'].notna()]\n"
     ]
    },
    {
     "name": "stdout",
     "output_type": "stream",
     "text": [
      "100\n",
      "1651536795\n"
     ]
    },
    {
     "name": "stderr",
     "output_type": "stream",
     "text": [
      "C:\\Users\\deepi\\AppData\\Local\\Temp\\ipykernel_2232\\1567698967.py:24: UserWarning: This pattern is interpreted as a regular expression, and has match groups. To actually get the groups, use str.extract.\n",
      "  sub_self=sub[sub['selftext'].str.contains(r'(.|\\s)*\\S(.|\\s)') & sub['selftext'].notna()]\n"
     ]
    },
    {
     "name": "stdout",
     "output_type": "stream",
     "text": [
      "100\n",
      "1651351587\n"
     ]
    },
    {
     "name": "stderr",
     "output_type": "stream",
     "text": [
      "C:\\Users\\deepi\\AppData\\Local\\Temp\\ipykernel_2232\\1567698967.py:24: UserWarning: This pattern is interpreted as a regular expression, and has match groups. To actually get the groups, use str.extract.\n",
      "  sub_self=sub[sub['selftext'].str.contains(r'(.|\\s)*\\S(.|\\s)') & sub['selftext'].notna()]\n"
     ]
    },
    {
     "name": "stdout",
     "output_type": "stream",
     "text": [
      "100\n",
      "1651168563\n"
     ]
    },
    {
     "name": "stderr",
     "output_type": "stream",
     "text": [
      "C:\\Users\\deepi\\AppData\\Local\\Temp\\ipykernel_2232\\1567698967.py:24: UserWarning: This pattern is interpreted as a regular expression, and has match groups. To actually get the groups, use str.extract.\n",
      "  sub_self=sub[sub['selftext'].str.contains(r'(.|\\s)*\\S(.|\\s)') & sub['selftext'].notna()]\n"
     ]
    },
    {
     "name": "stdout",
     "output_type": "stream",
     "text": [
      "100\n",
      "1651006897\n"
     ]
    },
    {
     "name": "stderr",
     "output_type": "stream",
     "text": [
      "C:\\Users\\deepi\\AppData\\Local\\Temp\\ipykernel_2232\\1567698967.py:24: UserWarning: This pattern is interpreted as a regular expression, and has match groups. To actually get the groups, use str.extract.\n",
      "  sub_self=sub[sub['selftext'].str.contains(r'(.|\\s)*\\S(.|\\s)') & sub['selftext'].notna()]\n"
     ]
    },
    {
     "name": "stdout",
     "output_type": "stream",
     "text": [
      "99\n",
      "1650850488\n"
     ]
    },
    {
     "name": "stderr",
     "output_type": "stream",
     "text": [
      "C:\\Users\\deepi\\AppData\\Local\\Temp\\ipykernel_2232\\1567698967.py:24: UserWarning: This pattern is interpreted as a regular expression, and has match groups. To actually get the groups, use str.extract.\n",
      "  sub_self=sub[sub['selftext'].str.contains(r'(.|\\s)*\\S(.|\\s)') & sub['selftext'].notna()]\n"
     ]
    },
    {
     "name": "stdout",
     "output_type": "stream",
     "text": [
      "100\n",
      "1650657616\n"
     ]
    },
    {
     "name": "stderr",
     "output_type": "stream",
     "text": [
      "C:\\Users\\deepi\\AppData\\Local\\Temp\\ipykernel_2232\\1567698967.py:24: UserWarning: This pattern is interpreted as a regular expression, and has match groups. To actually get the groups, use str.extract.\n",
      "  sub_self=sub[sub['selftext'].str.contains(r'(.|\\s)*\\S(.|\\s)') & sub['selftext'].notna()]\n"
     ]
    },
    {
     "name": "stdout",
     "output_type": "stream",
     "text": [
      "100\n",
      "1650505558\n"
     ]
    },
    {
     "name": "stderr",
     "output_type": "stream",
     "text": [
      "C:\\Users\\deepi\\AppData\\Local\\Temp\\ipykernel_2232\\1567698967.py:24: UserWarning: This pattern is interpreted as a regular expression, and has match groups. To actually get the groups, use str.extract.\n",
      "  sub_self=sub[sub['selftext'].str.contains(r'(.|\\s)*\\S(.|\\s)') & sub['selftext'].notna()]\n"
     ]
    },
    {
     "name": "stdout",
     "output_type": "stream",
     "text": [
      "100\n",
      "1650325176\n"
     ]
    },
    {
     "name": "stderr",
     "output_type": "stream",
     "text": [
      "C:\\Users\\deepi\\AppData\\Local\\Temp\\ipykernel_2232\\1567698967.py:24: UserWarning: This pattern is interpreted as a regular expression, and has match groups. To actually get the groups, use str.extract.\n",
      "  sub_self=sub[sub['selftext'].str.contains(r'(.|\\s)*\\S(.|\\s)') & sub['selftext'].notna()]\n"
     ]
    },
    {
     "name": "stdout",
     "output_type": "stream",
     "text": [
      "100\n",
      "1650203149\n"
     ]
    },
    {
     "name": "stderr",
     "output_type": "stream",
     "text": [
      "C:\\Users\\deepi\\AppData\\Local\\Temp\\ipykernel_2232\\1567698967.py:24: UserWarning: This pattern is interpreted as a regular expression, and has match groups. To actually get the groups, use str.extract.\n",
      "  sub_self=sub[sub['selftext'].str.contains(r'(.|\\s)*\\S(.|\\s)') & sub['selftext'].notna()]\n"
     ]
    },
    {
     "name": "stdout",
     "output_type": "stream",
     "text": [
      "100\n",
      "1650020206\n"
     ]
    },
    {
     "name": "stderr",
     "output_type": "stream",
     "text": [
      "C:\\Users\\deepi\\AppData\\Local\\Temp\\ipykernel_2232\\1567698967.py:24: UserWarning: This pattern is interpreted as a regular expression, and has match groups. To actually get the groups, use str.extract.\n",
      "  sub_self=sub[sub['selftext'].str.contains(r'(.|\\s)*\\S(.|\\s)') & sub['selftext'].notna()]\n"
     ]
    },
    {
     "name": "stdout",
     "output_type": "stream",
     "text": [
      "100\n",
      "1649857234\n"
     ]
    },
    {
     "name": "stderr",
     "output_type": "stream",
     "text": [
      "C:\\Users\\deepi\\AppData\\Local\\Temp\\ipykernel_2232\\1567698967.py:24: UserWarning: This pattern is interpreted as a regular expression, and has match groups. To actually get the groups, use str.extract.\n",
      "  sub_self=sub[sub['selftext'].str.contains(r'(.|\\s)*\\S(.|\\s)') & sub['selftext'].notna()]\n"
     ]
    },
    {
     "name": "stdout",
     "output_type": "stream",
     "text": [
      "100\n",
      "1649716174\n"
     ]
    },
    {
     "name": "stderr",
     "output_type": "stream",
     "text": [
      "C:\\Users\\deepi\\AppData\\Local\\Temp\\ipykernel_2232\\1567698967.py:24: UserWarning: This pattern is interpreted as a regular expression, and has match groups. To actually get the groups, use str.extract.\n",
      "  sub_self=sub[sub['selftext'].str.contains(r'(.|\\s)*\\S(.|\\s)') & sub['selftext'].notna()]\n"
     ]
    },
    {
     "name": "stdout",
     "output_type": "stream",
     "text": [
      "100\n",
      "1649576089\n"
     ]
    },
    {
     "name": "stderr",
     "output_type": "stream",
     "text": [
      "C:\\Users\\deepi\\AppData\\Local\\Temp\\ipykernel_2232\\1567698967.py:24: UserWarning: This pattern is interpreted as a regular expression, and has match groups. To actually get the groups, use str.extract.\n",
      "  sub_self=sub[sub['selftext'].str.contains(r'(.|\\s)*\\S(.|\\s)') & sub['selftext'].notna()]\n"
     ]
    },
    {
     "name": "stdout",
     "output_type": "stream",
     "text": [
      "100\n",
      "1649418542\n"
     ]
    },
    {
     "name": "stderr",
     "output_type": "stream",
     "text": [
      "C:\\Users\\deepi\\AppData\\Local\\Temp\\ipykernel_2232\\1567698967.py:24: UserWarning: This pattern is interpreted as a regular expression, and has match groups. To actually get the groups, use str.extract.\n",
      "  sub_self=sub[sub['selftext'].str.contains(r'(.|\\s)*\\S(.|\\s)') & sub['selftext'].notna()]\n"
     ]
    },
    {
     "name": "stdout",
     "output_type": "stream",
     "text": [
      "100\n",
      "1649278925\n"
     ]
    },
    {
     "name": "stderr",
     "output_type": "stream",
     "text": [
      "C:\\Users\\deepi\\AppData\\Local\\Temp\\ipykernel_2232\\1567698967.py:24: UserWarning: This pattern is interpreted as a regular expression, and has match groups. To actually get the groups, use str.extract.\n",
      "  sub_self=sub[sub['selftext'].str.contains(r'(.|\\s)*\\S(.|\\s)') & sub['selftext'].notna()]\n"
     ]
    },
    {
     "name": "stdout",
     "output_type": "stream",
     "text": [
      "100\n",
      "1649131756\n"
     ]
    },
    {
     "name": "stderr",
     "output_type": "stream",
     "text": [
      "C:\\Users\\deepi\\AppData\\Local\\Temp\\ipykernel_2232\\1567698967.py:24: UserWarning: This pattern is interpreted as a regular expression, and has match groups. To actually get the groups, use str.extract.\n",
      "  sub_self=sub[sub['selftext'].str.contains(r'(.|\\s)*\\S(.|\\s)') & sub['selftext'].notna()]\n"
     ]
    },
    {
     "name": "stdout",
     "output_type": "stream",
     "text": [
      "100\n",
      "1649000860\n"
     ]
    },
    {
     "name": "stderr",
     "output_type": "stream",
     "text": [
      "C:\\Users\\deepi\\AppData\\Local\\Temp\\ipykernel_2232\\1567698967.py:24: UserWarning: This pattern is interpreted as a regular expression, and has match groups. To actually get the groups, use str.extract.\n",
      "  sub_self=sub[sub['selftext'].str.contains(r'(.|\\s)*\\S(.|\\s)') & sub['selftext'].notna()]\n"
     ]
    },
    {
     "name": "stdout",
     "output_type": "stream",
     "text": [
      "100\n",
      "1648815166\n"
     ]
    },
    {
     "name": "stderr",
     "output_type": "stream",
     "text": [
      "C:\\Users\\deepi\\AppData\\Local\\Temp\\ipykernel_2232\\1567698967.py:24: UserWarning: This pattern is interpreted as a regular expression, and has match groups. To actually get the groups, use str.extract.\n",
      "  sub_self=sub[sub['selftext'].str.contains(r'(.|\\s)*\\S(.|\\s)') & sub['selftext'].notna()]\n"
     ]
    },
    {
     "name": "stdout",
     "output_type": "stream",
     "text": [
      "99\n",
      "1648680073\n"
     ]
    },
    {
     "name": "stderr",
     "output_type": "stream",
     "text": [
      "C:\\Users\\deepi\\AppData\\Local\\Temp\\ipykernel_2232\\1567698967.py:24: UserWarning: This pattern is interpreted as a regular expression, and has match groups. To actually get the groups, use str.extract.\n",
      "  sub_self=sub[sub['selftext'].str.contains(r'(.|\\s)*\\S(.|\\s)') & sub['selftext'].notna()]\n"
     ]
    },
    {
     "name": "stdout",
     "output_type": "stream",
     "text": [
      "100\n",
      "1648518745\n"
     ]
    },
    {
     "name": "stderr",
     "output_type": "stream",
     "text": [
      "C:\\Users\\deepi\\AppData\\Local\\Temp\\ipykernel_2232\\1567698967.py:24: UserWarning: This pattern is interpreted as a regular expression, and has match groups. To actually get the groups, use str.extract.\n",
      "  sub_self=sub[sub['selftext'].str.contains(r'(.|\\s)*\\S(.|\\s)') & sub['selftext'].notna()]\n"
     ]
    },
    {
     "name": "stdout",
     "output_type": "stream",
     "text": [
      "99\n",
      "1648387751\n"
     ]
    },
    {
     "name": "stderr",
     "output_type": "stream",
     "text": [
      "C:\\Users\\deepi\\AppData\\Local\\Temp\\ipykernel_2232\\1567698967.py:24: UserWarning: This pattern is interpreted as a regular expression, and has match groups. To actually get the groups, use str.extract.\n",
      "  sub_self=sub[sub['selftext'].str.contains(r'(.|\\s)*\\S(.|\\s)') & sub['selftext'].notna()]\n"
     ]
    },
    {
     "name": "stdout",
     "output_type": "stream",
     "text": [
      "100\n",
      "1648225669\n"
     ]
    },
    {
     "name": "stderr",
     "output_type": "stream",
     "text": [
      "C:\\Users\\deepi\\AppData\\Local\\Temp\\ipykernel_2232\\1567698967.py:24: UserWarning: This pattern is interpreted as a regular expression, and has match groups. To actually get the groups, use str.extract.\n",
      "  sub_self=sub[sub['selftext'].str.contains(r'(.|\\s)*\\S(.|\\s)') & sub['selftext'].notna()]\n"
     ]
    },
    {
     "name": "stdout",
     "output_type": "stream",
     "text": [
      "100\n",
      "1648064595\n"
     ]
    },
    {
     "name": "stderr",
     "output_type": "stream",
     "text": [
      "C:\\Users\\deepi\\AppData\\Local\\Temp\\ipykernel_2232\\1567698967.py:24: UserWarning: This pattern is interpreted as a regular expression, and has match groups. To actually get the groups, use str.extract.\n",
      "  sub_self=sub[sub['selftext'].str.contains(r'(.|\\s)*\\S(.|\\s)') & sub['selftext'].notna()]\n"
     ]
    },
    {
     "name": "stdout",
     "output_type": "stream",
     "text": [
      "100\n",
      "1647918400\n"
     ]
    },
    {
     "name": "stderr",
     "output_type": "stream",
     "text": [
      "C:\\Users\\deepi\\AppData\\Local\\Temp\\ipykernel_2232\\1567698967.py:24: UserWarning: This pattern is interpreted as a regular expression, and has match groups. To actually get the groups, use str.extract.\n",
      "  sub_self=sub[sub['selftext'].str.contains(r'(.|\\s)*\\S(.|\\s)') & sub['selftext'].notna()]\n"
     ]
    },
    {
     "name": "stdout",
     "output_type": "stream",
     "text": [
      "100\n",
      "1647725251\n"
     ]
    },
    {
     "name": "stderr",
     "output_type": "stream",
     "text": [
      "C:\\Users\\deepi\\AppData\\Local\\Temp\\ipykernel_2232\\1567698967.py:24: UserWarning: This pattern is interpreted as a regular expression, and has match groups. To actually get the groups, use str.extract.\n",
      "  sub_self=sub[sub['selftext'].str.contains(r'(.|\\s)*\\S(.|\\s)') & sub['selftext'].notna()]\n"
     ]
    },
    {
     "name": "stdout",
     "output_type": "stream",
     "text": [
      "100\n",
      "1647537167\n"
     ]
    },
    {
     "name": "stderr",
     "output_type": "stream",
     "text": [
      "C:\\Users\\deepi\\AppData\\Local\\Temp\\ipykernel_2232\\1567698967.py:24: UserWarning: This pattern is interpreted as a regular expression, and has match groups. To actually get the groups, use str.extract.\n",
      "  sub_self=sub[sub['selftext'].str.contains(r'(.|\\s)*\\S(.|\\s)') & sub['selftext'].notna()]\n"
     ]
    },
    {
     "name": "stdout",
     "output_type": "stream",
     "text": [
      "100\n",
      "1647370668\n"
     ]
    },
    {
     "name": "stderr",
     "output_type": "stream",
     "text": [
      "C:\\Users\\deepi\\AppData\\Local\\Temp\\ipykernel_2232\\1567698967.py:24: UserWarning: This pattern is interpreted as a regular expression, and has match groups. To actually get the groups, use str.extract.\n",
      "  sub_self=sub[sub['selftext'].str.contains(r'(.|\\s)*\\S(.|\\s)') & sub['selftext'].notna()]\n"
     ]
    },
    {
     "name": "stdout",
     "output_type": "stream",
     "text": [
      "99\n",
      "1647221511\n"
     ]
    },
    {
     "name": "stderr",
     "output_type": "stream",
     "text": [
      "C:\\Users\\deepi\\AppData\\Local\\Temp\\ipykernel_2232\\1567698967.py:24: UserWarning: This pattern is interpreted as a regular expression, and has match groups. To actually get the groups, use str.extract.\n",
      "  sub_self=sub[sub['selftext'].str.contains(r'(.|\\s)*\\S(.|\\s)') & sub['selftext'].notna()]\n"
     ]
    },
    {
     "name": "stdout",
     "output_type": "stream",
     "text": [
      "100\n",
      "1647066332\n"
     ]
    },
    {
     "name": "stderr",
     "output_type": "stream",
     "text": [
      "C:\\Users\\deepi\\AppData\\Local\\Temp\\ipykernel_2232\\1567698967.py:24: UserWarning: This pattern is interpreted as a regular expression, and has match groups. To actually get the groups, use str.extract.\n",
      "  sub_self=sub[sub['selftext'].str.contains(r'(.|\\s)*\\S(.|\\s)') & sub['selftext'].notna()]\n"
     ]
    },
    {
     "name": "stdout",
     "output_type": "stream",
     "text": [
      "100\n",
      "1646931279\n"
     ]
    },
    {
     "name": "stderr",
     "output_type": "stream",
     "text": [
      "C:\\Users\\deepi\\AppData\\Local\\Temp\\ipykernel_2232\\1567698967.py:24: UserWarning: This pattern is interpreted as a regular expression, and has match groups. To actually get the groups, use str.extract.\n",
      "  sub_self=sub[sub['selftext'].str.contains(r'(.|\\s)*\\S(.|\\s)') & sub['selftext'].notna()]\n"
     ]
    },
    {
     "name": "stdout",
     "output_type": "stream",
     "text": [
      "100\n",
      "1646783946\n"
     ]
    },
    {
     "name": "stderr",
     "output_type": "stream",
     "text": [
      "C:\\Users\\deepi\\AppData\\Local\\Temp\\ipykernel_2232\\1567698967.py:24: UserWarning: This pattern is interpreted as a regular expression, and has match groups. To actually get the groups, use str.extract.\n",
      "  sub_self=sub[sub['selftext'].str.contains(r'(.|\\s)*\\S(.|\\s)') & sub['selftext'].notna()]\n"
     ]
    },
    {
     "name": "stdout",
     "output_type": "stream",
     "text": [
      "100\n",
      "1646669449\n"
     ]
    },
    {
     "name": "stderr",
     "output_type": "stream",
     "text": [
      "C:\\Users\\deepi\\AppData\\Local\\Temp\\ipykernel_2232\\1567698967.py:24: UserWarning: This pattern is interpreted as a regular expression, and has match groups. To actually get the groups, use str.extract.\n",
      "  sub_self=sub[sub['selftext'].str.contains(r'(.|\\s)*\\S(.|\\s)') & sub['selftext'].notna()]\n"
     ]
    },
    {
     "name": "stdout",
     "output_type": "stream",
     "text": [
      "99\n",
      "1646510159\n"
     ]
    },
    {
     "name": "stderr",
     "output_type": "stream",
     "text": [
      "C:\\Users\\deepi\\AppData\\Local\\Temp\\ipykernel_2232\\1567698967.py:24: UserWarning: This pattern is interpreted as a regular expression, and has match groups. To actually get the groups, use str.extract.\n",
      "  sub_self=sub[sub['selftext'].str.contains(r'(.|\\s)*\\S(.|\\s)') & sub['selftext'].notna()]\n"
     ]
    },
    {
     "name": "stdout",
     "output_type": "stream",
     "text": [
      "100\n",
      "1646344605\n"
     ]
    },
    {
     "name": "stderr",
     "output_type": "stream",
     "text": [
      "C:\\Users\\deepi\\AppData\\Local\\Temp\\ipykernel_2232\\1567698967.py:24: UserWarning: This pattern is interpreted as a regular expression, and has match groups. To actually get the groups, use str.extract.\n",
      "  sub_self=sub[sub['selftext'].str.contains(r'(.|\\s)*\\S(.|\\s)') & sub['selftext'].notna()]\n"
     ]
    },
    {
     "name": "stdout",
     "output_type": "stream",
     "text": [
      "100\n",
      "1646225564\n"
     ]
    },
    {
     "name": "stderr",
     "output_type": "stream",
     "text": [
      "C:\\Users\\deepi\\AppData\\Local\\Temp\\ipykernel_2232\\1567698967.py:24: UserWarning: This pattern is interpreted as a regular expression, and has match groups. To actually get the groups, use str.extract.\n",
      "  sub_self=sub[sub['selftext'].str.contains(r'(.|\\s)*\\S(.|\\s)') & sub['selftext'].notna()]\n"
     ]
    },
    {
     "name": "stdout",
     "output_type": "stream",
     "text": [
      "100\n",
      "1646058988\n"
     ]
    },
    {
     "name": "stderr",
     "output_type": "stream",
     "text": [
      "C:\\Users\\deepi\\AppData\\Local\\Temp\\ipykernel_2232\\1567698967.py:24: UserWarning: This pattern is interpreted as a regular expression, and has match groups. To actually get the groups, use str.extract.\n",
      "  sub_self=sub[sub['selftext'].str.contains(r'(.|\\s)*\\S(.|\\s)') & sub['selftext'].notna()]\n"
     ]
    },
    {
     "name": "stdout",
     "output_type": "stream",
     "text": [
      "100\n",
      "1645847509\n"
     ]
    },
    {
     "name": "stderr",
     "output_type": "stream",
     "text": [
      "C:\\Users\\deepi\\AppData\\Local\\Temp\\ipykernel_2232\\1567698967.py:24: UserWarning: This pattern is interpreted as a regular expression, and has match groups. To actually get the groups, use str.extract.\n",
      "  sub_self=sub[sub['selftext'].str.contains(r'(.|\\s)*\\S(.|\\s)') & sub['selftext'].notna()]\n"
     ]
    },
    {
     "name": "stdout",
     "output_type": "stream",
     "text": [
      "100\n",
      "1645711888\n"
     ]
    },
    {
     "name": "stderr",
     "output_type": "stream",
     "text": [
      "C:\\Users\\deepi\\AppData\\Local\\Temp\\ipykernel_2232\\1567698967.py:24: UserWarning: This pattern is interpreted as a regular expression, and has match groups. To actually get the groups, use str.extract.\n",
      "  sub_self=sub[sub['selftext'].str.contains(r'(.|\\s)*\\S(.|\\s)') & sub['selftext'].notna()]\n"
     ]
    },
    {
     "name": "stdout",
     "output_type": "stream",
     "text": [
      "100\n",
      "1645564050\n"
     ]
    },
    {
     "name": "stderr",
     "output_type": "stream",
     "text": [
      "C:\\Users\\deepi\\AppData\\Local\\Temp\\ipykernel_2232\\1567698967.py:24: UserWarning: This pattern is interpreted as a regular expression, and has match groups. To actually get the groups, use str.extract.\n",
      "  sub_self=sub[sub['selftext'].str.contains(r'(.|\\s)*\\S(.|\\s)') & sub['selftext'].notna()]\n"
     ]
    },
    {
     "name": "stdout",
     "output_type": "stream",
     "text": [
      "100\n",
      "1645387733\n"
     ]
    },
    {
     "name": "stderr",
     "output_type": "stream",
     "text": [
      "C:\\Users\\deepi\\AppData\\Local\\Temp\\ipykernel_2232\\1567698967.py:24: UserWarning: This pattern is interpreted as a regular expression, and has match groups. To actually get the groups, use str.extract.\n",
      "  sub_self=sub[sub['selftext'].str.contains(r'(.|\\s)*\\S(.|\\s)') & sub['selftext'].notna()]\n"
     ]
    },
    {
     "name": "stdout",
     "output_type": "stream",
     "text": [
      "100\n",
      "1645213740\n"
     ]
    },
    {
     "name": "stderr",
     "output_type": "stream",
     "text": [
      "C:\\Users\\deepi\\AppData\\Local\\Temp\\ipykernel_2232\\1567698967.py:24: UserWarning: This pattern is interpreted as a regular expression, and has match groups. To actually get the groups, use str.extract.\n",
      "  sub_self=sub[sub['selftext'].str.contains(r'(.|\\s)*\\S(.|\\s)') & sub['selftext'].notna()]\n"
     ]
    },
    {
     "name": "stdout",
     "output_type": "stream",
     "text": [
      "99\n",
      "1645080780\n"
     ]
    },
    {
     "name": "stderr",
     "output_type": "stream",
     "text": [
      "C:\\Users\\deepi\\AppData\\Local\\Temp\\ipykernel_2232\\1567698967.py:24: UserWarning: This pattern is interpreted as a regular expression, and has match groups. To actually get the groups, use str.extract.\n",
      "  sub_self=sub[sub['selftext'].str.contains(r'(.|\\s)*\\S(.|\\s)') & sub['selftext'].notna()]\n"
     ]
    },
    {
     "name": "stdout",
     "output_type": "stream",
     "text": [
      "100\n",
      "1644948218\n"
     ]
    },
    {
     "name": "stderr",
     "output_type": "stream",
     "text": [
      "C:\\Users\\deepi\\AppData\\Local\\Temp\\ipykernel_2232\\1567698967.py:24: UserWarning: This pattern is interpreted as a regular expression, and has match groups. To actually get the groups, use str.extract.\n",
      "  sub_self=sub[sub['selftext'].str.contains(r'(.|\\s)*\\S(.|\\s)') & sub['selftext'].notna()]\n"
     ]
    },
    {
     "name": "stdout",
     "output_type": "stream",
     "text": [
      "100\n",
      "1644837927\n"
     ]
    },
    {
     "name": "stderr",
     "output_type": "stream",
     "text": [
      "C:\\Users\\deepi\\AppData\\Local\\Temp\\ipykernel_2232\\1567698967.py:24: UserWarning: This pattern is interpreted as a regular expression, and has match groups. To actually get the groups, use str.extract.\n",
      "  sub_self=sub[sub['selftext'].str.contains(r'(.|\\s)*\\S(.|\\s)') & sub['selftext'].notna()]\n"
     ]
    },
    {
     "name": "stdout",
     "output_type": "stream",
     "text": [
      "100\n",
      "1644701295\n"
     ]
    },
    {
     "name": "stderr",
     "output_type": "stream",
     "text": [
      "C:\\Users\\deepi\\AppData\\Local\\Temp\\ipykernel_2232\\1567698967.py:24: UserWarning: This pattern is interpreted as a regular expression, and has match groups. To actually get the groups, use str.extract.\n",
      "  sub_self=sub[sub['selftext'].str.contains(r'(.|\\s)*\\S(.|\\s)') & sub['selftext'].notna()]\n"
     ]
    },
    {
     "name": "stdout",
     "output_type": "stream",
     "text": [
      "100\n",
      "1644536436\n"
     ]
    },
    {
     "name": "stderr",
     "output_type": "stream",
     "text": [
      "C:\\Users\\deepi\\AppData\\Local\\Temp\\ipykernel_2232\\1567698967.py:24: UserWarning: This pattern is interpreted as a regular expression, and has match groups. To actually get the groups, use str.extract.\n",
      "  sub_self=sub[sub['selftext'].str.contains(r'(.|\\s)*\\S(.|\\s)') & sub['selftext'].notna()]\n"
     ]
    },
    {
     "name": "stdout",
     "output_type": "stream",
     "text": [
      "100\n",
      "1644423450\n"
     ]
    },
    {
     "name": "stderr",
     "output_type": "stream",
     "text": [
      "C:\\Users\\deepi\\AppData\\Local\\Temp\\ipykernel_2232\\1567698967.py:24: UserWarning: This pattern is interpreted as a regular expression, and has match groups. To actually get the groups, use str.extract.\n",
      "  sub_self=sub[sub['selftext'].str.contains(r'(.|\\s)*\\S(.|\\s)') & sub['selftext'].notna()]\n"
     ]
    },
    {
     "name": "stdout",
     "output_type": "stream",
     "text": [
      "100\n",
      "1644272753\n"
     ]
    },
    {
     "name": "stderr",
     "output_type": "stream",
     "text": [
      "C:\\Users\\deepi\\AppData\\Local\\Temp\\ipykernel_2232\\1567698967.py:24: UserWarning: This pattern is interpreted as a regular expression, and has match groups. To actually get the groups, use str.extract.\n",
      "  sub_self=sub[sub['selftext'].str.contains(r'(.|\\s)*\\S(.|\\s)') & sub['selftext'].notna()]\n"
     ]
    },
    {
     "name": "stdout",
     "output_type": "stream",
     "text": [
      "100\n",
      "1644100263\n"
     ]
    },
    {
     "name": "stderr",
     "output_type": "stream",
     "text": [
      "C:\\Users\\deepi\\AppData\\Local\\Temp\\ipykernel_2232\\1567698967.py:24: UserWarning: This pattern is interpreted as a regular expression, and has match groups. To actually get the groups, use str.extract.\n",
      "  sub_self=sub[sub['selftext'].str.contains(r'(.|\\s)*\\S(.|\\s)') & sub['selftext'].notna()]\n"
     ]
    },
    {
     "name": "stdout",
     "output_type": "stream",
     "text": [
      "100\n",
      "1643937955\n"
     ]
    },
    {
     "name": "stderr",
     "output_type": "stream",
     "text": [
      "C:\\Users\\deepi\\AppData\\Local\\Temp\\ipykernel_2232\\1567698967.py:24: UserWarning: This pattern is interpreted as a regular expression, and has match groups. To actually get the groups, use str.extract.\n",
      "  sub_self=sub[sub['selftext'].str.contains(r'(.|\\s)*\\S(.|\\s)') & sub['selftext'].notna()]\n"
     ]
    },
    {
     "name": "stdout",
     "output_type": "stream",
     "text": [
      "100\n",
      "1643802104\n"
     ]
    },
    {
     "name": "stderr",
     "output_type": "stream",
     "text": [
      "C:\\Users\\deepi\\AppData\\Local\\Temp\\ipykernel_2232\\1567698967.py:24: UserWarning: This pattern is interpreted as a regular expression, and has match groups. To actually get the groups, use str.extract.\n",
      "  sub_self=sub[sub['selftext'].str.contains(r'(.|\\s)*\\S(.|\\s)') & sub['selftext'].notna()]\n"
     ]
    },
    {
     "name": "stdout",
     "output_type": "stream",
     "text": [
      "100\n",
      "1643673531\n"
     ]
    },
    {
     "name": "stderr",
     "output_type": "stream",
     "text": [
      "C:\\Users\\deepi\\AppData\\Local\\Temp\\ipykernel_2232\\1567698967.py:24: UserWarning: This pattern is interpreted as a regular expression, and has match groups. To actually get the groups, use str.extract.\n",
      "  sub_self=sub[sub['selftext'].str.contains(r'(.|\\s)*\\S(.|\\s)') & sub['selftext'].notna()]\n"
     ]
    },
    {
     "name": "stdout",
     "output_type": "stream",
     "text": [
      "100\n",
      "1643499182\n"
     ]
    },
    {
     "name": "stderr",
     "output_type": "stream",
     "text": [
      "C:\\Users\\deepi\\AppData\\Local\\Temp\\ipykernel_2232\\1567698967.py:24: UserWarning: This pattern is interpreted as a regular expression, and has match groups. To actually get the groups, use str.extract.\n",
      "  sub_self=sub[sub['selftext'].str.contains(r'(.|\\s)*\\S(.|\\s)') & sub['selftext'].notna()]\n"
     ]
    },
    {
     "name": "stdout",
     "output_type": "stream",
     "text": [
      "100\n",
      "1643371240\n"
     ]
    },
    {
     "name": "stderr",
     "output_type": "stream",
     "text": [
      "C:\\Users\\deepi\\AppData\\Local\\Temp\\ipykernel_2232\\1567698967.py:24: UserWarning: This pattern is interpreted as a regular expression, and has match groups. To actually get the groups, use str.extract.\n",
      "  sub_self=sub[sub['selftext'].str.contains(r'(.|\\s)*\\S(.|\\s)') & sub['selftext'].notna()]\n"
     ]
    },
    {
     "name": "stdout",
     "output_type": "stream",
     "text": [
      "99\n",
      "1643227125\n"
     ]
    },
    {
     "name": "stderr",
     "output_type": "stream",
     "text": [
      "C:\\Users\\deepi\\AppData\\Local\\Temp\\ipykernel_2232\\1567698967.py:24: UserWarning: This pattern is interpreted as a regular expression, and has match groups. To actually get the groups, use str.extract.\n",
      "  sub_self=sub[sub['selftext'].str.contains(r'(.|\\s)*\\S(.|\\s)') & sub['selftext'].notna()]\n"
     ]
    },
    {
     "name": "stdout",
     "output_type": "stream",
     "text": [
      "100\n",
      "1643073621\n"
     ]
    },
    {
     "name": "stderr",
     "output_type": "stream",
     "text": [
      "C:\\Users\\deepi\\AppData\\Local\\Temp\\ipykernel_2232\\1567698967.py:24: UserWarning: This pattern is interpreted as a regular expression, and has match groups. To actually get the groups, use str.extract.\n",
      "  sub_self=sub[sub['selftext'].str.contains(r'(.|\\s)*\\S(.|\\s)') & sub['selftext'].notna()]\n"
     ]
    },
    {
     "name": "stdout",
     "output_type": "stream",
     "text": [
      "100\n",
      "1642906975\n"
     ]
    },
    {
     "name": "stderr",
     "output_type": "stream",
     "text": [
      "C:\\Users\\deepi\\AppData\\Local\\Temp\\ipykernel_2232\\1567698967.py:24: UserWarning: This pattern is interpreted as a regular expression, and has match groups. To actually get the groups, use str.extract.\n",
      "  sub_self=sub[sub['selftext'].str.contains(r'(.|\\s)*\\S(.|\\s)') & sub['selftext'].notna()]\n"
     ]
    },
    {
     "name": "stdout",
     "output_type": "stream",
     "text": [
      "100\n",
      "1642773598\n"
     ]
    },
    {
     "name": "stderr",
     "output_type": "stream",
     "text": [
      "C:\\Users\\deepi\\AppData\\Local\\Temp\\ipykernel_2232\\1567698967.py:24: UserWarning: This pattern is interpreted as a regular expression, and has match groups. To actually get the groups, use str.extract.\n",
      "  sub_self=sub[sub['selftext'].str.contains(r'(.|\\s)*\\S(.|\\s)') & sub['selftext'].notna()]\n"
     ]
    },
    {
     "name": "stdout",
     "output_type": "stream",
     "text": [
      "100\n",
      "1642630039\n"
     ]
    },
    {
     "name": "stderr",
     "output_type": "stream",
     "text": [
      "C:\\Users\\deepi\\AppData\\Local\\Temp\\ipykernel_2232\\1567698967.py:24: UserWarning: This pattern is interpreted as a regular expression, and has match groups. To actually get the groups, use str.extract.\n",
      "  sub_self=sub[sub['selftext'].str.contains(r'(.|\\s)*\\S(.|\\s)') & sub['selftext'].notna()]\n"
     ]
    },
    {
     "name": "stdout",
     "output_type": "stream",
     "text": [
      "100\n",
      "1642507967\n"
     ]
    },
    {
     "name": "stderr",
     "output_type": "stream",
     "text": [
      "C:\\Users\\deepi\\AppData\\Local\\Temp\\ipykernel_2232\\1567698967.py:24: UserWarning: This pattern is interpreted as a regular expression, and has match groups. To actually get the groups, use str.extract.\n",
      "  sub_self=sub[sub['selftext'].str.contains(r'(.|\\s)*\\S(.|\\s)') & sub['selftext'].notna()]\n"
     ]
    },
    {
     "name": "stdout",
     "output_type": "stream",
     "text": [
      "100\n",
      "1642322390\n"
     ]
    },
    {
     "name": "stderr",
     "output_type": "stream",
     "text": [
      "C:\\Users\\deepi\\AppData\\Local\\Temp\\ipykernel_2232\\1567698967.py:24: UserWarning: This pattern is interpreted as a regular expression, and has match groups. To actually get the groups, use str.extract.\n",
      "  sub_self=sub[sub['selftext'].str.contains(r'(.|\\s)*\\S(.|\\s)') & sub['selftext'].notna()]\n"
     ]
    },
    {
     "name": "stdout",
     "output_type": "stream",
     "text": [
      "100\n",
      "1642154122\n"
     ]
    },
    {
     "name": "stderr",
     "output_type": "stream",
     "text": [
      "C:\\Users\\deepi\\AppData\\Local\\Temp\\ipykernel_2232\\1567698967.py:24: UserWarning: This pattern is interpreted as a regular expression, and has match groups. To actually get the groups, use str.extract.\n",
      "  sub_self=sub[sub['selftext'].str.contains(r'(.|\\s)*\\S(.|\\s)') & sub['selftext'].notna()]\n"
     ]
    },
    {
     "name": "stdout",
     "output_type": "stream",
     "text": [
      "100\n",
      "1642008619\n"
     ]
    },
    {
     "name": "stderr",
     "output_type": "stream",
     "text": [
      "C:\\Users\\deepi\\AppData\\Local\\Temp\\ipykernel_2232\\1567698967.py:24: UserWarning: This pattern is interpreted as a regular expression, and has match groups. To actually get the groups, use str.extract.\n",
      "  sub_self=sub[sub['selftext'].str.contains(r'(.|\\s)*\\S(.|\\s)') & sub['selftext'].notna()]\n"
     ]
    },
    {
     "name": "stdout",
     "output_type": "stream",
     "text": [
      "100\n",
      "1641853706\n"
     ]
    },
    {
     "name": "stderr",
     "output_type": "stream",
     "text": [
      "C:\\Users\\deepi\\AppData\\Local\\Temp\\ipykernel_2232\\1567698967.py:24: UserWarning: This pattern is interpreted as a regular expression, and has match groups. To actually get the groups, use str.extract.\n",
      "  sub_self=sub[sub['selftext'].str.contains(r'(.|\\s)*\\S(.|\\s)') & sub['selftext'].notna()]\n"
     ]
    },
    {
     "name": "stdout",
     "output_type": "stream",
     "text": [
      "100\n",
      "1641680450\n"
     ]
    },
    {
     "name": "stderr",
     "output_type": "stream",
     "text": [
      "C:\\Users\\deepi\\AppData\\Local\\Temp\\ipykernel_2232\\1567698967.py:24: UserWarning: This pattern is interpreted as a regular expression, and has match groups. To actually get the groups, use str.extract.\n",
      "  sub_self=sub[sub['selftext'].str.contains(r'(.|\\s)*\\S(.|\\s)') & sub['selftext'].notna()]\n"
     ]
    },
    {
     "name": "stdout",
     "output_type": "stream",
     "text": [
      "100\n",
      "1641529681\n"
     ]
    },
    {
     "name": "stderr",
     "output_type": "stream",
     "text": [
      "C:\\Users\\deepi\\AppData\\Local\\Temp\\ipykernel_2232\\1567698967.py:24: UserWarning: This pattern is interpreted as a regular expression, and has match groups. To actually get the groups, use str.extract.\n",
      "  sub_self=sub[sub['selftext'].str.contains(r'(.|\\s)*\\S(.|\\s)') & sub['selftext'].notna()]\n"
     ]
    },
    {
     "name": "stdout",
     "output_type": "stream",
     "text": [
      "100\n",
      "1641399435\n"
     ]
    },
    {
     "name": "stderr",
     "output_type": "stream",
     "text": [
      "C:\\Users\\deepi\\AppData\\Local\\Temp\\ipykernel_2232\\1567698967.py:24: UserWarning: This pattern is interpreted as a regular expression, and has match groups. To actually get the groups, use str.extract.\n",
      "  sub_self=sub[sub['selftext'].str.contains(r'(.|\\s)*\\S(.|\\s)') & sub['selftext'].notna()]\n"
     ]
    },
    {
     "name": "stdout",
     "output_type": "stream",
     "text": [
      "99\n",
      "1641311179\n"
     ]
    },
    {
     "name": "stderr",
     "output_type": "stream",
     "text": [
      "C:\\Users\\deepi\\AppData\\Local\\Temp\\ipykernel_2232\\1567698967.py:24: UserWarning: This pattern is interpreted as a regular expression, and has match groups. To actually get the groups, use str.extract.\n",
      "  sub_self=sub[sub['selftext'].str.contains(r'(.|\\s)*\\S(.|\\s)') & sub['selftext'].notna()]\n"
     ]
    },
    {
     "name": "stdout",
     "output_type": "stream",
     "text": [
      "99\n",
      "1641167866\n"
     ]
    },
    {
     "name": "stderr",
     "output_type": "stream",
     "text": [
      "C:\\Users\\deepi\\AppData\\Local\\Temp\\ipykernel_2232\\1567698967.py:24: UserWarning: This pattern is interpreted as a regular expression, and has match groups. To actually get the groups, use str.extract.\n",
      "  sub_self=sub[sub['selftext'].str.contains(r'(.|\\s)*\\S(.|\\s)') & sub['selftext'].notna()]\n"
     ]
    },
    {
     "name": "stdout",
     "output_type": "stream",
     "text": [
      "100\n",
      "1640952382\n"
     ]
    },
    {
     "name": "stderr",
     "output_type": "stream",
     "text": [
      "C:\\Users\\deepi\\AppData\\Local\\Temp\\ipykernel_2232\\1567698967.py:24: UserWarning: This pattern is interpreted as a regular expression, and has match groups. To actually get the groups, use str.extract.\n",
      "  sub_self=sub[sub['selftext'].str.contains(r'(.|\\s)*\\S(.|\\s)') & sub['selftext'].notna()]\n"
     ]
    },
    {
     "name": "stdout",
     "output_type": "stream",
     "text": [
      "99\n",
      "1640795386\n"
     ]
    },
    {
     "name": "stderr",
     "output_type": "stream",
     "text": [
      "C:\\Users\\deepi\\AppData\\Local\\Temp\\ipykernel_2232\\1567698967.py:24: UserWarning: This pattern is interpreted as a regular expression, and has match groups. To actually get the groups, use str.extract.\n",
      "  sub_self=sub[sub['selftext'].str.contains(r'(.|\\s)*\\S(.|\\s)') & sub['selftext'].notna()]\n"
     ]
    },
    {
     "name": "stdout",
     "output_type": "stream",
     "text": [
      "100\n",
      "1640636643\n"
     ]
    },
    {
     "name": "stderr",
     "output_type": "stream",
     "text": [
      "C:\\Users\\deepi\\AppData\\Local\\Temp\\ipykernel_2232\\1567698967.py:24: UserWarning: This pattern is interpreted as a regular expression, and has match groups. To actually get the groups, use str.extract.\n",
      "  sub_self=sub[sub['selftext'].str.contains(r'(.|\\s)*\\S(.|\\s)') & sub['selftext'].notna()]\n"
     ]
    },
    {
     "name": "stdout",
     "output_type": "stream",
     "text": [
      "100\n",
      "1640420207\n"
     ]
    },
    {
     "name": "stderr",
     "output_type": "stream",
     "text": [
      "C:\\Users\\deepi\\AppData\\Local\\Temp\\ipykernel_2232\\1567698967.py:24: UserWarning: This pattern is interpreted as a regular expression, and has match groups. To actually get the groups, use str.extract.\n",
      "  sub_self=sub[sub['selftext'].str.contains(r'(.|\\s)*\\S(.|\\s)') & sub['selftext'].notna()]\n"
     ]
    },
    {
     "name": "stdout",
     "output_type": "stream",
     "text": [
      "100\n",
      "1640213522\n"
     ]
    },
    {
     "name": "stderr",
     "output_type": "stream",
     "text": [
      "C:\\Users\\deepi\\AppData\\Local\\Temp\\ipykernel_2232\\1567698967.py:24: UserWarning: This pattern is interpreted as a regular expression, and has match groups. To actually get the groups, use str.extract.\n",
      "  sub_self=sub[sub['selftext'].str.contains(r'(.|\\s)*\\S(.|\\s)') & sub['selftext'].notna()]\n"
     ]
    },
    {
     "name": "stdout",
     "output_type": "stream",
     "text": [
      "100\n",
      "1640025790\n"
     ]
    },
    {
     "name": "stderr",
     "output_type": "stream",
     "text": [
      "C:\\Users\\deepi\\AppData\\Local\\Temp\\ipykernel_2232\\1567698967.py:24: UserWarning: This pattern is interpreted as a regular expression, and has match groups. To actually get the groups, use str.extract.\n",
      "  sub_self=sub[sub['selftext'].str.contains(r'(.|\\s)*\\S(.|\\s)') & sub['selftext'].notna()]\n"
     ]
    },
    {
     "name": "stdout",
     "output_type": "stream",
     "text": [
      "100\n",
      "1639850324\n"
     ]
    },
    {
     "name": "stderr",
     "output_type": "stream",
     "text": [
      "C:\\Users\\deepi\\AppData\\Local\\Temp\\ipykernel_2232\\1567698967.py:24: UserWarning: This pattern is interpreted as a regular expression, and has match groups. To actually get the groups, use str.extract.\n",
      "  sub_self=sub[sub['selftext'].str.contains(r'(.|\\s)*\\S(.|\\s)') & sub['selftext'].notna()]\n"
     ]
    },
    {
     "name": "stdout",
     "output_type": "stream",
     "text": [
      "100\n",
      "1639688638\n"
     ]
    },
    {
     "name": "stderr",
     "output_type": "stream",
     "text": [
      "C:\\Users\\deepi\\AppData\\Local\\Temp\\ipykernel_2232\\1567698967.py:24: UserWarning: This pattern is interpreted as a regular expression, and has match groups. To actually get the groups, use str.extract.\n",
      "  sub_self=sub[sub['selftext'].str.contains(r'(.|\\s)*\\S(.|\\s)') & sub['selftext'].notna()]\n"
     ]
    },
    {
     "name": "stdout",
     "output_type": "stream",
     "text": [
      "99\n",
      "1639503805\n"
     ]
    },
    {
     "name": "stderr",
     "output_type": "stream",
     "text": [
      "C:\\Users\\deepi\\AppData\\Local\\Temp\\ipykernel_2232\\1567698967.py:24: UserWarning: This pattern is interpreted as a regular expression, and has match groups. To actually get the groups, use str.extract.\n",
      "  sub_self=sub[sub['selftext'].str.contains(r'(.|\\s)*\\S(.|\\s)') & sub['selftext'].notna()]\n"
     ]
    },
    {
     "name": "stdout",
     "output_type": "stream",
     "text": [
      "99\n",
      "1639349159\n"
     ]
    },
    {
     "name": "stderr",
     "output_type": "stream",
     "text": [
      "C:\\Users\\deepi\\AppData\\Local\\Temp\\ipykernel_2232\\1567698967.py:24: UserWarning: This pattern is interpreted as a regular expression, and has match groups. To actually get the groups, use str.extract.\n",
      "  sub_self=sub[sub['selftext'].str.contains(r'(.|\\s)*\\S(.|\\s)') & sub['selftext'].notna()]\n"
     ]
    },
    {
     "name": "stdout",
     "output_type": "stream",
     "text": [
      "100\n",
      "1639142897\n"
     ]
    },
    {
     "name": "stderr",
     "output_type": "stream",
     "text": [
      "C:\\Users\\deepi\\AppData\\Local\\Temp\\ipykernel_2232\\1567698967.py:24: UserWarning: This pattern is interpreted as a regular expression, and has match groups. To actually get the groups, use str.extract.\n",
      "  sub_self=sub[sub['selftext'].str.contains(r'(.|\\s)*\\S(.|\\s)') & sub['selftext'].notna()]\n"
     ]
    },
    {
     "name": "stdout",
     "output_type": "stream",
     "text": [
      "100\n",
      "1638983157\n"
     ]
    },
    {
     "name": "stderr",
     "output_type": "stream",
     "text": [
      "C:\\Users\\deepi\\AppData\\Local\\Temp\\ipykernel_2232\\1567698967.py:24: UserWarning: This pattern is interpreted as a regular expression, and has match groups. To actually get the groups, use str.extract.\n",
      "  sub_self=sub[sub['selftext'].str.contains(r'(.|\\s)*\\S(.|\\s)') & sub['selftext'].notna()]\n"
     ]
    },
    {
     "name": "stdout",
     "output_type": "stream",
     "text": [
      "100\n",
      "1638805433\n"
     ]
    },
    {
     "name": "stderr",
     "output_type": "stream",
     "text": [
      "C:\\Users\\deepi\\AppData\\Local\\Temp\\ipykernel_2232\\1567698967.py:24: UserWarning: This pattern is interpreted as a regular expression, and has match groups. To actually get the groups, use str.extract.\n",
      "  sub_self=sub[sub['selftext'].str.contains(r'(.|\\s)*\\S(.|\\s)') & sub['selftext'].notna()]\n"
     ]
    },
    {
     "name": "stdout",
     "output_type": "stream",
     "text": [
      "100\n",
      "1638610662\n"
     ]
    },
    {
     "name": "stderr",
     "output_type": "stream",
     "text": [
      "C:\\Users\\deepi\\AppData\\Local\\Temp\\ipykernel_2232\\1567698967.py:24: UserWarning: This pattern is interpreted as a regular expression, and has match groups. To actually get the groups, use str.extract.\n",
      "  sub_self=sub[sub['selftext'].str.contains(r'(.|\\s)*\\S(.|\\s)') & sub['selftext'].notna()]\n"
     ]
    },
    {
     "name": "stdout",
     "output_type": "stream",
     "text": [
      "100\n",
      "1638438981\n"
     ]
    },
    {
     "name": "stderr",
     "output_type": "stream",
     "text": [
      "C:\\Users\\deepi\\AppData\\Local\\Temp\\ipykernel_2232\\1567698967.py:24: UserWarning: This pattern is interpreted as a regular expression, and has match groups. To actually get the groups, use str.extract.\n",
      "  sub_self=sub[sub['selftext'].str.contains(r'(.|\\s)*\\S(.|\\s)') & sub['selftext'].notna()]\n"
     ]
    },
    {
     "name": "stdout",
     "output_type": "stream",
     "text": [
      "100\n",
      "1638282096\n"
     ]
    },
    {
     "name": "stderr",
     "output_type": "stream",
     "text": [
      "C:\\Users\\deepi\\AppData\\Local\\Temp\\ipykernel_2232\\1567698967.py:24: UserWarning: This pattern is interpreted as a regular expression, and has match groups. To actually get the groups, use str.extract.\n",
      "  sub_self=sub[sub['selftext'].str.contains(r'(.|\\s)*\\S(.|\\s)') & sub['selftext'].notna()]\n"
     ]
    },
    {
     "name": "stdout",
     "output_type": "stream",
     "text": [
      "100\n",
      "1638126365\n"
     ]
    },
    {
     "name": "stderr",
     "output_type": "stream",
     "text": [
      "C:\\Users\\deepi\\AppData\\Local\\Temp\\ipykernel_2232\\1567698967.py:24: UserWarning: This pattern is interpreted as a regular expression, and has match groups. To actually get the groups, use str.extract.\n",
      "  sub_self=sub[sub['selftext'].str.contains(r'(.|\\s)*\\S(.|\\s)') & sub['selftext'].notna()]\n"
     ]
    },
    {
     "name": "stdout",
     "output_type": "stream",
     "text": [
      "100\n",
      "1637929084\n"
     ]
    },
    {
     "name": "stderr",
     "output_type": "stream",
     "text": [
      "C:\\Users\\deepi\\AppData\\Local\\Temp\\ipykernel_2232\\1567698967.py:24: UserWarning: This pattern is interpreted as a regular expression, and has match groups. To actually get the groups, use str.extract.\n",
      "  sub_self=sub[sub['selftext'].str.contains(r'(.|\\s)*\\S(.|\\s)') & sub['selftext'].notna()]\n"
     ]
    },
    {
     "name": "stdout",
     "output_type": "stream",
     "text": [
      "100\n",
      "1637729638\n"
     ]
    },
    {
     "name": "stderr",
     "output_type": "stream",
     "text": [
      "C:\\Users\\deepi\\AppData\\Local\\Temp\\ipykernel_2232\\1567698967.py:24: UserWarning: This pattern is interpreted as a regular expression, and has match groups. To actually get the groups, use str.extract.\n",
      "  sub_self=sub[sub['selftext'].str.contains(r'(.|\\s)*\\S(.|\\s)') & sub['selftext'].notna()]\n"
     ]
    },
    {
     "name": "stdout",
     "output_type": "stream",
     "text": [
      "100\n",
      "1637608494\n"
     ]
    },
    {
     "name": "stderr",
     "output_type": "stream",
     "text": [
      "C:\\Users\\deepi\\AppData\\Local\\Temp\\ipykernel_2232\\1567698967.py:24: UserWarning: This pattern is interpreted as a regular expression, and has match groups. To actually get the groups, use str.extract.\n",
      "  sub_self=sub[sub['selftext'].str.contains(r'(.|\\s)*\\S(.|\\s)') & sub['selftext'].notna()]\n"
     ]
    },
    {
     "name": "stdout",
     "output_type": "stream",
     "text": [
      "100\n",
      "1637425597\n"
     ]
    },
    {
     "name": "stderr",
     "output_type": "stream",
     "text": [
      "C:\\Users\\deepi\\AppData\\Local\\Temp\\ipykernel_2232\\1567698967.py:24: UserWarning: This pattern is interpreted as a regular expression, and has match groups. To actually get the groups, use str.extract.\n",
      "  sub_self=sub[sub['selftext'].str.contains(r'(.|\\s)*\\S(.|\\s)') & sub['selftext'].notna()]\n"
     ]
    },
    {
     "name": "stdout",
     "output_type": "stream",
     "text": [
      "100\n",
      "1637249846\n"
     ]
    },
    {
     "name": "stderr",
     "output_type": "stream",
     "text": [
      "C:\\Users\\deepi\\AppData\\Local\\Temp\\ipykernel_2232\\1567698967.py:24: UserWarning: This pattern is interpreted as a regular expression, and has match groups. To actually get the groups, use str.extract.\n",
      "  sub_self=sub[sub['selftext'].str.contains(r'(.|\\s)*\\S(.|\\s)') & sub['selftext'].notna()]\n"
     ]
    },
    {
     "name": "stdout",
     "output_type": "stream",
     "text": [
      "100\n",
      "1637096172\n"
     ]
    },
    {
     "name": "stderr",
     "output_type": "stream",
     "text": [
      "C:\\Users\\deepi\\AppData\\Local\\Temp\\ipykernel_2232\\1567698967.py:24: UserWarning: This pattern is interpreted as a regular expression, and has match groups. To actually get the groups, use str.extract.\n",
      "  sub_self=sub[sub['selftext'].str.contains(r'(.|\\s)*\\S(.|\\s)') & sub['selftext'].notna()]\n"
     ]
    },
    {
     "name": "stdout",
     "output_type": "stream",
     "text": [
      "100\n",
      "1636964145\n"
     ]
    },
    {
     "name": "stderr",
     "output_type": "stream",
     "text": [
      "C:\\Users\\deepi\\AppData\\Local\\Temp\\ipykernel_2232\\1567698967.py:24: UserWarning: This pattern is interpreted as a regular expression, and has match groups. To actually get the groups, use str.extract.\n",
      "  sub_self=sub[sub['selftext'].str.contains(r'(.|\\s)*\\S(.|\\s)') & sub['selftext'].notna()]\n"
     ]
    },
    {
     "name": "stdout",
     "output_type": "stream",
     "text": [
      "100\n",
      "1636776883\n"
     ]
    },
    {
     "name": "stderr",
     "output_type": "stream",
     "text": [
      "C:\\Users\\deepi\\AppData\\Local\\Temp\\ipykernel_2232\\1567698967.py:24: UserWarning: This pattern is interpreted as a regular expression, and has match groups. To actually get the groups, use str.extract.\n",
      "  sub_self=sub[sub['selftext'].str.contains(r'(.|\\s)*\\S(.|\\s)') & sub['selftext'].notna()]\n"
     ]
    },
    {
     "name": "stdout",
     "output_type": "stream",
     "text": [
      "100\n",
      "1636649539\n"
     ]
    },
    {
     "name": "stderr",
     "output_type": "stream",
     "text": [
      "C:\\Users\\deepi\\AppData\\Local\\Temp\\ipykernel_2232\\1567698967.py:24: UserWarning: This pattern is interpreted as a regular expression, and has match groups. To actually get the groups, use str.extract.\n",
      "  sub_self=sub[sub['selftext'].str.contains(r'(.|\\s)*\\S(.|\\s)') & sub['selftext'].notna()]\n"
     ]
    },
    {
     "name": "stdout",
     "output_type": "stream",
     "text": [
      "100\n",
      "1636496815\n"
     ]
    },
    {
     "name": "stderr",
     "output_type": "stream",
     "text": [
      "C:\\Users\\deepi\\AppData\\Local\\Temp\\ipykernel_2232\\1567698967.py:24: UserWarning: This pattern is interpreted as a regular expression, and has match groups. To actually get the groups, use str.extract.\n",
      "  sub_self=sub[sub['selftext'].str.contains(r'(.|\\s)*\\S(.|\\s)') & sub['selftext'].notna()]\n"
     ]
    },
    {
     "name": "stdout",
     "output_type": "stream",
     "text": [
      "99\n",
      "1636372968\n"
     ]
    },
    {
     "name": "stderr",
     "output_type": "stream",
     "text": [
      "C:\\Users\\deepi\\AppData\\Local\\Temp\\ipykernel_2232\\1567698967.py:24: UserWarning: This pattern is interpreted as a regular expression, and has match groups. To actually get the groups, use str.extract.\n",
      "  sub_self=sub[sub['selftext'].str.contains(r'(.|\\s)*\\S(.|\\s)') & sub['selftext'].notna()]\n"
     ]
    },
    {
     "name": "stdout",
     "output_type": "stream",
     "text": [
      "100\n",
      "1636170875\n"
     ]
    },
    {
     "name": "stderr",
     "output_type": "stream",
     "text": [
      "C:\\Users\\deepi\\AppData\\Local\\Temp\\ipykernel_2232\\1567698967.py:24: UserWarning: This pattern is interpreted as a regular expression, and has match groups. To actually get the groups, use str.extract.\n",
      "  sub_self=sub[sub['selftext'].str.contains(r'(.|\\s)*\\S(.|\\s)') & sub['selftext'].notna()]\n"
     ]
    },
    {
     "name": "stdout",
     "output_type": "stream",
     "text": [
      "100\n",
      "1636025738\n"
     ]
    },
    {
     "name": "stderr",
     "output_type": "stream",
     "text": [
      "C:\\Users\\deepi\\AppData\\Local\\Temp\\ipykernel_2232\\1567698967.py:24: UserWarning: This pattern is interpreted as a regular expression, and has match groups. To actually get the groups, use str.extract.\n",
      "  sub_self=sub[sub['selftext'].str.contains(r'(.|\\s)*\\S(.|\\s)') & sub['selftext'].notna()]\n"
     ]
    },
    {
     "name": "stdout",
     "output_type": "stream",
     "text": [
      "99\n",
      "1635877446\n"
     ]
    },
    {
     "name": "stderr",
     "output_type": "stream",
     "text": [
      "C:\\Users\\deepi\\AppData\\Local\\Temp\\ipykernel_2232\\1567698967.py:24: UserWarning: This pattern is interpreted as a regular expression, and has match groups. To actually get the groups, use str.extract.\n",
      "  sub_self=sub[sub['selftext'].str.contains(r'(.|\\s)*\\S(.|\\s)') & sub['selftext'].notna()]\n"
     ]
    },
    {
     "name": "stdout",
     "output_type": "stream",
     "text": [
      "99\n",
      "1635710871\n"
     ]
    },
    {
     "name": "stderr",
     "output_type": "stream",
     "text": [
      "C:\\Users\\deepi\\AppData\\Local\\Temp\\ipykernel_2232\\1567698967.py:24: UserWarning: This pattern is interpreted as a regular expression, and has match groups. To actually get the groups, use str.extract.\n",
      "  sub_self=sub[sub['selftext'].str.contains(r'(.|\\s)*\\S(.|\\s)') & sub['selftext'].notna()]\n"
     ]
    },
    {
     "name": "stdout",
     "output_type": "stream",
     "text": [
      "98\n",
      "1635530770\n"
     ]
    },
    {
     "name": "stderr",
     "output_type": "stream",
     "text": [
      "C:\\Users\\deepi\\AppData\\Local\\Temp\\ipykernel_2232\\1567698967.py:24: UserWarning: This pattern is interpreted as a regular expression, and has match groups. To actually get the groups, use str.extract.\n",
      "  sub_self=sub[sub['selftext'].str.contains(r'(.|\\s)*\\S(.|\\s)') & sub['selftext'].notna()]\n"
     ]
    },
    {
     "name": "stdout",
     "output_type": "stream",
     "text": [
      "98\n",
      "1635379931\n"
     ]
    },
    {
     "name": "stderr",
     "output_type": "stream",
     "text": [
      "C:\\Users\\deepi\\AppData\\Local\\Temp\\ipykernel_2232\\1567698967.py:24: UserWarning: This pattern is interpreted as a regular expression, and has match groups. To actually get the groups, use str.extract.\n",
      "  sub_self=sub[sub['selftext'].str.contains(r'(.|\\s)*\\S(.|\\s)') & sub['selftext'].notna()]\n"
     ]
    },
    {
     "name": "stdout",
     "output_type": "stream",
     "text": [
      "98\n",
      "1635260673\n"
     ]
    },
    {
     "name": "stderr",
     "output_type": "stream",
     "text": [
      "C:\\Users\\deepi\\AppData\\Local\\Temp\\ipykernel_2232\\1567698967.py:24: UserWarning: This pattern is interpreted as a regular expression, and has match groups. To actually get the groups, use str.extract.\n",
      "  sub_self=sub[sub['selftext'].str.contains(r'(.|\\s)*\\S(.|\\s)') & sub['selftext'].notna()]\n"
     ]
    },
    {
     "name": "stdout",
     "output_type": "stream",
     "text": [
      "100\n",
      "1635124423\n"
     ]
    },
    {
     "name": "stderr",
     "output_type": "stream",
     "text": [
      "C:\\Users\\deepi\\AppData\\Local\\Temp\\ipykernel_2232\\1567698967.py:24: UserWarning: This pattern is interpreted as a regular expression, and has match groups. To actually get the groups, use str.extract.\n",
      "  sub_self=sub[sub['selftext'].str.contains(r'(.|\\s)*\\S(.|\\s)') & sub['selftext'].notna()]\n"
     ]
    },
    {
     "name": "stdout",
     "output_type": "stream",
     "text": [
      "100\n",
      "1634928910\n"
     ]
    },
    {
     "name": "stderr",
     "output_type": "stream",
     "text": [
      "C:\\Users\\deepi\\AppData\\Local\\Temp\\ipykernel_2232\\1567698967.py:24: UserWarning: This pattern is interpreted as a regular expression, and has match groups. To actually get the groups, use str.extract.\n",
      "  sub_self=sub[sub['selftext'].str.contains(r'(.|\\s)*\\S(.|\\s)') & sub['selftext'].notna()]\n"
     ]
    },
    {
     "name": "stdout",
     "output_type": "stream",
     "text": [
      "100\n",
      "1634758298\n"
     ]
    },
    {
     "name": "stderr",
     "output_type": "stream",
     "text": [
      "C:\\Users\\deepi\\AppData\\Local\\Temp\\ipykernel_2232\\1567698967.py:24: UserWarning: This pattern is interpreted as a regular expression, and has match groups. To actually get the groups, use str.extract.\n",
      "  sub_self=sub[sub['selftext'].str.contains(r'(.|\\s)*\\S(.|\\s)') & sub['selftext'].notna()]\n"
     ]
    },
    {
     "name": "stdout",
     "output_type": "stream",
     "text": [
      "100\n",
      "1634612173\n"
     ]
    },
    {
     "name": "stderr",
     "output_type": "stream",
     "text": [
      "C:\\Users\\deepi\\AppData\\Local\\Temp\\ipykernel_2232\\1567698967.py:24: UserWarning: This pattern is interpreted as a regular expression, and has match groups. To actually get the groups, use str.extract.\n",
      "  sub_self=sub[sub['selftext'].str.contains(r'(.|\\s)*\\S(.|\\s)') & sub['selftext'].notna()]\n"
     ]
    },
    {
     "name": "stdout",
     "output_type": "stream",
     "text": [
      "100\n",
      "1634451036\n"
     ]
    },
    {
     "name": "stderr",
     "output_type": "stream",
     "text": [
      "C:\\Users\\deepi\\AppData\\Local\\Temp\\ipykernel_2232\\1567698967.py:24: UserWarning: This pattern is interpreted as a regular expression, and has match groups. To actually get the groups, use str.extract.\n",
      "  sub_self=sub[sub['selftext'].str.contains(r'(.|\\s)*\\S(.|\\s)') & sub['selftext'].notna()]\n"
     ]
    },
    {
     "name": "stdout",
     "output_type": "stream",
     "text": [
      "100\n",
      "1634249828\n"
     ]
    },
    {
     "name": "stderr",
     "output_type": "stream",
     "text": [
      "C:\\Users\\deepi\\AppData\\Local\\Temp\\ipykernel_2232\\1567698967.py:24: UserWarning: This pattern is interpreted as a regular expression, and has match groups. To actually get the groups, use str.extract.\n",
      "  sub_self=sub[sub['selftext'].str.contains(r'(.|\\s)*\\S(.|\\s)') & sub['selftext'].notna()]\n"
     ]
    },
    {
     "name": "stdout",
     "output_type": "stream",
     "text": [
      "100\n",
      "1634118677\n"
     ]
    },
    {
     "name": "stderr",
     "output_type": "stream",
     "text": [
      "C:\\Users\\deepi\\AppData\\Local\\Temp\\ipykernel_2232\\1567698967.py:24: UserWarning: This pattern is interpreted as a regular expression, and has match groups. To actually get the groups, use str.extract.\n",
      "  sub_self=sub[sub['selftext'].str.contains(r'(.|\\s)*\\S(.|\\s)') & sub['selftext'].notna()]\n"
     ]
    },
    {
     "name": "stdout",
     "output_type": "stream",
     "text": [
      "100\n",
      "1633971146\n"
     ]
    },
    {
     "name": "stderr",
     "output_type": "stream",
     "text": [
      "C:\\Users\\deepi\\AppData\\Local\\Temp\\ipykernel_2232\\1567698967.py:24: UserWarning: This pattern is interpreted as a regular expression, and has match groups. To actually get the groups, use str.extract.\n",
      "  sub_self=sub[sub['selftext'].str.contains(r'(.|\\s)*\\S(.|\\s)') & sub['selftext'].notna()]\n"
     ]
    },
    {
     "name": "stdout",
     "output_type": "stream",
     "text": [
      "100\n",
      "1633782122\n"
     ]
    },
    {
     "name": "stderr",
     "output_type": "stream",
     "text": [
      "C:\\Users\\deepi\\AppData\\Local\\Temp\\ipykernel_2232\\1567698967.py:24: UserWarning: This pattern is interpreted as a regular expression, and has match groups. To actually get the groups, use str.extract.\n",
      "  sub_self=sub[sub['selftext'].str.contains(r'(.|\\s)*\\S(.|\\s)') & sub['selftext'].notna()]\n"
     ]
    },
    {
     "name": "stdout",
     "output_type": "stream",
     "text": [
      "100\n",
      "1633561311\n"
     ]
    },
    {
     "name": "stderr",
     "output_type": "stream",
     "text": [
      "C:\\Users\\deepi\\AppData\\Local\\Temp\\ipykernel_2232\\1567698967.py:24: UserWarning: This pattern is interpreted as a regular expression, and has match groups. To actually get the groups, use str.extract.\n",
      "  sub_self=sub[sub['selftext'].str.contains(r'(.|\\s)*\\S(.|\\s)') & sub['selftext'].notna()]\n"
     ]
    },
    {
     "name": "stdout",
     "output_type": "stream",
     "text": [
      "99\n",
      "1633381737\n"
     ]
    },
    {
     "name": "stderr",
     "output_type": "stream",
     "text": [
      "C:\\Users\\deepi\\AppData\\Local\\Temp\\ipykernel_2232\\1567698967.py:24: UserWarning: This pattern is interpreted as a regular expression, and has match groups. To actually get the groups, use str.extract.\n",
      "  sub_self=sub[sub['selftext'].str.contains(r'(.|\\s)*\\S(.|\\s)') & sub['selftext'].notna()]\n"
     ]
    },
    {
     "name": "stdout",
     "output_type": "stream",
     "text": [
      "100\n",
      "1633197407\n"
     ]
    },
    {
     "name": "stderr",
     "output_type": "stream",
     "text": [
      "C:\\Users\\deepi\\AppData\\Local\\Temp\\ipykernel_2232\\1567698967.py:24: UserWarning: This pattern is interpreted as a regular expression, and has match groups. To actually get the groups, use str.extract.\n",
      "  sub_self=sub[sub['selftext'].str.contains(r'(.|\\s)*\\S(.|\\s)') & sub['selftext'].notna()]\n"
     ]
    },
    {
     "name": "stdout",
     "output_type": "stream",
     "text": [
      "100\n",
      "1633027753\n"
     ]
    },
    {
     "name": "stderr",
     "output_type": "stream",
     "text": [
      "C:\\Users\\deepi\\AppData\\Local\\Temp\\ipykernel_2232\\1567698967.py:24: UserWarning: This pattern is interpreted as a regular expression, and has match groups. To actually get the groups, use str.extract.\n",
      "  sub_self=sub[sub['selftext'].str.contains(r'(.|\\s)*\\S(.|\\s)') & sub['selftext'].notna()]\n"
     ]
    },
    {
     "name": "stdout",
     "output_type": "stream",
     "text": [
      "100\n",
      "1632850918\n"
     ]
    },
    {
     "name": "stderr",
     "output_type": "stream",
     "text": [
      "C:\\Users\\deepi\\AppData\\Local\\Temp\\ipykernel_2232\\1567698967.py:24: UserWarning: This pattern is interpreted as a regular expression, and has match groups. To actually get the groups, use str.extract.\n",
      "  sub_self=sub[sub['selftext'].str.contains(r'(.|\\s)*\\S(.|\\s)') & sub['selftext'].notna()]\n"
     ]
    },
    {
     "name": "stdout",
     "output_type": "stream",
     "text": [
      "100\n",
      "1632687518\n"
     ]
    },
    {
     "name": "stderr",
     "output_type": "stream",
     "text": [
      "C:\\Users\\deepi\\AppData\\Local\\Temp\\ipykernel_2232\\1567698967.py:24: UserWarning: This pattern is interpreted as a regular expression, and has match groups. To actually get the groups, use str.extract.\n",
      "  sub_self=sub[sub['selftext'].str.contains(r'(.|\\s)*\\S(.|\\s)') & sub['selftext'].notna()]\n"
     ]
    },
    {
     "name": "stdout",
     "output_type": "stream",
     "text": [
      "100\n",
      "1632489758\n"
     ]
    },
    {
     "name": "stderr",
     "output_type": "stream",
     "text": [
      "C:\\Users\\deepi\\AppData\\Local\\Temp\\ipykernel_2232\\1567698967.py:24: UserWarning: This pattern is interpreted as a regular expression, and has match groups. To actually get the groups, use str.extract.\n",
      "  sub_self=sub[sub['selftext'].str.contains(r'(.|\\s)*\\S(.|\\s)') & sub['selftext'].notna()]\n"
     ]
    },
    {
     "name": "stdout",
     "output_type": "stream",
     "text": [
      "100\n",
      "1632328365\n"
     ]
    },
    {
     "name": "stderr",
     "output_type": "stream",
     "text": [
      "C:\\Users\\deepi\\AppData\\Local\\Temp\\ipykernel_2232\\1567698967.py:24: UserWarning: This pattern is interpreted as a regular expression, and has match groups. To actually get the groups, use str.extract.\n",
      "  sub_self=sub[sub['selftext'].str.contains(r'(.|\\s)*\\S(.|\\s)') & sub['selftext'].notna()]\n"
     ]
    },
    {
     "name": "stdout",
     "output_type": "stream",
     "text": [
      "100\n",
      "1632159776\n"
     ]
    },
    {
     "name": "stderr",
     "output_type": "stream",
     "text": [
      "C:\\Users\\deepi\\AppData\\Local\\Temp\\ipykernel_2232\\1567698967.py:24: UserWarning: This pattern is interpreted as a regular expression, and has match groups. To actually get the groups, use str.extract.\n",
      "  sub_self=sub[sub['selftext'].str.contains(r'(.|\\s)*\\S(.|\\s)') & sub['selftext'].notna()]\n"
     ]
    },
    {
     "name": "stdout",
     "output_type": "stream",
     "text": [
      "100\n",
      "1631957777\n"
     ]
    },
    {
     "name": "stderr",
     "output_type": "stream",
     "text": [
      "C:\\Users\\deepi\\AppData\\Local\\Temp\\ipykernel_2232\\1567698967.py:24: UserWarning: This pattern is interpreted as a regular expression, and has match groups. To actually get the groups, use str.extract.\n",
      "  sub_self=sub[sub['selftext'].str.contains(r'(.|\\s)*\\S(.|\\s)') & sub['selftext'].notna()]\n"
     ]
    },
    {
     "name": "stdout",
     "output_type": "stream",
     "text": [
      "100\n",
      "1631805993\n"
     ]
    }
   ],
   "source": [
    "engg_sub_parent=get_engg_data()"
   ]
  },
  {
   "cell_type": "code",
   "execution_count": null,
   "id": "eaf9b89c-b56c-4b92-9c2b-a1636c0628a7",
   "metadata": {},
   "outputs": [],
   "source": []
  }
 ],
 "metadata": {
  "kernelspec": {
   "display_name": "Python 3 (ipykernel)",
   "language": "python",
   "name": "python3"
  },
  "language_info": {
   "codemirror_mode": {
    "name": "ipython",
    "version": 3
   },
   "file_extension": ".py",
   "mimetype": "text/x-python",
   "name": "python",
   "nbconvert_exporter": "python",
   "pygments_lexer": "ipython3",
   "version": "3.9.12"
  }
 },
 "nbformat": 4,
 "nbformat_minor": 5
}
