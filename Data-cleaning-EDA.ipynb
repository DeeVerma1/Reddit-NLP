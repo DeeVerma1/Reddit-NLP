{
 "cells": [
  {
   "cell_type": "code",
   "execution_count": 379,
   "id": "b21dc79a-7707-4c95-99c1-d35abc57ed57",
   "metadata": {},
   "outputs": [],
   "source": [
    "import pandas as pd\n",
    "import requests\n",
    "import datetime as dt\n",
    "import time\n",
    "import re\n",
    "\n",
    "from nltk.tokenize import sent_tokenize, word_tokenize, RegexpTokenizer\n",
    "from nltk.stem import WordNetLemmatizer\n",
    "from nltk.stem.porter import PorterStemmer\n",
    "from nltk.corpus import stopwords\n",
    "from nltk.sentiment.vader import SentimentIntensityAnalyzer\n",
    "import re\n",
    "\n",
    "import spacy\n",
    "import spacy.cli\n",
    "\n",
    "import contractions\n",
    "import unicodedata\n",
    "import string"
   ]
  },
  {
   "cell_type": "code",
   "execution_count": 82,
   "id": "daea0ffe-9942-472b-bc5c-8e800860a071",
   "metadata": {},
   "outputs": [],
   "source": [
    "pd.set_option(\"display.max_rows\", None, \"display.max_columns\", None)\n",
    "#pd.set_option('max_colwidth',800)"
   ]
  },
  {
   "cell_type": "code",
   "execution_count": 84,
   "id": "9cbc0077-f31b-41e9-9e3e-099bd962699d",
   "metadata": {},
   "outputs": [],
   "source": [
    "parent_askscience=pd.read_csv('./datasets/askscience/submissions.csv')"
   ]
  },
  {
   "cell_type": "code",
   "execution_count": 222,
   "id": "f704652c-f57e-4daa-b851-594aff80ffc6",
   "metadata": {},
   "outputs": [],
   "source": [
    "parent_askengineers=pd.read_csv('./datasets/askengineers/submissions.csv',nrows=5074)"
   ]
  },
  {
   "cell_type": "code",
   "execution_count": 224,
   "id": "d55966f5-1655-47f3-8837-fba39b9af6d3",
   "metadata": {},
   "outputs": [
    {
     "data": {
      "text/plain": [
       "((5074, 102), (5074, 80))"
      ]
     },
     "execution_count": 224,
     "metadata": {},
     "output_type": "execute_result"
    }
   ],
   "source": [
    "parent_askscience.shape, parent_askengineers.shape"
   ]
  },
  {
   "cell_type": "code",
   "execution_count": 225,
   "id": "5eda11b7-fe74-4df0-b258-b7b685064eac",
   "metadata": {},
   "outputs": [
    {
     "data": {
      "text/plain": [
       "Index(['all_awardings', 'allow_live_comments', 'author',\n",
       "       'author_flair_background_color', 'author_flair_css_class',\n",
       "       'author_flair_richtext', 'author_flair_text', 'author_flair_text_color',\n",
       "       'author_flair_type', 'author_fullname',\n",
       "       ...\n",
       "       'can_gild', 'hidden', 'media', 'quarantine', 'secure_media',\n",
       "       'subreddit_name_prefixed', 'rte_mode', 'author_id', 'brand_safe',\n",
       "       'previous_visits'],\n",
       "      dtype='object', length=102)"
      ]
     },
     "execution_count": 225,
     "metadata": {},
     "output_type": "execute_result"
    }
   ],
   "source": [
    "parent_askscience.columns"
   ]
  },
  {
   "cell_type": "code",
   "execution_count": 226,
   "id": "30e0a6a4-4d35-47cf-bb6d-2e44e6b37b74",
   "metadata": {},
   "outputs": [],
   "source": [
    "#picking some features that might be interesting to explore\n",
    "features=['created_utc','id','author','num_comments','score','selftext','subreddit','title']"
   ]
  },
  {
   "cell_type": "code",
   "execution_count": 513,
   "id": "d14abebe-e10d-49a0-b72d-2df8c5bde0b2",
   "metadata": {},
   "outputs": [
    {
     "data": {
      "text/plain": [
       "((5074, 8), (5074, 8))"
      ]
     },
     "execution_count": 513,
     "metadata": {},
     "output_type": "execute_result"
    }
   ],
   "source": [
    "askscience_df=parent_askscience[features].copy()\n",
    "askengineers_df=parent_askengineers[features].copy()\n",
    "askscience_df.shape, askengineers_df.shape"
   ]
  },
  {
   "cell_type": "code",
   "execution_count": 331,
   "id": "2b989a3b-cd15-479d-a689-9891d5ee988b",
   "metadata": {},
   "outputs": [
    {
     "data": {
      "text/plain": [
       "askscience    5074\n",
       "Name: subreddit, dtype: int64"
      ]
     },
     "execution_count": 331,
     "metadata": {},
     "output_type": "execute_result"
    }
   ],
   "source": [
    "askscience_df['subreddit'].value_counts()"
   ]
  },
  {
   "cell_type": "code",
   "execution_count": 332,
   "id": "d5f53dee-9ed1-4c8b-aa7d-6b87d62324bb",
   "metadata": {},
   "outputs": [
    {
     "data": {
      "text/plain": [
       "AskEngineers    5074\n",
       "Name: subreddit, dtype: int64"
      ]
     },
     "execution_count": 332,
     "metadata": {},
     "output_type": "execute_result"
    }
   ],
   "source": [
    "askengineers_df['subreddit'].value_counts()"
   ]
  },
  {
   "cell_type": "code",
   "execution_count": 333,
   "id": "b09fd5e4-af6d-4e12-94f1-231c2190bd50",
   "metadata": {
    "scrolled": true,
    "tags": []
   },
   "outputs": [
    {
     "data": {
      "text/html": [
       "<div>\n",
       "<style scoped>\n",
       "    .dataframe tbody tr th:only-of-type {\n",
       "        vertical-align: middle;\n",
       "    }\n",
       "\n",
       "    .dataframe tbody tr th {\n",
       "        vertical-align: top;\n",
       "    }\n",
       "\n",
       "    .dataframe thead th {\n",
       "        text-align: right;\n",
       "    }\n",
       "</style>\n",
       "<table border=\"1\" class=\"dataframe\">\n",
       "  <thead>\n",
       "    <tr style=\"text-align: right;\">\n",
       "      <th></th>\n",
       "      <th>created_utc</th>\n",
       "      <th>id</th>\n",
       "      <th>author</th>\n",
       "      <th>num_comments</th>\n",
       "      <th>score</th>\n",
       "      <th>selftext</th>\n",
       "      <th>subreddit</th>\n",
       "      <th>title</th>\n",
       "    </tr>\n",
       "  </thead>\n",
       "  <tbody>\n",
       "    <tr>\n",
       "      <th>0</th>\n",
       "      <td>1663962461</td>\n",
       "      <td>xm7a6n</td>\n",
       "      <td>bmarcus128</td>\n",
       "      <td>0</td>\n",
       "      <td>1</td>\n",
       "      <td>My typical body temperature hovers around 97.8 F. I'm recovering from COVID, and my temperature is currently about 98.8 F. Do I have a fever? (In other words, is a fever an elevated temperature compared to an individual's baseline or is it a temperature above a certain number?)</td>\n",
       "      <td>askscience</td>\n",
       "      <td>Does 98.6 Count as a Fever if Your Average Body Temp Trends Low?</td>\n",
       "    </tr>\n",
       "    <tr>\n",
       "      <th>1</th>\n",
       "      <td>1663947109</td>\n",
       "      <td>xm0pl0</td>\n",
       "      <td>ChrisGnam</td>\n",
       "      <td>0</td>\n",
       "      <td>1</td>\n",
       "      <td>Electrons are extraordinarily simple, composed of just a few quantum properties like charge, spin, and mass.  Why would we not expect every single Electron to have these same identical properties?  Especially since these properties are quantized (i.e., you cannot have a spin that is not a half integer value, or a charge that is not an integer multiple of a fundamental charge).\\n\\nWas the original postulate even more light hearted than I thought (even if it did provide insight to Feynman)?  Or is there actually something interesting to be learned by realizing all electrons are the same?</td>\n",
       "      <td>askscience</td>\n",
       "      <td>The \"one-Electron universe\" was somewhat humorously proposed to explain why every Electron is identical. But why would that need explaining? Why should we expect electrons to not be identical?</td>\n",
       "    </tr>\n",
       "    <tr>\n",
       "      <th>2</th>\n",
       "      <td>1663930837</td>\n",
       "      <td>xludsa</td>\n",
       "      <td>AskScienceModerator</td>\n",
       "      <td>0</td>\n",
       "      <td>1</td>\n",
       "      <td>**What are you doing to get clean air?**\\n\\nAs the fear of airborne illnesses has heightened, people have understandably become much more concerned about potentially contagious strangers and are choosing to go where high air quality standards are maintained. Conventional approaches have been focused on making filters tighter, but filter media can only be made so small before becoming difficult to move air effectively or efficiently. Reducing nanoparticles by agglomerating them into larger, aggregated clusters is the key. Larger particles are more easily mitigated and fall to the ground more quickly. Atmofizer is leading 4th generation in air technology, with patented agglomeration tech using acoustic pressure waves to reduce airborne nanoscopic particles-without using filters and savin...</td>\n",
       "      <td>askscience</td>\n",
       "      <td>AskScience AMA Series: Hi! We are Stephanie Walton and Whit Pepper, scientist and chief commercial officer of clean-air company ATMOFIZER with patented technology designed to reduce indoor ultra-fine particles and deactivate airborne viruses/bacteria without using a filter. Ask us Anything!</td>\n",
       "    </tr>\n",
       "    <tr>\n",
       "      <th>3</th>\n",
       "      <td>1663758037</td>\n",
       "      <td>xk1pns</td>\n",
       "      <td>AskScienceModerator</td>\n",
       "      <td>0</td>\n",
       "      <td>1</td>\n",
       "      <td>Join our expert panel to discuss this year's #PeerReviewWeek22 theme #ResearchIntegrity: creating and supporting trust in research.\\n\\nThe Royal Society is hosting a live session on 21st September to enable our community all over the world to interact with industry experts. Simply reply to this post with your peer review questions following the theme of #ResearchIntegrity before or during the event and we'll answer them live, giving you a diverse range of answers.\\n\\nWe'll be on at 3pm BST (11 AM ET), ask us anything!\\n\\n**Panellist biographies**\\n\\n+ **Panellist - Professor John Hutchinson**, Professor of Evolutionary Biomechanics, Royal Veterinary College, University of London\\n  + [Professor John Hutchinson](https://www.rvc.ac.uk/about/our-people/john-hutchinson) is a Professor of E...</td>\n",
       "      <td>askscience</td>\n",
       "      <td>AskScience AMA Series: We're excited to bring you industry experts from the Royal Society for Peer Review Week 2022. Join our experts who will be answering all your questions around the theme 'Research Integrity: Creating and supporting trust in research'. Ask us anything! All welcome.</td>\n",
       "    </tr>\n",
       "    <tr>\n",
       "      <th>4</th>\n",
       "      <td>1663420203</td>\n",
       "      <td>xgm3s1</td>\n",
       "      <td>PlacatedPlatypus</td>\n",
       "      <td>0</td>\n",
       "      <td>1</td>\n",
       "      <td>I recently read that the oldest dog ever lived to be more than 29 years old. Even by the most conservative \"dog age to human age\" calculations, this seems to be around 140 years in human age. This is significantly higher than the oldest human lifespan ever recorded, which led me to wonder if the translation breaks down as dogs get older. \\n\\nIt's already known to be non-linear because temporal age and developmental age aren't linearly transferable across species, but it makes me wonder if dogs actually have higher lifespan variance than humans or if it's just an incomplete model.</td>\n",
       "      <td>askscience</td>\n",
       "      <td>How Accurate Are the Estimates of Dog Aging Translated to Human Aging?</td>\n",
       "    </tr>\n",
       "  </tbody>\n",
       "</table>\n",
       "</div>"
      ],
      "text/plain": [
       "   created_utc      id               author  num_comments  score  \\\n",
       "0   1663962461  xm7a6n           bmarcus128             0      1   \n",
       "1   1663947109  xm0pl0            ChrisGnam             0      1   \n",
       "2   1663930837  xludsa  AskScienceModerator             0      1   \n",
       "3   1663758037  xk1pns  AskScienceModerator             0      1   \n",
       "4   1663420203  xgm3s1     PlacatedPlatypus             0      1   \n",
       "\n",
       "                                                                                                                                                                                                                                                                                                                                                                                                                                                                                                                                                                                                                                                                                                                                                                                                                          selftext  \\\n",
       "0                                                                                                                                                                                                                                                                                                                                                                                                                                                                                                                                           My typical body temperature hovers around 97.8 F. I'm recovering from COVID, and my temperature is currently about 98.8 F. Do I have a fever? (In other words, is a fever an elevated temperature compared to an individual's baseline or is it a temperature above a certain number?)   \n",
       "1                                                                                                                                                                                                                 Electrons are extraordinarily simple, composed of just a few quantum properties like charge, spin, and mass.  Why would we not expect every single Electron to have these same identical properties?  Especially since these properties are quantized (i.e., you cannot have a spin that is not a half integer value, or a charge that is not an integer multiple of a fundamental charge).\\n\\nWas the original postulate even more light hearted than I thought (even if it did provide insight to Feynman)?  Or is there actually something interesting to be learned by realizing all electrons are the same?   \n",
       "2  **What are you doing to get clean air?**\\n\\nAs the fear of airborne illnesses has heightened, people have understandably become much more concerned about potentially contagious strangers and are choosing to go where high air quality standards are maintained. Conventional approaches have been focused on making filters tighter, but filter media can only be made so small before becoming difficult to move air effectively or efficiently. Reducing nanoparticles by agglomerating them into larger, aggregated clusters is the key. Larger particles are more easily mitigated and fall to the ground more quickly. Atmofizer is leading 4th generation in air technology, with patented agglomeration tech using acoustic pressure waves to reduce airborne nanoscopic particles-without using filters and savin...   \n",
       "3  Join our expert panel to discuss this year's #PeerReviewWeek22 theme #ResearchIntegrity: creating and supporting trust in research.\\n\\nThe Royal Society is hosting a live session on 21st September to enable our community all over the world to interact with industry experts. Simply reply to this post with your peer review questions following the theme of #ResearchIntegrity before or during the event and we'll answer them live, giving you a diverse range of answers.\\n\\nWe'll be on at 3pm BST (11 AM ET), ask us anything!\\n\\n**Panellist biographies**\\n\\n+ **Panellist - Professor John Hutchinson**, Professor of Evolutionary Biomechanics, Royal Veterinary College, University of London\\n  + [Professor John Hutchinson](https://www.rvc.ac.uk/about/our-people/john-hutchinson) is a Professor of E...   \n",
       "4                                                                                                                                                                                                                       I recently read that the oldest dog ever lived to be more than 29 years old. Even by the most conservative \"dog age to human age\" calculations, this seems to be around 140 years in human age. This is significantly higher than the oldest human lifespan ever recorded, which led me to wonder if the translation breaks down as dogs get older. \\n\\nIt's already known to be non-linear because temporal age and developmental age aren't linearly transferable across species, but it makes me wonder if dogs actually have higher lifespan variance than humans or if it's just an incomplete model.   \n",
       "\n",
       "    subreddit  \\\n",
       "0  askscience   \n",
       "1  askscience   \n",
       "2  askscience   \n",
       "3  askscience   \n",
       "4  askscience   \n",
       "\n",
       "                                                                                                                                                                                                                                                                                                 title  \n",
       "0                                                                                                                                                                                                                                     Does 98.6 Count as a Fever if Your Average Body Temp Trends Low?  \n",
       "1                                                                                                     The \"one-Electron universe\" was somewhat humorously proposed to explain why every Electron is identical. But why would that need explaining? Why should we expect electrons to not be identical?  \n",
       "2  AskScience AMA Series: Hi! We are Stephanie Walton and Whit Pepper, scientist and chief commercial officer of clean-air company ATMOFIZER with patented technology designed to reduce indoor ultra-fine particles and deactivate airborne viruses/bacteria without using a filter. Ask us Anything!  \n",
       "3       AskScience AMA Series: We're excited to bring you industry experts from the Royal Society for Peer Review Week 2022. Join our experts who will be answering all your questions around the theme 'Research Integrity: Creating and supporting trust in research'. Ask us anything! All welcome.  \n",
       "4                                                                                                                                                                                                                               How Accurate Are the Estimates of Dog Aging Translated to Human Aging?  "
      ]
     },
     "execution_count": 333,
     "metadata": {},
     "output_type": "execute_result"
    }
   ],
   "source": [
    "askscience_df.head()"
   ]
  },
  {
   "cell_type": "code",
   "execution_count": 334,
   "id": "5b17c8a3-0260-4c5a-95fd-53268321c93d",
   "metadata": {},
   "outputs": [
    {
     "data": {
      "text/plain": [
       "created_utc     0\n",
       "id              0\n",
       "author          0\n",
       "num_comments    0\n",
       "score           0\n",
       "selftext        0\n",
       "subreddit       0\n",
       "title           0\n",
       "dtype: int64"
      ]
     },
     "execution_count": 334,
     "metadata": {},
     "output_type": "execute_result"
    }
   ],
   "source": [
    "askscience_df.isnull().sum()"
   ]
  },
  {
   "cell_type": "code",
   "execution_count": 335,
   "id": "ce8c45a9-d3eb-4194-9912-4ffaf3fec81b",
   "metadata": {},
   "outputs": [
    {
     "data": {
      "text/plain": [
       "created_utc     0\n",
       "id              0\n",
       "author          0\n",
       "num_comments    0\n",
       "score           0\n",
       "selftext        0\n",
       "subreddit       0\n",
       "title           0\n",
       "dtype: int64"
      ]
     },
     "execution_count": 335,
     "metadata": {},
     "output_type": "execute_result"
    }
   ],
   "source": [
    "askengineers_df.isnull().sum()"
   ]
  },
  {
   "cell_type": "code",
   "execution_count": 336,
   "id": "ea81d9fd-ca84-4d74-a601-182d49b6a4a7",
   "metadata": {},
   "outputs": [
    {
     "data": {
      "text/plain": [
       "created_utc      int64\n",
       "id              object\n",
       "author          object\n",
       "num_comments     int64\n",
       "score            int64\n",
       "selftext        object\n",
       "subreddit       object\n",
       "title           object\n",
       "dtype: object"
      ]
     },
     "execution_count": 336,
     "metadata": {},
     "output_type": "execute_result"
    }
   ],
   "source": [
    "askscience_df.dtypes"
   ]
  },
  {
   "cell_type": "code",
   "execution_count": 337,
   "id": "f6a9e054-1074-4133-abee-1a24f8b045e3",
   "metadata": {},
   "outputs": [
    {
     "data": {
      "text/plain": [
       "created_utc      int64\n",
       "id              object\n",
       "author          object\n",
       "num_comments     int64\n",
       "score            int64\n",
       "selftext        object\n",
       "subreddit       object\n",
       "title           object\n",
       "dtype: object"
      ]
     },
     "execution_count": 337,
     "metadata": {},
     "output_type": "execute_result"
    }
   ],
   "source": [
    "askengineers_df.dtypes"
   ]
  },
  {
   "cell_type": "code",
   "execution_count": 514,
   "id": "e9ad46e1-0d81-44f2-9cfd-08cadb6c9edc",
   "metadata": {
    "tags": []
   },
   "outputs": [
    {
     "data": {
      "text/plain": [
       "(False, False)"
      ]
     },
     "execution_count": 514,
     "metadata": {},
     "output_type": "execute_result"
    }
   ],
   "source": [
    "#checking for duplicate posts\n",
    "askscience_df['id'].duplicated().any(), askengineers_df['id'].duplicated().any()"
   ]
  },
  {
   "cell_type": "code",
   "execution_count": 515,
   "id": "22b0b343-2e8b-4aad-aa93-8a44dd5a4196",
   "metadata": {},
   "outputs": [],
   "source": [
    "#help from https://stackoverflow.com/questions/61295381/create-new-dataframe-column-from-the-values-of-2-other-columns\n",
    "askscience_df['title_st']=(askscience_df['title']+' '+ askscience_df['selftext'])\n",
    "askengineers_df['title_st']=(askengineers_df['title']+' '+ askengineers_df['selftext'])"
   ]
  },
  {
   "cell_type": "code",
   "execution_count": 512,
   "id": "aaf97163-de5a-42e6-b0a6-4017b90ede6b",
   "metadata": {},
   "outputs": [],
   "source": [
    "askengineers_df.head(2);"
   ]
  },
  {
   "cell_type": "code",
   "execution_count": null,
   "id": "f3654a9b-ff46-4de4-b5cb-e5ba879ffbff",
   "metadata": {},
   "outputs": [],
   "source": [
    "#removing decimal between letters (want to keep decimal between )\n",
    "#st['title_st']=st['title_st'].map(lambda x: re.sub(r'(\\.\\s)|(\\.\\w)|(\\w\\.)',' ', x))"
   ]
  },
  {
   "cell_type": "code",
   "execution_count": 456,
   "id": "cb2456fe-431b-45ba-8f2a-c425efc55908",
   "metadata": {},
   "outputs": [],
   "source": [
    "#Help from https://medium.com/mlearning-ai/nlp-a-comprehensive-guide-to-text-cleaning-and-preprocessing-63f364febfc5\n",
    "\n",
    "\n",
    "def text_cleaning(df):\n",
    "    #remove url \n",
    "    df['title_st']=df['title_st'].map(lambda x: re.sub(r'(https?:\\S*)|(www\\.\\S*)','', x))\n",
    "    df['title_st']=df['title_st'].map(lambda x: re.sub(r'&amp;#x200B;','', x))\n",
    "    df['title_st']=df['title_st'].map(lambda x: re.sub(r'E&amp;M','', x))\n",
    "    df['title_st']=df['title_st'].map(lambda x: re.sub(r'R&amp;D','', x))\n",
    "    df['title_st']=df['title_st'].map(lambda x: re.sub(r'1&amp;2','', x))\n",
    "    \n",
    "    #lower case\n",
    "    df['title_st']=df['title_st'].map(lambda x: x.lower())\n",
    "    \n",
    "    #expanding contractions\n",
    "    df['title_st']=df['title_st'].map(lambda x: ' '.join([contractions.fix(word) for word in x.split()]))\n",
    "    \n",
    "    #standardizing accent characters\n",
    "    df['title_st']=df['title_st'].map(lambda x: unicodedata.normalize('NFKD', x).encode('ascii', 'ignore').decode('utf-8', 'ignore'))\n",
    "        \n",
    "    # remove new line, lab, carriage return\n",
    "    df['title_st']=df['title_st'].map(lambda x: re.sub(r'(\\n)|(\\t)|(\\r)','', x))\n",
    "    \n",
    "    # remove_mentions_and_tags\n",
    "    df['title_st']=df['title_st'].map(lambda x: re.sub(r'@\\S*','', x))\n",
    "    df['title_st']=df['title_st'].map(lambda x: re.sub(r'#\\S*','', x))\n",
    "   \n",
    "    #removing text related to images\n",
    "    df['title_st']=df['title_st'].map(lambda x: re.sub(r'\\[.+[ImgBBibb].+\\]','', x))\n",
    "         \n",
    "    \n",
    "    #removing decimal between letters (want to keep decimal between )\n",
    "    #df['title_st']=df['title_st'].map(lambda x: re.sub(r'(\\.\\s)|(\\.\\w)|(\\w\\.)',' ', x))\n",
    "\n",
    "\n",
    "    #defining positive and negative numbers\n",
    "    df['title_st']=df['title_st'].map(lambda x: re.sub(r'(\\+\\s?\\d)',' positivenum ', x))\n",
    "    df['title_st']=df['title_st'].map(lambda x: re.sub(r'(\\-\\s?\\d)',' negativenum ', x))\n",
    "\n",
    "    #defining euqation\n",
    "    df['title_st']=df['title_st'].map(lambda x: re.sub(r'\\S+=\\S+',' equation ', x))\n",
    "    \n",
    "    #defining float numbers\n",
    "    df['title_st']=df['title_st'].map(lambda x: re.sub(r'\\d\\.\\d',' floatnum ', x))\n",
    "    \n",
    "    #defining dimensions\n",
    "    df['title_st']=df['title_st'].map(lambda x: re.sub(r'[\\d\\w]+\\s*[xX]\\s*[\\d\\w]+\\s*[xX]\\s*[\\d\\w]+',' dimension ', x))\n",
    "    df['title_st']=df['title_st'].map(lambda x: re.sub(r'[\\d\\w]+\\s*[xX]\\s*[\\d\\w]+',' dimension ', x))\n",
    "    \n",
    "   # defining percentage\n",
    "    df['title_st']=df['title_st'].map(lambda x: re.sub(r'[\\d]+\\s*\\%',' percentage ', x))\n",
    "    \n",
    "    #removing digits\n",
    "    df['title_st']=df['title_st'].map(lambda x: re.sub(r'[^a-zA-z.,!?/:;\\\"\\'\\s]','', x))\n",
    "    \n",
    "     # remove special characters: #, [, ], (, ), \\,_,/,*,$,@\n",
    "    df['title_st']=df['title_st'].map(lambda x: re.sub(r'(#)|(\\[)|(\\])|(\\()|(\\))|(\\\\)|(_)|(\\/)|(\\*)|(\\$)|(@)','', x))\n",
    "    \n",
    "    #remove punctuatons\n",
    "    df['title_st']=df['title_st'].map(lambda x: ''.join([char for char in x if char not in string.punctuation]))\n",
    "    \n",
    "    return (df)"
   ]
  },
  {
   "cell_type": "code",
   "execution_count": 516,
   "id": "d292ada1-752a-4645-8f83-f1683e971ef9",
   "metadata": {},
   "outputs": [],
   "source": [
    "askengineers_df_clean=text_cleaning(askengineers_df)"
   ]
  },
  {
   "cell_type": "code",
   "execution_count": 517,
   "id": "52f806a4-63de-4abd-9637-93b641d71229",
   "metadata": {},
   "outputs": [],
   "source": [
    "askscience_df_clean=text_cleaning(askscience_df)"
   ]
  },
  {
   "cell_type": "code",
   "execution_count": 519,
   "id": "f82fb9c8-c881-495d-884e-f8517175e901",
   "metadata": {},
   "outputs": [],
   "source": [
    "#concatenating askscience and askengineers dataframe\n",
    "\n",
    "ask_df=pd.concat([askscience_df_clean,askengineers_df_clean])"
   ]
  },
  {
   "cell_type": "code",
   "execution_count": 521,
   "id": "a0f8c2b2-54c4-42ac-acd5-e73e6d788e5f",
   "metadata": {},
   "outputs": [
    {
     "data": {
      "text/plain": [
       "(10148, 9)"
      ]
     },
     "execution_count": 521,
     "metadata": {},
     "output_type": "execute_result"
    }
   ],
   "source": [
    "ask_df.shape"
   ]
  },
  {
   "cell_type": "code",
   "execution_count": 525,
   "id": "747a8bae-133d-4838-b80d-1d07e1f259a0",
   "metadata": {},
   "outputs": [
    {
     "data": {
      "text/plain": [
       "askscience      5074\n",
       "AskEngineers    5074\n",
       "Name: subreddit, dtype: int64"
      ]
     },
     "execution_count": 525,
     "metadata": {},
     "output_type": "execute_result"
    }
   ],
   "source": [
    "ask_df['subreddit'].value_counts()"
   ]
  },
  {
   "cell_type": "code",
   "execution_count": 526,
   "id": "62a17f95-1992-4dcd-83df-24360fe0ed99",
   "metadata": {},
   "outputs": [],
   "source": [
    "ask_df['subreddit']=ask_df['subreddit'].map({'askscience':1, 'AskEngineers':0})"
   ]
  },
  {
   "cell_type": "code",
   "execution_count": 527,
   "id": "e55452bd-5d96-4c03-8434-3b9776be9527",
   "metadata": {},
   "outputs": [
    {
     "data": {
      "text/plain": [
       "1    5074\n",
       "0    5074\n",
       "Name: subreddit, dtype: int64"
      ]
     },
     "execution_count": 527,
     "metadata": {},
     "output_type": "execute_result"
    }
   ],
   "source": [
    "ask_df['subreddit'].value_counts()"
   ]
  },
  {
   "cell_type": "code",
   "execution_count": 533,
   "id": "08e78799-05f5-4417-aa0c-6b983de50b54",
   "metadata": {},
   "outputs": [],
   "source": [
    "ask_df.head(2);"
   ]
  },
  {
   "cell_type": "code",
   "execution_count": 535,
   "id": "b8734ae8-8317-4344-9821-8adce3c1f36a",
   "metadata": {},
   "outputs": [],
   "source": [
    "#creating a column for length of title + text\n",
    "ask_df['title_st_length']=ask_df['title_st'].map(lambda x: len(x))"
   ]
  },
  {
   "cell_type": "code",
   "execution_count": 536,
   "id": "f1f1dabe-5e09-49c5-b077-08e8ce988005",
   "metadata": {},
   "outputs": [],
   "source": [
    "#creating a column for word counts of title + text\n",
    "ask_df['title_st_word_count']=ask_df['title_st'].map(lambda x: len(x.split(\" \")))"
   ]
  },
  {
   "cell_type": "code",
   "execution_count": 539,
   "id": "be6a0117-4a15-4fdd-b735-80898313ccc7",
   "metadata": {},
   "outputs": [],
   "source": [
    "ask_df.head(2);"
   ]
  },
  {
   "cell_type": "code",
   "execution_count": null,
   "id": "183addec-04d3-475b-a76d-cf4a49c56fbf",
   "metadata": {},
   "outputs": [],
   "source": []
  },
  {
   "cell_type": "code",
   "execution_count": 132,
   "id": "0ce2693b-90f0-4660-bee9-3689f7b35788",
   "metadata": {},
   "outputs": [],
   "source": [
    "nlp=spacy.load('en_core_web_md')"
   ]
  },
  {
   "cell_type": "code",
   "execution_count": 529,
   "id": "3b0a830b-88b4-4c37-bc3b-eb3fcd34844a",
   "metadata": {},
   "outputs": [],
   "source": [
    "ask_df['title_st_lemma']=ask_df['title_st'].map(lambda x: ' '.join([token.lemma_ for token in nlp(x)]))"
   ]
  },
  {
   "cell_type": "code",
   "execution_count": 530,
   "id": "59f8a4c7-d9d3-45b8-8000-77ecda28bba6",
   "metadata": {},
   "outputs": [
    {
     "data": {
      "text/plain": [
       "0                                                                                                                                                                                                                                                                                                                                                                                                                           do   floatnum   count as a fever if your average body temp trend low my typical body temperature hover around   floatnum   f I be recover from covid and my temperature be currently about   floatnum   f do I have a fever in other word be a fever an elevated temperature compare to an individual baseline or be it a temperature above a certain number\n",
       "1    the oneelectron universe be somewhat humorously propose to   dimension   why every electron be identical but why would that need   dimension   why should we   dimension   electron to not be identical electron be   dimension   simple compose of just a few quantum property like charge spin and mass why would we not   dimension   every single electron to have these same identical property especially since these property be quantize ie you can not have a spin that be not a half integer value or a charge that be not an integer multiple of a fundamental charge be the original postulate even more light hearted than I think even if it do provide insight to feynman or be there actually something interesting to be learn by realize all electron be the same\n",
       "Name: title_st_lemma, dtype: object"
      ]
     },
     "execution_count": 530,
     "metadata": {},
     "output_type": "execute_result"
    }
   ],
   "source": [
    "ask_df['title_st_lemma'][:2]"
   ]
  },
  {
   "cell_type": "code",
   "execution_count": 511,
   "id": "cc968fd3-2524-4258-b61e-bb821ac994e0",
   "metadata": {},
   "outputs": [
    {
     "data": {
      "text/plain": [
       "2724    advise to design a braking system I be a nd year undergraduate and have a project to design a braking system for the new hyperloop club at our college my major be computational mechanic so I do have basic knowledge in solid mechanic and stuff but that be only theoretical I have not design a product physically until now I have learn basic electromagnetic theory via griffith and gain some skillset in solidwork and comsol since the braking system we be think of do would be an integrate magnetic eddy current   friction brake   what tool and theory should I have rigorous knowledge in early on to make this happen like fem etc    how should my progress look like that be what should be my   dimension   step and so on   any other general tip   recommendation I apologise if the question be too g...\n",
       "Name: title_st, dtype: object"
      ]
     },
     "execution_count": 511,
     "metadata": {},
     "output_type": "execute_result"
    }
   ],
   "source": [
    "askengineers_df_clean['title_st'].sample()"
   ]
  },
  {
   "cell_type": "code",
   "execution_count": 490,
   "id": "79bcec63-b0ea-468f-8ed5-604fbd3085db",
   "metadata": {},
   "outputs": [
    {
     "ename": "IndexError",
     "evalue": "index 0 is out of bounds for axis 0 with size 0",
     "output_type": "error",
     "traceback": [
      "\u001b[1;31m---------------------------------------------------------------------------\u001b[0m",
      "\u001b[1;31mIndexError\u001b[0m                                Traceback (most recent call last)",
      "Input \u001b[1;32mIn [490]\u001b[0m, in \u001b[0;36m<cell line: 1>\u001b[1;34m()\u001b[0m\n\u001b[1;32m----> 1\u001b[0m doc\u001b[38;5;241m=\u001b[39m\u001b[43mst\u001b[49m\u001b[38;5;241;43m.\u001b[39;49m\u001b[43miloc\u001b[49m\u001b[43m[\u001b[49m\u001b[38;5;241;43m1730\u001b[39;49m\u001b[43m,\u001b[49m\u001b[38;5;241;43m0\u001b[39;49m\u001b[43m]\u001b[49m\n",
      "File \u001b[1;32m~\\anaconda3\\lib\\site-packages\\pandas\\core\\indexing.py:960\u001b[0m, in \u001b[0;36m_LocationIndexer.__getitem__\u001b[1;34m(self, key)\u001b[0m\n\u001b[0;32m    958\u001b[0m     key \u001b[38;5;241m=\u001b[39m \u001b[38;5;28mtuple\u001b[39m(com\u001b[38;5;241m.\u001b[39mapply_if_callable(x, \u001b[38;5;28mself\u001b[39m\u001b[38;5;241m.\u001b[39mobj) \u001b[38;5;28;01mfor\u001b[39;00m x \u001b[38;5;129;01min\u001b[39;00m key)\n\u001b[0;32m    959\u001b[0m     \u001b[38;5;28;01mif\u001b[39;00m \u001b[38;5;28mself\u001b[39m\u001b[38;5;241m.\u001b[39m_is_scalar_access(key):\n\u001b[1;32m--> 960\u001b[0m         \u001b[38;5;28;01mreturn\u001b[39;00m \u001b[38;5;28;43mself\u001b[39;49m\u001b[38;5;241;43m.\u001b[39;49m\u001b[43mobj\u001b[49m\u001b[38;5;241;43m.\u001b[39;49m\u001b[43m_get_value\u001b[49m\u001b[43m(\u001b[49m\u001b[38;5;241;43m*\u001b[39;49m\u001b[43mkey\u001b[49m\u001b[43m,\u001b[49m\u001b[43m \u001b[49m\u001b[43mtakeable\u001b[49m\u001b[38;5;241;43m=\u001b[39;49m\u001b[38;5;28;43mself\u001b[39;49m\u001b[38;5;241;43m.\u001b[39;49m\u001b[43m_takeable\u001b[49m\u001b[43m)\u001b[49m\n\u001b[0;32m    961\u001b[0m     \u001b[38;5;28;01mreturn\u001b[39;00m \u001b[38;5;28mself\u001b[39m\u001b[38;5;241m.\u001b[39m_getitem_tuple(key)\n\u001b[0;32m    962\u001b[0m \u001b[38;5;28;01melse\u001b[39;00m:\n\u001b[0;32m    963\u001b[0m     \u001b[38;5;66;03m# we by definition only have the 0th axis\u001b[39;00m\n",
      "File \u001b[1;32m~\\anaconda3\\lib\\site-packages\\pandas\\core\\frame.py:3612\u001b[0m, in \u001b[0;36mDataFrame._get_value\u001b[1;34m(self, index, col, takeable)\u001b[0m\n\u001b[0;32m   3593\u001b[0m \u001b[38;5;124;03m\"\"\"\u001b[39;00m\n\u001b[0;32m   3594\u001b[0m \u001b[38;5;124;03mQuickly retrieve single value at passed column and index.\u001b[39;00m\n\u001b[0;32m   3595\u001b[0m \n\u001b[1;32m   (...)\u001b[0m\n\u001b[0;32m   3609\u001b[0m \u001b[38;5;124;03m`self.columns._index_as_unique`; Caller is responsible for checking.\u001b[39;00m\n\u001b[0;32m   3610\u001b[0m \u001b[38;5;124;03m\"\"\"\u001b[39;00m\n\u001b[0;32m   3611\u001b[0m \u001b[38;5;28;01mif\u001b[39;00m takeable:\n\u001b[1;32m-> 3612\u001b[0m     series \u001b[38;5;241m=\u001b[39m \u001b[38;5;28;43mself\u001b[39;49m\u001b[38;5;241;43m.\u001b[39;49m\u001b[43m_ixs\u001b[49m\u001b[43m(\u001b[49m\u001b[43mcol\u001b[49m\u001b[43m,\u001b[49m\u001b[43m \u001b[49m\u001b[43maxis\u001b[49m\u001b[38;5;241;43m=\u001b[39;49m\u001b[38;5;241;43m1\u001b[39;49m\u001b[43m)\u001b[49m\n\u001b[0;32m   3613\u001b[0m     \u001b[38;5;28;01mreturn\u001b[39;00m series\u001b[38;5;241m.\u001b[39m_values[index]\n\u001b[0;32m   3615\u001b[0m series \u001b[38;5;241m=\u001b[39m \u001b[38;5;28mself\u001b[39m\u001b[38;5;241m.\u001b[39m_get_item_cache(col)\n",
      "File \u001b[1;32m~\\anaconda3\\lib\\site-packages\\pandas\\core\\frame.py:3439\u001b[0m, in \u001b[0;36mDataFrame._ixs\u001b[1;34m(self, i, axis)\u001b[0m\n\u001b[0;32m   3435\u001b[0m     \u001b[38;5;28;01mreturn\u001b[39;00m result\n\u001b[0;32m   3437\u001b[0m \u001b[38;5;66;03m# icol\u001b[39;00m\n\u001b[0;32m   3438\u001b[0m \u001b[38;5;28;01melse\u001b[39;00m:\n\u001b[1;32m-> 3439\u001b[0m     label \u001b[38;5;241m=\u001b[39m \u001b[38;5;28;43mself\u001b[39;49m\u001b[38;5;241;43m.\u001b[39;49m\u001b[43mcolumns\u001b[49m\u001b[43m[\u001b[49m\u001b[43mi\u001b[49m\u001b[43m]\u001b[49m\n\u001b[0;32m   3441\u001b[0m     col_mgr \u001b[38;5;241m=\u001b[39m \u001b[38;5;28mself\u001b[39m\u001b[38;5;241m.\u001b[39m_mgr\u001b[38;5;241m.\u001b[39miget(i)\n\u001b[0;32m   3442\u001b[0m     result \u001b[38;5;241m=\u001b[39m \u001b[38;5;28mself\u001b[39m\u001b[38;5;241m.\u001b[39m_box_col_values(col_mgr, i)\n",
      "File \u001b[1;32m~\\anaconda3\\lib\\site-packages\\pandas\\core\\indexes\\base.py:5039\u001b[0m, in \u001b[0;36mIndex.__getitem__\u001b[1;34m(self, key)\u001b[0m\n\u001b[0;32m   5036\u001b[0m \u001b[38;5;28;01mif\u001b[39;00m is_integer(key) \u001b[38;5;129;01mor\u001b[39;00m is_float(key):\n\u001b[0;32m   5037\u001b[0m     \u001b[38;5;66;03m# GH#44051 exclude bool, which would return a 2d ndarray\u001b[39;00m\n\u001b[0;32m   5038\u001b[0m     key \u001b[38;5;241m=\u001b[39m com\u001b[38;5;241m.\u001b[39mcast_scalar_indexer(key, warn_float\u001b[38;5;241m=\u001b[39m\u001b[38;5;28;01mTrue\u001b[39;00m)\n\u001b[1;32m-> 5039\u001b[0m     \u001b[38;5;28;01mreturn\u001b[39;00m \u001b[43mgetitem\u001b[49m\u001b[43m(\u001b[49m\u001b[43mkey\u001b[49m\u001b[43m)\u001b[49m\n\u001b[0;32m   5041\u001b[0m \u001b[38;5;28;01mif\u001b[39;00m \u001b[38;5;28misinstance\u001b[39m(key, \u001b[38;5;28mslice\u001b[39m):\n\u001b[0;32m   5042\u001b[0m     \u001b[38;5;66;03m# This case is separated from the conditional above to avoid\u001b[39;00m\n\u001b[0;32m   5043\u001b[0m     \u001b[38;5;66;03m# pessimization com.is_bool_indexer and ndim checks.\u001b[39;00m\n\u001b[0;32m   5044\u001b[0m     result \u001b[38;5;241m=\u001b[39m getitem(key)\n",
      "\u001b[1;31mIndexError\u001b[0m: index 0 is out of bounds for axis 0 with size 0"
     ]
    }
   ],
   "source": [
    "doc=st.iloc[1730,0]"
   ]
  },
  {
   "cell_type": "code",
   "execution_count": 135,
   "id": "05c4a4ac-dff4-42c6-8258-8bea43a8ef34",
   "metadata": {},
   "outputs": [
    {
     "data": {
      "text/plain": [
       "'I tried to ask ELI5 to help me understand Sabrina Pasterski’s discoveries, as they’re a bit over my head, but was told this might be a more reliable place for information. I’m specifically interested in the  Pasterski-Strominger-Zhiboedov Triangle and it’s potential importance, relevance, and application. I know it ties into black holes, the difference between 2, 3, and 4 dimensions, and it sounds like it lends support to theories put forth by Weinberg. But it’s so far more advanced than I can grasp right now. Even the stuff I think I understand could very well be wrong. Would anybody care to use some layman’s terms to help me grasp these concepts Thank you!'"
      ]
     },
     "execution_count": 135,
     "metadata": {},
     "output_type": "execute_result"
    }
   ],
   "source": [
    "doc"
   ]
  },
  {
   "cell_type": "code",
   "execution_count": 137,
   "id": "450a3642-862e-4eac-a889-8490269a2870",
   "metadata": {},
   "outputs": [
    {
     "name": "stdout",
     "output_type": "stream",
     "text": [
      "I tried to ask ELI5 to help me understand Sabrina Pasterski’s discoveries, as they’re a bit over my head, but was told this might be a more reliable place for information. I’m specifically interested in the  Pasterski-Strominger-Zhiboedov Triangle and it’s potential importance, relevance, and application. I know it ties into black holes, the difference between 2, 3, and 4 dimensions, and it sounds like it lends support to theories put forth by Weinberg. But it’s so far more advanced than I can grasp right now. Even the stuff I think I understand could very well be wrong. Would anybody care to use some layman’s terms to help me grasp these concepts Thank you!\n"
     ]
    }
   ],
   "source": [
    "ex = nlp(doc)\n",
    "print(ex.text)"
   ]
  },
  {
   "cell_type": "code",
   "execution_count": null,
   "id": "eecf1506-8c2d-44dd-bd2a-31e194e799a6",
   "metadata": {},
   "outputs": [],
   "source": [
    "ex."
   ]
  }
 ],
 "metadata": {
  "kernelspec": {
   "display_name": "Python 3 (ipykernel)",
   "language": "python",
   "name": "python3"
  },
  "language_info": {
   "codemirror_mode": {
    "name": "ipython",
    "version": 3
   },
   "file_extension": ".py",
   "mimetype": "text/x-python",
   "name": "python",
   "nbconvert_exporter": "python",
   "pygments_lexer": "ipython3",
   "version": "3.9.12"
  }
 },
 "nbformat": 4,
 "nbformat_minor": 5
}
