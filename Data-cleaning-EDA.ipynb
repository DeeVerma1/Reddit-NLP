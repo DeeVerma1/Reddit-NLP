{
 "cells": [
  {
   "cell_type": "code",
   "execution_count": 379,
   "id": "b21dc79a-7707-4c95-99c1-d35abc57ed57",
   "metadata": {},
   "outputs": [],
   "source": [
    "import pandas as pd\n",
    "import requests\n",
    "import datetime as dt\n",
    "import time\n",
    "import re\n",
    "\n",
    "from nltk.tokenize import sent_tokenize, word_tokenize, RegexpTokenizer\n",
    "from nltk.stem import WordNetLemmatizer\n",
    "from nltk.stem.porter import PorterStemmer\n",
    "from nltk.corpus import stopwords\n",
    "from nltk.sentiment.vader import SentimentIntensityAnalyzer\n",
    "import re\n",
    "\n",
    "import spacy\n",
    "import spacy.cli\n",
    "\n",
    "import contractions\n",
    "import unicodedata\n",
    "import string"
   ]
  },
  {
   "cell_type": "code",
   "execution_count": 82,
   "id": "daea0ffe-9942-472b-bc5c-8e800860a071",
   "metadata": {},
   "outputs": [],
   "source": [
    "pd.set_option(\"display.max_rows\", None, \"display.max_columns\", None)\n",
    "#pd.set_option('max_colwidth',800)"
   ]
  },
  {
   "cell_type": "code",
   "execution_count": 84,
   "id": "9cbc0077-f31b-41e9-9e3e-099bd962699d",
   "metadata": {},
   "outputs": [],
   "source": [
    "parent_askscience=pd.read_csv('./datasets/askscience/submissions.csv')"
   ]
  },
  {
   "cell_type": "code",
   "execution_count": 222,
   "id": "f704652c-f57e-4daa-b851-594aff80ffc6",
   "metadata": {},
   "outputs": [],
   "source": [
    "parent_askengineers=pd.read_csv('./datasets/askengineers/submissions.csv',nrows=5074)"
   ]
  },
  {
   "cell_type": "code",
   "execution_count": 224,
   "id": "d55966f5-1655-47f3-8837-fba39b9af6d3",
   "metadata": {},
   "outputs": [
    {
     "data": {
      "text/plain": [
       "((5074, 102), (5074, 80))"
      ]
     },
     "execution_count": 224,
     "metadata": {},
     "output_type": "execute_result"
    }
   ],
   "source": [
    "parent_askscience.shape, parent_askengineers.shape"
   ]
  },
  {
   "cell_type": "code",
   "execution_count": 225,
   "id": "5eda11b7-fe74-4df0-b258-b7b685064eac",
   "metadata": {},
   "outputs": [
    {
     "data": {
      "text/plain": [
       "Index(['all_awardings', 'allow_live_comments', 'author',\n",
       "       'author_flair_background_color', 'author_flair_css_class',\n",
       "       'author_flair_richtext', 'author_flair_text', 'author_flair_text_color',\n",
       "       'author_flair_type', 'author_fullname',\n",
       "       ...\n",
       "       'can_gild', 'hidden', 'media', 'quarantine', 'secure_media',\n",
       "       'subreddit_name_prefixed', 'rte_mode', 'author_id', 'brand_safe',\n",
       "       'previous_visits'],\n",
       "      dtype='object', length=102)"
      ]
     },
     "execution_count": 225,
     "metadata": {},
     "output_type": "execute_result"
    }
   ],
   "source": [
    "parent_askscience.columns"
   ]
  },
  {
   "cell_type": "code",
   "execution_count": 226,
   "id": "30e0a6a4-4d35-47cf-bb6d-2e44e6b37b74",
   "metadata": {},
   "outputs": [],
   "source": [
    "#picking some features that might be interesting to explore\n",
    "features=['created_utc','id','author','num_comments','score','selftext','subreddit','title']"
   ]
  },
  {
   "cell_type": "code",
   "execution_count": 457,
   "id": "d14abebe-e10d-49a0-b72d-2df8c5bde0b2",
   "metadata": {},
   "outputs": [
    {
     "data": {
      "text/plain": [
       "((5074, 8), (5074, 8))"
      ]
     },
     "execution_count": 457,
     "metadata": {},
     "output_type": "execute_result"
    }
   ],
   "source": [
    "askscience_df=parent_askscience[features].copy()\n",
    "askengineers_df=parent_askengineers[features].copy()\n",
    "askscience_df.shape, askengineers_df.shape"
   ]
  },
  {
   "cell_type": "code",
   "execution_count": 331,
   "id": "2b989a3b-cd15-479d-a689-9891d5ee988b",
   "metadata": {},
   "outputs": [
    {
     "data": {
      "text/plain": [
       "askscience    5074\n",
       "Name: subreddit, dtype: int64"
      ]
     },
     "execution_count": 331,
     "metadata": {},
     "output_type": "execute_result"
    }
   ],
   "source": [
    "askscience_df['subreddit'].value_counts()"
   ]
  },
  {
   "cell_type": "code",
   "execution_count": 332,
   "id": "d5f53dee-9ed1-4c8b-aa7d-6b87d62324bb",
   "metadata": {},
   "outputs": [
    {
     "data": {
      "text/plain": [
       "AskEngineers    5074\n",
       "Name: subreddit, dtype: int64"
      ]
     },
     "execution_count": 332,
     "metadata": {},
     "output_type": "execute_result"
    }
   ],
   "source": [
    "askengineers_df['subreddit'].value_counts()"
   ]
  },
  {
   "cell_type": "code",
   "execution_count": 333,
   "id": "b09fd5e4-af6d-4e12-94f1-231c2190bd50",
   "metadata": {
    "scrolled": true,
    "tags": []
   },
   "outputs": [
    {
     "data": {
      "text/html": [
       "<div>\n",
       "<style scoped>\n",
       "    .dataframe tbody tr th:only-of-type {\n",
       "        vertical-align: middle;\n",
       "    }\n",
       "\n",
       "    .dataframe tbody tr th {\n",
       "        vertical-align: top;\n",
       "    }\n",
       "\n",
       "    .dataframe thead th {\n",
       "        text-align: right;\n",
       "    }\n",
       "</style>\n",
       "<table border=\"1\" class=\"dataframe\">\n",
       "  <thead>\n",
       "    <tr style=\"text-align: right;\">\n",
       "      <th></th>\n",
       "      <th>created_utc</th>\n",
       "      <th>id</th>\n",
       "      <th>author</th>\n",
       "      <th>num_comments</th>\n",
       "      <th>score</th>\n",
       "      <th>selftext</th>\n",
       "      <th>subreddit</th>\n",
       "      <th>title</th>\n",
       "    </tr>\n",
       "  </thead>\n",
       "  <tbody>\n",
       "    <tr>\n",
       "      <th>0</th>\n",
       "      <td>1663962461</td>\n",
       "      <td>xm7a6n</td>\n",
       "      <td>bmarcus128</td>\n",
       "      <td>0</td>\n",
       "      <td>1</td>\n",
       "      <td>My typical body temperature hovers around 97.8 F. I'm recovering from COVID, and my temperature is currently about 98.8 F. Do I have a fever? (In other words, is a fever an elevated temperature compared to an individual's baseline or is it a temperature above a certain number?)</td>\n",
       "      <td>askscience</td>\n",
       "      <td>Does 98.6 Count as a Fever if Your Average Body Temp Trends Low?</td>\n",
       "    </tr>\n",
       "    <tr>\n",
       "      <th>1</th>\n",
       "      <td>1663947109</td>\n",
       "      <td>xm0pl0</td>\n",
       "      <td>ChrisGnam</td>\n",
       "      <td>0</td>\n",
       "      <td>1</td>\n",
       "      <td>Electrons are extraordinarily simple, composed of just a few quantum properties like charge, spin, and mass.  Why would we not expect every single Electron to have these same identical properties?  Especially since these properties are quantized (i.e., you cannot have a spin that is not a half integer value, or a charge that is not an integer multiple of a fundamental charge).\\n\\nWas the original postulate even more light hearted than I thought (even if it did provide insight to Feynman)?  Or is there actually something interesting to be learned by realizing all electrons are the same?</td>\n",
       "      <td>askscience</td>\n",
       "      <td>The \"one-Electron universe\" was somewhat humorously proposed to explain why every Electron is identical. But why would that need explaining? Why should we expect electrons to not be identical?</td>\n",
       "    </tr>\n",
       "    <tr>\n",
       "      <th>2</th>\n",
       "      <td>1663930837</td>\n",
       "      <td>xludsa</td>\n",
       "      <td>AskScienceModerator</td>\n",
       "      <td>0</td>\n",
       "      <td>1</td>\n",
       "      <td>**What are you doing to get clean air?**\\n\\nAs the fear of airborne illnesses has heightened, people have understandably become much more concerned about potentially contagious strangers and are choosing to go where high air quality standards are maintained. Conventional approaches have been focused on making filters tighter, but filter media can only be made so small before becoming difficult to move air effectively or efficiently. Reducing nanoparticles by agglomerating them into larger, aggregated clusters is the key. Larger particles are more easily mitigated and fall to the ground more quickly. Atmofizer is leading 4th generation in air technology, with patented agglomeration tech using acoustic pressure waves to reduce airborne nanoscopic particles-without using filters and savin...</td>\n",
       "      <td>askscience</td>\n",
       "      <td>AskScience AMA Series: Hi! We are Stephanie Walton and Whit Pepper, scientist and chief commercial officer of clean-air company ATMOFIZER with patented technology designed to reduce indoor ultra-fine particles and deactivate airborne viruses/bacteria without using a filter. Ask us Anything!</td>\n",
       "    </tr>\n",
       "    <tr>\n",
       "      <th>3</th>\n",
       "      <td>1663758037</td>\n",
       "      <td>xk1pns</td>\n",
       "      <td>AskScienceModerator</td>\n",
       "      <td>0</td>\n",
       "      <td>1</td>\n",
       "      <td>Join our expert panel to discuss this year's #PeerReviewWeek22 theme #ResearchIntegrity: creating and supporting trust in research.\\n\\nThe Royal Society is hosting a live session on 21st September to enable our community all over the world to interact with industry experts. Simply reply to this post with your peer review questions following the theme of #ResearchIntegrity before or during the event and we'll answer them live, giving you a diverse range of answers.\\n\\nWe'll be on at 3pm BST (11 AM ET), ask us anything!\\n\\n**Panellist biographies**\\n\\n+ **Panellist - Professor John Hutchinson**, Professor of Evolutionary Biomechanics, Royal Veterinary College, University of London\\n  + [Professor John Hutchinson](https://www.rvc.ac.uk/about/our-people/john-hutchinson) is a Professor of E...</td>\n",
       "      <td>askscience</td>\n",
       "      <td>AskScience AMA Series: We're excited to bring you industry experts from the Royal Society for Peer Review Week 2022. Join our experts who will be answering all your questions around the theme 'Research Integrity: Creating and supporting trust in research'. Ask us anything! All welcome.</td>\n",
       "    </tr>\n",
       "    <tr>\n",
       "      <th>4</th>\n",
       "      <td>1663420203</td>\n",
       "      <td>xgm3s1</td>\n",
       "      <td>PlacatedPlatypus</td>\n",
       "      <td>0</td>\n",
       "      <td>1</td>\n",
       "      <td>I recently read that the oldest dog ever lived to be more than 29 years old. Even by the most conservative \"dog age to human age\" calculations, this seems to be around 140 years in human age. This is significantly higher than the oldest human lifespan ever recorded, which led me to wonder if the translation breaks down as dogs get older. \\n\\nIt's already known to be non-linear because temporal age and developmental age aren't linearly transferable across species, but it makes me wonder if dogs actually have higher lifespan variance than humans or if it's just an incomplete model.</td>\n",
       "      <td>askscience</td>\n",
       "      <td>How Accurate Are the Estimates of Dog Aging Translated to Human Aging?</td>\n",
       "    </tr>\n",
       "  </tbody>\n",
       "</table>\n",
       "</div>"
      ],
      "text/plain": [
       "   created_utc      id               author  num_comments  score  \\\n",
       "0   1663962461  xm7a6n           bmarcus128             0      1   \n",
       "1   1663947109  xm0pl0            ChrisGnam             0      1   \n",
       "2   1663930837  xludsa  AskScienceModerator             0      1   \n",
       "3   1663758037  xk1pns  AskScienceModerator             0      1   \n",
       "4   1663420203  xgm3s1     PlacatedPlatypus             0      1   \n",
       "\n",
       "                                                                                                                                                                                                                                                                                                                                                                                                                                                                                                                                                                                                                                                                                                                                                                                                                          selftext  \\\n",
       "0                                                                                                                                                                                                                                                                                                                                                                                                                                                                                                                                           My typical body temperature hovers around 97.8 F. I'm recovering from COVID, and my temperature is currently about 98.8 F. Do I have a fever? (In other words, is a fever an elevated temperature compared to an individual's baseline or is it a temperature above a certain number?)   \n",
       "1                                                                                                                                                                                                                 Electrons are extraordinarily simple, composed of just a few quantum properties like charge, spin, and mass.  Why would we not expect every single Electron to have these same identical properties?  Especially since these properties are quantized (i.e., you cannot have a spin that is not a half integer value, or a charge that is not an integer multiple of a fundamental charge).\\n\\nWas the original postulate even more light hearted than I thought (even if it did provide insight to Feynman)?  Or is there actually something interesting to be learned by realizing all electrons are the same?   \n",
       "2  **What are you doing to get clean air?**\\n\\nAs the fear of airborne illnesses has heightened, people have understandably become much more concerned about potentially contagious strangers and are choosing to go where high air quality standards are maintained. Conventional approaches have been focused on making filters tighter, but filter media can only be made so small before becoming difficult to move air effectively or efficiently. Reducing nanoparticles by agglomerating them into larger, aggregated clusters is the key. Larger particles are more easily mitigated and fall to the ground more quickly. Atmofizer is leading 4th generation in air technology, with patented agglomeration tech using acoustic pressure waves to reduce airborne nanoscopic particles-without using filters and savin...   \n",
       "3  Join our expert panel to discuss this year's #PeerReviewWeek22 theme #ResearchIntegrity: creating and supporting trust in research.\\n\\nThe Royal Society is hosting a live session on 21st September to enable our community all over the world to interact with industry experts. Simply reply to this post with your peer review questions following the theme of #ResearchIntegrity before or during the event and we'll answer them live, giving you a diverse range of answers.\\n\\nWe'll be on at 3pm BST (11 AM ET), ask us anything!\\n\\n**Panellist biographies**\\n\\n+ **Panellist - Professor John Hutchinson**, Professor of Evolutionary Biomechanics, Royal Veterinary College, University of London\\n  + [Professor John Hutchinson](https://www.rvc.ac.uk/about/our-people/john-hutchinson) is a Professor of E...   \n",
       "4                                                                                                                                                                                                                       I recently read that the oldest dog ever lived to be more than 29 years old. Even by the most conservative \"dog age to human age\" calculations, this seems to be around 140 years in human age. This is significantly higher than the oldest human lifespan ever recorded, which led me to wonder if the translation breaks down as dogs get older. \\n\\nIt's already known to be non-linear because temporal age and developmental age aren't linearly transferable across species, but it makes me wonder if dogs actually have higher lifespan variance than humans or if it's just an incomplete model.   \n",
       "\n",
       "    subreddit  \\\n",
       "0  askscience   \n",
       "1  askscience   \n",
       "2  askscience   \n",
       "3  askscience   \n",
       "4  askscience   \n",
       "\n",
       "                                                                                                                                                                                                                                                                                                 title  \n",
       "0                                                                                                                                                                                                                                     Does 98.6 Count as a Fever if Your Average Body Temp Trends Low?  \n",
       "1                                                                                                     The \"one-Electron universe\" was somewhat humorously proposed to explain why every Electron is identical. But why would that need explaining? Why should we expect electrons to not be identical?  \n",
       "2  AskScience AMA Series: Hi! We are Stephanie Walton and Whit Pepper, scientist and chief commercial officer of clean-air company ATMOFIZER with patented technology designed to reduce indoor ultra-fine particles and deactivate airborne viruses/bacteria without using a filter. Ask us Anything!  \n",
       "3       AskScience AMA Series: We're excited to bring you industry experts from the Royal Society for Peer Review Week 2022. Join our experts who will be answering all your questions around the theme 'Research Integrity: Creating and supporting trust in research'. Ask us anything! All welcome.  \n",
       "4                                                                                                                                                                                                                               How Accurate Are the Estimates of Dog Aging Translated to Human Aging?  "
      ]
     },
     "execution_count": 333,
     "metadata": {},
     "output_type": "execute_result"
    }
   ],
   "source": [
    "askscience_df.head()"
   ]
  },
  {
   "cell_type": "code",
   "execution_count": 334,
   "id": "5b17c8a3-0260-4c5a-95fd-53268321c93d",
   "metadata": {},
   "outputs": [
    {
     "data": {
      "text/plain": [
       "created_utc     0\n",
       "id              0\n",
       "author          0\n",
       "num_comments    0\n",
       "score           0\n",
       "selftext        0\n",
       "subreddit       0\n",
       "title           0\n",
       "dtype: int64"
      ]
     },
     "execution_count": 334,
     "metadata": {},
     "output_type": "execute_result"
    }
   ],
   "source": [
    "askscience_df.isnull().sum()"
   ]
  },
  {
   "cell_type": "code",
   "execution_count": 335,
   "id": "ce8c45a9-d3eb-4194-9912-4ffaf3fec81b",
   "metadata": {},
   "outputs": [
    {
     "data": {
      "text/plain": [
       "created_utc     0\n",
       "id              0\n",
       "author          0\n",
       "num_comments    0\n",
       "score           0\n",
       "selftext        0\n",
       "subreddit       0\n",
       "title           0\n",
       "dtype: int64"
      ]
     },
     "execution_count": 335,
     "metadata": {},
     "output_type": "execute_result"
    }
   ],
   "source": [
    "askengineers_df.isnull().sum()"
   ]
  },
  {
   "cell_type": "code",
   "execution_count": 336,
   "id": "ea81d9fd-ca84-4d74-a601-182d49b6a4a7",
   "metadata": {},
   "outputs": [
    {
     "data": {
      "text/plain": [
       "created_utc      int64\n",
       "id              object\n",
       "author          object\n",
       "num_comments     int64\n",
       "score            int64\n",
       "selftext        object\n",
       "subreddit       object\n",
       "title           object\n",
       "dtype: object"
      ]
     },
     "execution_count": 336,
     "metadata": {},
     "output_type": "execute_result"
    }
   ],
   "source": [
    "askscience_df.dtypes"
   ]
  },
  {
   "cell_type": "code",
   "execution_count": 337,
   "id": "f6a9e054-1074-4133-abee-1a24f8b045e3",
   "metadata": {},
   "outputs": [
    {
     "data": {
      "text/plain": [
       "created_utc      int64\n",
       "id              object\n",
       "author          object\n",
       "num_comments     int64\n",
       "score            int64\n",
       "selftext        object\n",
       "subreddit       object\n",
       "title           object\n",
       "dtype: object"
      ]
     },
     "execution_count": 337,
     "metadata": {},
     "output_type": "execute_result"
    }
   ],
   "source": [
    "askengineers_df.dtypes"
   ]
  },
  {
   "cell_type": "code",
   "execution_count": 458,
   "id": "e9ad46e1-0d81-44f2-9cfd-08cadb6c9edc",
   "metadata": {
    "tags": []
   },
   "outputs": [
    {
     "data": {
      "text/plain": [
       "(False, False)"
      ]
     },
     "execution_count": 458,
     "metadata": {},
     "output_type": "execute_result"
    }
   ],
   "source": [
    "#checking for duplicate posts\n",
    "askscience_df['id'].duplicated().any(), askengineers_df['id'].duplicated().any()"
   ]
  },
  {
   "cell_type": "code",
   "execution_count": 459,
   "id": "22b0b343-2e8b-4aad-aa93-8a44dd5a4196",
   "metadata": {},
   "outputs": [],
   "source": [
    "#help from https://stackoverflow.com/questions/61295381/create-new-dataframe-column-from-the-values-of-2-other-columns\n",
    "askscience_df['title_st']=(askscience_df['title']+' '+ askscience_df['selftext'])\n",
    "askengineers_df['title_st']=(askengineers_df['title']+' '+ askengineers_df['selftext'])"
   ]
  },
  {
   "cell_type": "code",
   "execution_count": 318,
   "id": "aaf97163-de5a-42e6-b0a6-4017b90ede6b",
   "metadata": {},
   "outputs": [
    {
     "data": {
      "text/html": [
       "<div>\n",
       "<style scoped>\n",
       "    .dataframe tbody tr th:only-of-type {\n",
       "        vertical-align: middle;\n",
       "    }\n",
       "\n",
       "    .dataframe tbody tr th {\n",
       "        vertical-align: top;\n",
       "    }\n",
       "\n",
       "    .dataframe thead th {\n",
       "        text-align: right;\n",
       "    }\n",
       "</style>\n",
       "<table border=\"1\" class=\"dataframe\">\n",
       "  <thead>\n",
       "    <tr style=\"text-align: right;\">\n",
       "      <th></th>\n",
       "      <th>created_utc</th>\n",
       "      <th>id</th>\n",
       "      <th>author</th>\n",
       "      <th>num_comments</th>\n",
       "      <th>score</th>\n",
       "      <th>selftext</th>\n",
       "      <th>subreddit</th>\n",
       "      <th>title</th>\n",
       "      <th>title_st</th>\n",
       "    </tr>\n",
       "  </thead>\n",
       "  <tbody>\n",
       "    <tr>\n",
       "      <th>0</th>\n",
       "      <td>1664345968</td>\n",
       "      <td>xq4s10</td>\n",
       "      <td>SeineAdmiralitaet</td>\n",
       "      <td>0</td>\n",
       "      <td>1</td>\n",
       "      <td>We all heard about the damage to the pipelines and the public discussion revolves mainly around the question of possible sabotage. What hasn't been discussed much are the technical questions that come with it. Can they realistically be repaired? How long would it take? If nothing is done, would the pipe simply be filled with sea water and be rendered unusable? \\n\\nI hope this is the right sub for these kinds of questions, thanks in advance!</td>\n",
       "      <td>AskEngineers</td>\n",
       "      <td>What long-term consequences will the damage to Nord Stream 1&amp;amp;2 cause?</td>\n",
       "      <td>What long-term consequences will the damage to Nord Stream 1&amp;amp;2 cause? We all heard about the damage to the pipelines and the public discussion revolves mainly around the question of possible sabotage. What hasn't been discussed much are the technical questions that come with it. Can they realistically be repaired? How long would it take? If nothing is done, would the pipe simply be filled with sea water and be rendered unusable? \\n\\nI hope this is the right sub for these kinds of questions, thanks in advance!</td>\n",
       "    </tr>\n",
       "    <tr>\n",
       "      <th>1</th>\n",
       "      <td>1664345913</td>\n",
       "      <td>xq4rh5</td>\n",
       "      <td>king_killmongerr</td>\n",
       "      <td>0</td>\n",
       "      <td>1</td>\n",
       "      <td>My university offers a traditional BSE in ME at the main campus which I am currently in my junior year of after transferring from a community college, I don’t quite like the classes I’m taking and the ones coming up it’s a ton of theory which doesn’t work with my brain, the majority of my resume includes hands on mechanic work (auto mechanic, aircraft parts technician). The other campus which is about 15 minutes away from my house compared to 30-40 to the main (saving a ton in gas), has an “Engineering BSE with a concentration in mechanical systems”  and reading the description and some buddies who transferred there it’s a lot more hands on classes that I see id do better in but I was wondering what does an engineering degree in Mechanical systems mean for my future career? Should I st...</td>\n",
       "      <td>AskEngineers</td>\n",
       "      <td>Mechanical engineering BSE vs Mechanical systems engineering BSE</td>\n",
       "      <td>Mechanical engineering BSE vs Mechanical systems engineering BSE My university offers a traditional BSE in ME at the main campus which I am currently in my junior year of after transferring from a community college, I don’t quite like the classes I’m taking and the ones coming up it’s a ton of theory which doesn’t work with my brain, the majority of my resume includes hands on mechanic work (auto mechanic, aircraft parts technician). The other campus which is about 15 minutes away from my house compared to 30-40 to the main (saving a ton in gas), has an “Engineering BSE with a concentration in mechanical systems”  and reading the description and some buddies who transferred there it’s a lot more hands on classes that I see id do better in but I was wondering what does an engineering de...</td>\n",
       "    </tr>\n",
       "  </tbody>\n",
       "</table>\n",
       "</div>"
      ],
      "text/plain": [
       "   created_utc      id             author  num_comments  score  \\\n",
       "0   1664345968  xq4s10  SeineAdmiralitaet             0      1   \n",
       "1   1664345913  xq4rh5   king_killmongerr             0      1   \n",
       "\n",
       "                                                                                                                                                                                                                                                                                                                                                                                                                                                                                                                                                                                                                                                                                                                                                                                                                          selftext  \\\n",
       "0                                                                                                                                                                                                                                                                                                                                                                     We all heard about the damage to the pipelines and the public discussion revolves mainly around the question of possible sabotage. What hasn't been discussed much are the technical questions that come with it. Can they realistically be repaired? How long would it take? If nothing is done, would the pipe simply be filled with sea water and be rendered unusable? \\n\\nI hope this is the right sub for these kinds of questions, thanks in advance!   \n",
       "1  My university offers a traditional BSE in ME at the main campus which I am currently in my junior year of after transferring from a community college, I don’t quite like the classes I’m taking and the ones coming up it’s a ton of theory which doesn’t work with my brain, the majority of my resume includes hands on mechanic work (auto mechanic, aircraft parts technician). The other campus which is about 15 minutes away from my house compared to 30-40 to the main (saving a ton in gas), has an “Engineering BSE with a concentration in mechanical systems”  and reading the description and some buddies who transferred there it’s a lot more hands on classes that I see id do better in but I was wondering what does an engineering degree in Mechanical systems mean for my future career? Should I st...   \n",
       "\n",
       "      subreddit  \\\n",
       "0  AskEngineers   \n",
       "1  AskEngineers   \n",
       "\n",
       "                                                                       title  \\\n",
       "0  What long-term consequences will the damage to Nord Stream 1&amp;2 cause?   \n",
       "1           Mechanical engineering BSE vs Mechanical systems engineering BSE   \n",
       "\n",
       "                                                                                                                                                                                                                                                                                                                                                                                                                                                                                                                                                                                                                                                                                                                                                                                                                          title_st  \n",
       "0                                                                                                                                                                                                                                                                                           What long-term consequences will the damage to Nord Stream 1&amp;2 cause? We all heard about the damage to the pipelines and the public discussion revolves mainly around the question of possible sabotage. What hasn't been discussed much are the technical questions that come with it. Can they realistically be repaired? How long would it take? If nothing is done, would the pipe simply be filled with sea water and be rendered unusable? \\n\\nI hope this is the right sub for these kinds of questions, thanks in advance!  \n",
       "1  Mechanical engineering BSE vs Mechanical systems engineering BSE My university offers a traditional BSE in ME at the main campus which I am currently in my junior year of after transferring from a community college, I don’t quite like the classes I’m taking and the ones coming up it’s a ton of theory which doesn’t work with my brain, the majority of my resume includes hands on mechanic work (auto mechanic, aircraft parts technician). The other campus which is about 15 minutes away from my house compared to 30-40 to the main (saving a ton in gas), has an “Engineering BSE with a concentration in mechanical systems”  and reading the description and some buddies who transferred there it’s a lot more hands on classes that I see id do better in but I was wondering what does an engineering de...  "
      ]
     },
     "execution_count": 318,
     "metadata": {},
     "output_type": "execute_result"
    }
   ],
   "source": [
    "askengineers_df.head(2)"
   ]
  },
  {
   "cell_type": "code",
   "execution_count": 342,
   "id": "9c3cf381-5623-4dfc-8359-816b32e47711",
   "metadata": {},
   "outputs": [],
   "source": [
    "st=pd.DataFrame()\n",
    "st_engg=pd.DataFrame()"
   ]
  },
  {
   "cell_type": "code",
   "execution_count": 312,
   "id": "7c66207e-0882-47b0-bb5c-08f874660755",
   "metadata": {
    "scrolled": true,
    "tags": []
   },
   "outputs": [],
   "source": [
    "#remove url \n",
    "st['title_st']=askscience_df['title_st'].map(lambda x: re.sub(r'(https?:\\S*)|(www\\.\\S*)','', x))\n",
    "st_engg['title_st']=askengineers_df['title_st'].map(lambda x: re.sub(r'(https?:\\S*)|(www\\.\\S*)','', x))\n",
    "\n",
    "st['title_st']=st['title_st'].map(lambda x: re.sub(r'&amp;#x200B;','', x))\n",
    "st['title_st']=st['title_st'].map(lambda x: re.sub(r'E&amp;M','', x))\n",
    "st['title_st']=st['title_st'].map(lambda x: re.sub(r'R&amp;D','', x)) \n",
    "st['title_st']=st['title_st'].map(lambda x: re.sub(r'1&amp;2','', x))"
   ]
  },
  {
   "cell_type": "code",
   "execution_count": 276,
   "id": "00f23714-da62-4806-b628-a8f33f11af4e",
   "metadata": {},
   "outputs": [],
   "source": [
    "# remove new line, lab, carriage return\n",
    "st['title_st']=st['title_st'].map(lambda x: re.sub(r'(\\n)|(\\t)|(\\r)','', x))"
   ]
  },
  {
   "cell_type": "code",
   "execution_count": 277,
   "id": "75caa3bf-ba2b-4765-b167-560f7bc379f6",
   "metadata": {},
   "outputs": [],
   "source": [
    "# remove special characters: \", ' ,#, [, ], (, ), \\, ?, :, ;, ,, !,_'\"\n",
    "st['title_st']=st['title_st'].map(lambda x: re.sub(r'(\")|(\\')|(#)|(\\[)|(\\])|(\\()|(\\))|(\\\\)|(\\?)|(\\:)|(\\;)|(\\,)|(\\!)|(_)','', x))"
   ]
  },
  {
   "cell_type": "code",
   "execution_count": 270,
   "id": "f3654a9b-ff46-4de4-b5cb-e5ba879ffbff",
   "metadata": {},
   "outputs": [],
   "source": [
    "#removing decimal between letters (want to keep decimal between )\n",
    "#st['title_st']=st['title_st'].map(lambda x: re.sub(r'(\\.\\s)|(\\.\\w)|(\\w\\.)',' ', x))"
   ]
  },
  {
   "cell_type": "code",
   "execution_count": 278,
   "id": "48133990-842c-461c-a452-6853bd456985",
   "metadata": {},
   "outputs": [],
   "source": [
    "#defining positive and negative numbers\n",
    "st['title_st']=st['title_st'].map(lambda x: re.sub(r'(\\+\\s?\\d)',' positivenum ', x))\n",
    "st['title_st']=st['title_st'].map(lambda x: re.sub(r'(\\-\\s?\\d)',' negativevenum ', x))"
   ]
  },
  {
   "cell_type": "code",
   "execution_count": 279,
   "id": "bddade3a-a390-47a0-93ee-7278ee14d3c7",
   "metadata": {},
   "outputs": [],
   "source": [
    "#defining float numbers\n",
    "st['title_st']=st['title_st'].map(lambda x: re.sub(r'\\d\\.\\d',' floatnum ', x))"
   ]
  },
  {
   "cell_type": "code",
   "execution_count": 280,
   "id": "9bca1c7a-d9b1-4b12-b7ed-19851d7709e6",
   "metadata": {},
   "outputs": [],
   "source": [
    "#defining euqation\n",
    "st['title_st']=st['title_st'].map(lambda x: re.sub(r'.\\=.',' equation ', x))\n"
   ]
  },
  {
   "cell_type": "code",
   "execution_count": 456,
   "id": "cb2456fe-431b-45ba-8f2a-c425efc55908",
   "metadata": {},
   "outputs": [],
   "source": [
    "#Help from https://medium.com/mlearning-ai/nlp-a-comprehensive-guide-to-text-cleaning-and-preprocessing-63f364febfc5\n",
    "\n",
    "\n",
    "def text_cleaning(df):\n",
    "    #remove url \n",
    "    df['title_st']=df['title_st'].map(lambda x: re.sub(r'(https?:\\S*)|(www\\.\\S*)','', x))\n",
    "    df['title_st']=df['title_st'].map(lambda x: re.sub(r'&amp;#x200B;','', x))\n",
    "    df['title_st']=df['title_st'].map(lambda x: re.sub(r'E&amp;M','', x))\n",
    "    df['title_st']=df['title_st'].map(lambda x: re.sub(r'R&amp;D','', x))\n",
    "    df['title_st']=df['title_st'].map(lambda x: re.sub(r'1&amp;2','', x))\n",
    "    \n",
    "    #lower case\n",
    "    df['title_st']=df['title_st'].map(lambda x: x.lower())\n",
    "    \n",
    "    #expanding contractions\n",
    "    df['title_st']=df['title_st'].map(lambda x: ' '.join([contractions.fix(word) for word in x.split()]))\n",
    "    \n",
    "    #standardizing accent characters\n",
    "    df['title_st']=df['title_st'].map(lambda x: unicodedata.normalize('NFKD', x).encode('ascii', 'ignore').decode('utf-8', 'ignore'))\n",
    "        \n",
    "    # remove new line, lab, carriage return\n",
    "    df['title_st']=df['title_st'].map(lambda x: re.sub(r'(\\n)|(\\t)|(\\r)','', x))\n",
    "    \n",
    "    # remove_mentions_and_tags\n",
    "    df['title_st']=df['title_st'].map(lambda x: re.sub(r'@\\S*','', x))\n",
    "    df['title_st']=df['title_st'].map(lambda x: re.sub(r'#\\S*','', x))\n",
    "   \n",
    "    #removing text related to images\n",
    "    df['title_st']=df['title_st'].map(lambda x: re.sub(r'\\[.+[ImgBBibb].+\\]','', x))\n",
    "         \n",
    "    \n",
    "    #removing decimal between letters (want to keep decimal between )\n",
    "    #df['title_st']=df['title_st'].map(lambda x: re.sub(r'(\\.\\s)|(\\.\\w)|(\\w\\.)',' ', x))\n",
    "\n",
    "\n",
    "    #defining positive and negative numbers\n",
    "    df['title_st']=df['title_st'].map(lambda x: re.sub(r'(\\+\\s?\\d)',' positivenum ', x))\n",
    "    df['title_st']=df['title_st'].map(lambda x: re.sub(r'(\\-\\s?\\d)',' negativenum ', x))\n",
    "\n",
    "    #defining euqation\n",
    "    df['title_st']=df['title_st'].map(lambda x: re.sub(r'\\S+=\\S+',' equation ', x))\n",
    "    \n",
    "    #defining float numbers\n",
    "    df['title_st']=df['title_st'].map(lambda x: re.sub(r'\\d\\.\\d',' floatnum ', x))\n",
    "    \n",
    "    #defining dimensions\n",
    "    df['title_st']=df['title_st'].map(lambda x: re.sub(r'[\\d\\w]+\\s*[xX]\\s*[\\d\\w]+\\s*[xX]\\s*[\\d\\w]+',' dimension ', x))\n",
    "    df['title_st']=df['title_st'].map(lambda x: re.sub(r'[\\d\\w]+\\s*[xX]\\s*[\\d\\w]+',' dimension ', x))\n",
    "    \n",
    "   # defining percentage\n",
    "    df['title_st']=df['title_st'].map(lambda x: re.sub(r'[\\d]+\\s*\\%',' percentage ', x))\n",
    "    \n",
    "    #removing digits\n",
    "    df['title_st']=df['title_st'].map(lambda x: re.sub(r'[^a-zA-z.,!?/:;\\\"\\'\\s]','', x))\n",
    "    \n",
    "     # remove special characters: #, [, ], (, ), \\,_,/,*,$,@\n",
    "    df['title_st']=df['title_st'].map(lambda x: re.sub(r'(#)|(\\[)|(\\])|(\\()|(\\))|(\\\\)|(_)|(\\/)|(\\*)|(\\$)|(@)','', x))\n",
    "    \n",
    "    #remove punctuatons\n",
    "    df['title_st']=df['title_st'].map(lambda x: ''.join([char for char in x if char not in string.punctuation]))\n",
    "    \n",
    "    return (df)"
   ]
  },
  {
   "cell_type": "code",
   "execution_count": 460,
   "id": "d292ada1-752a-4645-8f83-f1683e971ef9",
   "metadata": {},
   "outputs": [],
   "source": [
    "askengineers_df_clean=text_cleaning(askengineers_df)"
   ]
  },
  {
   "cell_type": "code",
   "execution_count": 462,
   "id": "1c38b7f6-df20-4491-af6b-bea8e595285c",
   "metadata": {},
   "outputs": [
    {
     "data": {
      "text/plain": [
       "2515    how does hydraulic pump work the purpose of a hydraulic pump is to supply the flow of fluid required by a hydraulic system the pump does not create system pressure system pressure is created by a combination of the flow generated by the pump and the resistance to flow created by friction and restrictions within the system  as the pump provides flow it transmits a force to the fluid when the flow encounters resistance this force is changed into pressure resistance to flow is the result of a restriction or obstruction in the flow path this restriction is normally the work accomplished by the hydraulic system but there can also be restrictions created by the lines fittings or components within the system thus the load imposed on the system or the action of a pressureregulating valve contr...\n",
       "Name: title_st, dtype: object"
      ]
     },
     "execution_count": 462,
     "metadata": {},
     "output_type": "execute_result"
    }
   ],
   "source": [
    "askengineers_df_clean['title_st'].sample()"
   ]
  },
  {
   "cell_type": "code",
   "execution_count": 450,
   "id": "cfdeb98c-179a-4d09-b422-9a660916f4f0",
   "metadata": {},
   "outputs": [
    {
     "data": {
      "text/plain": [
       "'So this is a bit more in depth than my post title. I\\'ll try to explain. Have a look at this picture:\\n\\n [65-E78-F0-E-DCD4-45-D0-87-D8-4-FADA644342-C — ImgBB (ibb.co)](https://ibb.co/4fc66Hw) \\n\\n It shows a U-shaped piece with **two fixed supports** at points a and b. In reality (this is not a homework question), the fixed supports are bolts that secure the U-shaped piece with a clamp load. \\n\\nOn the right side of the picture is what I believe the free-body diagram would look like. In application a certain force **Ft**  is applied to the right side of the piece. At the same time, another Force **Fr** is applied to the top of the left side of the piece. I\\'ve applied the unknown fixed support forces and moment at both points a and b. \\n\\n**In real application**, the fixed supports are bolts. And, in application, a large enough Force of **Ft** can cause the bolt (mainly bolt b) to \"slip\", in that the frictional resistance from the bolt\\'s clamp force is too weak to overcome the moment caused by **Ft**.\\n\\nI need to figure out at what force this becomes a problem. \\n\\nI felt like the most logical way to do this was to solve for **Mb**, the fixed support moment of bolt b. And essentially once the Force causes a moment larger than that, the bolt will slip. \\n\\nDoes this seem logical? It seems like I have too many unknowns to solve this, though, and I\\'m having trouble thinking of how the moment at the bolt a (**Ma**) affects this at all or comes into play.'"
      ]
     },
     "execution_count": 450,
     "metadata": {},
     "output_type": "execute_result"
    }
   ],
   "source": [
    "askengineers_df['selftext'][2334]"
   ]
  },
  {
   "cell_type": "code",
   "execution_count": 440,
   "id": "d9848b4f-5fde-4c7c-b39d-6a9df484f9e1",
   "metadata": {},
   "outputs": [],
   "source": [
    "askengineers_df_clean['title_st']=askengineers_df_clean['title_st'].map(lambda x: x.lower())"
   ]
  },
  {
   "cell_type": "code",
   "execution_count": null,
   "id": "f2356d38-b57c-49e8-96ef-6d80d01f4c0b",
   "metadata": {},
   "outputs": [],
   "source": [
    "def standardize_accented_chars(text):\n",
    " return unicodedata.normalize(‘NFKD’, text).encode(‘ascii’, ‘ignore’).decode(‘utf-8’, ‘ignore’)"
   ]
  },
  {
   "cell_type": "code",
   "execution_count": 132,
   "id": "0ce2693b-90f0-4660-bee9-3689f7b35788",
   "metadata": {},
   "outputs": [],
   "source": [
    "nlp=spacy.load('en_core_web_md')"
   ]
  },
  {
   "cell_type": "code",
   "execution_count": 134,
   "id": "79bcec63-b0ea-468f-8ed5-604fbd3085db",
   "metadata": {},
   "outputs": [],
   "source": [
    "doc=st.iloc[1730,0]"
   ]
  },
  {
   "cell_type": "code",
   "execution_count": 135,
   "id": "05c4a4ac-dff4-42c6-8258-8bea43a8ef34",
   "metadata": {},
   "outputs": [
    {
     "data": {
      "text/plain": [
       "'I tried to ask ELI5 to help me understand Sabrina Pasterski’s discoveries, as they’re a bit over my head, but was told this might be a more reliable place for information. I’m specifically interested in the  Pasterski-Strominger-Zhiboedov Triangle and it’s potential importance, relevance, and application. I know it ties into black holes, the difference between 2, 3, and 4 dimensions, and it sounds like it lends support to theories put forth by Weinberg. But it’s so far more advanced than I can grasp right now. Even the stuff I think I understand could very well be wrong. Would anybody care to use some layman’s terms to help me grasp these concepts Thank you!'"
      ]
     },
     "execution_count": 135,
     "metadata": {},
     "output_type": "execute_result"
    }
   ],
   "source": [
    "doc"
   ]
  },
  {
   "cell_type": "code",
   "execution_count": 137,
   "id": "450a3642-862e-4eac-a889-8490269a2870",
   "metadata": {},
   "outputs": [
    {
     "name": "stdout",
     "output_type": "stream",
     "text": [
      "I tried to ask ELI5 to help me understand Sabrina Pasterski’s discoveries, as they’re a bit over my head, but was told this might be a more reliable place for information. I’m specifically interested in the  Pasterski-Strominger-Zhiboedov Triangle and it’s potential importance, relevance, and application. I know it ties into black holes, the difference between 2, 3, and 4 dimensions, and it sounds like it lends support to theories put forth by Weinberg. But it’s so far more advanced than I can grasp right now. Even the stuff I think I understand could very well be wrong. Would anybody care to use some layman’s terms to help me grasp these concepts Thank you!\n"
     ]
    }
   ],
   "source": [
    "ex = nlp(doc)\n",
    "print(ex.text)"
   ]
  },
  {
   "cell_type": "code",
   "execution_count": null,
   "id": "eecf1506-8c2d-44dd-bd2a-31e194e799a6",
   "metadata": {},
   "outputs": [],
   "source": [
    "ex."
   ]
  }
 ],
 "metadata": {
  "kernelspec": {
   "display_name": "Python 3 (ipykernel)",
   "language": "python",
   "name": "python3"
  },
  "language_info": {
   "codemirror_mode": {
    "name": "ipython",
    "version": 3
   },
   "file_extension": ".py",
   "mimetype": "text/x-python",
   "name": "python",
   "nbconvert_exporter": "python",
   "pygments_lexer": "ipython3",
   "version": "3.9.12"
  }
 },
 "nbformat": 4,
 "nbformat_minor": 5
}
