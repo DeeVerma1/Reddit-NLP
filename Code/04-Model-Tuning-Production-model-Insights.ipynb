{
 "cells": [
  {
   "cell_type": "code",
   "execution_count": 1,
   "id": "b21dc79a-7707-4c95-99c1-d35abc57ed57",
   "metadata": {},
   "outputs": [],
   "source": [
    "import pandas as pd\n",
    "import matplotlib.pyplot as plt\n",
    "import numpy as np\n",
    "import seaborn as sns\n",
    "\n",
    "from sklearn.pipeline import Pipeline\n",
    "from sklearn.model_selection import cross_val_score, GridSearchCV\n",
    "from sklearn.feature_extraction.text import CountVectorizer,TfidfVectorizer\n",
    "from sklearn.preprocessing import StandardScaler\n",
    "from sklearn.metrics import (confusion_matrix, plot_confusion_matrix, ConfusionMatrixDisplay,f1_score, \n",
    "                             recall_score, precision_score, balanced_accuracy_score, RocCurveDisplay)\n",
    "\n",
    "from sklearn.naive_bayes import MultinomialNB\n",
    "from sklearn.linear_model import LogisticRegression\n",
    "from sklearn.ensemble import RandomForestClassifier, AdaBoostClassifier\n",
    "from sklearn.tree import DecisionTreeClassifier\n",
    "from sklearn.neighbors import KNeighborsClassifier\n",
    "\n"
   ]
  },
  {
   "cell_type": "code",
   "execution_count": 2,
   "id": "2b6a01e8-1eb7-47c3-a5cc-c2fc53f4f70c",
   "metadata": {},
   "outputs": [],
   "source": [
    "#setting options to be able to see whole text in dataframe columns\n",
    "pd.set_option(\"display.max_rows\", None, \"display.max_columns\", None)\n",
    "pd.set_option('max_colwidth',800)"
   ]
  },
  {
   "cell_type": "code",
   "execution_count": 3,
   "id": "eaf9b89c-b56c-4b92-9c2b-a1636c0628a7",
   "metadata": {},
   "outputs": [
    {
     "data": {
      "text/plain": [
       "((7611, 10), (2537, 10))"
      ]
     },
     "execution_count": 3,
     "metadata": {},
     "output_type": "execute_result"
    }
   ],
   "source": [
    "#Reading train and test data\n",
    "train=pd.read_csv('../datasets/train_clean.csv')\n",
    "test=pd.read_csv('../datasets/test_clean.csv')\n",
    "train.shape, test.shape"
   ]
  },
  {
   "cell_type": "code",
   "execution_count": 4,
   "id": "fb4371f6-c6e4-4c02-9116-106348688a1a",
   "metadata": {},
   "outputs": [],
   "source": [
    "#Creating X and y, train and test\n",
    "X_train=train['title_st_lemma']\n",
    "y_train=train['subreddit']\n",
    "X_test=test['title_st_lemma']\n",
    "y_test=test['subreddit']"
   ]
  },
  {
   "cell_type": "code",
   "execution_count": 5,
   "id": "183be51f-4f38-4b57-ae61-32887681e1b7",
   "metadata": {},
   "outputs": [],
   "source": [
    "train.head(1);"
   ]
  },
  {
   "cell_type": "markdown",
   "id": "e4bdfc45-184a-4f01-ac36-078d6e73dbc7",
   "metadata": {},
   "source": [
    "Beginning with Naive Bayes model."
   ]
  },
  {
   "cell_type": "markdown",
   "id": "414b5ceb-b1b3-42a8-8e40-aa2d541e31ca",
   "metadata": {},
   "source": [
    "**Model 1: Naive-Bayes with cvec**"
   ]
  },
  {
   "cell_type": "code",
   "execution_count": 11,
   "id": "50d16433-d635-44ee-9e7d-9b0ea4e0e91f",
   "metadata": {},
   "outputs": [],
   "source": [
    "pipe_nb=Pipeline([\n",
    "    ('cvec', CountVectorizer()),\n",
    "    ('nb', MultinomialNB())\n",
    "])\n",
    "\n",
    "nb_param={\n",
    "    'cvec__stop_words':[None,'english'],\n",
    "    'cvec__ngram_range':[(1,1),(1,2),(1,3)],\n",
    "    'cvec__max_df':[1.0,0.9,0.8],\n",
    "    'cvec__min_df':[0.0,0.1],\n",
    "    'cvec__max_features':[7000,10_000, 15_000,18_000]\n",
    "}\n",
    "\n",
    "gs_nb=GridSearchCV(pipe_nb,\n",
    "                  param_grid=nb_param,\n",
    "                  cv=5,\n",
    "                  n_jobs=-1)\n",
    "\n"
   ]
  },
  {
   "cell_type": "code",
   "execution_count": 12,
   "id": "96d62ba4-0c59-4400-81c7-5f045c22e35f",
   "metadata": {},
   "outputs": [],
   "source": [
    "gs_nb.fit(X_train,y_train);"
   ]
  },
  {
   "cell_type": "code",
   "execution_count": 13,
   "id": "94fd3c53-5ee2-42c2-a508-e3b53b8c287d",
   "metadata": {},
   "outputs": [
    {
     "name": "stdout",
     "output_type": "stream",
     "text": [
      "Best Score: 0.9240595580856995\n",
      "Best Params: {'cvec__max_df': 1.0, 'cvec__max_features': 18000, 'cvec__min_df': 0.0, 'cvec__ngram_range': (1, 3), 'cvec__stop_words': 'english'}\n"
     ]
    }
   ],
   "source": [
    "best_score1=gs_nb.best_score_\n",
    "print(f'Best Score: {gs_nb.best_score_}')\n",
    "print(f'Best Params: {gs_nb.best_params_}')"
   ]
  },
  {
   "cell_type": "code",
   "execution_count": 14,
   "id": "37aea662-87ab-434e-99b7-d349e84a648e",
   "metadata": {},
   "outputs": [
    {
     "name": "stdout",
     "output_type": "stream",
     "text": [
      "Training_score: 0.9558533701221915\n",
      "Testing score: 0.92313756405203\n",
      "F1 Train score: 0.9561815336463224\n",
      "F1 Test score: 0.9239766081871345\n"
     ]
    }
   ],
   "source": [
    "#Calculating accuracy score\n",
    "training_accuracy1=gs_nb.score(X_train, y_train)\n",
    "print(f'Training_score: {training_accuracy1}')\n",
    "testing_accuracy1=gs_nb.score(X_test, y_test)\n",
    "print(f'Testing score: {testing_accuracy1}')\n",
    "\n",
    "#Calculating F1 scores\n",
    "pred_train1=gs_nb.predict(X_train)\n",
    "pred1=gs_nb.predict(X_test)\n",
    "f1score_train1=f1_score(y_train,pred_train1)\n",
    "f1score_test1=f1_score(y_test,pred1)\n",
    "print(f'F1 Train score: {f1score_train1}')\n",
    "print(f'F1 Test score: {f1score_test1}')"
   ]
  },
  {
   "cell_type": "code",
   "execution_count": 15,
   "id": "9a16ebdd-63e0-4cdb-b598-18d6a9a09c20",
   "metadata": {},
   "outputs": [],
   "source": [
    "#Defining function to store the model evaluation metrics\n",
    "eval_df=pd.DataFrame(columns=['model','training_accuracy','testing_accuracy','best_score','f1score_train','f1score_test','comments'])\n",
    "\n",
    "def model_eval (model_no, training_accuracy, testing_accuracy, best_score, f1score_train, f1score_test, comment):\n",
    "    \n",
    "    eval_df.loc[len(eval_df.index)]=[ model_no, training_accuracy, testing_accuracy, best_score, f1score_train, f1score_test, comment]\n",
    "          \n",
    "    return eval_df\n",
    "          "
   ]
  },
  {
   "cell_type": "code",
   "execution_count": 16,
   "id": "01696298-2815-47fc-b555-bedd4788d63e",
   "metadata": {},
   "outputs": [
    {
     "data": {
      "text/html": [
       "<div>\n",
       "<style scoped>\n",
       "    .dataframe tbody tr th:only-of-type {\n",
       "        vertical-align: middle;\n",
       "    }\n",
       "\n",
       "    .dataframe tbody tr th {\n",
       "        vertical-align: top;\n",
       "    }\n",
       "\n",
       "    .dataframe thead th {\n",
       "        text-align: right;\n",
       "    }\n",
       "</style>\n",
       "<table border=\"1\" class=\"dataframe\">\n",
       "  <thead>\n",
       "    <tr style=\"text-align: right;\">\n",
       "      <th></th>\n",
       "      <th>model</th>\n",
       "      <th>training_accuracy</th>\n",
       "      <th>testing_accuracy</th>\n",
       "      <th>best_score</th>\n",
       "      <th>f1score_train</th>\n",
       "      <th>f1score_test</th>\n",
       "      <th>comments</th>\n",
       "    </tr>\n",
       "  </thead>\n",
       "  <tbody>\n",
       "    <tr>\n",
       "      <th>0</th>\n",
       "      <td>1</td>\n",
       "      <td>0.955853</td>\n",
       "      <td>0.923138</td>\n",
       "      <td>0.92406</td>\n",
       "      <td>0.956182</td>\n",
       "      <td>0.923977</td>\n",
       "      <td>cvec_nb</td>\n",
       "    </tr>\n",
       "  </tbody>\n",
       "</table>\n",
       "</div>"
      ],
      "text/plain": [
       "   model  training_accuracy  testing_accuracy  best_score  f1score_train  \\\n",
       "0      1           0.955853          0.923138     0.92406       0.956182   \n",
       "\n",
       "   f1score_test comments  \n",
       "0      0.923977  cvec_nb  "
      ]
     },
     "execution_count": 16,
     "metadata": {},
     "output_type": "execute_result"
    }
   ],
   "source": [
    "#Saving model metrics\n",
    "model_eval(1,training_accuracy1,testing_accuracy1, best_score1,f1score_train1, f1score_test1, 'cvec_nb')"
   ]
  },
  {
   "cell_type": "markdown",
   "id": "c99884bb-7ce6-47cd-a89d-0b072070387f",
   "metadata": {},
   "source": [
    "This model has decent accuracy and f1-score, it seems to be a bit overfit though."
   ]
  },
  {
   "cell_type": "markdown",
   "id": "0221ddb1-629f-4641-ae14-47ce406528c3",
   "metadata": {},
   "source": [
    "**Model 2: Naive-Bayes with tvec**"
   ]
  },
  {
   "cell_type": "markdown",
   "id": "8c432787-a015-436e-8954-fc3aaaf7f2d3",
   "metadata": {},
   "source": [
    "Too prevent overfitting, using engineering and science as the stop words in following models and trying tvec instead of cvec."
   ]
  },
  {
   "cell_type": "code",
   "execution_count": 6,
   "id": "4b640dee-dc05-4c32-be62-dd8b8f5857ef",
   "metadata": {},
   "outputs": [],
   "source": [
    "pipe_nb2=Pipeline([\n",
    "    ('tvec', TfidfVectorizer()),\n",
    "    ('nb', MultinomialNB())\n",
    "])\n",
    "\n",
    "nb_param2={\n",
    "    'tvec__stop_words':[['engineering','engineers', 'askscience','askengineers','science']],\n",
    "    'tvec__ngram_range':[(1,1),(1,2),(1,3)],\n",
    "    'tvec__max_df':[1.0,0.9,0.8],\n",
    "    'tvec__min_df':[0.0,0.1],\n",
    "    'tvec__max_features':[7000,10_000, 15_000,18_000]\n",
    "}\n",
    "\n",
    "gs_nb2=GridSearchCV(pipe_nb2,\n",
    "                  param_grid=nb_param2,\n",
    "                  cv=5,\n",
    "                  n_jobs=-1)\n",
    "\n",
    "gs_nb2.fit(X_train,y_train);"
   ]
  },
  {
   "cell_type": "code",
   "execution_count": 7,
   "id": "c51faa17-281a-48d0-9291-d0d1c362c6f7",
   "metadata": {},
   "outputs": [
    {
     "name": "stdout",
     "output_type": "stream",
     "text": [
      "Best Score: 0.9210374779012651\n",
      "Best Params: {'tvec__max_df': 1.0, 'tvec__max_features': 15000, 'tvec__min_df': 0.0, 'tvec__ngram_range': (1, 2), 'tvec__stop_words': ['engineering', 'engineers', 'askscience', 'askengineers', 'science']}\n"
     ]
    }
   ],
   "source": [
    "best_score2=gs_nb2.best_score_\n",
    "print(f'Best Score: {gs_nb2.best_score_}')\n",
    "print(f'Best Params: {gs_nb2.best_params_}')"
   ]
  },
  {
   "cell_type": "code",
   "execution_count": 19,
   "id": "90a5ce02-1c28-4487-8159-a2d3425dbdc9",
   "metadata": {},
   "outputs": [
    {
     "data": {
      "text/html": [
       "<div>\n",
       "<style scoped>\n",
       "    .dataframe tbody tr th:only-of-type {\n",
       "        vertical-align: middle;\n",
       "    }\n",
       "\n",
       "    .dataframe tbody tr th {\n",
       "        vertical-align: top;\n",
       "    }\n",
       "\n",
       "    .dataframe thead th {\n",
       "        text-align: right;\n",
       "    }\n",
       "</style>\n",
       "<table border=\"1\" class=\"dataframe\">\n",
       "  <thead>\n",
       "    <tr style=\"text-align: right;\">\n",
       "      <th></th>\n",
       "      <th>model</th>\n",
       "      <th>training_accuracy</th>\n",
       "      <th>testing_accuracy</th>\n",
       "      <th>best_score</th>\n",
       "      <th>f1score_train</th>\n",
       "      <th>f1score_test</th>\n",
       "      <th>comments</th>\n",
       "    </tr>\n",
       "  </thead>\n",
       "  <tbody>\n",
       "    <tr>\n",
       "      <th>0</th>\n",
       "      <td>1</td>\n",
       "      <td>0.955853</td>\n",
       "      <td>0.923138</td>\n",
       "      <td>0.924060</td>\n",
       "      <td>0.956182</td>\n",
       "      <td>0.923977</td>\n",
       "      <td>cvec_nb</td>\n",
       "    </tr>\n",
       "    <tr>\n",
       "      <th>1</th>\n",
       "      <td>2</td>\n",
       "      <td>0.953094</td>\n",
       "      <td>0.921955</td>\n",
       "      <td>0.921037</td>\n",
       "      <td>0.953582</td>\n",
       "      <td>0.922837</td>\n",
       "      <td>tvec_nb</td>\n",
       "    </tr>\n",
       "  </tbody>\n",
       "</table>\n",
       "</div>"
      ],
      "text/plain": [
       "   model  training_accuracy  testing_accuracy  best_score  f1score_train  \\\n",
       "0      1           0.955853          0.923138    0.924060       0.956182   \n",
       "1      2           0.953094          0.921955    0.921037       0.953582   \n",
       "\n",
       "   f1score_test comments  \n",
       "0      0.923977  cvec_nb  \n",
       "1      0.922837  tvec_nb  "
      ]
     },
     "execution_count": 19,
     "metadata": {},
     "output_type": "execute_result"
    }
   ],
   "source": [
    "#Calculating accuracy score\n",
    "training_accuracy2=gs_nb2.score(X_train, y_train)\n",
    "testing_accuracy2=gs_nb2.score(X_test, y_test)\n",
    "\n",
    "#Calculating F1 scores\n",
    "pred_train2=gs_nb2.predict(X_train)\n",
    "pred2=gs_nb2.predict(X_test)\n",
    "f1score_train2=f1_score(y_train,pred_train2)\n",
    "f1score_test2=f1_score(y_test,pred2)\n",
    "\n",
    "#Saving metrics\n",
    "model_eval(2,training_accuracy2,testing_accuracy2, best_score2, f1score_train2, f1score_test2, 'tvec_nb')"
   ]
  },
  {
   "cell_type": "markdown",
   "id": "9cac14a4-20a3-46c2-8fb5-0c98f2ac68c5",
   "metadata": {},
   "source": [
    "Using tvec instead of cvec did not make much difference, also addition of engineering and science words in stop words did not make much difference. The scores are comparable to model1.  \n",
    "Trying Random Forest and other models to see if we can find a less overfit model with better score."
   ]
  },
  {
   "cell_type": "markdown",
   "id": "beab06a9-94b1-4cb8-ba9e-eee8eee7f6fe",
   "metadata": {},
   "source": [
    "**Model 3 Random Forest with tvec**"
   ]
  },
  {
   "cell_type": "code",
   "execution_count": 20,
   "id": "d49d89f2-268d-4b39-bfa2-e3a6123bd61b",
   "metadata": {},
   "outputs": [
    {
     "name": "stderr",
     "output_type": "stream",
     "text": [
      "C:\\Users\\deepi\\anaconda3\\lib\\site-packages\\sklearn\\ensemble\\_forest.py:427: FutureWarning: `max_features='auto'` has been deprecated in 1.1 and will be removed in 1.3. To keep the past behaviour, explicitly set `max_features='sqrt'` or remove this parameter as it is also the default value for RandomForestClassifiers and ExtraTreesClassifiers.\n",
      "  warn(\n"
     ]
    }
   ],
   "source": [
    "pipe_rf=Pipeline([\n",
    "    ('tvec',TfidfVectorizer()),\n",
    "    ('rf', RandomForestClassifier(random_state=42))\n",
    "])\n",
    "\n",
    "rf_param={\n",
    "    'tvec__stop_words':[['engineering','engineers', 'askscience','askengineers','science']],\n",
    "    'tvec__ngram_range':[(1,1),(1,2),(1,3)],\n",
    "    'tvec__max_features':[7000,10_000],\n",
    "    'rf__n_estimators': [100,200],\n",
    "    'rf__max_depth':[None,3,4,5],\n",
    "    'rf__max_features':['auto', 0.8],\n",
    "    'rf__min_samples_split':[2,3],\n",
    "      }\n",
    "\n",
    "\n",
    "gs_rf=GridSearchCV(pipe_rf,\n",
    "                  param_grid=rf_param,\n",
    "                  cv=5,\n",
    "                  n_jobs=-1)\n",
    "\n",
    "\n",
    "gs_rf.fit(X_train,y_train);\n"
   ]
  },
  {
   "cell_type": "code",
   "execution_count": 21,
   "id": "63a610cf-7d48-4a5f-acba-d8d0af56330c",
   "metadata": {},
   "outputs": [
    {
     "name": "stdout",
     "output_type": "stream",
     "text": [
      "Best Score: 0.904218453274064\n",
      "Best Params: {'rf__max_depth': None, 'rf__max_features': 'auto', 'rf__min_samples_split': 2, 'rf__n_estimators': 200, 'tvec__max_features': 10000, 'tvec__ngram_range': (1, 3), 'tvec__stop_words': ['engineering', 'engineers', 'askscience', 'askengineers', 'science']}\n"
     ]
    }
   ],
   "source": [
    "best_score3=gs_rf.best_score_\n",
    "print(f'Best Score: {gs_rf.best_score_}')\n",
    "print(f'Best Params: {gs_rf.best_params_}')"
   ]
  },
  {
   "cell_type": "code",
   "execution_count": 22,
   "id": "a83834f4-c7d5-4ec5-9e80-27a695770f63",
   "metadata": {},
   "outputs": [
    {
     "data": {
      "text/html": [
       "<div>\n",
       "<style scoped>\n",
       "    .dataframe tbody tr th:only-of-type {\n",
       "        vertical-align: middle;\n",
       "    }\n",
       "\n",
       "    .dataframe tbody tr th {\n",
       "        vertical-align: top;\n",
       "    }\n",
       "\n",
       "    .dataframe thead th {\n",
       "        text-align: right;\n",
       "    }\n",
       "</style>\n",
       "<table border=\"1\" class=\"dataframe\">\n",
       "  <thead>\n",
       "    <tr style=\"text-align: right;\">\n",
       "      <th></th>\n",
       "      <th>model</th>\n",
       "      <th>training_accuracy</th>\n",
       "      <th>testing_accuracy</th>\n",
       "      <th>best_score</th>\n",
       "      <th>f1score_train</th>\n",
       "      <th>f1score_test</th>\n",
       "      <th>comments</th>\n",
       "    </tr>\n",
       "  </thead>\n",
       "  <tbody>\n",
       "    <tr>\n",
       "      <th>0</th>\n",
       "      <td>1</td>\n",
       "      <td>0.955853</td>\n",
       "      <td>0.923138</td>\n",
       "      <td>0.924060</td>\n",
       "      <td>0.956182</td>\n",
       "      <td>0.923977</td>\n",
       "      <td>cvec_nb</td>\n",
       "    </tr>\n",
       "    <tr>\n",
       "      <th>1</th>\n",
       "      <td>2</td>\n",
       "      <td>0.953094</td>\n",
       "      <td>0.921955</td>\n",
       "      <td>0.921037</td>\n",
       "      <td>0.953582</td>\n",
       "      <td>0.922837</td>\n",
       "      <td>tvec_nb</td>\n",
       "    </tr>\n",
       "    <tr>\n",
       "      <th>2</th>\n",
       "      <td>3</td>\n",
       "      <td>0.999869</td>\n",
       "      <td>0.906188</td>\n",
       "      <td>0.904218</td>\n",
       "      <td>0.999869</td>\n",
       "      <td>0.907465</td>\n",
       "      <td>tvec_rf</td>\n",
       "    </tr>\n",
       "  </tbody>\n",
       "</table>\n",
       "</div>"
      ],
      "text/plain": [
       "   model  training_accuracy  testing_accuracy  best_score  f1score_train  \\\n",
       "0      1           0.955853          0.923138    0.924060       0.956182   \n",
       "1      2           0.953094          0.921955    0.921037       0.953582   \n",
       "2      3           0.999869          0.906188    0.904218       0.999869   \n",
       "\n",
       "   f1score_test comments  \n",
       "0      0.923977  cvec_nb  \n",
       "1      0.922837  tvec_nb  \n",
       "2      0.907465  tvec_rf  "
      ]
     },
     "execution_count": 22,
     "metadata": {},
     "output_type": "execute_result"
    }
   ],
   "source": [
    "#Calculating accuracy score\n",
    "training_accuracy3=gs_rf.score(X_train, y_train)\n",
    "testing_accuracy3=gs_rf.score(X_test, y_test)\n",
    "\n",
    "#Calculating F1 scores\n",
    "pred_train3=gs_rf.predict(X_train)\n",
    "pred3=gs_rf.predict(X_test)\n",
    "f1score_train3=f1_score(y_train,pred_train3)\n",
    "f1score_test3=f1_score(y_test,pred3)\n",
    "\n",
    "#Saving metrics\n",
    "model_eval(3,training_accuracy3,testing_accuracy3, best_score3, f1score_train3, f1score_test3, 'tvec_rf')"
   ]
  },
  {
   "cell_type": "markdown",
   "id": "6cdc453b-a1d7-4b7d-a5e0-80de8a17a05f",
   "metadata": {},
   "source": [
    "This model (Random Forest) seems to be a lot more overfit than previous models."
   ]
  },
  {
   "cell_type": "markdown",
   "id": "43e91eb3-865e-4d9b-99f9-7dce9c3d3dc5",
   "metadata": {},
   "source": [
    "**Model 4 AdaBoost with tvec**"
   ]
  },
  {
   "cell_type": "code",
   "execution_count": 25,
   "id": "080fbcac-ecef-413a-946e-715857586b71",
   "metadata": {},
   "outputs": [],
   "source": [
    "pipe_ada=Pipeline([\n",
    "    ('tvec',TfidfVectorizer()),\n",
    "    ('ada', AdaBoostClassifier(base_estimator=DecisionTreeClassifier(),random_state=42)),\n",
    "])\n",
    "\n",
    "ada_param={\n",
    "    'tvec__stop_words':[['engineering','engineers', 'askscience','askengineers','science']],\n",
    "    'tvec__ngram_range':[(1,1),(1,2),(1,3)],\n",
    "    'tvec__max_df':[1.0,0.9],\n",
    "    'tvec__min_df':[0.0,0.1],\n",
    "    'tvec__max_features':[7000,10_000],\n",
    "    'ada__n_estimators': [50,100],\n",
    "    'ada__base_estimator__max_depth':[1,3,4],\n",
    "    'ada__base_estimator__min_samples_split':[2,3,4],\n",
    "    'ada__learning_rate':[0.9,1.0,1.1],\n",
    "       \n",
    "          \n",
    "    }\n",
    "\n",
    "\n",
    "gs_ada=GridSearchCV(pipe_ada,\n",
    "                  param_grid=ada_param,\n",
    "                  cv=5,\n",
    "                  n_jobs=-1)\n",
    "\n",
    "\n",
    "gs_ada.fit(X_train,y_train);"
   ]
  },
  {
   "cell_type": "code",
   "execution_count": 26,
   "id": "8d4709e0-ada3-41dd-a5d7-cdbe8c1c953c",
   "metadata": {},
   "outputs": [
    {
     "name": "stdout",
     "output_type": "stream",
     "text": [
      "Best Score: 0.8838543127153253\n",
      "Best Params: {'ada__base_estimator__max_depth': 1, 'ada__base_estimator__min_samples_split': 2, 'ada__learning_rate': 1.0, 'ada__n_estimators': 100, 'tvec__max_df': 1.0, 'tvec__max_features': 7000, 'tvec__min_df': 0.0, 'tvec__ngram_range': (1, 3), 'tvec__stop_words': ['engineering', 'engineers', 'askscience', 'askengineers', 'science']}\n"
     ]
    }
   ],
   "source": [
    "best_score4=gs_ada.best_score_\n",
    "print(f'Best Score: {gs_ada.best_score_}')\n",
    "print(f'Best Params: {gs_ada.best_params_}')"
   ]
  },
  {
   "cell_type": "code",
   "execution_count": 27,
   "id": "87abd335-4e2c-467b-9a53-8521d58850a7",
   "metadata": {},
   "outputs": [
    {
     "data": {
      "text/html": [
       "<div>\n",
       "<style scoped>\n",
       "    .dataframe tbody tr th:only-of-type {\n",
       "        vertical-align: middle;\n",
       "    }\n",
       "\n",
       "    .dataframe tbody tr th {\n",
       "        vertical-align: top;\n",
       "    }\n",
       "\n",
       "    .dataframe thead th {\n",
       "        text-align: right;\n",
       "    }\n",
       "</style>\n",
       "<table border=\"1\" class=\"dataframe\">\n",
       "  <thead>\n",
       "    <tr style=\"text-align: right;\">\n",
       "      <th></th>\n",
       "      <th>model</th>\n",
       "      <th>training_accuracy</th>\n",
       "      <th>testing_accuracy</th>\n",
       "      <th>best_score</th>\n",
       "      <th>f1score_train</th>\n",
       "      <th>f1score_test</th>\n",
       "      <th>comments</th>\n",
       "    </tr>\n",
       "  </thead>\n",
       "  <tbody>\n",
       "    <tr>\n",
       "      <th>0</th>\n",
       "      <td>1</td>\n",
       "      <td>0.955853</td>\n",
       "      <td>0.923138</td>\n",
       "      <td>0.924060</td>\n",
       "      <td>0.956182</td>\n",
       "      <td>0.923977</td>\n",
       "      <td>cvec_nb</td>\n",
       "    </tr>\n",
       "    <tr>\n",
       "      <th>1</th>\n",
       "      <td>2</td>\n",
       "      <td>0.953094</td>\n",
       "      <td>0.921955</td>\n",
       "      <td>0.921037</td>\n",
       "      <td>0.953582</td>\n",
       "      <td>0.922837</td>\n",
       "      <td>tvec_nb</td>\n",
       "    </tr>\n",
       "    <tr>\n",
       "      <th>2</th>\n",
       "      <td>3</td>\n",
       "      <td>0.999869</td>\n",
       "      <td>0.906188</td>\n",
       "      <td>0.904218</td>\n",
       "      <td>0.999869</td>\n",
       "      <td>0.907465</td>\n",
       "      <td>tvec_rf</td>\n",
       "    </tr>\n",
       "    <tr>\n",
       "      <th>3</th>\n",
       "      <td>4</td>\n",
       "      <td>0.906451</td>\n",
       "      <td>0.886480</td>\n",
       "      <td>0.883854</td>\n",
       "      <td>0.908295</td>\n",
       "      <td>0.890076</td>\n",
       "      <td>tvec_ada</td>\n",
       "    </tr>\n",
       "  </tbody>\n",
       "</table>\n",
       "</div>"
      ],
      "text/plain": [
       "   model  training_accuracy  testing_accuracy  best_score  f1score_train  \\\n",
       "0      1           0.955853          0.923138    0.924060       0.956182   \n",
       "1      2           0.953094          0.921955    0.921037       0.953582   \n",
       "2      3           0.999869          0.906188    0.904218       0.999869   \n",
       "3      4           0.906451          0.886480    0.883854       0.908295   \n",
       "\n",
       "   f1score_test  comments  \n",
       "0      0.923977   cvec_nb  \n",
       "1      0.922837   tvec_nb  \n",
       "2      0.907465   tvec_rf  \n",
       "3      0.890076  tvec_ada  "
      ]
     },
     "execution_count": 27,
     "metadata": {},
     "output_type": "execute_result"
    }
   ],
   "source": [
    "#Calculating accuracy score\n",
    "training_accuracy4=gs_ada.score(X_train, y_train)\n",
    "testing_accuracy4=gs_ada.score(X_test, y_test)\n",
    "\n",
    "#Calculating F1 scores\n",
    "pred_train4=gs_ada.predict(X_train)\n",
    "pred4=gs_ada.predict(X_test)\n",
    "f1score_train4=f1_score(y_train,pred_train4)\n",
    "f1score_test4=f1_score(y_test,pred4)\n",
    "\n",
    "#Saving metrics\n",
    "model_eval(4,training_accuracy4,testing_accuracy4, best_score4, f1score_train4, f1score_test4, 'tvec_ada')"
   ]
  },
  {
   "cell_type": "markdown",
   "id": "bc3badd6-0f70-4502-bcbe-d81d2b345ed4",
   "metadata": {},
   "source": [
    "This model (AdaBoost) is not that overfit but has lower scores compared to Naive Bayes."
   ]
  },
  {
   "cell_type": "markdown",
   "id": "90c2e1d1-6b46-4f8d-808a-6fdd7dc94ff8",
   "metadata": {},
   "source": [
    "**Model 5: Logistic Regression**"
   ]
  },
  {
   "cell_type": "code",
   "execution_count": 94,
   "id": "308d0551-b845-4d98-8270-9e9322876534",
   "metadata": {},
   "outputs": [],
   "source": [
    "pipe_logreg=Pipeline([\n",
    "    ('tvec',TfidfVectorizer()),\n",
    "    ('lr', LogisticRegression(random_state=42)),\n",
    "])\n",
    "\n",
    "logreg_param={\n",
    "    'tvec__stop_words':[['engineering','engineers', 'askscience','askengineers','science']],\n",
    "    'tvec__ngram_range':[(1,1),(1,2),(1,3)],\n",
    "    'tvec__max_df':[1.0,0.9],\n",
    "    'tvec__min_df':[0.0,0.1],\n",
    "    'tvec__max_features':[7000,10_000,18_000],\n",
    "    'lr__C':[1.0,0.1,0.5,5,10]\n",
    "           \n",
    "    }\n",
    "\n",
    "\n",
    "gs_logreg=GridSearchCV(pipe_logreg,\n",
    "                  param_grid=logreg_param,\n",
    "                  cv=5,\n",
    "                  n_jobs=-1)\n",
    "\n",
    "\n",
    "gs_logreg.fit(X_train,y_train);"
   ]
  },
  {
   "cell_type": "code",
   "execution_count": 95,
   "id": "79f1e20d-866c-461e-8a83-c5c0756cd8f4",
   "metadata": {},
   "outputs": [
    {
     "name": "stdout",
     "output_type": "stream",
     "text": [
      "Best Score: 0.9243217662076801\n",
      "Best Params: {'lr__C': 1.0, 'tvec__max_df': 1.0, 'tvec__max_features': 10000, 'tvec__min_df': 0.0, 'tvec__ngram_range': (1, 2), 'tvec__stop_words': ['engineering', 'engineers', 'askscience', 'askengineers', 'science']}\n"
     ]
    }
   ],
   "source": [
    "best_score5=gs_logreg.best_score_\n",
    "print(f'Best Score: {gs_logreg.best_score_}')\n",
    "print(f'Best Params: {gs_logreg.best_params_}')"
   ]
  },
  {
   "cell_type": "code",
   "execution_count": 31,
   "id": "d7b1f97f-0254-4aaf-8345-b1b6d3e7bc2b",
   "metadata": {},
   "outputs": [
    {
     "data": {
      "text/html": [
       "<div>\n",
       "<style scoped>\n",
       "    .dataframe tbody tr th:only-of-type {\n",
       "        vertical-align: middle;\n",
       "    }\n",
       "\n",
       "    .dataframe tbody tr th {\n",
       "        vertical-align: top;\n",
       "    }\n",
       "\n",
       "    .dataframe thead th {\n",
       "        text-align: right;\n",
       "    }\n",
       "</style>\n",
       "<table border=\"1\" class=\"dataframe\">\n",
       "  <thead>\n",
       "    <tr style=\"text-align: right;\">\n",
       "      <th></th>\n",
       "      <th>model</th>\n",
       "      <th>training_accuracy</th>\n",
       "      <th>testing_accuracy</th>\n",
       "      <th>best_score</th>\n",
       "      <th>f1score_train</th>\n",
       "      <th>f1score_test</th>\n",
       "      <th>comments</th>\n",
       "    </tr>\n",
       "  </thead>\n",
       "  <tbody>\n",
       "    <tr>\n",
       "      <th>0</th>\n",
       "      <td>1</td>\n",
       "      <td>0.955853</td>\n",
       "      <td>0.923138</td>\n",
       "      <td>0.924060</td>\n",
       "      <td>0.956182</td>\n",
       "      <td>0.923977</td>\n",
       "      <td>cvec_nb</td>\n",
       "    </tr>\n",
       "    <tr>\n",
       "      <th>1</th>\n",
       "      <td>2</td>\n",
       "      <td>0.953094</td>\n",
       "      <td>0.921955</td>\n",
       "      <td>0.921037</td>\n",
       "      <td>0.953582</td>\n",
       "      <td>0.922837</td>\n",
       "      <td>tvec_nb</td>\n",
       "    </tr>\n",
       "    <tr>\n",
       "      <th>2</th>\n",
       "      <td>3</td>\n",
       "      <td>0.999869</td>\n",
       "      <td>0.906188</td>\n",
       "      <td>0.904218</td>\n",
       "      <td>0.999869</td>\n",
       "      <td>0.907465</td>\n",
       "      <td>tvec_rf</td>\n",
       "    </tr>\n",
       "    <tr>\n",
       "      <th>3</th>\n",
       "      <td>4</td>\n",
       "      <td>0.906451</td>\n",
       "      <td>0.886480</td>\n",
       "      <td>0.883854</td>\n",
       "      <td>0.908295</td>\n",
       "      <td>0.890076</td>\n",
       "      <td>tvec_ada</td>\n",
       "    </tr>\n",
       "    <tr>\n",
       "      <th>4</th>\n",
       "      <td>5</td>\n",
       "      <td>0.961109</td>\n",
       "      <td>0.917619</td>\n",
       "      <td>0.924322</td>\n",
       "      <td>0.961767</td>\n",
       "      <td>0.919831</td>\n",
       "      <td>tvec_logreg</td>\n",
       "    </tr>\n",
       "  </tbody>\n",
       "</table>\n",
       "</div>"
      ],
      "text/plain": [
       "   model  training_accuracy  testing_accuracy  best_score  f1score_train  \\\n",
       "0      1           0.955853          0.923138    0.924060       0.956182   \n",
       "1      2           0.953094          0.921955    0.921037       0.953582   \n",
       "2      3           0.999869          0.906188    0.904218       0.999869   \n",
       "3      4           0.906451          0.886480    0.883854       0.908295   \n",
       "4      5           0.961109          0.917619    0.924322       0.961767   \n",
       "\n",
       "   f1score_test     comments  \n",
       "0      0.923977      cvec_nb  \n",
       "1      0.922837      tvec_nb  \n",
       "2      0.907465      tvec_rf  \n",
       "3      0.890076     tvec_ada  \n",
       "4      0.919831  tvec_logreg  "
      ]
     },
     "execution_count": 31,
     "metadata": {},
     "output_type": "execute_result"
    }
   ],
   "source": [
    "#Calculating accuracy score\n",
    "training_accuracy5=gs_logreg.score(X_train, y_train)\n",
    "testing_accuracy5=gs_logreg.score(X_test, y_test)\n",
    "\n",
    "#Calculating F1 scores\n",
    "pred_train5=gs_logreg.predict(X_train)\n",
    "pred5=gs_logreg.predict(X_test)\n",
    "f1score_train5=f1_score(y_train,pred_train5)\n",
    "f1score_test5=f1_score(y_test,pred5)\n",
    "\n",
    "#Saving metrics\n",
    "model_eval(5,training_accuracy5,testing_accuracy5, best_score5, f1score_train5, f1score_test5, 'tvec_logreg')"
   ]
  },
  {
   "cell_type": "markdown",
   "id": "97c251eb-4239-4ed3-8142-52bc4c9b8c69",
   "metadata": {},
   "source": [
    "Logistic Regression has a slightly better training score but is a little more overfit than Naive-Bayes."
   ]
  },
  {
   "cell_type": "markdown",
   "id": "0783c4d0-6175-405b-a5a3-b30c202d06ac",
   "metadata": {},
   "source": [
    "**Model 6: K-nearest neighbors**"
   ]
  },
  {
   "cell_type": "code",
   "execution_count": null,
   "id": "96a06b03-4437-47f8-8792-67efccf105cb",
   "metadata": {},
   "outputs": [],
   "source": [
    "pipe_knn=Pipeline([\n",
    "    ('tvec',TfidfVectorizer()),\n",
    "    ('knn', KNeighborsClassifier()),\n",
    "])\n",
    "\n",
    "knn_param={\n",
    "    'tvec__stop_words':[['engineering','engineers', 'askscience','askengineers','science']],\n",
    "    'tvec__ngram_range':[(1,1),(1,2),(1,3)],\n",
    "    'tvec__max_df':[1.0,0.9],\n",
    "    'tvec__min_df':[0.0,0.1],\n",
    "    'tvec__max_features':[7000,10_000,18_000,28_000],\n",
    "    'knn__n_neighbors':[5,10,15],\n",
    "    'knn__weights': ['uniform','distance'], \n",
    "    'knn__p':[1,2]\n",
    "    }\n",
    "\n",
    "\n",
    "gs_knn=GridSearchCV(pipe_knn,\n",
    "                  param_grid=knn_param,\n",
    "                  cv=5,\n",
    "                  n_jobs=-1)\n",
    "\n",
    "\n",
    "gs_knn.fit(X_train,y_train);\n"
   ]
  },
  {
   "cell_type": "code",
   "execution_count": 195,
   "id": "40e59ac6-d302-49c1-9f43-717e85f98f19",
   "metadata": {},
   "outputs": [
    {
     "name": "stdout",
     "output_type": "stream",
     "text": [
      "Best Score: 0.8935766344004286\n",
      "Best Params: {'knn__n_neighbors': 15, 'knn__p': 2, 'knn__weights': 'uniform', 'tvec__max_df': 1.0, 'tvec__max_features': 18000, 'tvec__min_df': 0.0, 'tvec__ngram_range': (1, 2), 'tvec__stop_words': ['engineering', 'engineers', 'askscience', 'askengineers', 'science']}\n"
     ]
    }
   ],
   "source": [
    "best_score6=gs_knn.best_score_\n",
    "print(f'Best Score: {gs_knn.best_score_}')\n",
    "print(f'Best Params: {gs_knn.best_params_}')"
   ]
  },
  {
   "cell_type": "code",
   "execution_count": 271,
   "id": "253eb208-7895-4ef4-9c93-aab36589066a",
   "metadata": {},
   "outputs": [
    {
     "data": {
      "text/html": [
       "<div>\n",
       "<style scoped>\n",
       "    .dataframe tbody tr th:only-of-type {\n",
       "        vertical-align: middle;\n",
       "    }\n",
       "\n",
       "    .dataframe tbody tr th {\n",
       "        vertical-align: top;\n",
       "    }\n",
       "\n",
       "    .dataframe thead th {\n",
       "        text-align: right;\n",
       "    }\n",
       "</style>\n",
       "<table border=\"1\" class=\"dataframe\">\n",
       "  <thead>\n",
       "    <tr style=\"text-align: right;\">\n",
       "      <th></th>\n",
       "      <th>model</th>\n",
       "      <th>training_accuracy</th>\n",
       "      <th>testing_accuracy</th>\n",
       "      <th>best_score</th>\n",
       "      <th>f1score_train</th>\n",
       "      <th>f1score_test</th>\n",
       "      <th>comments</th>\n",
       "    </tr>\n",
       "  </thead>\n",
       "  <tbody>\n",
       "    <tr>\n",
       "      <th>0</th>\n",
       "      <td>1</td>\n",
       "      <td>0.955853</td>\n",
       "      <td>0.923138</td>\n",
       "      <td>0.924060</td>\n",
       "      <td>0.956182</td>\n",
       "      <td>0.923977</td>\n",
       "      <td>cvec_nb</td>\n",
       "    </tr>\n",
       "    <tr>\n",
       "      <th>1</th>\n",
       "      <td>2</td>\n",
       "      <td>0.953094</td>\n",
       "      <td>0.921955</td>\n",
       "      <td>0.921037</td>\n",
       "      <td>0.953582</td>\n",
       "      <td>0.922837</td>\n",
       "      <td>tvec_nb</td>\n",
       "    </tr>\n",
       "    <tr>\n",
       "      <th>2</th>\n",
       "      <td>3</td>\n",
       "      <td>0.999869</td>\n",
       "      <td>0.906188</td>\n",
       "      <td>0.904218</td>\n",
       "      <td>0.999869</td>\n",
       "      <td>0.907465</td>\n",
       "      <td>tvec_rf</td>\n",
       "    </tr>\n",
       "    <tr>\n",
       "      <th>3</th>\n",
       "      <td>4</td>\n",
       "      <td>0.906451</td>\n",
       "      <td>0.886480</td>\n",
       "      <td>0.883854</td>\n",
       "      <td>0.908295</td>\n",
       "      <td>0.890076</td>\n",
       "      <td>tvec_ada</td>\n",
       "    </tr>\n",
       "    <tr>\n",
       "      <th>4</th>\n",
       "      <td>5</td>\n",
       "      <td>0.961109</td>\n",
       "      <td>0.917619</td>\n",
       "      <td>0.924322</td>\n",
       "      <td>0.961767</td>\n",
       "      <td>0.919831</td>\n",
       "      <td>tvec_logreg</td>\n",
       "    </tr>\n",
       "    <tr>\n",
       "      <th>5</th>\n",
       "      <td>6</td>\n",
       "      <td>0.912101</td>\n",
       "      <td>0.886086</td>\n",
       "      <td>0.893577</td>\n",
       "      <td>0.913911</td>\n",
       "      <td>0.888889</td>\n",
       "      <td>tvec_knn</td>\n",
       "    </tr>\n",
       "  </tbody>\n",
       "</table>\n",
       "</div>"
      ],
      "text/plain": [
       "   model  training_accuracy  testing_accuracy  best_score  f1score_train  \\\n",
       "0      1           0.955853          0.923138    0.924060       0.956182   \n",
       "1      2           0.953094          0.921955    0.921037       0.953582   \n",
       "2      3           0.999869          0.906188    0.904218       0.999869   \n",
       "3      4           0.906451          0.886480    0.883854       0.908295   \n",
       "4      5           0.961109          0.917619    0.924322       0.961767   \n",
       "5      6           0.912101          0.886086    0.893577       0.913911   \n",
       "\n",
       "   f1score_test     comments  \n",
       "0      0.923977      cvec_nb  \n",
       "1      0.922837      tvec_nb  \n",
       "2      0.907465      tvec_rf  \n",
       "3      0.890076     tvec_ada  \n",
       "4      0.919831  tvec_logreg  \n",
       "5      0.888889     tvec_knn  "
      ]
     },
     "execution_count": 271,
     "metadata": {},
     "output_type": "execute_result"
    }
   ],
   "source": [
    "#Calculating accuracy score\n",
    "training_accuracy6=gs_knn.score(X_train, y_train)\n",
    "testing_accuracy6=gs_knn.score(X_test, y_test)\n",
    "\n",
    "#Calculating F1 scores\n",
    "pred_train6=gs_knn.predict(X_train)\n",
    "pred6=gs_knn.predict(X_test)\n",
    "f1score_train6=f1_score(y_train,pred_train6)\n",
    "f1score_test6=f1_score(y_test,pred6)\n",
    "\n",
    "#Saving metrics\n",
    "model_eval(6,training_accuracy6,testing_accuracy6, best_score6, f1score_train6, f1score_test6, 'tvec_knn')"
   ]
  },
  {
   "cell_type": "markdown",
   "id": "916e4574-f3e5-4a6d-8826-9a779bee7a1c",
   "metadata": {},
   "source": [
    "K-nearest neighbors is highly overfit and has very less testing score."
   ]
  },
  {
   "cell_type": "markdown",
   "id": "64986bf3-21be-4ccd-b6a3-a9044b0c18ff",
   "metadata": {},
   "source": [
    "### Production Model"
   ]
  },
  {
   "cell_type": "markdown",
   "id": "f0fce04f-0790-4e11-811c-78e0edd2c72a",
   "metadata": {},
   "source": [
    "Considering f1-score as our evaluation metrics, summary of model performance:\n",
    "1. Naive Bayes with cvec: high test score (0.92) with a difference between train and test score of about 0.032 \n",
    "2. Naive Bayes with Tfidf: very comparable to Naive Bayes with cvec, test score(0.92) with a train and test difference of 0.031\n",
    "3. Random Forest: very overfit model with 0.99 training score and 0.9 testing score\n",
    "4. Logistic Regression: high train score but slightly more overfit than Naive Bayes\n",
    "5. Ada Boost: Not overfit (difference between train and test is 0.01) but low scores (0.9)\n",
    "6. K-nearest neighbors: Less overfit but lower score compared to Naive Bayes (0.91)   \n"
   ]
  },
  {
   "cell_type": "markdown",
   "id": "c541c4fc-e8b0-418f-a595-d8910105e6bb",
   "metadata": {},
   "source": [
    "Since we are building a prediction model, selecting Naive Bayes with Tfidf (Model 2) as our production model as it has the highest accuracy score (0.92(92%)) and f1 score (train-0.95, test-0.92) along with being one of the less overfit models.  \n",
    "This model meets the criteria stated in the problem statement."
   ]
  },
  {
   "cell_type": "markdown",
   "id": "ad7ed673-98f3-47ad-8e5d-8462e6d63b3d",
   "metadata": {},
   "source": [
    "**Evaluating the model further**"
   ]
  },
  {
   "cell_type": "code",
   "execution_count": 24,
   "id": "e13cac79-4c0a-4fad-b007-ed9f8627c375",
   "metadata": {},
   "outputs": [
    {
     "data": {
      "text/html": [
       "<style>#sk-container-id-1 {color: black;background-color: white;}#sk-container-id-1 pre{padding: 0;}#sk-container-id-1 div.sk-toggleable {background-color: white;}#sk-container-id-1 label.sk-toggleable__label {cursor: pointer;display: block;width: 100%;margin-bottom: 0;padding: 0.3em;box-sizing: border-box;text-align: center;}#sk-container-id-1 label.sk-toggleable__label-arrow:before {content: \"▸\";float: left;margin-right: 0.25em;color: #696969;}#sk-container-id-1 label.sk-toggleable__label-arrow:hover:before {color: black;}#sk-container-id-1 div.sk-estimator:hover label.sk-toggleable__label-arrow:before {color: black;}#sk-container-id-1 div.sk-toggleable__content {max-height: 0;max-width: 0;overflow: hidden;text-align: left;background-color: #f0f8ff;}#sk-container-id-1 div.sk-toggleable__content pre {margin: 0.2em;color: black;border-radius: 0.25em;background-color: #f0f8ff;}#sk-container-id-1 input.sk-toggleable__control:checked~div.sk-toggleable__content {max-height: 200px;max-width: 100%;overflow: auto;}#sk-container-id-1 input.sk-toggleable__control:checked~label.sk-toggleable__label-arrow:before {content: \"▾\";}#sk-container-id-1 div.sk-estimator input.sk-toggleable__control:checked~label.sk-toggleable__label {background-color: #d4ebff;}#sk-container-id-1 div.sk-label input.sk-toggleable__control:checked~label.sk-toggleable__label {background-color: #d4ebff;}#sk-container-id-1 input.sk-hidden--visually {border: 0;clip: rect(1px 1px 1px 1px);clip: rect(1px, 1px, 1px, 1px);height: 1px;margin: -1px;overflow: hidden;padding: 0;position: absolute;width: 1px;}#sk-container-id-1 div.sk-estimator {font-family: monospace;background-color: #f0f8ff;border: 1px dotted black;border-radius: 0.25em;box-sizing: border-box;margin-bottom: 0.5em;}#sk-container-id-1 div.sk-estimator:hover {background-color: #d4ebff;}#sk-container-id-1 div.sk-parallel-item::after {content: \"\";width: 100%;border-bottom: 1px solid gray;flex-grow: 1;}#sk-container-id-1 div.sk-label:hover label.sk-toggleable__label {background-color: #d4ebff;}#sk-container-id-1 div.sk-serial::before {content: \"\";position: absolute;border-left: 1px solid gray;box-sizing: border-box;top: 0;bottom: 0;left: 50%;z-index: 0;}#sk-container-id-1 div.sk-serial {display: flex;flex-direction: column;align-items: center;background-color: white;padding-right: 0.2em;padding-left: 0.2em;position: relative;}#sk-container-id-1 div.sk-item {position: relative;z-index: 1;}#sk-container-id-1 div.sk-parallel {display: flex;align-items: stretch;justify-content: center;background-color: white;position: relative;}#sk-container-id-1 div.sk-item::before, #sk-container-id-1 div.sk-parallel-item::before {content: \"\";position: absolute;border-left: 1px solid gray;box-sizing: border-box;top: 0;bottom: 0;left: 50%;z-index: -1;}#sk-container-id-1 div.sk-parallel-item {display: flex;flex-direction: column;z-index: 1;position: relative;background-color: white;}#sk-container-id-1 div.sk-parallel-item:first-child::after {align-self: flex-end;width: 50%;}#sk-container-id-1 div.sk-parallel-item:last-child::after {align-self: flex-start;width: 50%;}#sk-container-id-1 div.sk-parallel-item:only-child::after {width: 0;}#sk-container-id-1 div.sk-dashed-wrapped {border: 1px dashed gray;margin: 0 0.4em 0.5em 0.4em;box-sizing: border-box;padding-bottom: 0.4em;background-color: white;}#sk-container-id-1 div.sk-label label {font-family: monospace;font-weight: bold;display: inline-block;line-height: 1.2em;}#sk-container-id-1 div.sk-label-container {text-align: center;}#sk-container-id-1 div.sk-container {/* jupyter's `normalize.less` sets `[hidden] { display: none; }` but bootstrap.min.css set `[hidden] { display: none !important; }` so we also need the `!important` here to be able to override the default hidden behavior on the sphinx rendered scikit-learn.org. See: https://github.com/scikit-learn/scikit-learn/issues/21755 */display: inline-block !important;position: relative;}#sk-container-id-1 div.sk-text-repr-fallback {display: none;}</style><div id=\"sk-container-id-1\" class=\"sk-top-container\"><div class=\"sk-text-repr-fallback\"><pre>Pipeline(steps=[(&#x27;tvec&#x27;,\n",
       "                 TfidfVectorizer(max_features=15000, min_df=0.0,\n",
       "                                 ngram_range=(1, 2),\n",
       "                                 stop_words=[&#x27;engineering&#x27;, &#x27;engineers&#x27;,\n",
       "                                             &#x27;askscience&#x27;, &#x27;askengineers&#x27;,\n",
       "                                             &#x27;science&#x27;])),\n",
       "                (&#x27;nb&#x27;, MultinomialNB())])</pre><b>In a Jupyter environment, please rerun this cell to show the HTML representation or trust the notebook. <br />On GitHub, the HTML representation is unable to render, please try loading this page with nbviewer.org.</b></div><div class=\"sk-container\" hidden><div class=\"sk-item sk-dashed-wrapped\"><div class=\"sk-label-container\"><div class=\"sk-label sk-toggleable\"><input class=\"sk-toggleable__control sk-hidden--visually\" id=\"sk-estimator-id-1\" type=\"checkbox\" ><label for=\"sk-estimator-id-1\" class=\"sk-toggleable__label sk-toggleable__label-arrow\">Pipeline</label><div class=\"sk-toggleable__content\"><pre>Pipeline(steps=[(&#x27;tvec&#x27;,\n",
       "                 TfidfVectorizer(max_features=15000, min_df=0.0,\n",
       "                                 ngram_range=(1, 2),\n",
       "                                 stop_words=[&#x27;engineering&#x27;, &#x27;engineers&#x27;,\n",
       "                                             &#x27;askscience&#x27;, &#x27;askengineers&#x27;,\n",
       "                                             &#x27;science&#x27;])),\n",
       "                (&#x27;nb&#x27;, MultinomialNB())])</pre></div></div></div><div class=\"sk-serial\"><div class=\"sk-item\"><div class=\"sk-estimator sk-toggleable\"><input class=\"sk-toggleable__control sk-hidden--visually\" id=\"sk-estimator-id-2\" type=\"checkbox\" ><label for=\"sk-estimator-id-2\" class=\"sk-toggleable__label sk-toggleable__label-arrow\">TfidfVectorizer</label><div class=\"sk-toggleable__content\"><pre>TfidfVectorizer(max_features=15000, min_df=0.0, ngram_range=(1, 2),\n",
       "                stop_words=[&#x27;engineering&#x27;, &#x27;engineers&#x27;, &#x27;askscience&#x27;,\n",
       "                            &#x27;askengineers&#x27;, &#x27;science&#x27;])</pre></div></div></div><div class=\"sk-item\"><div class=\"sk-estimator sk-toggleable\"><input class=\"sk-toggleable__control sk-hidden--visually\" id=\"sk-estimator-id-3\" type=\"checkbox\" ><label for=\"sk-estimator-id-3\" class=\"sk-toggleable__label sk-toggleable__label-arrow\">MultinomialNB</label><div class=\"sk-toggleable__content\"><pre>MultinomialNB()</pre></div></div></div></div></div></div></div>"
      ],
      "text/plain": [
       "Pipeline(steps=[('tvec',\n",
       "                 TfidfVectorizer(max_features=15000, min_df=0.0,\n",
       "                                 ngram_range=(1, 2),\n",
       "                                 stop_words=['engineering', 'engineers',\n",
       "                                             'askscience', 'askengineers',\n",
       "                                             'science'])),\n",
       "                ('nb', MultinomialNB())])"
      ]
     },
     "execution_count": 24,
     "metadata": {},
     "output_type": "execute_result"
    }
   ],
   "source": [
    "gs_nb2.best_estimator_"
   ]
  },
  {
   "cell_type": "code",
   "execution_count": 198,
   "id": "036f8374-8204-436d-822e-c16609a9e2e6",
   "metadata": {},
   "outputs": [
    {
     "name": "stderr",
     "output_type": "stream",
     "text": [
      "C:\\Users\\deepi\\anaconda3\\lib\\site-packages\\sklearn\\utils\\deprecation.py:87: FutureWarning: Function plot_confusion_matrix is deprecated; Function `plot_confusion_matrix` is deprecated in 1.0 and will be removed in 1.2. Use one of the class methods: ConfusionMatrixDisplay.from_predictions or ConfusionMatrixDisplay.from_estimator.\n",
      "  warnings.warn(msg, category=FutureWarning)\n"
     ]
    },
    {
     "data": {
      "text/plain": [
       "<sklearn.metrics._plot.confusion_matrix.ConfusionMatrixDisplay at 0x2a280e09070>"
      ]
     },
     "execution_count": 198,
     "metadata": {},
     "output_type": "execute_result"
    },
    {
     "data": {
      "image/png": "[encoded data removed]",
      "text/plain": [
       "<Figure size 432x288 with 2 Axes>"
      ]
     },
     "metadata": {
      "needs_background": "light"
     },
     "output_type": "display_data"
    }
   ],
   "source": [
    "#Help from lesson 4.03\n",
    "#Confusion  matrix\n",
    "plot_confusion_matrix(gs_nb2, X_test, y_test, cmap='Blues', values_format='d')"
   ]
  },
  {
   "cell_type": "code",
   "execution_count": 202,
   "id": "5b7e8e4b-b08c-4b2d-8584-e6f97adbd810",
   "metadata": {},
   "outputs": [
    {
     "name": "stdout",
     "output_type": "stream",
     "text": [
      "True positive: 1184\n",
      "False positive: 114\n",
      "True negative: 1155\n",
      "False negative:84\n"
     ]
    }
   ],
   "source": [
    "tn,fp,fn,tp=confusion_matrix(y_test, pred2).ravel()\n",
    "print(f'True positive: {tp}\\nFalse positive: {fp}\\nTrue negative: {tn}\\nFalse negative:{fn}')"
   ]
  },
  {
   "cell_type": "code",
   "execution_count": 27,
   "id": "fbca707a-9954-4a6d-8a36-58853a6dc21f",
   "metadata": {},
   "outputs": [
    {
     "data": {
      "image/png": "[encoded data removed]",
      "text/plain": [
       "<Figure size 432x288 with 2 Axes>"
      ]
     },
     "metadata": {
      "needs_background": "light"
     },
     "output_type": "display_data"
    }
   ],
   "source": [
    "ConfusionMatrixDisplay.from_estimator(gs_nb2,X_test,y_test,cmap='Blues',normalize='pred')\n",
    "plt.savefig('../images/confusion_matrix.png');"
   ]
  },
  {
   "cell_type": "code",
   "execution_count": 297,
   "id": "e52e4474-a792-4d08-bd75-4a277ab71acd",
   "metadata": {},
   "outputs": [
    {
     "name": "stdout",
     "output_type": "stream",
     "text": [
      "Specificity: 0.9101654846335697\n",
      "Recall score/Sensitivity: 0.9337539432176656\n",
      "Precision score: 0.9121725731895224\n",
      "Balanced accuracy: 0.9219597139256177\n"
     ]
    }
   ],
   "source": [
    "#Specificity\n",
    "spec=tn/(tn+fp)\n",
    "print(f'Specificity: {spec}')\n",
    "\n",
    "print(f\"Recall score/Sensitivity: {recall_score(y_test,pred2,pos_label=1)}\")\n",
    "print(f\"Precision score: {precision_score(y_test,pred2,pos_label=1)}\")\n",
    "print(f\"Balanced accuracy: {balanced_accuracy_score(y_test,pred2)}\")"
   ]
  },
  {
   "cell_type": "markdown",
   "id": "371cdc9a-03b7-47c2-97b2-1337006cc829",
   "metadata": {},
   "source": [
    "The model is predicitng 93% of negatives (Engineering) correctly and 91% of positives (Science) correctly.   \n",
    "It has more false positives than false negatives, and higher sensitivity meaning that it is more inclined to give false positives and predict a query/submission belonging to class- AskScience (value 1).\n",
    "The Balanced accuracy is 0.92 which gives good confidence in calssification accuracy for both the classes."
   ]
  },
  {
   "cell_type": "code",
   "execution_count": 287,
   "id": "7b5eea73-d0eb-4d4a-8462-dbb5636cf8a8",
   "metadata": {},
   "outputs": [
    {
     "name": "stdout",
     "output_type": "stream",
     "text": [
      "Misclassification: 0.0780449349625542\n"
     ]
    }
   ],
   "source": [
    "#Misclassification\n",
    "print(f'Misclassification: {(fp+fn)/(tp+fp+tn+fn)}')"
   ]
  },
  {
   "cell_type": "markdown",
   "id": "81400d06-b3da-4424-afaf-32eb460c3bce",
   "metadata": {},
   "source": [
    "This model has 7.8% misclassification."
   ]
  },
  {
   "cell_type": "code",
   "execution_count": 28,
   "id": "b28ebb03-8faf-40c5-a6c2-37fb27b776c9",
   "metadata": {},
   "outputs": [
    {
     "data": {
      "image/png": "[encoded data removed]",
      "text/plain": [
       "<Figure size 432x288 with 1 Axes>"
      ]
     },
     "metadata": {
      "needs_background": "light"
     },
     "output_type": "display_data"
    }
   ],
   "source": [
    "#Looking ROC-AUC curve\n",
    "RocCurveDisplay.from_estimator(gs_nb2,X_test,y_test)\n",
    "\n",
    "# add 'worst case scenario' line\n",
    "plt.plot([0,1],[0,1],label='no predictive value', linestyle='--',color='orange')\n",
    "\n",
    "# add a legend\n",
    "plt.legend();\n",
    "plt.savefig('../images/roc_auc.png');"
   ]
  },
  {
   "cell_type": "markdown",
   "id": "d2f028b3-d61f-4e5b-89e9-2e6327517df5",
   "metadata": {},
   "source": [
    "The ROC curve looks good indicating we have a good seapration between the two classes."
   ]
  },
  {
   "cell_type": "code",
   "execution_count": 29,
   "id": "0e75a2ec-ec7d-4a3e-9ca6-9f6d58da026b",
   "metadata": {},
   "outputs": [],
   "source": [
    "#Storing probabilities\n",
    "prob2=pd.DataFrame(gs_nb2.predict_proba(X_test),\n",
    "                   columns=('p(Engineering)','p(Science)'))\n",
    "prob2;\n"
   ]
  },
  {
   "cell_type": "code",
   "execution_count": 30,
   "id": "b5e17813-ed27-41e7-965e-aff27f1dd679",
   "metadata": {},
   "outputs": [
    {
     "data": {
      "text/html": [
       "<div>\n",
       "<style scoped>\n",
       "    .dataframe tbody tr th:only-of-type {\n",
       "        vertical-align: middle;\n",
       "    }\n",
       "\n",
       "    .dataframe tbody tr th {\n",
       "        vertical-align: top;\n",
       "    }\n",
       "\n",
       "    .dataframe thead th {\n",
       "        text-align: right;\n",
       "    }\n",
       "</style>\n",
       "<table border=\"1\" class=\"dataframe\">\n",
       "  <thead>\n",
       "    <tr style=\"text-align: right;\">\n",
       "      <th></th>\n",
       "      <th>title</th>\n",
       "      <th>selftext</th>\n",
       "      <th>title_st_lemma</th>\n",
       "      <th>p(Engineering)</th>\n",
       "      <th>p(Science)</th>\n",
       "      <th>predictions</th>\n",
       "      <th>true_values</th>\n",
       "    </tr>\n",
       "  </thead>\n",
       "  <tbody>\n",
       "    <tr>\n",
       "      <th>0</th>\n",
       "      <td>I need some help with a calculation of airflow through two pressurised tanks full of air.</td>\n",
       "      <td>┌───────┐      ┌───────┐\\n    │   p1  │     │   p2  │\\n    │       │     │       │\\n    │       │  X  │       │\\n    │       ├──┼───┤       │\\n    │       ├──┴───┤       │\\n    └───────┘      └────────┘\\n\\nI need some help with a problem that is giving me inconsistent results.\\n\\nI have two reservoirs at ambient temperature both full of air. Number 1 is a 70 litres full container at 10 bar, number two is a 13 m³ container at 1 bar. There is a pipe of a certain section A connecting them with a valve X in the middle. Both containers are at the same level so we can assume the pressure drop due to height is negligible.\\n\\nI need the container on the left to discharge completely in a certain amount of time, so I need to dimension correctly the size of the connecting pipe.\\n\\nI've used t...</td>\n",
       "      <td>need help calculation airflow pressurise tank air      p     p          x             need help problem inconsistent result reservoir ambient temperature air number       litre container    bar number    m container    bar pipe certain section connect valve x middle container level assume pressure drop height negligible need container left discharge completely certain time need dimension correctly size connect pipe use bernoullis principle hagenpoiseuille equation darcyweisbach equation try inconsistent result flow speed apply incompressible fluid air compressible headache help</td>\n",
       "      <td>0.718282</td>\n",
       "      <td>0.281718</td>\n",
       "      <td>AskEngineers</td>\n",
       "      <td>AskEngineers</td>\n",
       "    </tr>\n",
       "  </tbody>\n",
       "</table>\n",
       "</div>"
      ],
      "text/plain": [
       "                                                                                       title  \\\n",
       "0  I need some help with a calculation of airflow through two pressurised tanks full of air.   \n",
       "\n",
       "                                                                                                                                                                                                                                                                                                                                                                                                                                                                                                                                                                                                                                                                                                                                                                                                                          selftext  \\\n",
       "0      ┌───────┐      ┌───────┐\\n    │   p1  │     │   p2  │\\n    │       │     │       │\\n    │       │  X  │       │\\n    │       ├──┼───┤       │\\n    │       ├──┴───┤       │\\n    └───────┘      └────────┘\\n\\nI need some help with a problem that is giving me inconsistent results.\\n\\nI have two reservoirs at ambient temperature both full of air. Number 1 is a 70 litres full container at 10 bar, number two is a 13 m³ container at 1 bar. There is a pipe of a certain section A connecting them with a valve X in the middle. Both containers are at the same level so we can assume the pressure drop due to height is negligible.\\n\\nI need the container on the left to discharge completely in a certain amount of time, so I need to dimension correctly the size of the connecting pipe.\\n\\nI've used t...   \n",
       "\n",
       "                                                                                                                                                                                                                                                                                                                                                                                                                                                                                                                                                                                             title_st_lemma  \\\n",
       "0  need help calculation airflow pressurise tank air      p     p          x             need help problem inconsistent result reservoir ambient temperature air number       litre container    bar number    m container    bar pipe certain section connect valve x middle container level assume pressure drop height negligible need container left discharge completely certain time need dimension correctly size connect pipe use bernoullis principle hagenpoiseuille equation darcyweisbach equation try inconsistent result flow speed apply incompressible fluid air compressible headache help   \n",
       "\n",
       "   p(Engineering)  p(Science)   predictions   true_values  \n",
       "0        0.718282    0.281718  AskEngineers  AskEngineers  "
      ]
     },
     "execution_count": 30,
     "metadata": {},
     "output_type": "execute_result"
    }
   ],
   "source": [
    "#Creating predictions dataframe and saving it\n",
    "\n",
    "predictions=pd.DataFrame()\n",
    "predictions['title']=test['title']\n",
    "predictions['selftext']=test['selftext']\n",
    "predictions['title_st_lemma']=test['title_st_lemma']\n",
    "predictions=pd.concat([predictions,prob2], axis=1)\n",
    "predictions['predictions']=pred2\n",
    "predictions['true_values']=y_test.values\n",
    "predictions.head(1)\n",
    "#mapping 0 to engineering and 1 to science\n",
    "predictions['predictions']=predictions['predictions'].map({1:'AskScience',0:'AskEngineers'})\n",
    "predictions['true_values']=predictions['true_values'].map({1:'AskScience',0:'AskEngineers'})\n",
    "\n",
    "predictions.to_csv('../datasets/predictions.csv')\n",
    "predictions.head(1)"
   ]
  },
  {
   "cell_type": "markdown",
   "id": "91f836af-de83-4fce-b94a-f97e38272f9d",
   "metadata": {},
   "source": [
    "**Feature importance insight**"
   ]
  },
  {
   "cell_type": "markdown",
   "id": "8815e2bb-c4a1-4576-ab0a-8275ca819d9e",
   "metadata": {},
   "source": [
    "Although the goal of this project is to get a good predictive model. It will be great to get some insight into the words/features that are important for this classification. Using Logistic Regression model to get some inferences."
   ]
  },
  {
   "cell_type": "code",
   "execution_count": 97,
   "id": "fa530e94-eb9e-4337-a6ba-11a85c9c5b85",
   "metadata": {},
   "outputs": [
    {
     "name": "stdout",
     "output_type": "stream",
     "text": [
      "Balanced accuracy: 0.9176302535840088\n"
     ]
    }
   ],
   "source": [
    "print(f\"Balanced accuracy: {balanced_accuracy_score(y_test,pred5)}\")"
   ]
  },
  {
   "cell_type": "code",
   "execution_count": 122,
   "id": "51f05535-9132-4a9f-8c1e-e817392015c3",
   "metadata": {},
   "outputs": [],
   "source": [
    "#help from : https://towardsdatascience.com/how-to-get-feature-importances-from-any-sklearn-pipeline-167a19f1214\n",
    "#getting logistic regression coefficients\n",
    "coef=gs_logreg.best_estimator_.named_steps['lr'].coef_\n",
    "coef=coef.ravel()"
   ]
  },
  {
   "cell_type": "code",
   "execution_count": 123,
   "id": "778a8c7e-58c6-49aa-b262-4747fd8c3366",
   "metadata": {},
   "outputs": [],
   "source": [
    "#Getting features form tvec\n",
    "features=gs_logreg.best_estimator_.named_steps['tvec'].get_feature_names_out()"
   ]
  },
  {
   "cell_type": "code",
   "execution_count": 124,
   "id": "a9efda94-242a-4749-8693-36f6e79b414b",
   "metadata": {},
   "outputs": [
    {
     "data": {
      "text/html": [
       "<div>\n",
       "<style scoped>\n",
       "    .dataframe tbody tr th:only-of-type {\n",
       "        vertical-align: middle;\n",
       "    }\n",
       "\n",
       "    .dataframe tbody tr th {\n",
       "        vertical-align: top;\n",
       "    }\n",
       "\n",
       "    .dataframe thead th {\n",
       "        text-align: right;\n",
       "    }\n",
       "</style>\n",
       "<table border=\"1\" class=\"dataframe\">\n",
       "  <thead>\n",
       "    <tr style=\"text-align: right;\">\n",
       "      <th></th>\n",
       "      <th>feature</th>\n",
       "      <th>coef</th>\n",
       "    </tr>\n",
       "  </thead>\n",
       "  <tbody>\n",
       "    <tr>\n",
       "      <th>2477</th>\n",
       "      <td>earth</td>\n",
       "      <td>3.201303</td>\n",
       "    </tr>\n",
       "    <tr>\n",
       "      <th>2593</th>\n",
       "      <td>electron</td>\n",
       "      <td>2.702043</td>\n",
       "    </tr>\n",
       "    <tr>\n",
       "      <th>319</th>\n",
       "      <td>animal</td>\n",
       "      <td>2.530262</td>\n",
       "    </tr>\n",
       "    <tr>\n",
       "      <th>4124</th>\n",
       "      <td>human</td>\n",
       "      <td>2.519838</td>\n",
       "    </tr>\n",
       "    <tr>\n",
       "      <th>3835</th>\n",
       "      <td>happen</td>\n",
       "      <td>2.495041</td>\n",
       "    </tr>\n",
       "  </tbody>\n",
       "</table>\n",
       "</div>"
      ],
      "text/plain": [
       "       feature      coef\n",
       "2477     earth  3.201303\n",
       "2593  electron  2.702043\n",
       "319     animal  2.530262\n",
       "4124     human  2.519838\n",
       "3835    happen  2.495041"
      ]
     },
     "execution_count": 124,
     "metadata": {},
     "output_type": "execute_result"
    }
   ],
   "source": [
    "#creating a dataframe to store features and coefficients\n",
    "feature_imp=pd.DataFrame([(features[i],coef[i]) for i in range(0,len(coef))])\n",
    "feature_imp.columns=['feature','coef']\n",
    "\n",
    "#Top most important feature for positive classification(AskScience)\n",
    "feature_imp.sort_values(by='coef',ascending=False).head()"
   ]
  },
  {
   "cell_type": "markdown",
   "id": "89bd70d8-4aef-4165-9762-3dc24dd0bdc5",
   "metadata": {},
   "source": [
    "The table above shows top 5 important words for classification of a submission as AskScience. The coefficient can be interpreted as: e.g. a unit increase in occurance of word 'earth' will make it e^3.2 times likely to be classified as an AskScience post. "
   ]
  },
  {
   "cell_type": "code",
   "execution_count": 125,
   "id": "eeb9134c-9402-4f5b-8ae2-28c1576ed910",
   "metadata": {},
   "outputs": [
    {
     "data": {
      "text/html": [
       "<div>\n",
       "<style scoped>\n",
       "    .dataframe tbody tr th:only-of-type {\n",
       "        vertical-align: middle;\n",
       "    }\n",
       "\n",
       "    .dataframe tbody tr th {\n",
       "        vertical-align: top;\n",
       "    }\n",
       "\n",
       "    .dataframe thead th {\n",
       "        text-align: right;\n",
       "    }\n",
       "</style>\n",
       "<table border=\"1\" class=\"dataframe\">\n",
       "  <thead>\n",
       "    <tr style=\"text-align: right;\">\n",
       "      <th></th>\n",
       "      <th>feature</th>\n",
       "      <th>coef</th>\n",
       "    </tr>\n",
       "  </thead>\n",
       "  <tbody>\n",
       "    <tr>\n",
       "      <th>2704</th>\n",
       "      <td>engineer</td>\n",
       "      <td>-7.335212</td>\n",
       "    </tr>\n",
       "    <tr>\n",
       "      <th>4581</th>\n",
       "      <td>job</td>\n",
       "      <td>-5.031740</td>\n",
       "    </tr>\n",
       "    <tr>\n",
       "      <th>9472</th>\n",
       "      <td>want</td>\n",
       "      <td>-4.624706</td>\n",
       "    </tr>\n",
       "    <tr>\n",
       "      <th>2156</th>\n",
       "      <td>design</td>\n",
       "      <td>-4.235624</td>\n",
       "    </tr>\n",
       "    <tr>\n",
       "      <th>1517</th>\n",
       "      <td>company</td>\n",
       "      <td>-4.044728</td>\n",
       "    </tr>\n",
       "  </tbody>\n",
       "</table>\n",
       "</div>"
      ],
      "text/plain": [
       "       feature      coef\n",
       "2704  engineer -7.335212\n",
       "4581       job -5.031740\n",
       "9472      want -4.624706\n",
       "2156    design -4.235624\n",
       "1517   company -4.044728"
      ]
     },
     "execution_count": 125,
     "metadata": {},
     "output_type": "execute_result"
    }
   ],
   "source": [
    "#Top most important feature for negative classification (AskEngineers)\n",
    "feature_imp.sort_values(by='coef').head()"
   ]
  },
  {
   "cell_type": "markdown",
   "id": "49dbd13b-4abb-4774-a60a-13dde9f68573",
   "metadata": {},
   "source": [
    "The table above shows top 5 important words for classification of a submission as AskEngineers."
   ]
  },
  {
   "cell_type": "markdown",
   "id": "bb64b1ff-ecab-46af-a4b5-850ece3f876e",
   "metadata": {},
   "source": [
    "**Misclassification EDA**"
   ]
  },
  {
   "cell_type": "code",
   "execution_count": 38,
   "id": "56df3622-10da-4f37-8430-7fde735c6edf",
   "metadata": {},
   "outputs": [
    {
     "name": "stdout",
     "output_type": "stream",
     "text": [
      "Misclassified count: 198/2537\n"
     ]
    }
   ],
   "source": [
    "#creating dataframe for misclassified predictions\n",
    "misclassified=predictions[predictions['predictions']!=predictions['true_values']]\n",
    "print(f'Misclassified count: {misclassified.shape[0]}/{test.shape[0]}')"
   ]
  },
  {
   "cell_type": "code",
   "execution_count": 89,
   "id": "9d631981-daaa-4df2-b03d-674818aa9b8f",
   "metadata": {},
   "outputs": [
    {
     "data": {
      "text/html": [
       "<div>\n",
       "<style scoped>\n",
       "    .dataframe tbody tr th:only-of-type {\n",
       "        vertical-align: middle;\n",
       "    }\n",
       "\n",
       "    .dataframe tbody tr th {\n",
       "        vertical-align: top;\n",
       "    }\n",
       "\n",
       "    .dataframe thead th {\n",
       "        text-align: right;\n",
       "    }\n",
       "</style>\n",
       "<table border=\"1\" class=\"dataframe\">\n",
       "  <thead>\n",
       "    <tr style=\"text-align: right;\">\n",
       "      <th></th>\n",
       "      <th>title</th>\n",
       "      <th>selftext</th>\n",
       "      <th>title_st_lemma</th>\n",
       "      <th>p(Engineering)</th>\n",
       "      <th>p(Science)</th>\n",
       "      <th>predictions</th>\n",
       "      <th>true_values</th>\n",
       "    </tr>\n",
       "  </thead>\n",
       "  <tbody>\n",
       "    <tr>\n",
       "      <th>814</th>\n",
       "      <td>How long the space elevator would need to be to not collapse on itself?</td>\n",
       "      <td>Keeping in mind that each meter of the link (so excluding the ground base and space station) will probably need to be big enough to hold a lift compartment and all necessary communication/power links so it will be at least few hundred kg. \\nElevator would probably need to be long enough (and big enough on the space end part) so the centrifugal force will alleviate some part of mass.</td>\n",
       "      <td>long space elevator need collapse mind meter link exclude ground base space station probably need big hold lift compartment necessary communicationpower link kg elevator probably need long big space end centrifugal force alleviate mass</td>\n",
       "      <td>0.535047</td>\n",
       "      <td>0.464953</td>\n",
       "      <td>AskEngineers</td>\n",
       "      <td>AskScience</td>\n",
       "    </tr>\n",
       "  </tbody>\n",
       "</table>\n",
       "</div>"
      ],
      "text/plain": [
       "                                                                       title  \\\n",
       "814  How long the space elevator would need to be to not collapse on itself?   \n",
       "\n",
       "                                                                                                                                                                                                                                                                                                                                                                                              selftext  \\\n",
       "814  Keeping in mind that each meter of the link (so excluding the ground base and space station) will probably need to be big enough to hold a lift compartment and all necessary communication/power links so it will be at least few hundred kg. \\nElevator would probably need to be long enough (and big enough on the space end part) so the centrifugal force will alleviate some part of mass.   \n",
       "\n",
       "                                                                                                                                                                                                                                  title_st_lemma  \\\n",
       "814  long space elevator need collapse mind meter link exclude ground base space station probably need big hold lift compartment necessary communicationpower link kg elevator probably need long big space end centrifugal force alleviate mass   \n",
       "\n",
       "     p(Engineering)  p(Science)   predictions true_values  \n",
       "814        0.535047    0.464953  AskEngineers  AskScience  "
      ]
     },
     "execution_count": 89,
     "metadata": {},
     "output_type": "execute_result"
    }
   ],
   "source": [
    "misclassified.sample(random_state=42)"
   ]
  },
  {
   "cell_type": "markdown",
   "id": "358e9bc9-39a4-4750-a15a-71f7a9cae3d0",
   "metadata": {},
   "source": [
    "Above table output shows an exmple of submission that was actually posted in AskScience subreddit but was classifed as AskEngineers. If we look at the text, the text actually conatins physics/engineering related material that might be suitable for AskEngineers as well. So while our model is predicting incorrectly when we compared with true values, some of the posts may be suitable for both subreddits."
   ]
  },
  {
   "cell_type": "code",
   "execution_count": 51,
   "id": "455c03f2-efef-4cbb-822b-6526912a5fbf",
   "metadata": {},
   "outputs": [
    {
     "data": {
      "text/html": [
       "<div>\n",
       "<style scoped>\n",
       "    .dataframe tbody tr th:only-of-type {\n",
       "        vertical-align: middle;\n",
       "    }\n",
       "\n",
       "    .dataframe tbody tr th {\n",
       "        vertical-align: top;\n",
       "    }\n",
       "\n",
       "    .dataframe thead th {\n",
       "        text-align: right;\n",
       "    }\n",
       "</style>\n",
       "<table border=\"1\" class=\"dataframe\">\n",
       "  <thead>\n",
       "    <tr style=\"text-align: right;\">\n",
       "      <th></th>\n",
       "      <th>p(Engineering)</th>\n",
       "      <th>p(Science)</th>\n",
       "    </tr>\n",
       "  </thead>\n",
       "  <tbody>\n",
       "    <tr>\n",
       "      <th>count</th>\n",
       "      <td>198.000000</td>\n",
       "      <td>198.000000</td>\n",
       "    </tr>\n",
       "    <tr>\n",
       "      <th>mean</th>\n",
       "      <td>0.453228</td>\n",
       "      <td>0.546772</td>\n",
       "    </tr>\n",
       "    <tr>\n",
       "      <th>std</th>\n",
       "      <td>0.177365</td>\n",
       "      <td>0.177365</td>\n",
       "    </tr>\n",
       "    <tr>\n",
       "      <th>min</th>\n",
       "      <td>0.065012</td>\n",
       "      <td>0.137748</td>\n",
       "    </tr>\n",
       "    <tr>\n",
       "      <th>25%</th>\n",
       "      <td>0.339447</td>\n",
       "      <td>0.423915</td>\n",
       "    </tr>\n",
       "    <tr>\n",
       "      <th>50%</th>\n",
       "      <td>0.452498</td>\n",
       "      <td>0.547502</td>\n",
       "    </tr>\n",
       "    <tr>\n",
       "      <th>75%</th>\n",
       "      <td>0.576085</td>\n",
       "      <td>0.660553</td>\n",
       "    </tr>\n",
       "    <tr>\n",
       "      <th>max</th>\n",
       "      <td>0.862252</td>\n",
       "      <td>0.934988</td>\n",
       "    </tr>\n",
       "  </tbody>\n",
       "</table>\n",
       "</div>"
      ],
      "text/plain": [
       "       p(Engineering)  p(Science)\n",
       "count      198.000000  198.000000\n",
       "mean         0.453228    0.546772\n",
       "std          0.177365    0.177365\n",
       "min          0.065012    0.137748\n",
       "25%          0.339447    0.423915\n",
       "50%          0.452498    0.547502\n",
       "75%          0.576085    0.660553\n",
       "max          0.862252    0.934988"
      ]
     },
     "execution_count": 51,
     "metadata": {},
     "output_type": "execute_result"
    }
   ],
   "source": [
    "misclassified.describe()"
   ]
  },
  {
   "cell_type": "markdown",
   "id": "0361c125-9339-4d77-a5da-f2422cf2cff9",
   "metadata": {},
   "source": [
    "About 50% of misclassifications (between 25% and 75% - inter quartile) are within 0.42-0.66 probability range."
   ]
  },
  {
   "cell_type": "markdown",
   "id": "f3898f0a-7f3b-4487-aed9-8feca616d038",
   "metadata": {},
   "source": [
    "**Most frequent words in misclassified submissions**"
   ]
  },
  {
   "cell_type": "code",
   "execution_count": 34,
   "id": "53d7662c-4dd8-40e5-86c4-0e13ac8d7b40",
   "metadata": {},
   "outputs": [],
   "source": [
    "cvec=CountVectorizer()\n",
    "misclass_text_cvec=cvec.fit_transform(misclassified['title_st_lemma'])\n",
    "misclass_text_df=pd.DataFrame(misclass_text_cvec.todense(),columns=cvec.get_feature_names_out())\n",
    "misclass_text_df['true_subreddit']=misclassified['true_values'].values\n",
    "misclass_text_df.head(1);"
   ]
  },
  {
   "cell_type": "code",
   "execution_count": 127,
   "id": "fed71746-c402-4f8e-8683-82358e1ce0c8",
   "metadata": {},
   "outputs": [
    {
     "data": {
      "image/png": "[encoded data removed]",
      "text/plain": [
       "<Figure size 432x288 with 1 Axes>"
      ]
     },
     "metadata": {
      "needs_background": "light"
     },
     "output_type": "display_data"
    },
    {
     "data": {
      "image/png": "[encoded data removed]",
      "text/plain": [
       "<Figure size 432x288 with 1 Axes>"
      ]
     },
     "metadata": {
      "needs_background": "light"
     },
     "output_type": "display_data"
    }
   ],
   "source": [
    "#Most frequent words in misclassified AskScience posts\n",
    "misclass_text_df.groupby('true_subreddit').sum().T.sort_values('AskScience',ascending=True).tail(15).plot(kind='barh')\n",
    "plt.title('Most Frequent Words-AskScience Misclassified ')\n",
    "plt.xlabel('Word count')\n",
    "plt.subplots_adjust(left=0.2);\n",
    "plt.savefig('../images/freq_words_sc_misclass.png');\n",
    "plt.show()\n",
    "\n",
    "#Most frequent words in subreddit AskEngineers\n",
    "misclass_text_df.groupby('true_subreddit').sum().T.sort_values('AskEngineers',ascending=True).tail(15).plot(kind='barh')\n",
    "plt.title('Most Frequent Words-AskEngineers Misclassified ')\n",
    "plt.xlabel('Word count')\n",
    "plt.subplots_adjust(left=0.2);\n",
    "plt.savefig('../images/freq_words_engg_misclass.png');\n",
    "plt.show()"
   ]
  },
  {
   "cell_type": "markdown",
   "id": "d4939981-6d5a-4c50-ae72-53b0dd2c053b",
   "metadata": {},
   "source": [
    "The figures above show the most frequent words in misclassified posts for the two subreddits. A lot of words seem not specific like - use, work, like, find etc. It would be interesting to see how the model performs when we remove these words. These could be the next steps in an attempt to reduce false positives and false negatives."
   ]
  }
 ],
 "metadata": {
  "kernelspec": {
   "display_name": "Python 3 (ipykernel)",
   "language": "python",
   "name": "python3"
  },
  "language_info": {
   "codemirror_mode": {
    "name": "ipython",
    "version": 3
   },
   "file_extension": ".py",
   "mimetype": "text/x-python",
   "name": "python",
   "nbconvert_exporter": "python",
   "pygments_lexer": "ipython3",
   "version": "3.9.12"
  }
 },
 "nbformat": 4,
 "nbformat_minor": 5
}
