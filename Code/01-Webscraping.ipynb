{
 "cells": [
  {
   "cell_type": "code",
   "execution_count": 2,
   "id": "b21dc79a-7707-4c95-99c1-d35abc57ed57",
   "metadata": {},
   "outputs": [],
   "source": [
    "import pandas as pd\n",
    "import requests\n",
    "import datetime as dt\n",
    "import time"
   ]
  },
  {
   "cell_type": "code",
   "execution_count": 3,
   "id": "0efde804-8bad-438f-8ba6-b174fecf52e4",
   "metadata": {},
   "outputs": [],
   "source": [
    "import warnings\n",
    "warnings.filterwarnings('ignore')"
   ]
  },
  {
   "cell_type": "markdown",
   "id": "7cd912f8-e04e-423d-ba0c-815fd903b584",
   "metadata": {},
   "source": [
    "Defining functions below to get submissions from two subreddits: AskScience and AskEgnineers using the pushift API.   \n",
    "The begining time of the data collection has been defined and conditions have been put in place to get the submissions that have selftext."
   ]
  },
  {
   "cell_type": "code",
   "execution_count": 8,
   "id": "eb302ba8-379a-4ea7-8ffb-bd0002690abd",
   "metadata": {},
   "outputs": [],
   "source": [
    "def get_sc_data():\n",
    "    url='https://api.pushshift.io/reddit/search/submission'\n",
    "    before_time=int(dt.datetime(2022, 9, 28).timestamp())\n",
    "    sub_df=pd.DataFrame()\n",
    "    \n",
    "    for i in range(2,175):\n",
    "        try:\n",
    "            params={\n",
    "                    'subreddit':'askscience',\n",
    "                    'size':100,\n",
    "                    'before':before_time,\n",
    "                    'metadata':True,\n",
    "                    'selftext:not':'[removed]|[deleted]',\n",
    "                    }\n",
    "            res=requests.get(url,params)\n",
    "            time.sleep(2)\n",
    "            if res.status_code==200:\n",
    "                data=res.json()\n",
    "                sub=pd.DataFrame(data['data'])\n",
    "                metadata=data['metadata']\n",
    "                \n",
    "                #saving data as a DataFrame\n",
    "                sub_self=pd.DataFrame()\n",
    "                \n",
    "                #Selecting the submissions for which the selftext is not empty and contains some text\n",
    "                sub_self=sub[sub['selftext'].str.contains(r'(.|\\s)*\\S(.|\\s)') & sub['selftext'].notna()]\n",
    "                sub_df=pd.concat([sub_df,sub_self])                \n",
    "                print(len(sub))\n",
    "                \n",
    "                #updating before_time for next fetch\n",
    "                before_time=sub['created_utc'].min()\n",
    "                print(before_time)\n",
    "                \n",
    "            else:\n",
    "                print('status error')\n",
    "                print (i)\n",
    "                print(before_time)\n",
    "                break\n",
    "        except:\n",
    "            print (i)\n",
    "            print(before_time)\n",
    "            print('something wrong')\n",
    "            \n",
    "    #saving data        \n",
    "    sub_df.to_csv(f'./datasets/askscience/submissions.csv',index=False)\n",
    "    \n",
    "    return sub_df"
   ]
  },
  {
   "cell_type": "code",
   "execution_count": 10,
   "id": "ea4dd06c-9070-4d57-b8b4-30c42ca8d1fc",
   "metadata": {},
   "outputs": [],
   "source": [
    "#Fetching AskScience data: \n",
    "sc_sub_parent=get_sc_data()\n"
   ]
  },
  {
   "cell_type": "code",
   "execution_count": 12,
   "id": "07e1171a-1b2a-4edd-82e5-0dedc6c950a4",
   "metadata": {},
   "outputs": [],
   "source": [
    "def get_engg_data():\n",
    "    url='https://api.pushshift.io/reddit/search/submission'\n",
    "    before_time=int(dt.datetime(2022, 9, 28).timestamp())\n",
    "    sub_df=pd.DataFrame()\n",
    "    \n",
    "    for i in range(2,175):\n",
    "        try:\n",
    "            params={\n",
    "                    'subreddit':'AskEngineers',\n",
    "                    'size':100,\n",
    "                    'before':before_time,\n",
    "                    'metadata':True,\n",
    "                    'selftext:not':'[removed]|[deleted]'\n",
    "                    }\n",
    "            res=requests.get(url,params)\n",
    "            time.sleep(2)\n",
    "            if res.status_code==200:\n",
    "                data=res.json()\n",
    "                sub=pd.DataFrame(data['data'])\n",
    "                metadata=data['metadata']\n",
    "                \n",
    "                #saving data that has selftext\n",
    "                sub_self=pd.DataFrame()\n",
    "                #Selecting the submissions for which the selftext is not empty and contains some text\n",
    "                sub_self=sub[sub['selftext'].str.contains(r'(.|\\s)*\\S(.|\\s)') & sub['selftext'].notna()]\n",
    "                sub_df=pd.concat([sub_df,sub_self])\n",
    "                print(len(sub))\n",
    "                \n",
    "                #updating before_time for next fetch\n",
    "                before_time=sub['created_utc'].min()\n",
    "                print(before_time)   \n",
    "                \n",
    "            else:\n",
    "                print('status error')\n",
    "                print (i)\n",
    "                print(before_time)\n",
    "                break\n",
    "        except:\n",
    "            print (i)\n",
    "            print(before_time)\n",
    "            print('something wrong')\n",
    "            \n",
    "    #saving data        \n",
    "    sub_df.to_csv(f'./datasets/askengineers/submissions.csv',index=False)\n",
    "    \n",
    "    return sub_df"
   ]
  },
  {
   "cell_type": "code",
   "execution_count": 14,
   "id": "72819db1-41d0-4b66-92da-d5865164cd62",
   "metadata": {},
   "outputs": [],
   "source": [
    "#Fetching AskEngineers data: \n",
    "engg_sub_parent=get_engg_data()\n"
   ]
  }
 ],
 "metadata": {
  "kernelspec": {
   "display_name": "Python 3 (ipykernel)",
   "language": "python",
   "name": "python3"
  },
  "language_info": {
   "codemirror_mode": {
    "name": "ipython",
    "version": 3
   },
   "file_extension": ".py",
   "mimetype": "text/x-python",
   "name": "python",
   "nbconvert_exporter": "python",
   "pygments_lexer": "ipython3",
   "version": "3.9.12"
  }
 },
 "nbformat": 4,
 "nbformat_minor": 5
}
