{
 "cells": [
  {
   "cell_type": "code",
   "execution_count": 9,
   "id": "b21dc79a-7707-4c95-99c1-d35abc57ed57",
   "metadata": {},
   "outputs": [],
   "source": [
    "import pandas as pd\n",
    "import matplotlib.pyplot as plt\n",
    "import seaborn as sns\n",
    "import numpy as np"
   ]
  },
  {
   "cell_type": "code",
   "execution_count": 11,
   "id": "eaf9b89c-b56c-4b92-9c2b-a1636c0628a7",
   "metadata": {},
   "outputs": [],
   "source": [
    "train=pd.read_csv('../datasets/train_clean.csv')"
   ]
  },
  {
   "cell_type": "code",
   "execution_count": 12,
   "id": "555708b2-755a-449d-b7bf-0d97ca792e94",
   "metadata": {},
   "outputs": [
    {
     "data": {
      "text/html": [
       "<div>\n",
       "<style scoped>\n",
       "    .dataframe tbody tr th:only-of-type {\n",
       "        vertical-align: middle;\n",
       "    }\n",
       "\n",
       "    .dataframe tbody tr th {\n",
       "        vertical-align: top;\n",
       "    }\n",
       "\n",
       "    .dataframe thead th {\n",
       "        text-align: right;\n",
       "    }\n",
       "</style>\n",
       "<table border=\"1\" class=\"dataframe\">\n",
       "  <thead>\n",
       "    <tr style=\"text-align: right;\">\n",
       "      <th></th>\n",
       "      <th>created_utc</th>\n",
       "      <th>id</th>\n",
       "      <th>author</th>\n",
       "      <th>num_comments</th>\n",
       "      <th>score</th>\n",
       "      <th>selftext</th>\n",
       "      <th>title</th>\n",
       "      <th>title_st</th>\n",
       "      <th>title_st_lemma</th>\n",
       "      <th>subreddit</th>\n",
       "    </tr>\n",
       "  </thead>\n",
       "  <tbody>\n",
       "    <tr>\n",
       "      <th>0</th>\n",
       "      <td>1656347560</td>\n",
       "      <td>vlzluc</td>\n",
       "      <td>spiraling_out</td>\n",
       "      <td>0</td>\n",
       "      <td>1</td>\n",
       "      <td>About a decade into my career and I still have...</td>\n",
       "      <td>How do you organize your notes?</td>\n",
       "      <td>how do you organize your notes about a decade ...</td>\n",
       "      <td>organize note decade career figure optimizeorg...</td>\n",
       "      <td>0</td>\n",
       "    </tr>\n",
       "    <tr>\n",
       "      <th>1</th>\n",
       "      <td>1505164521</td>\n",
       "      <td>6zidje</td>\n",
       "      <td>TheHuffinPuffin</td>\n",
       "      <td>8</td>\n",
       "      <td>12</td>\n",
       "      <td>From my understanding, uranium in a reactor de...</td>\n",
       "      <td>Why can't nuclear waste be reused?</td>\n",
       "      <td>why cannot nuclear waste be reused from my und...</td>\n",
       "      <td>nuclear waste reuse understanding uranium reac...</td>\n",
       "      <td>1</td>\n",
       "    </tr>\n",
       "  </tbody>\n",
       "</table>\n",
       "</div>"
      ],
      "text/plain": [
       "   created_utc      id           author  num_comments  score  \\\n",
       "0   1656347560  vlzluc    spiraling_out             0      1   \n",
       "1   1505164521  6zidje  TheHuffinPuffin             8     12   \n",
       "\n",
       "                                            selftext  \\\n",
       "0  About a decade into my career and I still have...   \n",
       "1  From my understanding, uranium in a reactor de...   \n",
       "\n",
       "                                title  \\\n",
       "0     How do you organize your notes?   \n",
       "1  Why can't nuclear waste be reused?   \n",
       "\n",
       "                                            title_st  \\\n",
       "0  how do you organize your notes about a decade ...   \n",
       "1  why cannot nuclear waste be reused from my und...   \n",
       "\n",
       "                                      title_st_lemma  subreddit  \n",
       "0  organize note decade career figure optimizeorg...          0  \n",
       "1  nuclear waste reuse understanding uranium reac...          1  "
      ]
     },
     "execution_count": 12,
     "metadata": {},
     "output_type": "execute_result"
    }
   ],
   "source": [
    "train.head(2)"
   ]
  },
  {
   "cell_type": "code",
   "execution_count": 13,
   "id": "5a93ce18-cd70-479a-be27-9fbe1a10a312",
   "metadata": {},
   "outputs": [],
   "source": [
    "y_train=train['subreddit']"
   ]
  },
  {
   "cell_type": "code",
   "execution_count": 14,
   "id": "cb5730fb-e37a-4ccc-bb32-3a4d39de4ffd",
   "metadata": {},
   "outputs": [
    {
     "data": {
      "text/plain": [
       "1    0.500066\n",
       "0    0.499934\n",
       "Name: subreddit, dtype: float64"
      ]
     },
     "execution_count": 14,
     "metadata": {},
     "output_type": "execute_result"
    }
   ],
   "source": [
    "#Baseline model\n",
    "y_train.value_counts(normalize=True)"
   ]
  },
  {
   "cell_type": "markdown",
   "id": "a473ebe8-93d8-497d-b6a5-b128bbfcf29e",
   "metadata": {},
   "source": [
    "The baseline model has 50% accuracy.  \n",
    "Our classes are balanced."
   ]
  }
 ],
 "metadata": {
  "kernelspec": {
   "display_name": "Python 3 (ipykernel)",
   "language": "python",
   "name": "python3"
  },
  "language_info": {
   "codemirror_mode": {
    "name": "ipython",
    "version": 3
   },
   "file_extension": ".py",
   "mimetype": "text/x-python",
   "name": "python",
   "nbconvert_exporter": "python",
   "pygments_lexer": "ipython3",
   "version": "3.9.12"
  }
 },
 "nbformat": 4,
 "nbformat_minor": 5
}
