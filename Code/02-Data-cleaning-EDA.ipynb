{
 "cells": [
  {
   "cell_type": "code",
   "execution_count": 2,
   "id": "b21dc79a-7707-4c95-99c1-d35abc57ed57",
   "metadata": {},
   "outputs": [],
   "source": [
    "import pandas as pd\n",
    "import requests\n",
    "import datetime as dt\n",
    "import time\n",
    "import re\n",
    "\n",
    "from nltk.tokenize import word_tokenize\n",
    "from nltk.stem import WordNetLemmatizer\n",
    "from nltk.stem.porter import PorterStemmer\n",
    "from nltk.corpus import stopwords\n",
    "\n",
    "import spacy\n",
    "import spacy.cli\n",
    "\n",
    "import contractions\n",
    "import unicodedata\n",
    "import string\n",
    "\n",
    "import seaborn as sns\n",
    "import matplotlib.pyplot as plt\n",
    "import numpy as np\n",
    "\n",
    "from sklearn.model_selection import train_test_split, cross_val_score\n",
    "from sklearn.feature_extraction.text import CountVectorizer, TfidfVectorizer"
   ]
  },
  {
   "cell_type": "code",
   "execution_count": 6,
   "id": "daea0ffe-9942-472b-bc5c-8e800860a071",
   "metadata": {},
   "outputs": [],
   "source": [
    "#setting options to be able to see whole text in dataframe columns\n",
    "pd.set_option(\"display.max_rows\", None, \"display.max_columns\", None)\n",
    "pd.set_option('max_colwidth',800)"
   ]
  },
  {
   "cell_type": "code",
   "execution_count": 3,
   "id": "2df8eb03-9dd1-4d12-8a23-acd4c2f73847",
   "metadata": {},
   "outputs": [],
   "source": [
    "#Loading spacy module\n",
    "nlp=spacy.load('en_core_web_md')"
   ]
  },
  {
   "cell_type": "code",
   "execution_count": 7,
   "id": "9cbc0077-f31b-41e9-9e3e-099bd962699d",
   "metadata": {},
   "outputs": [],
   "source": [
    "#Reading AskScience submissions data\n",
    "parent_askscience=pd.read_csv('../datasets/askscience/submissions.csv')"
   ]
  },
  {
   "cell_type": "code",
   "execution_count": 8,
   "id": "f704652c-f57e-4daa-b851-594aff80ffc6",
   "metadata": {},
   "outputs": [],
   "source": [
    "#Reading AskEngineers submissions data\n",
    "parent_askengineers=pd.read_csv('../datasets/askengineers/submissions.csv',nrows=5074)"
   ]
  },
  {
   "cell_type": "code",
   "execution_count": 9,
   "id": "d55966f5-1655-47f3-8837-fba39b9af6d3",
   "metadata": {},
   "outputs": [
    {
     "data": {
      "text/plain": [
       "((5074, 102), (5074, 80))"
      ]
     },
     "execution_count": 9,
     "metadata": {},
     "output_type": "execute_result"
    }
   ],
   "source": [
    "parent_askscience.shape, parent_askengineers.shape"
   ]
  },
  {
   "cell_type": "code",
   "execution_count": 10,
   "id": "5eda11b7-fe74-4df0-b258-b7b685064eac",
   "metadata": {},
   "outputs": [],
   "source": [
    "parent_askscience.columns;"
   ]
  },
  {
   "cell_type": "code",
   "execution_count": 11,
   "id": "30e0a6a4-4d35-47cf-bb6d-2e44e6b37b74",
   "metadata": {},
   "outputs": [],
   "source": [
    "#Selecting some features that might be interesting to explore\n",
    "features=['created_utc','id','author','num_comments','score','selftext','subreddit','title']"
   ]
  },
  {
   "cell_type": "code",
   "execution_count": 12,
   "id": "d14abebe-e10d-49a0-b72d-2df8c5bde0b2",
   "metadata": {},
   "outputs": [
    {
     "data": {
      "text/plain": [
       "((5074, 8), (5074, 8))"
      ]
     },
     "execution_count": 12,
     "metadata": {},
     "output_type": "execute_result"
    }
   ],
   "source": [
    "#defining dataframes of features of interest\n",
    "askscience_df=parent_askscience[features].copy()\n",
    "askengineers_df=parent_askengineers[features].copy()\n",
    "askscience_df.shape, askengineers_df.shape"
   ]
  },
  {
   "cell_type": "code",
   "execution_count": 13,
   "id": "2b989a3b-cd15-479d-a689-9891d5ee988b",
   "metadata": {},
   "outputs": [
    {
     "data": {
      "text/plain": [
       "askscience    5074\n",
       "Name: subreddit, dtype: int64"
      ]
     },
     "execution_count": 13,
     "metadata": {},
     "output_type": "execute_result"
    }
   ],
   "source": [
    "#Checking AskScience submission counts\n",
    "askscience_df['subreddit'].value_counts()"
   ]
  },
  {
   "cell_type": "code",
   "execution_count": 14,
   "id": "d5f53dee-9ed1-4c8b-aa7d-6b87d62324bb",
   "metadata": {},
   "outputs": [
    {
     "data": {
      "text/plain": [
       "AskEngineers    5074\n",
       "Name: subreddit, dtype: int64"
      ]
     },
     "execution_count": 14,
     "metadata": {},
     "output_type": "execute_result"
    }
   ],
   "source": [
    "#Checking AskEngineers submission counts\n",
    "askengineers_df['subreddit'].value_counts()"
   ]
  },
  {
   "cell_type": "code",
   "execution_count": 366,
   "id": "b09fd5e4-af6d-4e12-94f1-231c2190bd50",
   "metadata": {
    "scrolled": true,
    "tags": []
   },
   "outputs": [],
   "source": [
    "askscience_df.head();"
   ]
  },
  {
   "cell_type": "code",
   "execution_count": 367,
   "id": "5b17c8a3-0260-4c5a-95fd-53268321c93d",
   "metadata": {},
   "outputs": [
    {
     "data": {
      "text/plain": [
       "created_utc     0\n",
       "id              0\n",
       "author          0\n",
       "num_comments    0\n",
       "score           0\n",
       "selftext        0\n",
       "subreddit       0\n",
       "title           0\n",
       "dtype: int64"
      ]
     },
     "execution_count": 367,
     "metadata": {},
     "output_type": "execute_result"
    }
   ],
   "source": [
    "#Checking null entries\n",
    "askscience_df.isnull().sum()"
   ]
  },
  {
   "cell_type": "code",
   "execution_count": 368,
   "id": "ce8c45a9-d3eb-4194-9912-4ffaf3fec81b",
   "metadata": {},
   "outputs": [
    {
     "data": {
      "text/plain": [
       "created_utc     0\n",
       "id              0\n",
       "author          0\n",
       "num_comments    0\n",
       "score           0\n",
       "selftext        0\n",
       "subreddit       0\n",
       "title           0\n",
       "dtype: int64"
      ]
     },
     "execution_count": 368,
     "metadata": {},
     "output_type": "execute_result"
    }
   ],
   "source": [
    "askengineers_df.isnull().sum()"
   ]
  },
  {
   "cell_type": "code",
   "execution_count": 369,
   "id": "ea81d9fd-ca84-4d74-a601-182d49b6a4a7",
   "metadata": {},
   "outputs": [
    {
     "data": {
      "text/plain": [
       "created_utc      int64\n",
       "id              object\n",
       "author          object\n",
       "num_comments     int64\n",
       "score            int64\n",
       "selftext        object\n",
       "subreddit       object\n",
       "title           object\n",
       "dtype: object"
      ]
     },
     "execution_count": 369,
     "metadata": {},
     "output_type": "execute_result"
    }
   ],
   "source": [
    "#checking data types\n",
    "askscience_df.dtypes"
   ]
  },
  {
   "cell_type": "code",
   "execution_count": 370,
   "id": "f6a9e054-1074-4133-abee-1a24f8b045e3",
   "metadata": {},
   "outputs": [
    {
     "data": {
      "text/plain": [
       "created_utc      int64\n",
       "id              object\n",
       "author          object\n",
       "num_comments     int64\n",
       "score            int64\n",
       "selftext        object\n",
       "subreddit       object\n",
       "title           object\n",
       "dtype: object"
      ]
     },
     "execution_count": 370,
     "metadata": {},
     "output_type": "execute_result"
    }
   ],
   "source": [
    "askengineers_df.dtypes"
   ]
  },
  {
   "cell_type": "code",
   "execution_count": 15,
   "id": "e9ad46e1-0d81-44f2-9cfd-08cadb6c9edc",
   "metadata": {
    "tags": []
   },
   "outputs": [
    {
     "data": {
      "text/plain": [
       "(False, False)"
      ]
     },
     "execution_count": 15,
     "metadata": {},
     "output_type": "execute_result"
    }
   ],
   "source": [
    "#checking for duplicate posts\n",
    "askscience_df['id'].duplicated().any(), askengineers_df['id'].duplicated().any()"
   ]
  },
  {
   "cell_type": "markdown",
   "id": "f07caa80-8566-41d1-8d1d-db6d325ade28",
   "metadata": {},
   "source": [
    "There are no duplicate posts in the data"
   ]
  },
  {
   "cell_type": "code",
   "execution_count": 16,
   "id": "f82fb9c8-c881-495d-884e-f8517175e901",
   "metadata": {},
   "outputs": [],
   "source": [
    "#concatenating askscience and askengineers dataframe\n",
    "\n",
    "ask_df=pd.concat([askscience_df,askengineers_df])"
   ]
  },
  {
   "cell_type": "code",
   "execution_count": 17,
   "id": "62a17f95-1992-4dcd-83df-24360fe0ed99",
   "metadata": {},
   "outputs": [],
   "source": [
    "#Encoding subreddit Askscience as 1 and AskEngineers as 0\n",
    "ask_df['subreddit']=ask_df['subreddit'].map({'askscience':1, 'AskEngineers':0})"
   ]
  },
  {
   "cell_type": "code",
   "execution_count": 374,
   "id": "a0f8c2b2-54c4-42ac-acd5-e73e6d788e5f",
   "metadata": {},
   "outputs": [
    {
     "data": {
      "text/plain": [
       "(10148, 8)"
      ]
     },
     "execution_count": 374,
     "metadata": {},
     "output_type": "execute_result"
    }
   ],
   "source": [
    "ask_df.shape"
   ]
  },
  {
   "cell_type": "code",
   "execution_count": 18,
   "id": "747a8bae-133d-4838-b80d-1d07e1f259a0",
   "metadata": {},
   "outputs": [
    {
     "data": {
      "text/plain": [
       "1    5074\n",
       "0    5074\n",
       "Name: subreddit, dtype: int64"
      ]
     },
     "execution_count": 18,
     "metadata": {},
     "output_type": "execute_result"
    }
   ],
   "source": [
    "ask_df['subreddit'].value_counts()"
   ]
  },
  {
   "cell_type": "markdown",
   "id": "898cad11-691a-41f5-8a1f-91d4f42ee79f",
   "metadata": {},
   "source": [
    "## EDA"
   ]
  },
  {
   "cell_type": "markdown",
   "id": "74760201-01b6-437c-82a5-a47992b4f3de",
   "metadata": {},
   "source": [
    "### Text length and word count comparison"
   ]
  },
  {
   "cell_type": "markdown",
   "id": "02e8f215-d5f1-4154-a79d-fadf7a52c943",
   "metadata": {},
   "source": [
    "To begin with we will look at the text length and word count for posts of the two categories in the whole data."
   ]
  },
  {
   "cell_type": "code",
   "execution_count": 376,
   "id": "752b578b-6fe7-433d-bcbf-2eb3b8b9773b",
   "metadata": {},
   "outputs": [],
   "source": [
    "ask_df_orig=ask_df.copy()"
   ]
  },
  {
   "cell_type": "code",
   "execution_count": 19,
   "id": "5c4e017d-8d62-49e1-b73e-80237aa2961c",
   "metadata": {},
   "outputs": [],
   "source": [
    "#Combining text from Title and Selftext\n",
    "ask_df['title_st']=ask_df['title']+' '+ ask_df['selftext']"
   ]
  },
  {
   "cell_type": "code",
   "execution_count": 378,
   "id": "a1d78bf8-93f6-4311-a57b-54e28d9420f6",
   "metadata": {},
   "outputs": [
    {
     "data": {
      "text/plain": [
       "Index(['created_utc', 'id', 'author', 'num_comments', 'score', 'selftext',\n",
       "       'subreddit', 'title', 'title_st'],\n",
       "      dtype='object')"
      ]
     },
     "execution_count": 378,
     "metadata": {},
     "output_type": "execute_result"
    }
   ],
   "source": [
    "ask_df.columns"
   ]
  },
  {
   "cell_type": "code",
   "execution_count": 20,
   "id": "b8734ae8-8317-4344-9821-8adce3c1f36a",
   "metadata": {},
   "outputs": [],
   "source": [
    "#creating a column for length of title + text\n",
    "ask_df['title_st_length']=ask_df['title_st'].map(lambda x: len(x))"
   ]
  },
  {
   "cell_type": "code",
   "execution_count": 21,
   "id": "f1f1dabe-5e09-49c5-b077-08e8ce988005",
   "metadata": {
    "tags": []
   },
   "outputs": [],
   "source": [
    "#creating a column for word counts of title + text\n",
    "ask_df['title_st_word_count']=ask_df['title_st'].map(lambda x: len(x.split(\" \")))"
   ]
  },
  {
   "cell_type": "code",
   "execution_count": 381,
   "id": "be6a0117-4a15-4fdd-b735-80898313ccc7",
   "metadata": {},
   "outputs": [],
   "source": [
    "ask_df.head(2);"
   ]
  },
  {
   "cell_type": "code",
   "execution_count": 406,
   "id": "183addec-04d3-475b-a76d-cf4a49c56fbf",
   "metadata": {},
   "outputs": [
    {
     "data": {
      "text/plain": [
       "<Figure size 1800x1080 with 0 Axes>"
      ]
     },
     "metadata": {},
     "output_type": "display_data"
    },
    {
     "data": {
      "image/png": "[encoded data removed]",
      "text/plain": [
       "<Figure size 432x288 with 3 Axes>"
      ]
     },
     "metadata": {
      "needs_background": "light"
     },
     "output_type": "display_data"
    }
   ],
   "source": [
    "#Text length distibution for the two categories\n",
    "\n",
    "plt.figure(figsize=(25,15));\n",
    "figure, ax = plt.subplots(3,1, gridspec_kw={'height_ratios':[1,1,4]});\n",
    "figure.tight_layout();\n",
    "\n",
    "#Distribution plots\n",
    "\n",
    "ax[0]=plt.subplot(3,1,3);\n",
    "ax[0]=sns.histplot(ask_df[ask_df['subreddit']==1]['title_st_length'], \n",
    "             label='Askscience Text Length', \n",
    "             kde=True,\n",
    "            alpha=.5);\n",
    "ax[0]=sns.histplot(ask_df[ask_df['subreddit']==0]['title_st_length'], \n",
    "             label='Askengineers Text Length', \n",
    "             kde=True,\n",
    "            color='salmon');\n",
    "ax[0].set_title('Text Length Distribution', fontsize=14,y=1.4, pad=20);\n",
    "ax[0].set_ylabel('Frequency', size=12);\n",
    "ax[0].set_xlabel('Text Length', size=11);\n",
    "ax[0].legend();\n",
    "\n",
    "#Boxplots\n",
    "ax[1]=plt.subplot(3,1,1);\n",
    "ax[1]=sns.boxplot(x=ask_df[ask_df['subreddit']==1]['title_st_length'],color='red');\n",
    "ax[1].set_ylabel('Ask\\nsc', size=12);\n",
    "ax[2]=plt.subplot(3,1,2);\n",
    "ax[2]=sns.boxplot(x=ask_df[ask_df['subreddit']==0]['title_st_length'],color='orange');\n",
    "ax[2].set_ylabel('Ask\\nengg', size=12);\n",
    "\n",
    "\n",
    "plt.subplots_adjust(hspace=0);\n",
    "plt.subplots_adjust(left=0.2, right=0.9, top=0.9, bottom=0.1);\n",
    "plt.savefig('../images/text_length_distn.png');\n",
    "\n"
   ]
  },
  {
   "cell_type": "markdown",
   "id": "8c896b19-0e4e-4b59-9513-fbf77189daec",
   "metadata": {},
   "source": [
    "It is interesting to note from the above plot that there are much higher counts for longer texts for the posts from 'AskEngineers' subreddit. The boxplots show outliers in terms of the length of posts.  \n",
    "Engineering posts may need more text in general to descirbe a question compared to Science posts."
   ]
  },
  {
   "cell_type": "code",
   "execution_count": 409,
   "id": "10559821-8f0e-4ce6-8b72-6f9f2e6b3212",
   "metadata": {},
   "outputs": [
    {
     "data": {
      "text/plain": [
       "<Figure size 1800x1080 with 0 Axes>"
      ]
     },
     "metadata": {},
     "output_type": "display_data"
    },
    {
     "data": {
      "image/png": "[encoded data removed]",
      "text/plain": [
       "<Figure size 432x288 with 3 Axes>"
      ]
     },
     "metadata": {
      "needs_background": "light"
     },
     "output_type": "display_data"
    }
   ],
   "source": [
    "#Word_count distibution for the two categories\n",
    "\n",
    "plt.figure(figsize=(25,15))\n",
    "figure, ax = plt.subplots(3,1, gridspec_kw={'height_ratios':[1,1,4]})\n",
    "figure.tight_layout()\n",
    "\n",
    "#Distribution plots\n",
    "ax[0]=plt.subplot(3,1,3)\n",
    "ax[0]=sns.histplot(ask_df[ask_df['subreddit']==1]['title_st_word_count'], \n",
    "             label='Askscience Word Count', \n",
    "             kde=True,\n",
    "            alpha=.5)\n",
    "ax[0]=sns.histplot(ask_df[ask_df['subreddit']==0]['title_st_word_count'], \n",
    "             label='Askengineers Word Count', \n",
    "             kde=True,\n",
    "            color='salmon')\n",
    "ax[0].set_title('Word Count Distribution', fontsize=14,y=1.4, pad=20)\n",
    "ax[0].set_ylabel('Frequency', size=12)\n",
    "ax[0].set_xlabel('Word Count', size=11);\n",
    "ax[0].legend()\n",
    "\n",
    "#Boxplots\n",
    "ax[1]=plt.subplot(3,1,1)\n",
    "ax[1]=sns.boxplot(x=ask_df[ask_df['subreddit']==1]['title_st_word_count'],color='red');\n",
    "ax[1].set_ylabel('Ask\\nsc', size=12)\n",
    "ax[2]=plt.subplot(3,1,2)\n",
    "ax[2]=sns.boxplot(x=ask_df[ask_df['subreddit']==0]['title_st_word_count'],color='orange');\n",
    "ax[2].set_ylabel('Ask\\nengg', size=12)\n",
    "\n",
    "plt.subplots_adjust(hspace=0);\n",
    "plt.subplots_adjust(left=0.2, right=0.9, top=0.9, bottom=0.1);\n",
    "plt.savefig('../images/word_count_distn.png');"
   ]
  },
  {
   "cell_type": "markdown",
   "id": "faa50bd6-d416-4718-90bc-f697f384ed39",
   "metadata": {},
   "source": [
    "The figure above shows word count distribution for the two categories, as expected, similar to length distribution.  \n",
    "\n",
    "**Total word count comparison for the two subreddits.**    \n",
    "From the plot it seems like the AskEngineer subreddit has more text.  \n",
    "Comparing the total word count for each subreddit below.\n"
   ]
  },
  {
   "cell_type": "code",
   "execution_count": 299,
   "id": "abb00473-31bd-4190-b4ba-b1e93075c5c0",
   "metadata": {},
   "outputs": [
    {
     "name": "stdout",
     "output_type": "stream",
     "text": [
      "Total no. of Words AskScience: 444254\n",
      "Total no. of Words AskEngineers: 662051\n"
     ]
    }
   ],
   "source": [
    "print(f\"Total no. of Words AskScience: {ask_df.groupby('subreddit')['title_st_word_count'].sum()[1]}\")\n",
    "print(f\"Total no. of Words AskEngineers: {ask_df.groupby('subreddit')['title_st_word_count'].sum()[0]}\")"
   ]
  },
  {
   "cell_type": "markdown",
   "id": "10bb8d0a-6830-47a4-bc2d-a545d5fc0347",
   "metadata": {},
   "source": [
    "As expected total word count for AskEngineers is considerable more compared to AskScience.\n",
    "We can see that the box plots show some outliers in terms of length of post or number of words but in this case outliers can be considered as just more data. Some submissions/queries may need more text to describe the questions and more text might be helpful to build a strong model. Deciding to keep all the data at this time."
   ]
  },
  {
   "cell_type": "code",
   "execution_count": 301,
   "id": "52cd406c-ce7d-4640-aa6b-560169e5642d",
   "metadata": {},
   "outputs": [
    {
     "data": {
      "text/plain": [
       "(10148, 11)"
      ]
     },
     "execution_count": 301,
     "metadata": {},
     "output_type": "execute_result"
    }
   ],
   "source": [
    "ask_df.shape"
   ]
  },
  {
   "cell_type": "markdown",
   "id": "01350031-49dc-455b-a97c-268f6d3b5a0c",
   "metadata": {},
   "source": [
    "### No. of authors in each category"
   ]
  },
  {
   "cell_type": "code",
   "execution_count": 413,
   "id": "e7fbd88e-2590-4c9b-84b0-f889cffc59c3",
   "metadata": {},
   "outputs": [
    {
     "name": "stdout",
     "output_type": "stream",
     "text": [
      "No of authors in AskScience:\n",
      "4433\n",
      "No of authors in AskEngineers:\n"
     ]
    },
    {
     "data": {
      "text/plain": [
       "4009"
      ]
     },
     "execution_count": 413,
     "metadata": {},
     "output_type": "execute_result"
    }
   ],
   "source": [
    "#checking unique no. of users in each category\n",
    "print(f'No of authors in AskScience:')\n",
    "print(len(ask_df[ask_df['subreddit']==1]['author'].unique()))\n",
    "print(f'No of authors in AskEngineers:')\n",
    "len(ask_df[ask_df['subreddit']==0]['author'].unique())"
   ]
  },
  {
   "cell_type": "markdown",
   "id": "69bfe660-1ea7-4f32-8999-8eeb43a4f2e4",
   "metadata": {},
   "source": [
    "### No. of authors that are common in two categories"
   ]
  },
  {
   "cell_type": "code",
   "execution_count": 414,
   "id": "3600e268-da2f-4637-a24c-309a8f107912",
   "metadata": {},
   "outputs": [
    {
     "data": {
      "text/plain": [
       "0"
      ]
     },
     "execution_count": 414,
     "metadata": {},
     "output_type": "execute_result"
    }
   ],
   "source": [
    "#No. of authors that are common in both Ask Science and Ask Engineers subreddits\n",
    "len([1 for x in ask_df[ask_df['subreddit']==1]['author'] if x in ask_df[ask_df['subreddit']==0]['author']])"
   ]
  },
  {
   "cell_type": "markdown",
   "id": "262bc3b1-dce8-43b2-9240-5c418b532da6",
   "metadata": {},
   "source": [
    "There are no common authors for the two subreddits."
   ]
  },
  {
   "cell_type": "markdown",
   "id": "077c56f6-854e-4445-a84c-0e553cdee4b2",
   "metadata": {},
   "source": [
    "### Subreddit submission activity"
   ]
  },
  {
   "cell_type": "code",
   "execution_count": 418,
   "id": "fa6c64f6-2f6c-4e6d-9501-a9a2a4f1a997",
   "metadata": {},
   "outputs": [
    {
     "data": {
      "text/html": [
       "<div>\n",
       "<style scoped>\n",
       "    .dataframe tbody tr th:only-of-type {\n",
       "        vertical-align: middle;\n",
       "    }\n",
       "\n",
       "    .dataframe tbody tr th {\n",
       "        vertical-align: top;\n",
       "    }\n",
       "\n",
       "    .dataframe thead th {\n",
       "        text-align: right;\n",
       "    }\n",
       "</style>\n",
       "<table border=\"1\" class=\"dataframe\">\n",
       "  <thead>\n",
       "    <tr style=\"text-align: right;\">\n",
       "      <th></th>\n",
       "      <th>created_utc</th>\n",
       "      <th>num_comments</th>\n",
       "      <th>score</th>\n",
       "      <th>subreddit</th>\n",
       "      <th>title_st_length</th>\n",
       "      <th>title_st_word_count</th>\n",
       "    </tr>\n",
       "  </thead>\n",
       "  <tbody>\n",
       "    <tr>\n",
       "      <th>count</th>\n",
       "      <td>5.074000e+03</td>\n",
       "      <td>5074.00000</td>\n",
       "      <td>5074.000000</td>\n",
       "      <td>5074.0</td>\n",
       "      <td>5074.000000</td>\n",
       "      <td>5074.000000</td>\n",
       "    </tr>\n",
       "    <tr>\n",
       "      <th>mean</th>\n",
       "      <td>1.532928e+09</td>\n",
       "      <td>45.16555</td>\n",
       "      <td>265.419590</td>\n",
       "      <td>1.0</td>\n",
       "      <td>537.650572</td>\n",
       "      <td>87.554986</td>\n",
       "    </tr>\n",
       "    <tr>\n",
       "      <th>std</th>\n",
       "      <td>3.837402e+07</td>\n",
       "      <td>155.04731</td>\n",
       "      <td>1615.987483</td>\n",
       "      <td>0.0</td>\n",
       "      <td>580.864852</td>\n",
       "      <td>82.866803</td>\n",
       "    </tr>\n",
       "    <tr>\n",
       "      <th>min</th>\n",
       "      <td>1.503986e+09</td>\n",
       "      <td>0.00000</td>\n",
       "      <td>0.000000</td>\n",
       "      <td>1.0</td>\n",
       "      <td>24.000000</td>\n",
       "      <td>2.000000</td>\n",
       "    </tr>\n",
       "    <tr>\n",
       "      <th>25%</th>\n",
       "      <td>1.510444e+09</td>\n",
       "      <td>4.00000</td>\n",
       "      <td>2.000000</td>\n",
       "      <td>1.0</td>\n",
       "      <td>240.000000</td>\n",
       "      <td>42.000000</td>\n",
       "    </tr>\n",
       "    <tr>\n",
       "      <th>50%</th>\n",
       "      <td>1.516896e+09</td>\n",
       "      <td>8.00000</td>\n",
       "      <td>5.000000</td>\n",
       "      <td>1.0</td>\n",
       "      <td>367.000000</td>\n",
       "      <td>64.000000</td>\n",
       "    </tr>\n",
       "    <tr>\n",
       "      <th>75%</th>\n",
       "      <td>1.523055e+09</td>\n",
       "      <td>15.00000</td>\n",
       "      <td>13.000000</td>\n",
       "      <td>1.0</td>\n",
       "      <td>596.000000</td>\n",
       "      <td>100.000000</td>\n",
       "    </tr>\n",
       "    <tr>\n",
       "      <th>max</th>\n",
       "      <td>1.663962e+09</td>\n",
       "      <td>3395.00000</td>\n",
       "      <td>65836.000000</td>\n",
       "      <td>1.0</td>\n",
       "      <td>7380.000000</td>\n",
       "      <td>990.000000</td>\n",
       "    </tr>\n",
       "  </tbody>\n",
       "</table>\n",
       "</div>"
      ],
      "text/plain": [
       "        created_utc  num_comments         score  subreddit  title_st_length  \\\n",
       "count  5.074000e+03    5074.00000   5074.000000     5074.0      5074.000000   \n",
       "mean   1.532928e+09      45.16555    265.419590        1.0       537.650572   \n",
       "std    3.837402e+07     155.04731   1615.987483        0.0       580.864852   \n",
       "min    1.503986e+09       0.00000      0.000000        1.0        24.000000   \n",
       "25%    1.510444e+09       4.00000      2.000000        1.0       240.000000   \n",
       "50%    1.516896e+09       8.00000      5.000000        1.0       367.000000   \n",
       "75%    1.523055e+09      15.00000     13.000000        1.0       596.000000   \n",
       "max    1.663962e+09    3395.00000  65836.000000        1.0      7380.000000   \n",
       "\n",
       "       title_st_word_count  \n",
       "count          5074.000000  \n",
       "mean             87.554986  \n",
       "std              82.866803  \n",
       "min               2.000000  \n",
       "25%              42.000000  \n",
       "50%              64.000000  \n",
       "75%             100.000000  \n",
       "max             990.000000  "
      ]
     },
     "execution_count": 418,
     "metadata": {},
     "output_type": "execute_result"
    }
   ],
   "source": [
    "#Askscience statistics\n",
    "ask_df[ask_df['subreddit']==1].describe()"
   ]
  },
  {
   "cell_type": "code",
   "execution_count": 419,
   "id": "5d7c82bc-be5a-4645-b2d5-d02eb260cbcd",
   "metadata": {},
   "outputs": [
    {
     "data": {
      "text/html": [
       "<div>\n",
       "<style scoped>\n",
       "    .dataframe tbody tr th:only-of-type {\n",
       "        vertical-align: middle;\n",
       "    }\n",
       "\n",
       "    .dataframe tbody tr th {\n",
       "        vertical-align: top;\n",
       "    }\n",
       "\n",
       "    .dataframe thead th {\n",
       "        text-align: right;\n",
       "    }\n",
       "</style>\n",
       "<table border=\"1\" class=\"dataframe\">\n",
       "  <thead>\n",
       "    <tr style=\"text-align: right;\">\n",
       "      <th></th>\n",
       "      <th>created_utc</th>\n",
       "      <th>num_comments</th>\n",
       "      <th>score</th>\n",
       "      <th>subreddit</th>\n",
       "      <th>title_st_length</th>\n",
       "      <th>title_st_word_count</th>\n",
       "    </tr>\n",
       "  </thead>\n",
       "  <tbody>\n",
       "    <tr>\n",
       "      <th>count</th>\n",
       "      <td>5.074000e+03</td>\n",
       "      <td>5074.000000</td>\n",
       "      <td>5074.000000</td>\n",
       "      <td>5074.0</td>\n",
       "      <td>5074.000000</td>\n",
       "      <td>5074.000000</td>\n",
       "    </tr>\n",
       "    <tr>\n",
       "      <th>mean</th>\n",
       "      <td>1.656521e+09</td>\n",
       "      <td>0.011825</td>\n",
       "      <td>1.000197</td>\n",
       "      <td>0.0</td>\n",
       "      <td>752.196492</td>\n",
       "      <td>130.479109</td>\n",
       "    </tr>\n",
       "    <tr>\n",
       "      <th>std</th>\n",
       "      <td>3.861893e+06</td>\n",
       "      <td>0.279848</td>\n",
       "      <td>0.050622</td>\n",
       "      <td>0.0</td>\n",
       "      <td>633.235294</td>\n",
       "      <td>108.898778</td>\n",
       "    </tr>\n",
       "    <tr>\n",
       "      <th>min</th>\n",
       "      <td>1.650608e+09</td>\n",
       "      <td>0.000000</td>\n",
       "      <td>0.000000</td>\n",
       "      <td>0.0</td>\n",
       "      <td>33.000000</td>\n",
       "      <td>3.000000</td>\n",
       "    </tr>\n",
       "    <tr>\n",
       "      <th>25%</th>\n",
       "      <td>1.653194e+09</td>\n",
       "      <td>0.000000</td>\n",
       "      <td>1.000000</td>\n",
       "      <td>0.0</td>\n",
       "      <td>367.000000</td>\n",
       "      <td>63.000000</td>\n",
       "    </tr>\n",
       "    <tr>\n",
       "      <th>50%</th>\n",
       "      <td>1.655931e+09</td>\n",
       "      <td>0.000000</td>\n",
       "      <td>1.000000</td>\n",
       "      <td>0.0</td>\n",
       "      <td>589.000000</td>\n",
       "      <td>102.000000</td>\n",
       "    </tr>\n",
       "    <tr>\n",
       "      <th>75%</th>\n",
       "      <td>1.659683e+09</td>\n",
       "      <td>0.000000</td>\n",
       "      <td>1.000000</td>\n",
       "      <td>0.0</td>\n",
       "      <td>944.750000</td>\n",
       "      <td>164.000000</td>\n",
       "    </tr>\n",
       "    <tr>\n",
       "      <th>max</th>\n",
       "      <td>1.664346e+09</td>\n",
       "      <td>14.000000</td>\n",
       "      <td>3.000000</td>\n",
       "      <td>0.0</td>\n",
       "      <td>11360.000000</td>\n",
       "      <td>1777.000000</td>\n",
       "    </tr>\n",
       "  </tbody>\n",
       "</table>\n",
       "</div>"
      ],
      "text/plain": [
       "        created_utc  num_comments        score  subreddit  title_st_length  \\\n",
       "count  5.074000e+03   5074.000000  5074.000000     5074.0      5074.000000   \n",
       "mean   1.656521e+09      0.011825     1.000197        0.0       752.196492   \n",
       "std    3.861893e+06      0.279848     0.050622        0.0       633.235294   \n",
       "min    1.650608e+09      0.000000     0.000000        0.0        33.000000   \n",
       "25%    1.653194e+09      0.000000     1.000000        0.0       367.000000   \n",
       "50%    1.655931e+09      0.000000     1.000000        0.0       589.000000   \n",
       "75%    1.659683e+09      0.000000     1.000000        0.0       944.750000   \n",
       "max    1.664346e+09     14.000000     3.000000        0.0     11360.000000   \n",
       "\n",
       "       title_st_word_count  \n",
       "count          5074.000000  \n",
       "mean            130.479109  \n",
       "std             108.898778  \n",
       "min               3.000000  \n",
       "25%              63.000000  \n",
       "50%             102.000000  \n",
       "75%             164.000000  \n",
       "max            1777.000000  "
      ]
     },
     "execution_count": 419,
     "metadata": {},
     "output_type": "execute_result"
    }
   ],
   "source": [
    "#AskEngineers statistics\n",
    "ask_df[ask_df['subreddit']==0].describe()"
   ]
  },
  {
   "cell_type": "markdown",
   "id": "540c8a21-010b-41c2-b5ce-abdbc1a96613",
   "metadata": {},
   "source": [
    "Some of the interesting observations from above statistical information are:  \n",
    "**1.** The range of created UTC (max-min) for same no. of posts is small for AskEngineers subreddit compared to AskScience, indicating **more posts with selftext per hour for ASkEngineers compared to AskScience**. (This could also mean authors in AskScience dont like to write much self text in their submissions.)"
   ]
  },
  {
   "cell_type": "code",
   "execution_count": 307,
   "id": "082f84d7-3380-4de6-941a-3b990bdc8404",
   "metadata": {},
   "outputs": [
    {
     "name": "stdout",
     "output_type": "stream",
     "text": [
      "AskEngineers created UTC min:1650608262\n",
      "AskEngineers created UTC max: 1664345968\n",
      "AskScience created UTC min:1503986316\n",
      "AskScience created UTC max: 1663962461\n"
     ]
    }
   ],
   "source": [
    "print(f\"AskEngineers created UTC min:{ask_df[ask_df['subreddit']==0]['created_utc'].min()}\")\n",
    "print(f\"AskEngineers created UTC max: {ask_df[ask_df['subreddit']==0]['created_utc'].max()}\")\n",
    "\n",
    "print(f\"AskScience created UTC min:{ask_df[ask_df['subreddit']==1]['created_utc'].min()}\")\n",
    "print(f\"AskScience created UTC max: {ask_df[ask_df['subreddit']==1]['created_utc'].max()}\")"
   ]
  },
  {
   "cell_type": "markdown",
   "id": "b70c6873-6c09-4e22-aec5-792330d47ad2",
   "metadata": {},
   "source": [
    "Converting Epoch time range to hours, it appears that there is 1 post/hour with Selftext for AskEngineers whereas 1 post every 10hours for Ask Science."
   ]
  },
  {
   "cell_type": "markdown",
   "id": "492a12e6-4f20-48a9-9581-b09867451c08",
   "metadata": {},
   "source": [
    "**2. Average word count per post** (including title and Selftext) is **88** for a submission in AskScience whereas it is **131** for AskEngineers."
   ]
  },
  {
   "cell_type": "markdown",
   "id": "530df346-4b46-426e-895c-8a336fb978c7",
   "metadata": {},
   "source": [
    "**3. Compairsion of number of comments for the two subreddits**  \n",
    "From the describe statistics above, it seems that average number of comments are much higher for AskScience (average-45, count ranging from 0 to 3395) posts compared to AskEngineers (average-0.01, count ranging from 0 to only 14).  \n",
    "Askscience-lower quartile=4, higher quartile=15, whereas AskEngineers has negligble no. of comments.  \n",
    "Plots below show a distribution for number of comments for the two subreddits."
   ]
  },
  {
   "cell_type": "code",
   "execution_count": 22,
   "id": "3d91523a-45a0-42e8-aeb5-e0f8561cdae3",
   "metadata": {},
   "outputs": [
    {
     "data": {
      "text/plain": [
       "<Figure size 1800x1080 with 0 Axes>"
      ]
     },
     "metadata": {},
     "output_type": "display_data"
    },
    {
     "data": {
      "image/png": "[encoded data removed]",
      "text/plain": [
       "<Figure size 432x288 with 2 Axes>"
      ]
     },
     "metadata": {
      "needs_background": "light"
     },
     "output_type": "display_data"
    }
   ],
   "source": [
    "#Distibution of no. of comments for AskScience\n",
    "\n",
    "plt.figure(figsize=(25,15))\n",
    "figure, ax = plt.subplots(2,1, gridspec_kw={'height_ratios':[1,4]})\n",
    "figure.tight_layout()\n",
    "\n",
    "#Distribution plots\n",
    "ax[0]=plt.subplot(2,1,2)\n",
    "ax[0]=sns.histplot(ask_df[ask_df['subreddit']==1]['num_comments'], \n",
    "             label='Askscience No. of Comments', \n",
    "             kde=True,\n",
    "            alpha=.5)\n",
    "\n",
    "ax[0].set_title(\"No. of Comments Distribution\\n AskScience (zoomed-in)\", fontsize=12,y=1.2, pad=20)\n",
    "ax[0].set_ylabel('Frequency', size=12)\n",
    "ax[0].set_xlabel('No. of Comments', size=12);\n",
    "ax[0].legend()\n",
    "plt.ylim(0,400)\n",
    "plt.xlim(0,500)\n",
    "\n",
    "#Boxplots\n",
    "ax[1]=plt.subplot(2,1,1)\n",
    "ax[1]=sns.boxplot(x=ask_df[ask_df['subreddit']==1]['num_comments'],color='red');\n",
    "ax[1].set_ylabel('Ask\\nsc', size=12);\n",
    "plt.xlim(0,500)\n",
    "\n",
    "plt.subplots_adjust(hspace=0);\n",
    "plt.subplots_adjust(left=0.1, right=0.7, top=0.8, bottom=0.2);\n",
    "plt.savefig('../images/no_comments_sc_distn.png');\n"
   ]
  },
  {
   "cell_type": "code",
   "execution_count": 439,
   "id": "d410e00e-aac9-45b1-ada3-6243a5d770d6",
   "metadata": {},
   "outputs": [
    {
     "data": {
      "text/plain": [
       "<Figure size 1800x1080 with 0 Axes>"
      ]
     },
     "metadata": {},
     "output_type": "display_data"
    },
    {
     "data": {
      "image/png": "[encoded data removed]",
      "text/plain": [
       "<Figure size 432x288 with 2 Axes>"
      ]
     },
     "metadata": {
      "needs_background": "light"
     },
     "output_type": "display_data"
    }
   ],
   "source": [
    "#Distibution of no. of comments for the two categories\n",
    "\n",
    "plt.figure(figsize=(25,15))\n",
    "figure, ax = plt.subplots(2,1, gridspec_kw={'height_ratios':[1,4]})\n",
    "figure.tight_layout()\n",
    "\n",
    "#Distribution plots\n",
    "ax[0]=plt.subplot(2,1,2)\n",
    "ax[0]=sns.histplot(ask_df[ask_df['subreddit']==0]['num_comments'], \n",
    "             label='Askengineers No. of Comments', \n",
    "             kde=True,\n",
    "            color='salmon')\n",
    "ax[0].set_title('No. of Comments Distribution\\nAskEngineers', fontsize=12,y=1.2, pad=20)\n",
    "ax[0].set_ylabel('Frequency', size=12)\n",
    "ax[0].set_xlabel('No. of Comments', size=12);\n",
    "ax[0].legend()\n",
    "\n",
    "#Boxplots\n",
    "ax[1]=plt.subplot(2,1,1)\n",
    "ax[1]=sns.boxplot(x=ask_df[ask_df['subreddit']==0]['num_comments'],color='orange');\n",
    "ax[1].set_ylabel('Ask\\nengg', size=12)\n",
    "\n",
    "\n",
    "plt.subplots_adjust(hspace=0);\n",
    "plt.subplots_adjust(left=0.1, right=0.7, top=0.8, bottom=0.2);\n",
    "plt.savefig('../images/no_comments_engg_distn.png');"
   ]
  },
  {
   "cell_type": "markdown",
   "id": "b2cad034-7e9a-4fd2-9ea3-4afa0b795e3f",
   "metadata": {},
   "source": [
    "**Looking at the text**"
   ]
  },
  {
   "cell_type": "code",
   "execution_count": 464,
   "id": "68416451-51dc-47d3-89d0-196770b7a650",
   "metadata": {},
   "outputs": [
    {
     "data": {
      "text/html": [
       "<div>\n",
       "<style scoped>\n",
       "    .dataframe tbody tr th:only-of-type {\n",
       "        vertical-align: middle;\n",
       "    }\n",
       "\n",
       "    .dataframe tbody tr th {\n",
       "        vertical-align: top;\n",
       "    }\n",
       "\n",
       "    .dataframe thead th {\n",
       "        text-align: right;\n",
       "    }\n",
       "</style>\n",
       "<table border=\"1\" class=\"dataframe\">\n",
       "  <thead>\n",
       "    <tr style=\"text-align: right;\">\n",
       "      <th></th>\n",
       "      <th>created_utc</th>\n",
       "      <th>id</th>\n",
       "      <th>author</th>\n",
       "      <th>num_comments</th>\n",
       "      <th>score</th>\n",
       "      <th>selftext</th>\n",
       "      <th>subreddit</th>\n",
       "      <th>title</th>\n",
       "      <th>title_st</th>\n",
       "      <th>title_st_length</th>\n",
       "      <th>title_st_word_count</th>\n",
       "    </tr>\n",
       "  </thead>\n",
       "  <tbody>\n",
       "    <tr>\n",
       "      <th>0</th>\n",
       "      <td>1663962461</td>\n",
       "      <td>xm7a6n</td>\n",
       "      <td>bmarcus128</td>\n",
       "      <td>0</td>\n",
       "      <td>1</td>\n",
       "      <td>My typical body temperature hovers around 97.8 F. I'm recovering from COVID, and my temperature is currently about 98.8 F. Do I have a fever? (In other words, is a fever an elevated temperature compared to an individual's baseline or is it a temperature above a certain number?)</td>\n",
       "      <td>1</td>\n",
       "      <td>Does 98.6 Count as a Fever if Your Average Body Temp Trends Low?</td>\n",
       "      <td>Does 98.6 Count as a Fever if Your Average Body Temp Trends Low? My typical body temperature hovers around 97.8 F. I'm recovering from COVID, and my temperature is currently about 98.8 F. Do I have a fever? (In other words, is a fever an elevated temperature compared to an individual's baseline or is it a temperature above a certain number?)</td>\n",
       "      <td>343</td>\n",
       "      <td>61</td>\n",
       "    </tr>\n",
       "  </tbody>\n",
       "</table>\n",
       "</div>"
      ],
      "text/plain": [
       "   created_utc      id      author  num_comments  score  \\\n",
       "0   1663962461  xm7a6n  bmarcus128             0      1   \n",
       "\n",
       "                                                                                                                                                                                                                                                                                 selftext  \\\n",
       "0  My typical body temperature hovers around 97.8 F. I'm recovering from COVID, and my temperature is currently about 98.8 F. Do I have a fever? (In other words, is a fever an elevated temperature compared to an individual's baseline or is it a temperature above a certain number?)   \n",
       "\n",
       "   subreddit  \\\n",
       "0          1   \n",
       "\n",
       "                                                              title  \\\n",
       "0  Does 98.6 Count as a Fever if Your Average Body Temp Trends Low?   \n",
       "\n",
       "                                                                                                                                                                                                                                                                                                                                                  title_st  \\\n",
       "0  Does 98.6 Count as a Fever if Your Average Body Temp Trends Low? My typical body temperature hovers around 97.8 F. I'm recovering from COVID, and my temperature is currently about 98.8 F. Do I have a fever? (In other words, is a fever an elevated temperature compared to an individual's baseline or is it a temperature above a certain number?)   \n",
       "\n",
       "   title_st_length  title_st_word_count  \n",
       "0              343                   61  "
      ]
     },
     "execution_count": 464,
     "metadata": {},
     "output_type": "execute_result"
    }
   ],
   "source": [
    "ask_df.head(1)"
   ]
  },
  {
   "cell_type": "markdown",
   "id": "9f195f69-e730-40fb-a6f2-69c671805b9b",
   "metadata": {},
   "source": [
    "Looking at the words for one of the submission"
   ]
  },
  {
   "cell_type": "code",
   "execution_count": 468,
   "id": "3abec19f-adfe-4654-a53d-f5862e27540a",
   "metadata": {},
   "outputs": [],
   "source": [
    "doc=str(ask_df.loc[0,'title_st'])"
   ]
  },
  {
   "cell_type": "code",
   "execution_count": 474,
   "id": "98148de8-0779-4a9a-a54d-c6d171504554",
   "metadata": {
    "scrolled": true,
    "tags": []
   },
   "outputs": [
    {
     "data": {
      "text/plain": [
       "['0',\n",
       " 'does',\n",
       " '98.6',\n",
       " 'count',\n",
       " 'as',\n",
       " 'a',\n",
       " 'fever',\n",
       " 'if',\n",
       " 'your',\n",
       " 'average',\n",
       " 'body',\n",
       " 'temp',\n",
       " 'trends',\n",
       " 'low',\n",
       " '?',\n",
       " 'my',\n",
       " 'typical',\n",
       " 'body',\n",
       " 'temperature',\n",
       " 'hovers',\n",
       " 'around',\n",
       " '97.8',\n",
       " 'f.',\n",
       " 'i',\n",
       " \"'m\",\n",
       " 'recovering',\n",
       " 'from',\n",
       " 'covid',\n",
       " ',',\n",
       " 'and',\n",
       " 'my',\n",
       " 'temperature',\n",
       " 'is',\n",
       " 'currently',\n",
       " 'about',\n",
       " '98.8',\n",
       " 'f.',\n",
       " 'do',\n",
       " 'i',\n",
       " 'have',\n",
       " 'a',\n",
       " 'fever',\n",
       " '?',\n",
       " '(',\n",
       " 'in',\n",
       " 'other',\n",
       " 'words',\n",
       " ',',\n",
       " 'is',\n",
       " 'a',\n",
       " 'fever',\n",
       " 'an',\n",
       " 'elevated',\n",
       " 'temperature',\n",
       " 'compared',\n",
       " 'to',\n",
       " 'an',\n",
       " 'individual',\n",
       " \"'s\",\n",
       " 'baseline',\n",
       " 'or',\n",
       " 'is',\n",
       " 'it',\n",
       " 'a',\n",
       " 'temperature',\n",
       " 'above',\n",
       " 'a',\n",
       " 'certain',\n",
       " 'number',\n",
       " '?',\n",
       " ')',\n",
       " '0',\n",
       " 'what',\n",
       " 'long-term',\n",
       " 'consequences',\n",
       " 'will',\n",
       " 'the',\n",
       " 'damage',\n",
       " 'to',\n",
       " 'nord',\n",
       " 'stream',\n",
       " '1',\n",
       " '&',\n",
       " 'amp',\n",
       " ';',\n",
       " '2',\n",
       " 'cause',\n",
       " '?',\n",
       " 'we',\n",
       " 'all',\n",
       " 'heard',\n",
       " 'about',\n",
       " 'the',\n",
       " 'damage',\n",
       " 'to',\n",
       " 'the',\n",
       " 'pipelines',\n",
       " 'and',\n",
       " 'the',\n",
       " 'public',\n",
       " 'discussion',\n",
       " 'revolves',\n",
       " 'mainly',\n",
       " 'around',\n",
       " 'the',\n",
       " 'question',\n",
       " 'of',\n",
       " 'possible',\n",
       " 'sabotage',\n",
       " '.',\n",
       " 'what',\n",
       " 'has',\n",
       " \"n't\",\n",
       " 'been',\n",
       " 'discussed',\n",
       " 'much',\n",
       " 'are',\n",
       " 'the',\n",
       " 'technical',\n",
       " 'questions',\n",
       " 'that',\n",
       " 'come',\n",
       " 'with',\n",
       " 'it',\n",
       " '.',\n",
       " 'can',\n",
       " 'they',\n",
       " 'realistically',\n",
       " 'be',\n",
       " 'repaired',\n",
       " '?',\n",
       " 'how',\n",
       " 'long',\n",
       " 'would',\n",
       " 'it',\n",
       " 'take',\n",
       " '?',\n",
       " 'if',\n",
       " 'nothing',\n",
       " 'is',\n",
       " 'done',\n",
       " ',',\n",
       " 'would',\n",
       " 'the',\n",
       " 'pipe',\n",
       " 'simply',\n",
       " 'be',\n",
       " 'filled',\n",
       " 'with',\n",
       " 'sea',\n",
       " 'water',\n",
       " 'and',\n",
       " 'be',\n",
       " 'rendered',\n",
       " 'unusable',\n",
       " '?',\n",
       " '\\\\n\\\\ni',\n",
       " 'hope',\n",
       " 'this',\n",
       " 'is',\n",
       " 'the',\n",
       " 'right',\n",
       " 'sub',\n",
       " 'for',\n",
       " 'these',\n",
       " 'kinds',\n",
       " 'of',\n",
       " 'questions',\n",
       " ',',\n",
       " 'thanks',\n",
       " 'in',\n",
       " 'advance',\n",
       " '!',\n",
       " 'name',\n",
       " ':',\n",
       " 'title_st',\n",
       " ',',\n",
       " 'dtype',\n",
       " ':',\n",
       " 'object']"
      ]
     },
     "execution_count": 474,
     "metadata": {},
     "output_type": "execute_result"
    }
   ],
   "source": [
    "#Help from lesson 5.04\n",
    "tokens=word_tokenize(doc.lower())\n",
    "tokens"
   ]
  },
  {
   "cell_type": "markdown",
   "id": "2c57615d-e504-4a3b-aba9-3c8a85896e75",
   "metadata": {},
   "source": [
    "Looking at the text of several posts, there are noticable occurances of URLs, string patterns, new line, special characters etc. The data will be cleaned to remove these. Also, float numbers, equations and dimensions are present in AskScience and AskEngineers submissions. In order to keep this information, these patterns are defined as 'floatnum','euqation' and 'dimension' etc. during the cleaning process (see the function in following section)."
   ]
  },
  {
   "cell_type": "code",
   "execution_count": 477,
   "id": "5ed88887-e3da-487c-b3f0-a5f77d551f38",
   "metadata": {
    "scrolled": true,
    "tags": []
   },
   "outputs": [
    {
     "data": {
      "text/plain": [
       "['0',\n",
       " 'doe',\n",
       " '98.6',\n",
       " 'count',\n",
       " 'a',\n",
       " 'a',\n",
       " 'fever',\n",
       " 'if',\n",
       " 'your',\n",
       " 'average',\n",
       " 'body',\n",
       " 'temp',\n",
       " 'trend',\n",
       " 'low',\n",
       " '?',\n",
       " 'my',\n",
       " 'typical',\n",
       " 'body',\n",
       " 'temperature',\n",
       " 'hovers',\n",
       " 'around',\n",
       " '97.8',\n",
       " 'f.',\n",
       " 'i',\n",
       " \"'m\",\n",
       " 'recovering',\n",
       " 'from',\n",
       " 'covid',\n",
       " ',',\n",
       " 'and',\n",
       " 'my',\n",
       " 'temperature',\n",
       " 'is',\n",
       " 'currently',\n",
       " 'about',\n",
       " '98.8',\n",
       " 'f.',\n",
       " 'do',\n",
       " 'i',\n",
       " 'have',\n",
       " 'a',\n",
       " 'fever',\n",
       " '?',\n",
       " '(',\n",
       " 'in',\n",
       " 'other',\n",
       " 'word',\n",
       " ',',\n",
       " 'is',\n",
       " 'a',\n",
       " 'fever',\n",
       " 'an',\n",
       " 'elevated',\n",
       " 'temperature',\n",
       " 'compared',\n",
       " 'to',\n",
       " 'an',\n",
       " 'individual',\n",
       " \"'s\",\n",
       " 'baseline',\n",
       " 'or',\n",
       " 'is',\n",
       " 'it',\n",
       " 'a',\n",
       " 'temperature',\n",
       " 'above',\n",
       " 'a',\n",
       " 'certain',\n",
       " 'number',\n",
       " '?',\n",
       " ')',\n",
       " '0',\n",
       " 'what',\n",
       " 'long-term',\n",
       " 'consequence',\n",
       " 'will',\n",
       " 'the',\n",
       " 'damage',\n",
       " 'to',\n",
       " 'nord',\n",
       " 'stream',\n",
       " '1',\n",
       " '&',\n",
       " 'amp',\n",
       " ';',\n",
       " '2',\n",
       " 'cause',\n",
       " '?',\n",
       " 'we',\n",
       " 'all',\n",
       " 'heard',\n",
       " 'about',\n",
       " 'the',\n",
       " 'damage',\n",
       " 'to',\n",
       " 'the',\n",
       " 'pipeline',\n",
       " 'and',\n",
       " 'the',\n",
       " 'public',\n",
       " 'discussion',\n",
       " 'revolves',\n",
       " 'mainly',\n",
       " 'around',\n",
       " 'the',\n",
       " 'question',\n",
       " 'of',\n",
       " 'possible',\n",
       " 'sabotage',\n",
       " '.',\n",
       " 'what',\n",
       " 'ha',\n",
       " \"n't\",\n",
       " 'been',\n",
       " 'discussed',\n",
       " 'much',\n",
       " 'are',\n",
       " 'the',\n",
       " 'technical',\n",
       " 'question',\n",
       " 'that',\n",
       " 'come',\n",
       " 'with',\n",
       " 'it',\n",
       " '.',\n",
       " 'can',\n",
       " 'they',\n",
       " 'realistically',\n",
       " 'be',\n",
       " 'repaired',\n",
       " '?',\n",
       " 'how',\n",
       " 'long',\n",
       " 'would',\n",
       " 'it',\n",
       " 'take',\n",
       " '?',\n",
       " 'if',\n",
       " 'nothing',\n",
       " 'is',\n",
       " 'done',\n",
       " ',',\n",
       " 'would',\n",
       " 'the',\n",
       " 'pipe',\n",
       " 'simply',\n",
       " 'be',\n",
       " 'filled',\n",
       " 'with',\n",
       " 'sea',\n",
       " 'water',\n",
       " 'and',\n",
       " 'be',\n",
       " 'rendered',\n",
       " 'unusable',\n",
       " '?',\n",
       " '\\\\n\\\\ni',\n",
       " 'hope',\n",
       " 'this',\n",
       " 'is',\n",
       " 'the',\n",
       " 'right',\n",
       " 'sub',\n",
       " 'for',\n",
       " 'these',\n",
       " 'kind',\n",
       " 'of',\n",
       " 'question',\n",
       " ',',\n",
       " 'thanks',\n",
       " 'in',\n",
       " 'advance',\n",
       " '!',\n",
       " 'name',\n",
       " ':',\n",
       " 'title_st',\n",
       " ',',\n",
       " 'dtype',\n",
       " ':',\n",
       " 'object']"
      ]
     },
     "execution_count": 477,
     "metadata": {},
     "output_type": "execute_result"
    }
   ],
   "source": [
    "lemmatizer =WordNetLemmatizer()\n",
    "tokens_lem = [lemmatizer.lemmatize(i) for i in tokens]\n",
    "tokens_lem"
   ]
  },
  {
   "cell_type": "code",
   "execution_count": 478,
   "id": "f6a80b72-1845-4c7b-82d3-943617a93529",
   "metadata": {
    "scrolled": true,
    "tags": []
   },
   "outputs": [
    {
     "data": {
      "text/plain": [
       "['0',\n",
       " 'doe',\n",
       " '98.6',\n",
       " 'count',\n",
       " 'as',\n",
       " 'a',\n",
       " 'fever',\n",
       " 'if',\n",
       " 'your',\n",
       " 'averag',\n",
       " 'bodi',\n",
       " 'temp',\n",
       " 'trend',\n",
       " 'low',\n",
       " '?',\n",
       " 'my',\n",
       " 'typic',\n",
       " 'bodi',\n",
       " 'temperatur',\n",
       " 'hover',\n",
       " 'around',\n",
       " '97.8',\n",
       " 'f.',\n",
       " 'i',\n",
       " \"'m\",\n",
       " 'recov',\n",
       " 'from',\n",
       " 'covid',\n",
       " ',',\n",
       " 'and',\n",
       " 'my',\n",
       " 'temperatur',\n",
       " 'is',\n",
       " 'current',\n",
       " 'about',\n",
       " '98.8',\n",
       " 'f.',\n",
       " 'do',\n",
       " 'i',\n",
       " 'have',\n",
       " 'a',\n",
       " 'fever',\n",
       " '?',\n",
       " '(',\n",
       " 'in',\n",
       " 'other',\n",
       " 'word',\n",
       " ',',\n",
       " 'is',\n",
       " 'a',\n",
       " 'fever',\n",
       " 'an',\n",
       " 'elev',\n",
       " 'temperatur',\n",
       " 'compar',\n",
       " 'to',\n",
       " 'an',\n",
       " 'individu',\n",
       " \"'s\",\n",
       " 'baselin',\n",
       " 'or',\n",
       " 'is',\n",
       " 'it',\n",
       " 'a',\n",
       " 'temperatur',\n",
       " 'abov',\n",
       " 'a',\n",
       " 'certain',\n",
       " 'number',\n",
       " '?',\n",
       " ')',\n",
       " '0',\n",
       " 'what',\n",
       " 'long-term',\n",
       " 'consequ',\n",
       " 'will',\n",
       " 'the',\n",
       " 'damag',\n",
       " 'to',\n",
       " 'nord',\n",
       " 'stream',\n",
       " '1',\n",
       " '&',\n",
       " 'amp',\n",
       " ';',\n",
       " '2',\n",
       " 'caus',\n",
       " '?',\n",
       " 'we',\n",
       " 'all',\n",
       " 'heard',\n",
       " 'about',\n",
       " 'the',\n",
       " 'damag',\n",
       " 'to',\n",
       " 'the',\n",
       " 'pipelin',\n",
       " 'and',\n",
       " 'the',\n",
       " 'public',\n",
       " 'discuss',\n",
       " 'revolv',\n",
       " 'mainli',\n",
       " 'around',\n",
       " 'the',\n",
       " 'question',\n",
       " 'of',\n",
       " 'possibl',\n",
       " 'sabotag',\n",
       " '.',\n",
       " 'what',\n",
       " 'ha',\n",
       " \"n't\",\n",
       " 'been',\n",
       " 'discuss',\n",
       " 'much',\n",
       " 'are',\n",
       " 'the',\n",
       " 'technic',\n",
       " 'question',\n",
       " 'that',\n",
       " 'come',\n",
       " 'with',\n",
       " 'it',\n",
       " '.',\n",
       " 'can',\n",
       " 'they',\n",
       " 'realist',\n",
       " 'be',\n",
       " 'repair',\n",
       " '?',\n",
       " 'how',\n",
       " 'long',\n",
       " 'would',\n",
       " 'it',\n",
       " 'take',\n",
       " '?',\n",
       " 'if',\n",
       " 'noth',\n",
       " 'is',\n",
       " 'done',\n",
       " ',',\n",
       " 'would',\n",
       " 'the',\n",
       " 'pipe',\n",
       " 'simpli',\n",
       " 'be',\n",
       " 'fill',\n",
       " 'with',\n",
       " 'sea',\n",
       " 'water',\n",
       " 'and',\n",
       " 'be',\n",
       " 'render',\n",
       " 'unus',\n",
       " '?',\n",
       " '\\\\n\\\\ni',\n",
       " 'hope',\n",
       " 'thi',\n",
       " 'is',\n",
       " 'the',\n",
       " 'right',\n",
       " 'sub',\n",
       " 'for',\n",
       " 'these',\n",
       " 'kind',\n",
       " 'of',\n",
       " 'question',\n",
       " ',',\n",
       " 'thank',\n",
       " 'in',\n",
       " 'advanc',\n",
       " '!',\n",
       " 'name',\n",
       " ':',\n",
       " 'title_st',\n",
       " ',',\n",
       " 'dtype',\n",
       " ':',\n",
       " 'object']"
      ]
     },
     "execution_count": 478,
     "metadata": {},
     "output_type": "execute_result"
    }
   ],
   "source": [
    "p_stemmer =PorterStemmer()\n",
    "tokens_stem = [p_stemmer.stem(i) for i in tokens]\n",
    "tokens_stem"
   ]
  },
  {
   "cell_type": "markdown",
   "id": "93e87150-e3ad-469e-bf2e-7edff8f7374b",
   "metadata": {},
   "source": [
    "Stemming finds the root of the word and might take the meaning out of the text so choosing to go with lemmatization after the text cleaning.  \n",
    "Stop word removal will also be done (we can see stop words in the text which may not contribute in classification of the text).   "
   ]
  },
  {
   "cell_type": "markdown",
   "id": "0c585794-374f-44ee-bf57-6901547c6d38",
   "metadata": {},
   "source": [
    "### Text Cleaning and preprocessing"
   ]
  },
  {
   "cell_type": "markdown",
   "id": "80fe2b80-1d39-46dc-a45d-b3a27d33890d",
   "metadata": {},
   "source": [
    "Defining the data cleaning, lemmetization and stop word removal functions below."
   ]
  },
  {
   "cell_type": "code",
   "execution_count": 310,
   "id": "cb2456fe-431b-45ba-8f2a-c425efc55908",
   "metadata": {},
   "outputs": [],
   "source": [
    "#Help from https://medium.com/mlearning-ai/nlp-a-comprehensive-guide-to-text-cleaning-and-preprocessing-63f364febfc5\n",
    "\n",
    "\n",
    "def text_cleaning(df):\n",
    "    #remove url and other frequent patterns\n",
    "    df['title_st']=df['title_st'].map(lambda x: re.sub(r'(https?:\\S*)|(www\\.\\S*)','', x))\n",
    "    df['title_st']=df['title_st'].map(lambda x: re.sub(r'&amp;#x200B;','', x))\n",
    "    df['title_st']=df['title_st'].map(lambda x: re.sub(r'E&amp;M','', x))\n",
    "    df['title_st']=df['title_st'].map(lambda x: re.sub(r'R&amp;D','', x))\n",
    "    df['title_st']=df['title_st'].map(lambda x: re.sub(r'1&amp;2','', x))\n",
    "    \n",
    "    #lower case\n",
    "    df['title_st']=df['title_st'].map(lambda x: x.lower())\n",
    "    \n",
    "    #expanding contractions\n",
    "    df['title_st']=df['title_st'].map(lambda x: ' '.join([contractions.fix(word) for word in x.split()]))\n",
    "    \n",
    "    #standardizing accent characters\n",
    "    df['title_st']=df['title_st'].map(lambda x: unicodedata.normalize('NFKD', x).encode('ascii', 'ignore').decode('utf-8', 'ignore'))\n",
    "        \n",
    "    # remove new line, lab, carriage return\n",
    "    df['title_st']=df['title_st'].map(lambda x: re.sub(r'(\\\\n)|(\\\\t)|(\\\\r)','', x))\n",
    "    \n",
    "    # remove_mentions_and_tags\n",
    "    df['title_st']=df['title_st'].map(lambda x: re.sub(r'@\\S*','', x))\n",
    "    df['title_st']=df['title_st'].map(lambda x: re.sub(r'#\\S*','', x))\n",
    "   \n",
    "    #removing text related to images\n",
    "    df['title_st']=df['title_st'].map(lambda x: re.sub(r'ImgBBibb','', x))\n",
    "    \n",
    "     \n",
    "    #defining positive and negative numbers\n",
    "    df['title_st']=df['title_st'].map(lambda x: re.sub(r'(\\+\\s?\\d)',' positivenum ', x))\n",
    "    df['title_st']=df['title_st'].map(lambda x: re.sub(r'(\\-\\s?\\d)',' negativenum ', x))\n",
    "\n",
    "    #defining euqation\n",
    "    df['title_st']=df['title_st'].map(lambda x: re.sub(r'\\S+=\\S+',' equation ', x))\n",
    "    \n",
    "    #defining float numbers\n",
    "    df['title_st']=df['title_st'].map(lambda x: re.sub(r'\\d\\.\\d',' floatnum ', x))\n",
    "    \n",
    "    #defining dimensions\n",
    "    df['title_st']=df['title_st'].map(lambda x: re.sub(r'[\\d]+\\s*[xX]\\s*[\\d]+\\s*[xX]\\s*[\\d]+',' dimension ', x))\n",
    "    df['title_st']=df['title_st'].map(lambda x: re.sub(r'[\\d]+\\s*[xX]\\s*[\\d]+',' dimension ', x))\n",
    "    \n",
    "   # defining percentage\n",
    "    df['title_st']=df['title_st'].map(lambda x: re.sub(r'[\\d]+\\s*\\%',' percentage ', x))\n",
    "    \n",
    "    #removing digits\n",
    "    df['title_st']=df['title_st'].map(lambda x: re.sub(r'[^a-zA-z.,!?/:;\\\"\\'\\s]','', x))\n",
    "    \n",
    "     # remove special characters: #, [, ], (, ), \\,_,/,*,$,@\n",
    "    df['title_st']=df['title_st'].map(lambda x: re.sub(r'(#)|(\\[)|(\\])|(\\()|(\\))|(\\\\)|(_)|(\\/)|(\\*)|(\\$)|(@)','', x))\n",
    "    \n",
    "    #remove punctuatons\n",
    "    df['title_st']=df['title_st'].map(lambda x: ''.join([char for char in x if char not in string.punctuation]))\n",
    "    \n",
    "    return (df)"
   ]
  },
  {
   "cell_type": "code",
   "execution_count": 311,
   "id": "3b0a830b-88b4-4c37-bc3b-eb3fcd34844a",
   "metadata": {},
   "outputs": [],
   "source": [
    "def lemmatize(df):\n",
    "    df['title_st_lemma']=df['title_st'].map(lambda x: ' '.join([token.lemma_ for token in nlp(x)]))\n",
    "    return df"
   ]
  },
  {
   "cell_type": "code",
   "execution_count": 312,
   "id": "a2081635-e153-4c03-9925-b4a345bd563b",
   "metadata": {},
   "outputs": [],
   "source": [
    "def remove_stop_words(df):\n",
    "    df['title_st_lemma']=df['title_st_lemma'].map(lambda x: ' '.join([token.text for token in nlp(x) if token.is_stop==False ]))\n",
    "    return df"
   ]
  },
  {
   "cell_type": "markdown",
   "id": "40d4310d-feff-4426-bc5c-01745a690297",
   "metadata": {},
   "source": [
    "### EDA on most frequent words"
   ]
  },
  {
   "cell_type": "code",
   "execution_count": 313,
   "id": "13197dbf-967a-4730-95bb-6b513d0c29eb",
   "metadata": {},
   "outputs": [
    {
     "data": {
      "text/plain": [
       "(Index(['created_utc', 'id', 'author', 'num_comments', 'score', 'selftext',\n",
       "        'subreddit', 'title', 'title_st', 'title_st_length',\n",
       "        'title_st_word_count'],\n",
       "       dtype='object'),\n",
       " (10148, 11))"
      ]
     },
     "execution_count": 313,
     "metadata": {},
     "output_type": "execute_result"
    }
   ],
   "source": [
    "ask_df.columns, ask_df.shape"
   ]
  },
  {
   "cell_type": "code",
   "execution_count": 314,
   "id": "f9fafe97-f358-4667-aa17-3606744d7e31",
   "metadata": {},
   "outputs": [],
   "source": [
    "#Cleaning, lemmatizing and removing the stop words from (title + selftext) text\n",
    "ask_df_clean=text_cleaning(ask_df)\n",
    "\n",
    "ask_df_clean=lemmatize(ask_df_clean)\n",
    "\n",
    "ask_df_clean=remove_stop_words(ask_df_clean)"
   ]
  },
  {
   "cell_type": "code",
   "execution_count": 315,
   "id": "02c3f8b6-2fd1-430a-bde4-8c0476295046",
   "metadata": {},
   "outputs": [],
   "source": [
    "#Getting the column with clean and processed text\n",
    "text=ask_df_clean['title_st_lemma']"
   ]
  },
  {
   "cell_type": "code",
   "execution_count": 462,
   "id": "ad945646-f201-4e00-a279-689e4f3b4589",
   "metadata": {},
   "outputs": [],
   "source": [
    "ask_df_clean.head(1);"
   ]
  },
  {
   "cell_type": "code",
   "execution_count": 317,
   "id": "9573cc11-83a6-4554-905c-03ea71f4292b",
   "metadata": {},
   "outputs": [],
   "source": [
    "#Vectorizing the text\n",
    "cvec=CountVectorizer()\n",
    "text_cvec=cvec.fit_transform(text)\n"
   ]
  },
  {
   "cell_type": "code",
   "execution_count": 318,
   "id": "5072d208-7803-4cf1-a099-9a1d147c6633",
   "metadata": {},
   "outputs": [
    {
     "data": {
      "text/plain": [
       "(10148, 28256)"
      ]
     },
     "execution_count": 318,
     "metadata": {},
     "output_type": "execute_result"
    }
   ],
   "source": [
    "text_cvec.shape"
   ]
  },
  {
   "cell_type": "markdown",
   "id": "3173ba9a-52da-4612-9877-5d3fc2f15eaa",
   "metadata": {},
   "source": [
    "There are about **28256** unique words in the whole dataset after cvec transformation."
   ]
  },
  {
   "cell_type": "code",
   "execution_count": 319,
   "id": "388d0804-1737-47ee-8cb0-a2c070d441cd",
   "metadata": {},
   "outputs": [],
   "source": [
    "#using cvec to look at the most frequent words\n",
    "\n",
    "#Creating dataframe with words as columns \n",
    "text_df=pd.DataFrame(text_cvec.todense(),columns=cvec.get_feature_names_out())"
   ]
  },
  {
   "cell_type": "code",
   "execution_count": 320,
   "id": "508d962a-903b-4bd9-acfa-cc4f30db3de3",
   "metadata": {},
   "outputs": [],
   "source": [
    "text_df['subreddit']=ask_df['subreddit'].values"
   ]
  },
  {
   "cell_type": "code",
   "execution_count": 446,
   "id": "681224c7-6ffd-44a2-9c72-a335ae51c111",
   "metadata": {},
   "outputs": [
    {
     "data": {
      "image/png": "[encoded data removed]",
      "text/plain": [
       "<Figure size 432x288 with 1 Axes>"
      ]
     },
     "metadata": {
      "needs_background": "light"
     },
     "output_type": "display_data"
    },
    {
     "data": {
      "image/png": "[encoded data removed]",
      "text/plain": [
       "<Figure size 432x288 with 1 Axes>"
      ]
     },
     "metadata": {
      "needs_background": "light"
     },
     "output_type": "display_data"
    }
   ],
   "source": [
    "#Most frequent words in subreddit AskScience\n",
    "text_df.groupby('subreddit').sum().T.sort_values(1,ascending=True).tail(10).plot(kind='barh')\n",
    "plt.title('Most Frequent Words-AskScience')\n",
    "plt.xlabel('Word count')\n",
    "plt.subplots_adjust(left=0.2);\n",
    "plt.savefig('../images/freq_words_sc.png');\n",
    "plt.show()\n",
    "\n",
    "#Most frequent words in subreddit AskEngineers\n",
    "text_df.groupby('subreddit').sum().T.sort_values(0,ascending=True).tail(10).plot(kind='barh')\n",
    "plt.title('Most Frequent Words-AskEngineers')\n",
    "plt.xlabel('Word count')\n",
    "plt.subplots_adjust(left=0.2);\n",
    "plt.savefig('../images/freq_words_engg.png');\n",
    "plt.show()"
   ]
  },
  {
   "cell_type": "markdown",
   "id": "cb765753-3a6f-437b-92c2-14692bf98d64",
   "metadata": {},
   "source": [
    "The plots above show most frequent words for subreddits AskScience and AskEngineers. AskScience has words like earth, light, energy as most frequent whereas Engineering has engineering, engineer, work, job, company etc. Both subreddits aslo have common words like 'like', use, know etc. (Probably would be a good idea to remove engineering related words if the models are too overfit, and words like 'like'.)\n",
    "\n",
    "It is to be noted that overall the total word count for most frequent words is much higher in AskEngineers indicating that there is much  more text data for subreddit AskEngineers than AskScience. \n"
   ]
  },
  {
   "cell_type": "markdown",
   "id": "d24d19f5-54d4-49fa-a473-d684cacbc8c7",
   "metadata": {},
   "source": [
    "### Unique words in each subreddit"
   ]
  },
  {
   "cell_type": "code",
   "execution_count": 322,
   "id": "0429cf11-5057-4686-931b-ad2175bdfc44",
   "metadata": {},
   "outputs": [
    {
     "data": {
      "text/html": [
       "<div>\n",
       "<style scoped>\n",
       "    .dataframe tbody tr th:only-of-type {\n",
       "        vertical-align: middle;\n",
       "    }\n",
       "\n",
       "    .dataframe tbody tr th {\n",
       "        vertical-align: top;\n",
       "    }\n",
       "\n",
       "    .dataframe thead th {\n",
       "        text-align: right;\n",
       "    }\n",
       "</style>\n",
       "<table border=\"1\" class=\"dataframe\">\n",
       "  <thead>\n",
       "    <tr style=\"text-align: right;\">\n",
       "      <th></th>\n",
       "      <th>Word</th>\n",
       "      <th>Engg count</th>\n",
       "      <th>Sc count</th>\n",
       "    </tr>\n",
       "  </thead>\n",
       "  <tbody>\n",
       "    <tr>\n",
       "      <th>7499</th>\n",
       "      <td>electricity</td>\n",
       "      <td>89</td>\n",
       "      <td>109</td>\n",
       "    </tr>\n",
       "    <tr>\n",
       "      <th>4168</th>\n",
       "      <td>clickbait</td>\n",
       "      <td>0</td>\n",
       "      <td>1</td>\n",
       "    </tr>\n",
       "    <tr>\n",
       "      <th>23823</th>\n",
       "      <td>streetcar</td>\n",
       "      <td>0</td>\n",
       "      <td>1</td>\n",
       "    </tr>\n",
       "  </tbody>\n",
       "</table>\n",
       "</div>"
      ],
      "text/plain": [
       "              Word  Engg count  Sc count\n",
       "7499   electricity          89       109\n",
       "4168     clickbait           0         1\n",
       "23823    streetcar           0         1"
      ]
     },
     "execution_count": 322,
     "metadata": {},
     "output_type": "execute_result"
    }
   ],
   "source": [
    "#Counting words in each subreddit\n",
    "\n",
    "text_df_words=text_df.groupby('subreddit').sum().T\n",
    "text_df_words.reset_index(inplace=True)\n",
    "text_df_words.columns=['Word','Engg count','Sc count']\n",
    "text_df_words.sample(3, random_state=42)\n"
   ]
  },
  {
   "cell_type": "code",
   "execution_count": 323,
   "id": "afc885dc-1695-43a3-8b39-46a6ef2f18f2",
   "metadata": {},
   "outputs": [
    {
     "name": "stdout",
     "output_type": "stream",
     "text": [
      "Unique word count AskScience: 0    10998\n",
      "Name: Engg count, dtype: int64\n",
      "Unique word count AskEngineers: 0    9842\n",
      "Name: Sc count, dtype: int64\n"
     ]
    }
   ],
   "source": [
    "#getting the counts for value=0 in Engg count column (head(1) gives the total count of 0s in the column) giving the number of words that only exist in ASkScience\n",
    "sc_unique_wordc=text_df_words['Engg count'].value_counts().head(1)\n",
    "print(f\"Unique word count AskScience: {sc_unique_wordc}\")\n",
    "\n",
    "#getting the counts for value=0 in Sc count column- giving the number of words that only exist in ASkEngineers\n",
    "engg_unique_wordc=text_df_words['Sc count'].value_counts().head(1)\n",
    "print(f\"Unique word count AskEngineers: {engg_unique_wordc}\")\n"
   ]
  },
  {
   "cell_type": "code",
   "execution_count": 448,
   "id": "493820cd-e976-49ef-bb96-8f2ae1a618d8",
   "metadata": {},
   "outputs": [
    {
     "data": {
      "image/png": "[encoded data removed]",
      "text/plain": [
       "<Figure size 216x288 with 1 Axes>"
      ]
     },
     "metadata": {
      "needs_background": "light"
     },
     "output_type": "display_data"
    }
   ],
   "source": [
    "plt.figure(figsize=(3,4))\n",
    "plt.bar(['AskScience','AskEngineers'],[10998,9842],\n",
    "       width=0.3,alpha=0.5)\n",
    "plt.title('Unique word count');\n",
    "plt.ylabel('Count')\n",
    "plt.subplots_adjust(left=0.2);\n",
    "plt.savefig('../images/unique_word_count.png');\n",
    "plt.show()"
   ]
  },
  {
   "cell_type": "markdown",
   "id": "5b4b4356-031d-42b9-8bcb-fbb3297753b7",
   "metadata": {},
   "source": [
    "Plot above shows count of unique words in each subreddit. It is to be noted that out of about 28,256 total words, 10,998 are unique to AskScience and 9842 are unique to AskEngineers, and about 7416 are common.  \n",
    "It is also to be noted that there was much more text (title and self-text) from AskEngineering compared to AskScience but we have more unique words for AskScience than AskEngineers. This maybe because Science in general contains different fields that include Biology, Physics, Chemistry, Astronomy and Earth Science etc. Engineering is more applied mathematics and science."
   ]
  },
  {
   "cell_type": "code",
   "execution_count": 325,
   "id": "d2650422-e09c-4d83-8984-106403df24c8",
   "metadata": {},
   "outputs": [
    {
     "data": {
      "text/html": [
       "<div>\n",
       "<style scoped>\n",
       "    .dataframe tbody tr th:only-of-type {\n",
       "        vertical-align: middle;\n",
       "    }\n",
       "\n",
       "    .dataframe tbody tr th {\n",
       "        vertical-align: top;\n",
       "    }\n",
       "\n",
       "    .dataframe thead th {\n",
       "        text-align: right;\n",
       "    }\n",
       "</style>\n",
       "<table border=\"1\" class=\"dataframe\">\n",
       "  <thead>\n",
       "    <tr style=\"text-align: right;\">\n",
       "      <th></th>\n",
       "      <th>AskScience</th>\n",
       "      <th>AskEngineers</th>\n",
       "    </tr>\n",
       "  </thead>\n",
       "  <tbody>\n",
       "    <tr>\n",
       "      <th>0</th>\n",
       "      <td>ama</td>\n",
       "      <td>internship</td>\n",
       "    </tr>\n",
       "    <tr>\n",
       "      <th>1</th>\n",
       "      <td>immune</td>\n",
       "      <td>ee</td>\n",
       "    </tr>\n",
       "    <tr>\n",
       "      <th>2</th>\n",
       "      <td>dna</td>\n",
       "      <td>cad</td>\n",
       "    </tr>\n",
       "    <tr>\n",
       "      <th>3</th>\n",
       "      <td>gravitational</td>\n",
       "      <td>recruiter</td>\n",
       "    </tr>\n",
       "    <tr>\n",
       "      <th>4</th>\n",
       "      <td>proton</td>\n",
       "      <td>solidwork</td>\n",
       "    </tr>\n",
       "    <tr>\n",
       "      <th>5</th>\n",
       "      <td>username</td>\n",
       "      <td>automotive</td>\n",
       "    </tr>\n",
       "    <tr>\n",
       "      <th>6</th>\n",
       "      <td>protein</td>\n",
       "      <td>mechatronic</td>\n",
       "    </tr>\n",
       "    <tr>\n",
       "      <th>7</th>\n",
       "      <td>flu</td>\n",
       "      <td>eng</td>\n",
       "    </tr>\n",
       "    <tr>\n",
       "      <th>8</th>\n",
       "      <td>nucleus</td>\n",
       "      <td>inperson</td>\n",
       "    </tr>\n",
       "    <tr>\n",
       "      <th>9</th>\n",
       "      <td>infection</td>\n",
       "      <td>clearance</td>\n",
       "    </tr>\n",
       "    <tr>\n",
       "      <th>10</th>\n",
       "      <td>antibody</td>\n",
       "      <td>mech</td>\n",
       "    </tr>\n",
       "    <tr>\n",
       "      <th>11</th>\n",
       "      <td>symptom</td>\n",
       "      <td>gpa</td>\n",
       "    </tr>\n",
       "    <tr>\n",
       "      <th>12</th>\n",
       "      <td>mammal</td>\n",
       "      <td>certification</td>\n",
       "    </tr>\n",
       "    <tr>\n",
       "      <th>13</th>\n",
       "      <td>aua</td>\n",
       "      <td>excel</td>\n",
       "    </tr>\n",
       "    <tr>\n",
       "      <th>14</th>\n",
       "      <td>panelist</td>\n",
       "      <td>automation</td>\n",
       "    </tr>\n",
       "    <tr>\n",
       "      <th>15</th>\n",
       "      <td>infect</td>\n",
       "      <td>supplier</td>\n",
       "    </tr>\n",
       "    <tr>\n",
       "      <th>16</th>\n",
       "      <td>immunity</td>\n",
       "      <td>vendor</td>\n",
       "    </tr>\n",
       "    <tr>\n",
       "      <th>17</th>\n",
       "      <td>mutation</td>\n",
       "      <td>eit</td>\n",
       "    </tr>\n",
       "    <tr>\n",
       "      <th>18</th>\n",
       "      <td>observer</td>\n",
       "      <td>pcb</td>\n",
       "    </tr>\n",
       "    <tr>\n",
       "      <th>19</th>\n",
       "      <td>boson</td>\n",
       "      <td>negotiate</td>\n",
       "    </tr>\n",
       "  </tbody>\n",
       "</table>\n",
       "</div>"
      ],
      "text/plain": [
       "       AskScience   AskEngineers\n",
       "0             ama     internship\n",
       "1          immune             ee\n",
       "2             dna            cad\n",
       "3   gravitational      recruiter\n",
       "4          proton      solidwork\n",
       "5        username     automotive\n",
       "6         protein    mechatronic\n",
       "7             flu            eng\n",
       "8         nucleus       inperson\n",
       "9       infection      clearance\n",
       "10       antibody           mech\n",
       "11        symptom            gpa\n",
       "12         mammal  certification\n",
       "13            aua          excel\n",
       "14       panelist     automation\n",
       "15         infect       supplier\n",
       "16       immunity         vendor\n",
       "17       mutation            eit\n",
       "18       observer            pcb\n",
       "19          boson      negotiate"
      ]
     },
     "execution_count": 325,
     "metadata": {},
     "output_type": "execute_result"
    }
   ],
   "source": [
    "#Getting the top 20 unique words in the two subreddits\n",
    "unique_words=pd.DataFrame()\n",
    "unique_words['AskScience']=text_df_words[text_df_words['Engg count']==0].sort_values('Sc count', ascending=False).Word.copy()\n",
    "unique_words.reset_index(inplace=True, drop=True)\n",
    "unique_words['AskEngineers']=text_df_words[text_df_words['Sc count']==0].sort_values('Engg count', ascending=False).reset_index().Word.copy()\n",
    "unique_words.head(20)"
   ]
  },
  {
   "cell_type": "markdown",
   "id": "9366bb23-5b9c-474a-8c15-60d88d0a4ce4",
   "metadata": {},
   "source": [
    "The above table lists most frequent 20 unique words in the two subreddits. The words in AskScience are more medicine/biology related like vaccine, virus etc, whereas AskEngineers has wrds like civil,ee,units-mm etc."
   ]
  },
  {
   "cell_type": "markdown",
   "id": "42f7b3c6-c2b0-43aa-8e4f-17d40699d35a",
   "metadata": {},
   "source": [
    "From the exploratory data anlaysis, it seems like we have enough text from both the subreddits and enough unique words that we should be able to build a model to classify the two subreddits"
   ]
  },
  {
   "cell_type": "markdown",
   "id": "d05fd563-b9f9-4aad-8139-0aed9d42edf5",
   "metadata": {},
   "source": [
    "### Pre-processing train and test data\n"
   ]
  },
  {
   "cell_type": "markdown",
   "id": "0b06e264-b4f1-4ab2-9c8f-a88fc305af4f",
   "metadata": {},
   "source": [
    "**Splitting into train and test**"
   ]
  },
  {
   "cell_type": "code",
   "execution_count": 326,
   "id": "4283326f-9f9c-41e5-b9a7-95476d21492b",
   "metadata": {},
   "outputs": [],
   "source": [
    "X=ask_df_orig.drop(columns=['subreddit'])\n",
    "y=ask_df['subreddit']"
   ]
  },
  {
   "cell_type": "code",
   "execution_count": 327,
   "id": "5e2aea37-a709-4d5c-a518-dcf3086f16fd",
   "metadata": {},
   "outputs": [
    {
     "data": {
      "text/html": [
       "<div>\n",
       "<style scoped>\n",
       "    .dataframe tbody tr th:only-of-type {\n",
       "        vertical-align: middle;\n",
       "    }\n",
       "\n",
       "    .dataframe tbody tr th {\n",
       "        vertical-align: top;\n",
       "    }\n",
       "\n",
       "    .dataframe thead th {\n",
       "        text-align: right;\n",
       "    }\n",
       "</style>\n",
       "<table border=\"1\" class=\"dataframe\">\n",
       "  <thead>\n",
       "    <tr style=\"text-align: right;\">\n",
       "      <th></th>\n",
       "      <th>created_utc</th>\n",
       "      <th>id</th>\n",
       "      <th>author</th>\n",
       "      <th>num_comments</th>\n",
       "      <th>score</th>\n",
       "      <th>selftext</th>\n",
       "      <th>subreddit</th>\n",
       "      <th>title</th>\n",
       "    </tr>\n",
       "  </thead>\n",
       "  <tbody>\n",
       "    <tr>\n",
       "      <th>0</th>\n",
       "      <td>1663962461</td>\n",
       "      <td>xm7a6n</td>\n",
       "      <td>bmarcus128</td>\n",
       "      <td>0</td>\n",
       "      <td>1</td>\n",
       "      <td>My typical body temperature hovers around 97.8 F. I'm recovering from COVID, and my temperature is currently about 98.8 F. Do I have a fever? (In other words, is a fever an elevated temperature compared to an individual's baseline or is it a temperature above a certain number?)</td>\n",
       "      <td>1</td>\n",
       "      <td>Does 98.6 Count as a Fever if Your Average Body Temp Trends Low?</td>\n",
       "    </tr>\n",
       "  </tbody>\n",
       "</table>\n",
       "</div>"
      ],
      "text/plain": [
       "   created_utc      id      author  num_comments  score  \\\n",
       "0   1663962461  xm7a6n  bmarcus128             0      1   \n",
       "\n",
       "                                                                                                                                                                                                                                                                                 selftext  \\\n",
       "0  My typical body temperature hovers around 97.8 F. I'm recovering from COVID, and my temperature is currently about 98.8 F. Do I have a fever? (In other words, is a fever an elevated temperature compared to an individual's baseline or is it a temperature above a certain number?)   \n",
       "\n",
       "   subreddit                                                             title  \n",
       "0          1  Does 98.6 Count as a Fever if Your Average Body Temp Trends Low?  "
      ]
     },
     "execution_count": 327,
     "metadata": {},
     "output_type": "execute_result"
    }
   ],
   "source": [
    "#Train test split\n",
    "X_train,X_test,y_train,y_test=train_test_split(X,y,random_state=42, stratify=y)\n",
    "\n",
    "ask_df_orig.head(1)"
   ]
  },
  {
   "cell_type": "code",
   "execution_count": 328,
   "id": "74aabebb-f201-4b23-b854-71cad365d878",
   "metadata": {},
   "outputs": [
    {
     "data": {
      "text/plain": [
       "((7611, 7), (7611,), (2537, 7), (2537,))"
      ]
     },
     "execution_count": 328,
     "metadata": {},
     "output_type": "execute_result"
    }
   ],
   "source": [
    "\n",
    "X_train.shape,y_train.shape,X_test.shape,y_test.shape"
   ]
  },
  {
   "cell_type": "markdown",
   "id": "a0b982e8-ba83-4a76-9582-4c8f29b5a5bc",
   "metadata": {},
   "source": [
    "**Pre-processing and saving**"
   ]
  },
  {
   "cell_type": "code",
   "execution_count": 329,
   "id": "22b0b343-2e8b-4aad-aa93-8a44dd5a4196",
   "metadata": {},
   "outputs": [],
   "source": [
    "#combining text from title and selftext\n",
    "#help from https://stackoverflow.com/questions/61295381/create-new-dataframe-column-from-the-values-of-2-other-columns\n",
    "\n",
    "X_train['title_st']=X_train['title']+' '+ X_train['selftext']\n",
    "X_test['title_st']=X_test['title']+' '+ X_test['selftext']"
   ]
  },
  {
   "cell_type": "code",
   "execution_count": 330,
   "id": "d292ada1-752a-4645-8f83-f1683e971ef9",
   "metadata": {},
   "outputs": [],
   "source": [
    "#Cleaning, lemmatizing and removing stop words from X_train (title +selftext) text\n",
    "X_train_clean=text_cleaning(X_train)\n",
    "\n",
    "X_train_clean=lemmatize(X_train_clean)\n",
    "\n",
    "X_train_clean=remove_stop_words(X_train_clean)"
   ]
  },
  {
   "cell_type": "code",
   "execution_count": 331,
   "id": "52f806a4-63de-4abd-9637-93b641d71229",
   "metadata": {},
   "outputs": [],
   "source": [
    "#Cleaning, lemmatizing and removing stop words from X_test (title +selftext) text\n",
    "X_test_clean=text_cleaning(X_test)\n",
    "\n",
    "X_test_clean=lemmatize(X_test_clean)\n",
    "\n",
    "X_test_clean=remove_stop_words(X_test_clean)"
   ]
  },
  {
   "cell_type": "code",
   "execution_count": 332,
   "id": "012a6f0e-410f-40f2-9d24-8e1594af0707",
   "metadata": {},
   "outputs": [],
   "source": [
    "#Saving clean train and clean test data\n",
    "train_clean=X_train_clean\n",
    "train_clean['subreddit']=pd.DataFrame(y_train)\n",
    "train_clean.to_csv('../datasets/train_clean.csv',index=False)\n",
    "\n",
    "test_clean=X_test_clean\n",
    "test_clean['subreddit']=pd.DataFrame(y_test)\n",
    "test_clean.to_csv('../datasets/test_clean.csv',index=False)\n"
   ]
  }
 ],
 "metadata": {
  "kernelspec": {
   "display_name": "Python 3 (ipykernel)",
   "language": "python",
   "name": "python3"
  },
  "language_info": {
   "codemirror_mode": {
    "name": "ipython",
    "version": 3
   },
   "file_extension": ".py",
   "mimetype": "text/x-python",
   "name": "python",
   "nbconvert_exporter": "python",
   "pygments_lexer": "ipython3",
   "version": "3.9.12"
  }
 },
 "nbformat": 4,
 "nbformat_minor": 5
}
